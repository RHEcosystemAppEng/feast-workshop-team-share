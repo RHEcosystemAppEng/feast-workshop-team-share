{
 "cells": [
  {
   "cell_type": "code",
   "execution_count": 19,
   "id": "26b475ec-3e71-484b-a664-dd31726d7d42",
   "metadata": {
    "tags": []
   },
   "outputs": [
    {
     "name": "stdout",
     "output_type": "stream",
     "text": [
      "Requirement already satisfied: pip in /opt/app-root/lib/python3.9/site-packages (24.0)\n"
     ]
    }
   ],
   "source": [
    "!pip install --upgrade pip\n",
    "!pip install -q -r requirements.txt"
   ]
  },
  {
   "cell_type": "markdown",
   "id": "bf471339-b3c2-42cf-983d-21f7d09bf538",
   "metadata": {
    "tags": []
   },
   "source": [
    "## Prerequisites\n",
    "From previous notebook at [feast_showcase_notebook](../feast_showcase_notebook/):\n",
    "* Install PSQL DB\n",
    "    * Update the deployment configuration to extend the memory limit to `1Gi`\n",
    "* Install Feature server"
   ]
  },
  {
   "cell_type": "markdown",
   "id": "56954ec1-38ad-4d01-bd0e-402169d0433e",
   "metadata": {
    "tags": []
   },
   "source": [
    "## Collect MNIST data"
   ]
  },
  {
   "cell_type": "markdown",
   "id": "4bdffcb3-c384-4c45-a42e-a7e7abbeb6f8",
   "metadata": {},
   "source": [
    "MNIST contains a collection of 70,000, 28 x 28 images of handwritten digits from 0 to 9.\n",
    "1. Since Feast does not support storage of list of lists, we model each image as a list of 28 features, each one containing a list of 28 values.\n",
    "1. Feast allows users to build a training dataset from time-series feature data, so we need to add an arbitrary ts to each row\n",
    "1. We use the number associated to each image as the entity key, e.g. the `image_id` field, so that every new image can have multiple\n",
    "values/images associated with it over time\n"
   ]
  },
  {
   "cell_type": "markdown",
   "id": "1658a5eb-1474-4231-80c1-83ebaaddb9d1",
   "metadata": {},
   "source": [
    "Load MNIST dataset and normalize it as float from 0 to 1"
   ]
  },
  {
   "cell_type": "code",
   "execution_count": 36,
   "id": "c82b73bc-caef-40c7-80f6-8b179bae02fd",
   "metadata": {
    "tags": []
   },
   "outputs": [
    {
     "name": "stdout",
     "output_type": "stream",
     "text": [
      "x_train: (60000, 28, 28)\n",
      "y_train: (60000,)\n",
      "x_test: (10000, 28, 28)\n",
      "y_test: (10000,)\n"
     ]
    }
   ],
   "source": [
    "from tensorflow import keras\n",
    "(x_train,y_train),(x_test,y_test) = keras.datasets.mnist.load_data()\n",
    "\n",
    "x_train = x_train/255\n",
    "x_test = x_test/255\n",
    "\n",
    "print(f\"x_train: {x_train.shape}\")\n",
    "print(f\"y_train: {y_train.shape}\")\n",
    "print(f\"x_test: {x_test.shape}\")\n",
    "print(f\"y_test: {y_test.shape}\")\n",
    "assert len(x_train)==60000\n",
    "assert len(y_train)==60000\n",
    "assert len(x_test)==10000\n",
    "assert len(y_test)==10000"
   ]
  },
  {
   "cell_type": "markdown",
   "id": "1449198b-a91c-4ae5-b090-5d6e9aa847b6",
   "metadata": {
    "tags": []
   },
   "source": [
    "## Data preparation"
   ]
  },
  {
   "cell_type": "markdown",
   "id": "a2b8d5e2-72f4-46bf-9369-76812e433560",
   "metadata": {},
   "source": [
    "Aggregate training and test data"
   ]
  },
  {
   "cell_type": "code",
   "execution_count": 21,
   "id": "d5b709b2-5bbc-4d70-b575-3183a1e9e838",
   "metadata": {
    "tags": []
   },
   "outputs": [
    {
     "name": "stdout",
     "output_type": "stream",
     "text": [
      "x_data: (70000, 28, 28)\n",
      "y_data: (70000,)\n"
     ]
    }
   ],
   "source": [
    "import numpy as np\n",
    "\n",
    "x_data = np.concatenate((x_train, x_test))\n",
    "y_data = np.concatenate((y_train, y_test))\n",
    "print(f\"x_data: {x_data.shape}\")\n",
    "print(f\"y_data: {y_data.shape}\")\n",
    "assert len(x_data)==70000\n",
    "assert len(y_data)==70000"
   ]
  },
  {
   "cell_type": "markdown",
   "id": "8be29912-3e4d-4762-9346-6aaf1c2085d2",
   "metadata": {},
   "source": [
    "Generate DataFrame with image_id from 0 to 9, equal to the prediction score, and the prediction label `number` (y_data)"
   ]
  },
  {
   "cell_type": "code",
   "execution_count": 22,
   "id": "6e3198a9-146c-4233-b578-0d13d14ee40b",
   "metadata": {
    "tags": []
   },
   "outputs": [],
   "source": [
    "import pandas as pd\n",
    "#y_data must be converted to list\n",
    "image_ids = pd.DataFrame({'image_id': y_data.tolist(), 'number': y_data.tolist()})\n",
    "\n",
    "assert len(image_ids)==70000"
   ]
  },
  {
   "cell_type": "markdown",
   "id": "a6932a8b-de28-4e49-83f0-7d56c07f8569",
   "metadata": {},
   "source": [
    "Generate arbitrary timestamp for all the feature rows in the dataset.\n",
    "All the features have the same `ts`."
   ]
  },
  {
   "cell_type": "code",
   "execution_count": 38,
   "id": "92706433-5e45-47a8-9b29-fa9d3cf0e0e7",
   "metadata": {
    "tags": []
   },
   "outputs": [
    {
     "name": "stdout",
     "output_type": "stream",
     "text": [
      "Generated time series from 2016-04-24 15:35:13 to 2024-04-19 06:35:13\n"
     ]
    },
    {
     "data": {
      "text/html": [
       "<div>\n",
       "<style scoped>\n",
       "    .dataframe tbody tr th:only-of-type {\n",
       "        vertical-align: middle;\n",
       "    }\n",
       "\n",
       "    .dataframe tbody tr th {\n",
       "        vertical-align: top;\n",
       "    }\n",
       "\n",
       "    .dataframe thead th {\n",
       "        text-align: right;\n",
       "    }\n",
       "</style>\n",
       "<table border=\"1\" class=\"dataframe\">\n",
       "  <thead>\n",
       "    <tr style=\"text-align: right;\">\n",
       "      <th></th>\n",
       "      <th>ts</th>\n",
       "      <th>created</th>\n",
       "    </tr>\n",
       "  </thead>\n",
       "  <tbody>\n",
       "    <tr>\n",
       "      <th>0</th>\n",
       "      <td>2016-04-24 15:35:13</td>\n",
       "      <td>2016-04-24 15:35:13</td>\n",
       "    </tr>\n",
       "    <tr>\n",
       "      <th>1</th>\n",
       "      <td>2016-04-24 16:35:13</td>\n",
       "      <td>2016-04-24 16:35:13</td>\n",
       "    </tr>\n",
       "    <tr>\n",
       "      <th>2</th>\n",
       "      <td>2016-04-24 17:35:13</td>\n",
       "      <td>2016-04-24 17:35:13</td>\n",
       "    </tr>\n",
       "    <tr>\n",
       "      <th>3</th>\n",
       "      <td>2016-04-24 18:35:13</td>\n",
       "      <td>2016-04-24 18:35:13</td>\n",
       "    </tr>\n",
       "    <tr>\n",
       "      <th>4</th>\n",
       "      <td>2016-04-24 19:35:13</td>\n",
       "      <td>2016-04-24 19:35:13</td>\n",
       "    </tr>\n",
       "  </tbody>\n",
       "</table>\n",
       "</div>"
      ],
      "text/plain": [
       "                   ts             created\n",
       "0 2016-04-24 15:35:13 2016-04-24 15:35:13\n",
       "1 2016-04-24 16:35:13 2016-04-24 16:35:13\n",
       "2 2016-04-24 17:35:13 2016-04-24 17:35:13\n",
       "3 2016-04-24 18:35:13 2016-04-24 18:35:13\n",
       "4 2016-04-24 19:35:13 2016-04-24 19:35:13"
      ]
     },
     "execution_count": 38,
     "metadata": {},
     "output_type": "execute_result"
    }
   ],
   "source": [
    "# https://pandas.pydata.org/pandas-docs/stable/user_guide/timeseries.html#offset-aliases\n",
    "from datetime import datetime\n",
    "# Create time series: one entry every 10s, up to now\n",
    "timestamps = pd.date_range(\n",
    "    end=pd.Timestamp.now().replace(microsecond=0), \n",
    "    periods=len(x_data), \n",
    "    freq='1H').to_frame(name=\"ts\", index=False)\n",
    "\n",
    "timestamps['created'] = timestamps['ts']\n",
    "print(f\"Generated time series from {timestamps['ts'].min()} to {timestamps['ts'].max()}\")\n",
    "assert len(timestamps)==70000\n",
    "timestamps.head()"
   ]
  },
  {
   "cell_type": "markdown",
   "id": "a2d1b1ab-b077-4b3f-9fdc-dd165ce1f078",
   "metadata": {},
   "source": [
    "Add timestamp column"
   ]
  },
  {
   "cell_type": "code",
   "execution_count": 39,
   "id": "178ddbd1-96ff-4554-9799-c4204e523094",
   "metadata": {
    "tags": []
   },
   "outputs": [
    {
     "data": {
      "text/html": [
       "<div>\n",
       "<style scoped>\n",
       "    .dataframe tbody tr th:only-of-type {\n",
       "        vertical-align: middle;\n",
       "    }\n",
       "\n",
       "    .dataframe tbody tr th {\n",
       "        vertical-align: top;\n",
       "    }\n",
       "\n",
       "    .dataframe thead th {\n",
       "        text-align: right;\n",
       "    }\n",
       "</style>\n",
       "<table border=\"1\" class=\"dataframe\">\n",
       "  <thead>\n",
       "    <tr style=\"text-align: right;\">\n",
       "      <th></th>\n",
       "      <th>image_id</th>\n",
       "      <th>number</th>\n",
       "      <th>ts</th>\n",
       "      <th>created</th>\n",
       "    </tr>\n",
       "  </thead>\n",
       "  <tbody>\n",
       "    <tr>\n",
       "      <th>0</th>\n",
       "      <td>5</td>\n",
       "      <td>5</td>\n",
       "      <td>2016-04-24 15:35:13</td>\n",
       "      <td>2016-04-24 15:35:13</td>\n",
       "    </tr>\n",
       "    <tr>\n",
       "      <th>1</th>\n",
       "      <td>0</td>\n",
       "      <td>0</td>\n",
       "      <td>2016-04-24 16:35:13</td>\n",
       "      <td>2016-04-24 16:35:13</td>\n",
       "    </tr>\n",
       "    <tr>\n",
       "      <th>2</th>\n",
       "      <td>4</td>\n",
       "      <td>4</td>\n",
       "      <td>2016-04-24 17:35:13</td>\n",
       "      <td>2016-04-24 17:35:13</td>\n",
       "    </tr>\n",
       "    <tr>\n",
       "      <th>3</th>\n",
       "      <td>1</td>\n",
       "      <td>1</td>\n",
       "      <td>2016-04-24 18:35:13</td>\n",
       "      <td>2016-04-24 18:35:13</td>\n",
       "    </tr>\n",
       "    <tr>\n",
       "      <th>4</th>\n",
       "      <td>9</td>\n",
       "      <td>9</td>\n",
       "      <td>2016-04-24 19:35:13</td>\n",
       "      <td>2016-04-24 19:35:13</td>\n",
       "    </tr>\n",
       "  </tbody>\n",
       "</table>\n",
       "</div>"
      ],
      "text/plain": [
       "   image_id  number                  ts             created\n",
       "0         5       5 2016-04-24 15:35:13 2016-04-24 15:35:13\n",
       "1         0       0 2016-04-24 16:35:13 2016-04-24 16:35:13\n",
       "2         4       4 2016-04-24 17:35:13 2016-04-24 17:35:13\n",
       "3         1       1 2016-04-24 18:35:13 2016-04-24 18:35:13\n",
       "4         9       9 2016-04-24 19:35:13 2016-04-24 19:35:13"
      ]
     },
     "execution_count": 39,
     "metadata": {},
     "output_type": "execute_result"
    }
   ],
   "source": [
    "images = pd.concat(objs=[image_ids, timestamps], axis=1)\n",
    "images.head()"
   ]
  },
  {
   "cell_type": "markdown",
   "id": "60f71b9c-8da2-45f5-926f-376b50f36be2",
   "metadata": {},
   "source": [
    "Collect features from original dataset by reverting rows and columns"
   ]
  },
  {
   "cell_type": "code",
   "execution_count": 40,
   "id": "bb3c4123-c04e-4266-9095-41e2e6ffab95",
   "metadata": {
    "tags": []
   },
   "outputs": [],
   "source": [
    "for feature_id in range(28):\n",
    "    feature = [x_data[image_id][feature_id] for image_id in range(len(x_data))]\n",
    "    images[f\"feature_{feature_id+1}\"] = feature"
   ]
  },
  {
   "cell_type": "code",
   "execution_count": 41,
   "id": "da265274-9e3b-4fde-9e54-aee6ecac4d8d",
   "metadata": {
    "tags": []
   },
   "outputs": [
    {
     "name": "stdout",
     "output_type": "stream",
     "text": [
      "<class 'pandas.core.frame.DataFrame'>\n",
      "RangeIndex: 70000 entries, 0 to 69999\n",
      "Data columns (total 32 columns):\n",
      " #   Column      Non-Null Count  Dtype         \n",
      "---  ------      --------------  -----         \n",
      " 0   image_id    70000 non-null  int64         \n",
      " 1   number      70000 non-null  int64         \n",
      " 2   ts          70000 non-null  datetime64[ns]\n",
      " 3   created     70000 non-null  datetime64[ns]\n",
      " 4   feature_1   70000 non-null  object        \n",
      " 5   feature_2   70000 non-null  object        \n",
      " 6   feature_3   70000 non-null  object        \n",
      " 7   feature_4   70000 non-null  object        \n",
      " 8   feature_5   70000 non-null  object        \n",
      " 9   feature_6   70000 non-null  object        \n",
      " 10  feature_7   70000 non-null  object        \n",
      " 11  feature_8   70000 non-null  object        \n",
      " 12  feature_9   70000 non-null  object        \n",
      " 13  feature_10  70000 non-null  object        \n",
      " 14  feature_11  70000 non-null  object        \n",
      " 15  feature_12  70000 non-null  object        \n",
      " 16  feature_13  70000 non-null  object        \n",
      " 17  feature_14  70000 non-null  object        \n",
      " 18  feature_15  70000 non-null  object        \n",
      " 19  feature_16  70000 non-null  object        \n",
      " 20  feature_17  70000 non-null  object        \n",
      " 21  feature_18  70000 non-null  object        \n",
      " 22  feature_19  70000 non-null  object        \n",
      " 23  feature_20  70000 non-null  object        \n",
      " 24  feature_21  70000 non-null  object        \n",
      " 25  feature_22  70000 non-null  object        \n",
      " 26  feature_23  70000 non-null  object        \n",
      " 27  feature_24  70000 non-null  object        \n",
      " 28  feature_25  70000 non-null  object        \n",
      " 29  feature_26  70000 non-null  object        \n",
      " 30  feature_27  70000 non-null  object        \n",
      " 31  feature_28  70000 non-null  object        \n",
      "dtypes: datetime64[ns](2), int64(2), object(28)\n",
      "memory usage: 17.1+ MB\n"
     ]
    }
   ],
   "source": [
    "images.info()"
   ]
  },
  {
   "cell_type": "code",
   "execution_count": 42,
   "id": "4c4ccfd2-e963-4267-841c-15ef300c30eb",
   "metadata": {
    "tags": []
   },
   "outputs": [
    {
     "data": {
      "text/html": [
       "<div>\n",
       "<style scoped>\n",
       "    .dataframe tbody tr th:only-of-type {\n",
       "        vertical-align: middle;\n",
       "    }\n",
       "\n",
       "    .dataframe tbody tr th {\n",
       "        vertical-align: top;\n",
       "    }\n",
       "\n",
       "    .dataframe thead th {\n",
       "        text-align: right;\n",
       "    }\n",
       "</style>\n",
       "<table border=\"1\" class=\"dataframe\">\n",
       "  <thead>\n",
       "    <tr style=\"text-align: right;\">\n",
       "      <th></th>\n",
       "      <th>image_id</th>\n",
       "      <th>number</th>\n",
       "      <th>ts</th>\n",
       "      <th>created</th>\n",
       "      <th>feature_1</th>\n",
       "      <th>feature_2</th>\n",
       "      <th>feature_3</th>\n",
       "      <th>feature_4</th>\n",
       "      <th>feature_5</th>\n",
       "      <th>feature_6</th>\n",
       "      <th>...</th>\n",
       "      <th>feature_19</th>\n",
       "      <th>feature_20</th>\n",
       "      <th>feature_21</th>\n",
       "      <th>feature_22</th>\n",
       "      <th>feature_23</th>\n",
       "      <th>feature_24</th>\n",
       "      <th>feature_25</th>\n",
       "      <th>feature_26</th>\n",
       "      <th>feature_27</th>\n",
       "      <th>feature_28</th>\n",
       "    </tr>\n",
       "  </thead>\n",
       "  <tbody>\n",
       "    <tr>\n",
       "      <th>0</th>\n",
       "      <td>5</td>\n",
       "      <td>5</td>\n",
       "      <td>2016-04-24 15:35:13</td>\n",
       "      <td>2016-04-24 15:35:13</td>\n",
       "      <td>[0.0, 0.0, 0.0, 0.0, 0.0, 0.0, 0.0, 0.0, 0.0, ...</td>\n",
       "      <td>[0.0, 0.0, 0.0, 0.0, 0.0, 0.0, 0.0, 0.0, 0.0, ...</td>\n",
       "      <td>[0.0, 0.0, 0.0, 0.0, 0.0, 0.0, 0.0, 0.0, 0.0, ...</td>\n",
       "      <td>[0.0, 0.0, 0.0, 0.0, 0.0, 0.0, 0.0, 0.0, 0.0, ...</td>\n",
       "      <td>[0.0, 0.0, 0.0, 0.0, 0.0, 0.0, 0.0, 0.0, 0.0, ...</td>\n",
       "      <td>[0.0, 0.0, 0.0, 0.0, 0.0, 0.0, 0.0, 0.0, 0.0, ...</td>\n",
       "      <td>...</td>\n",
       "      <td>[0.0, 0.0, 0.0, 0.0, 0.0, 0.0, 0.0, 0.0, 0.0, ...</td>\n",
       "      <td>[0.0, 0.0, 0.0, 0.0, 0.0, 0.0, 0.0, 0.0, 0.0, ...</td>\n",
       "      <td>[0.0, 0.0, 0.0, 0.0, 0.0, 0.0, 0.0, 0.0, 0.0, ...</td>\n",
       "      <td>[0.0, 0.0, 0.0, 0.0, 0.0, 0.0, 0.0, 0.0, 0.090...</td>\n",
       "      <td>[0.0, 0.0, 0.0, 0.0, 0.0, 0.0, 0.0705882352941...</td>\n",
       "      <td>[0.0, 0.0, 0.0, 0.0, 0.21568627450980393, 0.67...</td>\n",
       "      <td>[0.0, 0.0, 0.0, 0.0, 0.5333333333333333, 0.992...</td>\n",
       "      <td>[0.0, 0.0, 0.0, 0.0, 0.0, 0.0, 0.0, 0.0, 0.0, ...</td>\n",
       "      <td>[0.0, 0.0, 0.0, 0.0, 0.0, 0.0, 0.0, 0.0, 0.0, ...</td>\n",
       "      <td>[0.0, 0.0, 0.0, 0.0, 0.0, 0.0, 0.0, 0.0, 0.0, ...</td>\n",
       "    </tr>\n",
       "    <tr>\n",
       "      <th>1</th>\n",
       "      <td>0</td>\n",
       "      <td>0</td>\n",
       "      <td>2016-04-24 16:35:13</td>\n",
       "      <td>2016-04-24 16:35:13</td>\n",
       "      <td>[0.0, 0.0, 0.0, 0.0, 0.0, 0.0, 0.0, 0.0, 0.0, ...</td>\n",
       "      <td>[0.0, 0.0, 0.0, 0.0, 0.0, 0.0, 0.0, 0.0, 0.0, ...</td>\n",
       "      <td>[0.0, 0.0, 0.0, 0.0, 0.0, 0.0, 0.0, 0.0, 0.0, ...</td>\n",
       "      <td>[0.0, 0.0, 0.0, 0.0, 0.0, 0.0, 0.0, 0.0, 0.0, ...</td>\n",
       "      <td>[0.0, 0.0, 0.0, 0.0, 0.0, 0.0, 0.0, 0.0, 0.0, ...</td>\n",
       "      <td>[0.0, 0.0, 0.0, 0.0, 0.0, 0.0, 0.0, 0.0, 0.0, ...</td>\n",
       "      <td>...</td>\n",
       "      <td>[0.0, 0.0, 0.0, 0.0, 0.0, 0.0, 0.3333333333333...</td>\n",
       "      <td>[0.0, 0.0, 0.0, 0.0, 0.0, 0.0, 0.3372549019607...</td>\n",
       "      <td>[0.0, 0.0, 0.0, 0.0, 0.0, 0.0, 0.3333333333333...</td>\n",
       "      <td>[0.0, 0.0, 0.0, 0.0, 0.0, 0.0, 0.3333333333333...</td>\n",
       "      <td>[0.0, 0.0, 0.0, 0.0, 0.0, 0.0, 0.1098039215686...</td>\n",
       "      <td>[0.0, 0.0, 0.0, 0.0, 0.0, 0.0, 0.0, 0.09803921...</td>\n",
       "      <td>[0.0, 0.0, 0.0, 0.0, 0.0, 0.0, 0.0, 0.0, 0.0, ...</td>\n",
       "      <td>[0.0, 0.0, 0.0, 0.0, 0.0, 0.0, 0.0, 0.0, 0.0, ...</td>\n",
       "      <td>[0.0, 0.0, 0.0, 0.0, 0.0, 0.0, 0.0, 0.0, 0.0, ...</td>\n",
       "      <td>[0.0, 0.0, 0.0, 0.0, 0.0, 0.0, 0.0, 0.0, 0.0, ...</td>\n",
       "    </tr>\n",
       "    <tr>\n",
       "      <th>2</th>\n",
       "      <td>4</td>\n",
       "      <td>4</td>\n",
       "      <td>2016-04-24 17:35:13</td>\n",
       "      <td>2016-04-24 17:35:13</td>\n",
       "      <td>[0.0, 0.0, 0.0, 0.0, 0.0, 0.0, 0.0, 0.0, 0.0, ...</td>\n",
       "      <td>[0.0, 0.0, 0.0, 0.0, 0.0, 0.0, 0.0, 0.0, 0.0, ...</td>\n",
       "      <td>[0.0, 0.0, 0.0, 0.0, 0.0, 0.0, 0.0, 0.0, 0.0, ...</td>\n",
       "      <td>[0.0, 0.0, 0.0, 0.0, 0.0, 0.0, 0.0, 0.0, 0.0, ...</td>\n",
       "      <td>[0.0, 0.0, 0.0, 0.0, 0.0, 0.0, 0.0, 0.0, 0.0, ...</td>\n",
       "      <td>[0.0, 0.0, 0.0, 0.0, 0.0, 0.0, 0.0, 0.0, 0.0, ...</td>\n",
       "      <td>...</td>\n",
       "      <td>[0.0, 0.0, 0.0, 0.0, 0.0, 0.0, 0.0, 0.0, 0.0, ...</td>\n",
       "      <td>[0.0, 0.0, 0.0, 0.0, 0.0, 0.0, 0.0, 0.0, 0.0, ...</td>\n",
       "      <td>[0.0, 0.0, 0.0, 0.0, 0.0, 0.0, 0.0, 0.0, 0.0, ...</td>\n",
       "      <td>[0.0, 0.0, 0.0, 0.0, 0.0, 0.0, 0.0, 0.0, 0.0, ...</td>\n",
       "      <td>[0.0, 0.0, 0.0, 0.0, 0.0, 0.0, 0.0, 0.0, 0.0, ...</td>\n",
       "      <td>[0.0, 0.0, 0.0, 0.0, 0.0, 0.0, 0.0, 0.0, 0.0, ...</td>\n",
       "      <td>[0.0, 0.0, 0.0, 0.0, 0.0, 0.0, 0.0, 0.0, 0.0, ...</td>\n",
       "      <td>[0.0, 0.0, 0.0, 0.0, 0.0, 0.0, 0.0, 0.0, 0.0, ...</td>\n",
       "      <td>[0.0, 0.0, 0.0, 0.0, 0.0, 0.0, 0.0, 0.0, 0.0, ...</td>\n",
       "      <td>[0.0, 0.0, 0.0, 0.0, 0.0, 0.0, 0.0, 0.0, 0.0, ...</td>\n",
       "    </tr>\n",
       "    <tr>\n",
       "      <th>3</th>\n",
       "      <td>1</td>\n",
       "      <td>1</td>\n",
       "      <td>2016-04-24 18:35:13</td>\n",
       "      <td>2016-04-24 18:35:13</td>\n",
       "      <td>[0.0, 0.0, 0.0, 0.0, 0.0, 0.0, 0.0, 0.0, 0.0, ...</td>\n",
       "      <td>[0.0, 0.0, 0.0, 0.0, 0.0, 0.0, 0.0, 0.0, 0.0, ...</td>\n",
       "      <td>[0.0, 0.0, 0.0, 0.0, 0.0, 0.0, 0.0, 0.0, 0.0, ...</td>\n",
       "      <td>[0.0, 0.0, 0.0, 0.0, 0.0, 0.0, 0.0, 0.0, 0.0, ...</td>\n",
       "      <td>[0.0, 0.0, 0.0, 0.0, 0.0, 0.0, 0.0, 0.0, 0.0, ...</td>\n",
       "      <td>[0.0, 0.0, 0.0, 0.0, 0.0, 0.0, 0.0, 0.0, 0.0, ...</td>\n",
       "      <td>...</td>\n",
       "      <td>[0.0, 0.0, 0.0, 0.0, 0.0, 0.0, 0.0, 0.0, 0.0, ...</td>\n",
       "      <td>[0.0, 0.0, 0.0, 0.0, 0.0, 0.0, 0.0, 0.0, 0.0, ...</td>\n",
       "      <td>[0.0, 0.0, 0.0, 0.0, 0.0, 0.0, 0.0, 0.0, 0.0, ...</td>\n",
       "      <td>[0.0, 0.0, 0.0, 0.0, 0.0, 0.0, 0.0, 0.0, 0.188...</td>\n",
       "      <td>[0.0, 0.0, 0.0, 0.0, 0.0, 0.0, 0.0, 0.0, 0.250...</td>\n",
       "      <td>[0.0, 0.0, 0.0, 0.0, 0.0, 0.0, 0.0, 0.0, 0.250...</td>\n",
       "      <td>[0.0, 0.0, 0.0, 0.0, 0.0, 0.0, 0.0, 0.0, 0.094...</td>\n",
       "      <td>[0.0, 0.0, 0.0, 0.0, 0.0, 0.0, 0.0, 0.0, 0.0, ...</td>\n",
       "      <td>[0.0, 0.0, 0.0, 0.0, 0.0, 0.0, 0.0, 0.0, 0.0, ...</td>\n",
       "      <td>[0.0, 0.0, 0.0, 0.0, 0.0, 0.0, 0.0, 0.0, 0.0, ...</td>\n",
       "    </tr>\n",
       "    <tr>\n",
       "      <th>4</th>\n",
       "      <td>9</td>\n",
       "      <td>9</td>\n",
       "      <td>2016-04-24 19:35:13</td>\n",
       "      <td>2016-04-24 19:35:13</td>\n",
       "      <td>[0.0, 0.0, 0.0, 0.0, 0.0, 0.0, 0.0, 0.0, 0.0, ...</td>\n",
       "      <td>[0.0, 0.0, 0.0, 0.0, 0.0, 0.0, 0.0, 0.0, 0.0, ...</td>\n",
       "      <td>[0.0, 0.0, 0.0, 0.0, 0.0, 0.0, 0.0, 0.0, 0.0, ...</td>\n",
       "      <td>[0.0, 0.0, 0.0, 0.0, 0.0, 0.0, 0.0, 0.0, 0.0, ...</td>\n",
       "      <td>[0.0, 0.0, 0.0, 0.0, 0.0, 0.0, 0.0, 0.0, 0.0, ...</td>\n",
       "      <td>[0.0, 0.0, 0.0, 0.0, 0.0, 0.0, 0.0, 0.0, 0.0, ...</td>\n",
       "      <td>...</td>\n",
       "      <td>[0.0, 0.0, 0.0, 0.0, 0.0, 0.0, 0.0, 0.0, 0.0, ...</td>\n",
       "      <td>[0.0, 0.0, 0.0, 0.0, 0.0, 0.0, 0.0, 0.0, 0.0, ...</td>\n",
       "      <td>[0.0, 0.0, 0.0, 0.0, 0.0, 0.0, 0.0, 0.0, 0.0, ...</td>\n",
       "      <td>[0.0, 0.0, 0.0, 0.0, 0.0, 0.0, 0.0, 0.0, 0.0, ...</td>\n",
       "      <td>[0.0, 0.0, 0.0, 0.0, 0.0, 0.0, 0.0, 0.0, 0.0, ...</td>\n",
       "      <td>[0.0, 0.0, 0.0, 0.0, 0.0, 0.0, 0.0, 0.0, 0.0, ...</td>\n",
       "      <td>[0.0, 0.0, 0.0, 0.0, 0.0, 0.0, 0.0, 0.0, 0.0, ...</td>\n",
       "      <td>[0.0, 0.0, 0.0, 0.0, 0.0, 0.0, 0.0, 0.0, 0.0, ...</td>\n",
       "      <td>[0.0, 0.0, 0.0, 0.0, 0.0, 0.0, 0.0, 0.0, 0.0, ...</td>\n",
       "      <td>[0.0, 0.0, 0.0, 0.0, 0.0, 0.0, 0.0, 0.0, 0.0, ...</td>\n",
       "    </tr>\n",
       "  </tbody>\n",
       "</table>\n",
       "<p>5 rows × 32 columns</p>\n",
       "</div>"
      ],
      "text/plain": [
       "   image_id  number                  ts             created  \\\n",
       "0         5       5 2016-04-24 15:35:13 2016-04-24 15:35:13   \n",
       "1         0       0 2016-04-24 16:35:13 2016-04-24 16:35:13   \n",
       "2         4       4 2016-04-24 17:35:13 2016-04-24 17:35:13   \n",
       "3         1       1 2016-04-24 18:35:13 2016-04-24 18:35:13   \n",
       "4         9       9 2016-04-24 19:35:13 2016-04-24 19:35:13   \n",
       "\n",
       "                                           feature_1  \\\n",
       "0  [0.0, 0.0, 0.0, 0.0, 0.0, 0.0, 0.0, 0.0, 0.0, ...   \n",
       "1  [0.0, 0.0, 0.0, 0.0, 0.0, 0.0, 0.0, 0.0, 0.0, ...   \n",
       "2  [0.0, 0.0, 0.0, 0.0, 0.0, 0.0, 0.0, 0.0, 0.0, ...   \n",
       "3  [0.0, 0.0, 0.0, 0.0, 0.0, 0.0, 0.0, 0.0, 0.0, ...   \n",
       "4  [0.0, 0.0, 0.0, 0.0, 0.0, 0.0, 0.0, 0.0, 0.0, ...   \n",
       "\n",
       "                                           feature_2  \\\n",
       "0  [0.0, 0.0, 0.0, 0.0, 0.0, 0.0, 0.0, 0.0, 0.0, ...   \n",
       "1  [0.0, 0.0, 0.0, 0.0, 0.0, 0.0, 0.0, 0.0, 0.0, ...   \n",
       "2  [0.0, 0.0, 0.0, 0.0, 0.0, 0.0, 0.0, 0.0, 0.0, ...   \n",
       "3  [0.0, 0.0, 0.0, 0.0, 0.0, 0.0, 0.0, 0.0, 0.0, ...   \n",
       "4  [0.0, 0.0, 0.0, 0.0, 0.0, 0.0, 0.0, 0.0, 0.0, ...   \n",
       "\n",
       "                                           feature_3  \\\n",
       "0  [0.0, 0.0, 0.0, 0.0, 0.0, 0.0, 0.0, 0.0, 0.0, ...   \n",
       "1  [0.0, 0.0, 0.0, 0.0, 0.0, 0.0, 0.0, 0.0, 0.0, ...   \n",
       "2  [0.0, 0.0, 0.0, 0.0, 0.0, 0.0, 0.0, 0.0, 0.0, ...   \n",
       "3  [0.0, 0.0, 0.0, 0.0, 0.0, 0.0, 0.0, 0.0, 0.0, ...   \n",
       "4  [0.0, 0.0, 0.0, 0.0, 0.0, 0.0, 0.0, 0.0, 0.0, ...   \n",
       "\n",
       "                                           feature_4  \\\n",
       "0  [0.0, 0.0, 0.0, 0.0, 0.0, 0.0, 0.0, 0.0, 0.0, ...   \n",
       "1  [0.0, 0.0, 0.0, 0.0, 0.0, 0.0, 0.0, 0.0, 0.0, ...   \n",
       "2  [0.0, 0.0, 0.0, 0.0, 0.0, 0.0, 0.0, 0.0, 0.0, ...   \n",
       "3  [0.0, 0.0, 0.0, 0.0, 0.0, 0.0, 0.0, 0.0, 0.0, ...   \n",
       "4  [0.0, 0.0, 0.0, 0.0, 0.0, 0.0, 0.0, 0.0, 0.0, ...   \n",
       "\n",
       "                                           feature_5  \\\n",
       "0  [0.0, 0.0, 0.0, 0.0, 0.0, 0.0, 0.0, 0.0, 0.0, ...   \n",
       "1  [0.0, 0.0, 0.0, 0.0, 0.0, 0.0, 0.0, 0.0, 0.0, ...   \n",
       "2  [0.0, 0.0, 0.0, 0.0, 0.0, 0.0, 0.0, 0.0, 0.0, ...   \n",
       "3  [0.0, 0.0, 0.0, 0.0, 0.0, 0.0, 0.0, 0.0, 0.0, ...   \n",
       "4  [0.0, 0.0, 0.0, 0.0, 0.0, 0.0, 0.0, 0.0, 0.0, ...   \n",
       "\n",
       "                                           feature_6  ...  \\\n",
       "0  [0.0, 0.0, 0.0, 0.0, 0.0, 0.0, 0.0, 0.0, 0.0, ...  ...   \n",
       "1  [0.0, 0.0, 0.0, 0.0, 0.0, 0.0, 0.0, 0.0, 0.0, ...  ...   \n",
       "2  [0.0, 0.0, 0.0, 0.0, 0.0, 0.0, 0.0, 0.0, 0.0, ...  ...   \n",
       "3  [0.0, 0.0, 0.0, 0.0, 0.0, 0.0, 0.0, 0.0, 0.0, ...  ...   \n",
       "4  [0.0, 0.0, 0.0, 0.0, 0.0, 0.0, 0.0, 0.0, 0.0, ...  ...   \n",
       "\n",
       "                                          feature_19  \\\n",
       "0  [0.0, 0.0, 0.0, 0.0, 0.0, 0.0, 0.0, 0.0, 0.0, ...   \n",
       "1  [0.0, 0.0, 0.0, 0.0, 0.0, 0.0, 0.3333333333333...   \n",
       "2  [0.0, 0.0, 0.0, 0.0, 0.0, 0.0, 0.0, 0.0, 0.0, ...   \n",
       "3  [0.0, 0.0, 0.0, 0.0, 0.0, 0.0, 0.0, 0.0, 0.0, ...   \n",
       "4  [0.0, 0.0, 0.0, 0.0, 0.0, 0.0, 0.0, 0.0, 0.0, ...   \n",
       "\n",
       "                                          feature_20  \\\n",
       "0  [0.0, 0.0, 0.0, 0.0, 0.0, 0.0, 0.0, 0.0, 0.0, ...   \n",
       "1  [0.0, 0.0, 0.0, 0.0, 0.0, 0.0, 0.3372549019607...   \n",
       "2  [0.0, 0.0, 0.0, 0.0, 0.0, 0.0, 0.0, 0.0, 0.0, ...   \n",
       "3  [0.0, 0.0, 0.0, 0.0, 0.0, 0.0, 0.0, 0.0, 0.0, ...   \n",
       "4  [0.0, 0.0, 0.0, 0.0, 0.0, 0.0, 0.0, 0.0, 0.0, ...   \n",
       "\n",
       "                                          feature_21  \\\n",
       "0  [0.0, 0.0, 0.0, 0.0, 0.0, 0.0, 0.0, 0.0, 0.0, ...   \n",
       "1  [0.0, 0.0, 0.0, 0.0, 0.0, 0.0, 0.3333333333333...   \n",
       "2  [0.0, 0.0, 0.0, 0.0, 0.0, 0.0, 0.0, 0.0, 0.0, ...   \n",
       "3  [0.0, 0.0, 0.0, 0.0, 0.0, 0.0, 0.0, 0.0, 0.0, ...   \n",
       "4  [0.0, 0.0, 0.0, 0.0, 0.0, 0.0, 0.0, 0.0, 0.0, ...   \n",
       "\n",
       "                                          feature_22  \\\n",
       "0  [0.0, 0.0, 0.0, 0.0, 0.0, 0.0, 0.0, 0.0, 0.090...   \n",
       "1  [0.0, 0.0, 0.0, 0.0, 0.0, 0.0, 0.3333333333333...   \n",
       "2  [0.0, 0.0, 0.0, 0.0, 0.0, 0.0, 0.0, 0.0, 0.0, ...   \n",
       "3  [0.0, 0.0, 0.0, 0.0, 0.0, 0.0, 0.0, 0.0, 0.188...   \n",
       "4  [0.0, 0.0, 0.0, 0.0, 0.0, 0.0, 0.0, 0.0, 0.0, ...   \n",
       "\n",
       "                                          feature_23  \\\n",
       "0  [0.0, 0.0, 0.0, 0.0, 0.0, 0.0, 0.0705882352941...   \n",
       "1  [0.0, 0.0, 0.0, 0.0, 0.0, 0.0, 0.1098039215686...   \n",
       "2  [0.0, 0.0, 0.0, 0.0, 0.0, 0.0, 0.0, 0.0, 0.0, ...   \n",
       "3  [0.0, 0.0, 0.0, 0.0, 0.0, 0.0, 0.0, 0.0, 0.250...   \n",
       "4  [0.0, 0.0, 0.0, 0.0, 0.0, 0.0, 0.0, 0.0, 0.0, ...   \n",
       "\n",
       "                                          feature_24  \\\n",
       "0  [0.0, 0.0, 0.0, 0.0, 0.21568627450980393, 0.67...   \n",
       "1  [0.0, 0.0, 0.0, 0.0, 0.0, 0.0, 0.0, 0.09803921...   \n",
       "2  [0.0, 0.0, 0.0, 0.0, 0.0, 0.0, 0.0, 0.0, 0.0, ...   \n",
       "3  [0.0, 0.0, 0.0, 0.0, 0.0, 0.0, 0.0, 0.0, 0.250...   \n",
       "4  [0.0, 0.0, 0.0, 0.0, 0.0, 0.0, 0.0, 0.0, 0.0, ...   \n",
       "\n",
       "                                          feature_25  \\\n",
       "0  [0.0, 0.0, 0.0, 0.0, 0.5333333333333333, 0.992...   \n",
       "1  [0.0, 0.0, 0.0, 0.0, 0.0, 0.0, 0.0, 0.0, 0.0, ...   \n",
       "2  [0.0, 0.0, 0.0, 0.0, 0.0, 0.0, 0.0, 0.0, 0.0, ...   \n",
       "3  [0.0, 0.0, 0.0, 0.0, 0.0, 0.0, 0.0, 0.0, 0.094...   \n",
       "4  [0.0, 0.0, 0.0, 0.0, 0.0, 0.0, 0.0, 0.0, 0.0, ...   \n",
       "\n",
       "                                          feature_26  \\\n",
       "0  [0.0, 0.0, 0.0, 0.0, 0.0, 0.0, 0.0, 0.0, 0.0, ...   \n",
       "1  [0.0, 0.0, 0.0, 0.0, 0.0, 0.0, 0.0, 0.0, 0.0, ...   \n",
       "2  [0.0, 0.0, 0.0, 0.0, 0.0, 0.0, 0.0, 0.0, 0.0, ...   \n",
       "3  [0.0, 0.0, 0.0, 0.0, 0.0, 0.0, 0.0, 0.0, 0.0, ...   \n",
       "4  [0.0, 0.0, 0.0, 0.0, 0.0, 0.0, 0.0, 0.0, 0.0, ...   \n",
       "\n",
       "                                          feature_27  \\\n",
       "0  [0.0, 0.0, 0.0, 0.0, 0.0, 0.0, 0.0, 0.0, 0.0, ...   \n",
       "1  [0.0, 0.0, 0.0, 0.0, 0.0, 0.0, 0.0, 0.0, 0.0, ...   \n",
       "2  [0.0, 0.0, 0.0, 0.0, 0.0, 0.0, 0.0, 0.0, 0.0, ...   \n",
       "3  [0.0, 0.0, 0.0, 0.0, 0.0, 0.0, 0.0, 0.0, 0.0, ...   \n",
       "4  [0.0, 0.0, 0.0, 0.0, 0.0, 0.0, 0.0, 0.0, 0.0, ...   \n",
       "\n",
       "                                          feature_28  \n",
       "0  [0.0, 0.0, 0.0, 0.0, 0.0, 0.0, 0.0, 0.0, 0.0, ...  \n",
       "1  [0.0, 0.0, 0.0, 0.0, 0.0, 0.0, 0.0, 0.0, 0.0, ...  \n",
       "2  [0.0, 0.0, 0.0, 0.0, 0.0, 0.0, 0.0, 0.0, 0.0, ...  \n",
       "3  [0.0, 0.0, 0.0, 0.0, 0.0, 0.0, 0.0, 0.0, 0.0, ...  \n",
       "4  [0.0, 0.0, 0.0, 0.0, 0.0, 0.0, 0.0, 0.0, 0.0, ...  \n",
       "\n",
       "[5 rows x 32 columns]"
      ]
     },
     "execution_count": 42,
     "metadata": {},
     "output_type": "execute_result"
    }
   ],
   "source": [
    "images.head()"
   ]
  },
  {
   "cell_type": "markdown",
   "id": "c28f1325-bd4d-449a-a829-64f6ccb1c480",
   "metadata": {},
   "source": [
    "## Persist data in PSQL DB"
   ]
  },
  {
   "cell_type": "code",
   "execution_count": 43,
   "id": "bb5b154f-9ad4-4aac-9e82-7be5ab91f5a4",
   "metadata": {
    "tags": []
   },
   "outputs": [],
   "source": [
    "import pandas as pd\n",
    "import psycopg2\n",
    "from sqlalchemy import create_engine\n",
    "\n",
    "psqlHost = 'postgresql.feast.svc.cluster.local'\n",
    "psqlPort = 5432\n",
    "psqlUsername = 'feast'\n",
    "psqlPassword = 'feast'\n",
    "psqlDb = 'feast'\n",
    "psqlSchema = 'feast'\n",
    "\n",
    "mnistTableName = 'mnist_source'\n",
    "mnistPushTableName = 'mnist_push_source'"
   ]
  },
  {
   "cell_type": "code",
   "execution_count": 44,
   "id": "a23b9f43-fc70-4f46-b792-2e3d67ddb131",
   "metadata": {
    "tags": []
   },
   "outputs": [],
   "source": [
    "from psycopg2.extensions import register_adapter, AsIs\n",
    "\n",
    "def addapt_numpy_array(numpy_array):\n",
    "    return AsIs(tuple(numpy_array))\n",
    "\n",
    "register_adapter(np.ndarray, addapt_numpy_array)\n"
   ]
  },
  {
   "cell_type": "markdown",
   "id": "75af4027-6d95-4907-b98d-aa6509725317",
   "metadata": {},
   "source": [
    "**Set this variable to `true` to skip the DB storage in case the table is already populated**"
   ]
  },
  {
   "cell_type": "code",
   "execution_count": 45,
   "id": "8241f0cd-5332-408f-8834-590e792cab40",
   "metadata": {
    "tags": []
   },
   "outputs": [
    {
     "name": "stdout",
     "output_type": "stream",
     "text": [
      "env: SKIP_IMAGE_COPY=false\n"
     ]
    }
   ],
   "source": [
    "%env SKIP_IMAGE_COPY=false"
   ]
  },
  {
   "cell_type": "code",
   "execution_count": 46,
   "id": "e484020a-29c5-4443-9bfe-1c9a297244a6",
   "metadata": {
    "tags": []
   },
   "outputs": [
    {
     "name": "stdout",
     "output_type": "stream",
     "text": [
      "An error occurred while creating schema feast: (psycopg2.errors.DuplicateSchema) schema \"feast\" already exists\n",
      "\n",
      "[SQL: CREATE SCHEMA feast]\n",
      "(Background on this error at: https://sqlalche.me/e/14/f405)\n",
      "Persist images from 0 to 10000\n",
      "Persist chunk from 0 to 5000\n",
      "Persist chunk from 5000 to 10000\n",
      "Persist images from 10000 to 20000\n",
      "Persist chunk from 10000 to 15000\n",
      "Persist chunk from 15000 to 20000\n",
      "Persist images from 20000 to 30000\n",
      "Persist chunk from 20000 to 25000\n",
      "Persist chunk from 25000 to 30000\n",
      "Persist images from 30000 to 40000\n",
      "Persist chunk from 30000 to 35000\n",
      "Persist chunk from 35000 to 40000\n",
      "Persist images from 40000 to 50000\n",
      "Persist chunk from 40000 to 45000\n",
      "Persist chunk from 45000 to 50000\n",
      "Persist images from 50000 to 60000\n",
      "Persist chunk from 50000 to 55000\n",
      "Persist chunk from 55000 to 60000\n",
      "Persist images from 60000 to 70000\n",
      "Persist chunk from 60000 to 65000\n",
      "Persist chunk from 65000 to 70000\n"
     ]
    }
   ],
   "source": [
    "import pandas as pd\n",
    "import os\n",
    "from sqlalchemy import create_engine\n",
    "from sqlalchemy.exc import ProgrammingError\n",
    "\n",
    "if os.environ['SKIP_IMAGE_COPY'] == 'true':\n",
    "    print(\"Skipping storage as per configured variable SKIP_IMAGE_COPY\")\n",
    "else:\n",
    "    def persist(from_idx, to_idx):\n",
    "        print(f\"Persist images from {from_idx} to {to_idx}\")\n",
    "        data = images[from_idx: min(to_idx, len(images))]\n",
    "        size = len(data)\n",
    "        \n",
    "        batch_size = 5000\n",
    "        for i in range(0, size, batch_size):\n",
    "            engine = create_engine(f'postgresql+psycopg2://{psqlUsername}:{psqlPassword}@{psqlHost}:{str(psqlPort)}/{psqlDb}')\n",
    "            chunk = data.iloc[i:i+batch_size]\n",
    "            print(f\"Persist chunk from {from_idx+i} to {from_idx+(i+batch_size)}\")\n",
    "            chunk.to_sql(mnistTableName, engine, if_exists='append', index=True, schema=psqlSchema)\n",
    "    \n",
    "    engine = create_engine(f'postgresql+psycopg2://{psqlUsername}:{psqlPassword}@{psqlHost}:{str(psqlPort)}/{psqlDb}')\n",
    "    with engine.connect() as conn:\n",
    "        try:\n",
    "            conn.execute(f'CREATE SCHEMA {psqlSchema}')\n",
    "        except ProgrammingError as e:\n",
    "            print(f\"An error occurred while creating schema {psqlSchema}: {e}\")\n",
    "        conn.execute(f'DROP TABLE IF EXISTS {mnistTableName}')\n",
    "\n",
    "    block_size = 10000\n",
    "    for i in range(int(len(images)/block_size)):\n",
    "        persist(i*block_size, (i+1) * block_size)\n"
   ]
  },
  {
   "cell_type": "markdown",
   "id": "75f172cb-e66d-4a48-b5d3-69e1980f13c0",
   "metadata": {},
   "source": [
    "Verify row count"
   ]
  },
  {
   "cell_type": "code",
   "execution_count": 47,
   "id": "b77646f7-7239-44e5-bae9-01fb3656cf6f",
   "metadata": {
    "tags": []
   },
   "outputs": [
    {
     "name": "stdout",
     "output_type": "stream",
     "text": [
      "Persisted 70000 in mnist_source\n"
     ]
    }
   ],
   "source": [
    "from sqlalchemy import create_engine\n",
    "\n",
    "engine = create_engine(f'postgresql+psycopg2://{psqlUsername}:{psqlPassword}@{psqlHost}:{str(psqlPort)}/{psqlDb}')\n",
    "row_count = engine.execute(f\"SELECT COUNT(*) FROM {mnistTableName}\").scalar()\n",
    "\n",
    "assert row_count==70000, f\"Row count is not 70000 but {row_count}\"\n",
    "print(f\"Persisted {row_count} in {mnistTableName}\")"
   ]
  },
  {
   "cell_type": "markdown",
   "id": "bade03d3-64c5-4908-8fb3-bd974b4a063a",
   "metadata": {},
   "source": [
    "## Create table for push data source"
   ]
  },
  {
   "cell_type": "markdown",
   "id": "e084f8b5-7b7d-4998-a02d-6838b7ec2279",
   "metadata": {},
   "source": [
    "This step is requested to setup the Feast repository.\n",
    "\n",
    "Create an empty DataFrame for the online store."
   ]
  },
  {
   "cell_type": "code",
   "execution_count": 33,
   "id": "3e6eb20c-3232-4733-b22d-c6295b4b8ec0",
   "metadata": {
    "tags": []
   },
   "outputs": [
    {
     "data": {
      "text/html": [
       "<div>\n",
       "<style scoped>\n",
       "    .dataframe tbody tr th:only-of-type {\n",
       "        vertical-align: middle;\n",
       "    }\n",
       "\n",
       "    .dataframe tbody tr th {\n",
       "        vertical-align: top;\n",
       "    }\n",
       "\n",
       "    .dataframe thead th {\n",
       "        text-align: right;\n",
       "    }\n",
       "</style>\n",
       "<table border=\"1\" class=\"dataframe\">\n",
       "  <thead>\n",
       "    <tr style=\"text-align: right;\">\n",
       "      <th></th>\n",
       "      <th>image_id</th>\n",
       "      <th>ts</th>\n",
       "      <th>created</th>\n",
       "      <th>feature_1</th>\n",
       "      <th>feature_2</th>\n",
       "      <th>feature_3</th>\n",
       "      <th>feature_4</th>\n",
       "      <th>feature_5</th>\n",
       "      <th>feature_6</th>\n",
       "      <th>feature_7</th>\n",
       "      <th>...</th>\n",
       "      <th>feature_19</th>\n",
       "      <th>feature_20</th>\n",
       "      <th>feature_21</th>\n",
       "      <th>feature_22</th>\n",
       "      <th>feature_23</th>\n",
       "      <th>feature_24</th>\n",
       "      <th>feature_25</th>\n",
       "      <th>feature_26</th>\n",
       "      <th>feature_27</th>\n",
       "      <th>feature_28</th>\n",
       "    </tr>\n",
       "  </thead>\n",
       "  <tbody>\n",
       "  </tbody>\n",
       "</table>\n",
       "<p>0 rows × 31 columns</p>\n",
       "</div>"
      ],
      "text/plain": [
       "Empty DataFrame\n",
       "Columns: [image_id, ts, created, feature_1, feature_2, feature_3, feature_4, feature_5, feature_6, feature_7, feature_8, feature_9, feature_10, feature_11, feature_12, feature_13, feature_14, feature_15, feature_16, feature_17, feature_18, feature_19, feature_20, feature_21, feature_22, feature_23, feature_24, feature_25, feature_26, feature_27, feature_28]\n",
       "Index: []\n",
       "\n",
       "[0 rows x 31 columns]"
      ]
     },
     "execution_count": 33,
     "metadata": {},
     "output_type": "execute_result"
    }
   ],
   "source": [
    "online_df = images.copy()\n",
    "online_df.drop(columns=['number'], inplace=True)\n",
    "online_df.drop(online_df.index, inplace=True)\n",
    "\n",
    "assert len(online_df) == 0\n",
    "online_df.head()"
   ]
  },
  {
   "cell_type": "code",
   "execution_count": 34,
   "id": "6cbac78b-c601-4271-84ff-66d5451eabe5",
   "metadata": {
    "tags": []
   },
   "outputs": [
    {
     "name": "stdout",
     "output_type": "stream",
     "text": [
      "<class 'pandas.core.frame.DataFrame'>\n",
      "RangeIndex: 0 entries\n",
      "Data columns (total 31 columns):\n",
      " #   Column      Non-Null Count  Dtype         \n",
      "---  ------      --------------  -----         \n",
      " 0   image_id    0 non-null      int64         \n",
      " 1   ts          0 non-null      datetime64[ns]\n",
      " 2   created     0 non-null      datetime64[ns]\n",
      " 3   feature_1   0 non-null      object        \n",
      " 4   feature_2   0 non-null      object        \n",
      " 5   feature_3   0 non-null      object        \n",
      " 6   feature_4   0 non-null      object        \n",
      " 7   feature_5   0 non-null      object        \n",
      " 8   feature_6   0 non-null      object        \n",
      " 9   feature_7   0 non-null      object        \n",
      " 10  feature_8   0 non-null      object        \n",
      " 11  feature_9   0 non-null      object        \n",
      " 12  feature_10  0 non-null      object        \n",
      " 13  feature_11  0 non-null      object        \n",
      " 14  feature_12  0 non-null      object        \n",
      " 15  feature_13  0 non-null      object        \n",
      " 16  feature_14  0 non-null      object        \n",
      " 17  feature_15  0 non-null      object        \n",
      " 18  feature_16  0 non-null      object        \n",
      " 19  feature_17  0 non-null      object        \n",
      " 20  feature_18  0 non-null      object        \n",
      " 21  feature_19  0 non-null      object        \n",
      " 22  feature_20  0 non-null      object        \n",
      " 23  feature_21  0 non-null      object        \n",
      " 24  feature_22  0 non-null      object        \n",
      " 25  feature_23  0 non-null      object        \n",
      " 26  feature_24  0 non-null      object        \n",
      " 27  feature_25  0 non-null      object        \n",
      " 28  feature_26  0 non-null      object        \n",
      " 29  feature_27  0 non-null      object        \n",
      " 30  feature_28  0 non-null      object        \n",
      "dtypes: datetime64[ns](2), int64(1), object(28)\n",
      "memory usage: 124.0+ bytes\n"
     ]
    }
   ],
   "source": [
    "online_df.info()"
   ]
  },
  {
   "cell_type": "code",
   "execution_count": 35,
   "id": "9ac12f76-bc10-4c04-b029-5bc9c01ba535",
   "metadata": {
    "tags": []
   },
   "outputs": [
    {
     "data": {
      "text/plain": [
       "0"
      ]
     },
     "execution_count": 35,
     "metadata": {},
     "output_type": "execute_result"
    }
   ],
   "source": [
    "engine = create_engine(f'postgresql+psycopg2://{psqlUsername}:{psqlPassword}@{psqlHost}:{str(psqlPort)}/{psqlDb}')\n",
    "online_df.to_sql(mnistPushTableName, engine, if_exists='append', index=True, schema=psqlSchema)"
   ]
  },
  {
   "cell_type": "code",
   "execution_count": null,
   "id": "8f86332d-d594-42ce-8caf-7afa6fb1cc96",
   "metadata": {},
   "outputs": [],
   "source": []
  }
 ],
 "metadata": {
  "kernelspec": {
   "display_name": "Python 3.9",
   "language": "python",
   "name": "python3"
  },
  "language_info": {
   "codemirror_mode": {
    "name": "ipython",
    "version": 3
   },
   "file_extension": ".py",
   "mimetype": "text/x-python",
   "name": "python",
   "nbconvert_exporter": "python",
   "pygments_lexer": "ipython3",
   "version": "3.9.18"
  }
 },
 "nbformat": 4,
 "nbformat_minor": 5
}
