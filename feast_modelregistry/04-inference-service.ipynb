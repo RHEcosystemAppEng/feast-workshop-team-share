{
 "cells": [
  {
   "cell_type": "markdown",
   "id": "8a8d4067-52fb-4988-b8e8-144086c5da4c",
   "metadata": {},
   "source": [
    "# Inference Service"
   ]
  },
  {
   "cell_type": "markdown",
   "id": "56c3d31a-055e-47f2-99d2-b612dd2497bf",
   "metadata": {},
   "source": [
    "* Create an inference service to serve one of the registered models\n",
    "* Fetch online features and calculate predictions from the inference service"
   ]
  },
  {
   "cell_type": "markdown",
   "id": "870b6e24-8a17-4592-9573-3a3119d64258",
   "metadata": {
    "tags": []
   },
   "source": [
    "**Prerequisites**\n",
    "* Create a `Model Server`called `mnist` under the current workspace `feast`"
   ]
  },
  {
   "cell_type": "markdown",
   "id": "26729afa-49c4-4b39-933a-510972818943",
   "metadata": {},
   "source": [
    "## Imports and constants"
   ]
  },
  {
   "cell_type": "code",
   "execution_count": 1,
   "id": "ee21f58d-167e-4bfa-a2e2-53ee9cc5b70c",
   "metadata": {
    "tags": []
   },
   "outputs": [
    {
     "name": "stdout",
     "output_type": "stream",
     "text": [
      "\u001b[31mERROR: pip's dependency resolver does not currently take into account all the packages that are installed. This behaviour is the source of the following dependency conflicts.\n",
      "codeflare-sdk 0.14.1 requires pydantic<2, but you have pydantic 2.7.1 which is incompatible.\n",
      "codeflare-sdk 0.14.1 requires ray[data,default]==2.7.0, but you have ray 2.9.3 which is incompatible.\n",
      "codeflare-sdk 0.14.1 requires rich<13.0,>=12.5, but you have rich 13.7.1 which is incompatible.\n",
      "kserve 0.12.1 requires fastapi<0.110.0,>=0.109.1, but you have fastapi 0.108.0 which is incompatible.\n",
      "kserve 0.12.1 requires protobuf<4.0.0,>=3.19.0, but you have protobuf 4.23.3 which is incompatible.\n",
      "kserve 0.12.1 requires ray[serve]<3.0.0,>=2.10.0, but you have ray 2.9.3 which is incompatible.\u001b[0m\u001b[31m\n",
      "\u001b[0m\u001b[31mERROR: pip's dependency resolver does not currently take into account all the packages that are installed. This behaviour is the source of the following dependency conflicts.\n",
      "codeflare-sdk 0.14.1 requires pydantic<2, but you have pydantic 2.7.1 which is incompatible.\n",
      "codeflare-sdk 0.14.1 requires ray[data,default]==2.7.0, but you have ray 2.12.0 which is incompatible.\n",
      "codeflare-sdk 0.14.1 requires rich<13.0,>=12.5, but you have rich 13.7.1 which is incompatible.\n",
      "grpcio-health-checking 1.62.2 requires protobuf>=4.21.6, but you have protobuf 3.20.3 which is incompatible.\n",
      "grpcio-reflection 1.62.2 requires protobuf>=4.21.6, but you have protobuf 3.20.3 which is incompatible.\n",
      "grpcio-tools 1.62.2 requires protobuf<5.0dev,>=4.21.6, but you have protobuf 3.20.3 which is incompatible.\n",
      "kfp 1.8.22 requires pydantic<2,>=1.8.2, but you have pydantic 2.7.1 which is incompatible.\n",
      "ml-metadata 1.14.0+remote.1 requires attrs<22,>=20.3, but you have attrs 23.2.0 which is incompatible.\n",
      "model-registry 0.1.2 requires attrs<22.0,>=21.0, but you have attrs 23.2.0 which is incompatible.\n",
      "tensorflow 2.13.1 requires typing-extensions<4.6.0,>=3.6.6, but you have typing-extensions 4.11.0 which is incompatible.\u001b[0m\u001b[31m\n",
      "\u001b[0m\u001b[31mERROR: pip's dependency resolver does not currently take into account all the packages that are installed. This behaviour is the source of the following dependency conflicts.\n",
      "kfp 1.8.22 requires protobuf<4,>=3.13.0, but you have protobuf 4.23.3 which is incompatible.\n",
      "kfp 1.8.22 requires pydantic<2,>=1.8.2, but you have pydantic 2.7.1 which is incompatible.\n",
      "kfp-pipeline-spec 0.1.16 requires protobuf<4,>=3.13.0, but you have protobuf 4.23.3 which is incompatible.\n",
      "kserve 0.12.1 requires protobuf<4.0.0,>=3.19.0, but you have protobuf 4.23.3 which is incompatible.\n",
      "ml-metadata 1.14.0+remote.1 requires attrs<22,>=20.3, but you have attrs 23.2.0 which is incompatible.\n",
      "ml-metadata 1.14.0+remote.1 requires protobuf<4,>=3.13, but you have protobuf 4.23.3 which is incompatible.\n",
      "model-registry 0.1.2 requires attrs<22.0,>=21.0, but you have attrs 23.2.0 which is incompatible.\n",
      "mysql-connector-python 8.0.33 requires protobuf<=3.20.3,>=3.11.0, but you have protobuf 4.23.3 which is incompatible.\n",
      "tensorflow 2.13.1 requires typing-extensions<4.6.0,>=3.6.6, but you have typing-extensions 4.11.0 which is incompatible.\n",
      "tf2onnx 1.15.1 requires protobuf~=3.20.2, but you have protobuf 4.23.3 which is incompatible.\u001b[0m\u001b[31m\n",
      "\u001b[0mmemray                          1.12.0\n",
      "ray                             2.12.0\n"
     ]
    }
   ],
   "source": [
    "!pip install -q --upgrade pip\n",
    "!pip install -q --no-deps --ignore-requires-python \"https://github.com/opendatahub-io/ml-metadata/releases/download/v1.14.0%2Bremote.1/ml_metadata-1.14.0+remote.1-py3-none-any.whl\" # need a Python 3.11 compatible version\n",
    "!pip install -q --no-deps --ignore-requires-python \"model-registry==0.1.2\" # ignore dependencies because of the above override\n",
    "!pip uninstall -q ray --yes\n",
    "!pip install -q \"ray[serve]<=2.9.3,>=2.9.2\"\n",
    "!pip install -q kserve[storage]>=0.12.0\n",
    "!pip install -q -r requirements.txt\n",
    "!pip list | grep ray"
   ]
  },
  {
   "cell_type": "code",
   "execution_count": 2,
   "id": "b88f0cf4-505d-4684-b921-13c9437ead73",
   "metadata": {
    "tags": []
   },
   "outputs": [
    {
     "name": "stdout",
     "output_type": "stream",
     "text": [
      "Initialized MinIO S3 environment served by http://minio-service.feast.svc.cluster.local:9000\n"
     ]
    },
    {
     "name": "stderr",
     "output_type": "stream",
     "text": [
      "/opt/app-root/lib64/python3.9/site-packages/pydantic/_internal/_config.py:334: UserWarning: Valid config keys have changed in V2:\n",
      "* 'json_loads' has been removed\n",
      "  warnings.warn(message, UserWarning)\n",
      "/opt/app-root/lib64/python3.9/site-packages/pydantic/_internal/_fields.py:160: UserWarning: Field \"model_name\" has conflict with protected namespace \"model_\".\n",
      "\n",
      "You may be able to resolve this warning by setting `model_config['protected_namespaces'] = ()`.\n",
      "  warnings.warn(\n",
      "/opt/app-root/lib64/python3.9/site-packages/pydantic/_internal/_fields.py:160: UserWarning: Field \"model_version\" has conflict with protected namespace \"model_\".\n",
      "\n",
      "You may be able to resolve this warning by setting `model_config['protected_namespaces'] = ()`.\n",
      "  warnings.warn(\n"
     ]
    },
    {
     "name": "stdout",
     "output_type": "stream",
     "text": [
      "Initialized Feast environment for repo mnist_demo/feature_repo/\n"
     ]
    }
   ],
   "source": [
    "# See https://ipython.org/ipython-doc/3/config/extensions/autoreload.html\n",
    "%load_ext autoreload\n",
    "%autoreload 2\n",
    "\n",
    "from src import s3\n",
    "from src.kserve import utils as kserve\n",
    "from src.feast import utils as feast\n",
    "from src.model_registry import utils as model_registry\n",
    "\n",
    "from kserve import KServeClient\n",
    "\n",
    "# help(kserve)\n",
    "# help(feast)\n",
    "# help(model_registry)"
   ]
  },
  {
   "cell_type": "markdown",
   "id": "f4b0c3d4-affd-4c78-b4bf-6b47517623fc",
   "metadata": {
    "tags": []
   },
   "source": [
    "## Selecting one of the registered models"
   ]
  },
  {
   "cell_type": "markdown",
   "id": "9d8df707-c271-4c89-b80c-c272dcb71233",
   "metadata": {},
   "source": [
    "Update the logic defined in [src/model_registry/utils.py](./src/model_registry/utils.py) to select a different model and version"
   ]
  },
  {
   "cell_type": "code",
   "execution_count": 3,
   "id": "e71cefbb-bceb-4dff-8b1f-72ba6783d15b",
   "metadata": {
    "tags": []
   },
   "outputs": [
    {
     "name": "stdout",
     "output_type": "stream",
     "text": [
      "Help on function select_model_for_test in module src.model_registry.utils:\n",
      "\n",
      "select_model_for_test()\n",
      "    Select the first model, version and artifact available from the ModelRegistry (excluding\n",
      "    the ARCHIVED versions).\n",
      "    Returns the tuple (selected_model, selected_model_version, selected_model_artifact)\n",
      "\n"
     ]
    }
   ],
   "source": [
    "help(model_registry.select_model_for_test)"
   ]
  },
  {
   "cell_type": "code",
   "execution_count": 4,
   "id": "647f1fcc-bbb9-46d2-b0d8-b29abf96fdf3",
   "metadata": {
    "tags": []
   },
   "outputs": [
    {
     "name": "stderr",
     "output_type": "stream",
     "text": [
      "INFO:absl:MetadataStore with gRPC connection initialized\n"
     ]
    },
    {
     "name": "stdout",
     "output_type": "stream",
     "text": [
      "Model mnist\n",
      "Version v.simple_NN.20240419150600\n",
      "Artifact mnist: s3://feast/v.simple_NN.20240419150600/simple_NN.onnx?endpoint=http://minio-service.feast.svc.cluster.local:9000&defaultRegion=default\n",
      "Version v.convolutedNN.202404191508261\n",
      "Artifact mnist: s3://feast/v.convolutedNN.20240419150826/convolutedNN.onnx?endpoint=http://minio-service.feast.svc.cluster.local:9000&defaultRegion=default\n",
      "Version v.simple_NN.20240424124319\n",
      "Artifact mnist: s3://feast/v.simple_NN.20240424124319/simple_NN.onnx?endpoint=http://minio-service.feast.svc.cluster.local:9000&defaultRegion=default\n",
      "Version v.convolutedNN.202404241246291\n",
      "Artifact mnist: s3://feast/v.convolutedNN.20240424124629/convolutedNN.onnx?endpoint=http://minio-service.feast.svc.cluster.local:9000&defaultRegion=default\n",
      "Version v.simple_NN.20240424142816\n",
      "Artifact mnist: s3://feast/v.simple_NN.20240424142816/simple_NN.onnx?endpoint=http://minio-service.feast.svc.cluster.local:9000&defaultRegion=default\n",
      "Version v.simple_NN.202404241428161\n",
      "Artifact mnist: s3://feast/v.simple_NN.20240424142816/simple_NN.onnx?endpoint=http://minio-service.feast.svc.cluster.local:9000&defaultRegion=default\n",
      "Version v.simple_NN.20240424155139\n",
      "Artifact mnist: s3://feast/v.simple_NN.20240424155139/simple_NN.onnx?endpoint=http://minio-service.feast.svc.cluster.local:9000&defaultRegion=default\n",
      "Version v.convolutedNN.202404241554301\n",
      "Artifact mnist: s3://feast/v.convolutedNN.20240424155430/convolutedNN.onnx?endpoint=http://minio-service.feast.svc.cluster.local:9000&defaultRegion=default\n",
      "Version v.simple_NN.20240426074515\n",
      "Artifact mnist: s3://feast/v.simple_NN.20240426074515/simple_NN.onnx?endpoint=http://minio-service.feast.svc.cluster.local:9000&defaultRegion=default\n",
      "Version v.simple_NN.20240426080359\n",
      "Artifact mnist: s3://feast/v.simple_NN.20240426080359/simple_NN.onnx?endpoint=http://minio-service.feast.svc.cluster.local:9000&defaultRegion=default\n",
      "Version v.convolutedNN.202404260814301\n",
      "Artifact mnist: s3://feast/v.convolutedNN.20240426081430/convolutedNN.onnx?endpoint=http://minio-service.feast.svc.cluster.local:9000&defaultRegion=default\n",
      "Version v.simple_NN.20240426101255\n",
      "Artifact mnist: s3://feast/v.simple_NN.20240426101255/simple_NN.onnx?endpoint=http://minio-service.feast.svc.cluster.local:9000&defaultRegion=default\n",
      "Version v.convolutedNN.202404261016361\n",
      "Artifact mnist: s3://feast/v.convolutedNN.20240426101636/convolutedNN.onnx?endpoint=http://minio-service.feast.svc.cluster.local:9000&defaultRegion=default\n",
      "Version v.simple_NN.20240426130048\n",
      "Artifact mnist: s3://feast/v.simple_NN.20240426130048/simple_NN.onnx?endpoint=http://minio-service.feast.svc.cluster.local:9000&defaultRegion=default\n",
      "Version v.convolutedNN.202404261302501\n",
      "Artifact mnist: s3://feast/v.convolutedNN.20240426130250/convolutedNN.onnx?endpoint=http://minio-service.feast.svc.cluster.local:9000&defaultRegion=default\n",
      "==============================\n",
      "Creating inference service for model: 1\n",
      "RegisteredModel(id='1', description='', external_id='', create_time_since_epoch=1713539173108, last_update_time_since_epoch=1713539173108, state=<ContextState.LIVE: 'LIVE'>, name='mnist')\n",
      "==============================\n",
      "Creating inference service for model version: 15\n",
      "ModelVersion(name='v.simple_NN.20240426130048', id='15', description='demo202404 FEAST-ModelRegistry e2e MNIST', external_id='', create_time_since_epoch=1714136449111, last_update_time_since_epoch=1714136449111, state=<ContextState.LIVE: 'LIVE'>, model_name='mnist', version='v.simple_NN.20240426130048', author='feast-dev@redhat.com', metadata={'AWS_DEFAULT_REGION': 'default', 'AWS_S3_BUCKET': 'feast', 'AWS_S3_ENDPOINT': 'http://minio-service.feast.svc.cluster.local:9000'}, artifacts=NOTHING, _registered_model_id=NOTHING)\n",
      "==============================\n",
      "Creating inference service for model artifact: 14\n",
      "ModelArtifact(id='14', description='', external_id='', create_time_since_epoch=1714136450012, last_update_time_since_epoch=1714136450012, name='mnist', uri='s3://feast/v.simple_NN.20240426130048/simple_NN.onnx?endpoint=http://minio-service.feast.svc.cluster.local:9000&defaultRegion=default', state=<ArtifactState.UNKNOWN: 0>, model_format_name='onnx', model_format_version='1', storage_key='mnist-s3-creds', storage_path='v.simple_NN.20240426130048', service_account_name='', _model_version_id=NOTHING)\n"
     ]
    }
   ],
   "source": [
    "selected_model, selected_model_version, selected_model_artifact = model_registry.select_model_for_test()\n",
    "print('=' * 30)\n",
    "print(f\"Creating inference service for model: {selected_model.id}\\n{selected_model}\")\n",
    "print('=' * 30)\n",
    "print(f\"Creating inference service for model version: {selected_model_version.id}\\n{selected_model_version}\")\n",
    "print('=' * 30)\n",
    "print(f\"Creating inference service for model artifact: {selected_model_artifact.id}\\n{selected_model_artifact}\")"
   ]
  },
  {
   "cell_type": "markdown",
   "id": "aa47148b-851d-4ebb-8a5e-b1fdcac0c577",
   "metadata": {},
   "source": [
    "## Create the Inference Service"
   ]
  },
  {
   "cell_type": "markdown",
   "id": "c02525cf-ee97-42b2-be07-b95fc163db7b",
   "metadata": {},
   "source": [
    "Referenced functions: [./src/kserve/utils.py](./src/kserve/utils.py)\n",
    "\n",
    "Fetch the existing services using `oc` CLI"
   ]
  },
  {
   "cell_type": "code",
   "execution_count": 5,
   "id": "2ca93a50-ac93-4fc0-82f2-559d0f70ddd2",
   "metadata": {
    "tags": []
   },
   "outputs": [
    {
     "name": "stdout",
     "output_type": "stream",
     "text": [
      "NAME        URL                                   READY   PREV   LATEST   PREVROLLEDOUTREVISION   LATESTREADYREVISION   AGE\n",
      "simple-nn   grpc://modelmesh-serving.feast:8033   True                                                                  78m\n"
     ]
    }
   ],
   "source": [
    "!oc get inferenceservices -n $MODEL_NAMESPACE "
   ]
  },
  {
   "cell_type": "markdown",
   "id": "2a1c0b95-843f-4ad1-a543-cd9e6c28fb85",
   "metadata": {},
   "source": [
    "Create a `Data Connection` to the S3 bucket.\n",
    "\n",
    "The `Data Connection` is defined by a `Secret` with well-defined annotations, labels and keys to match the KServe definition."
   ]
  },
  {
   "cell_type": "markdown",
   "id": "f4e3ebc0-ce24-4537-8a4a-a62045197fab",
   "metadata": {
    "tags": []
   },
   "source": [
    "Create the `InferenceService` resource (see [Create the InferenceService](https://kserve.github.io/website/master/modelserving/v1beta1/onnx/#create-the-inferenceservice))"
   ]
  },
  {
   "cell_type": "code",
   "execution_count": 6,
   "id": "b0f3a54c-282f-44a2-a602-207864758e94",
   "metadata": {
    "tags": []
   },
   "outputs": [
    {
     "name": "stdout",
     "output_type": "stream",
     "text": [
      "Creating InferenceService simple-nn to serve s3://feast/v.simple_NN.20240426130048/simple_NN.onnx\n"
     ]
    }
   ],
   "source": [
    "inference_service = kserve.create_inference_service(selected_model, selected_model_version, selected_model_artifact)"
   ]
  },
  {
   "cell_type": "markdown",
   "id": "6da4b50f-5a04-490a-8192-d708923821d9",
   "metadata": {},
   "source": [
    "Delete the existing instance with same name"
   ]
  },
  {
   "cell_type": "code",
   "execution_count": 7,
   "id": "456bc95b-48b2-44e5-912e-94b707479a99",
   "metadata": {
    "tags": []
   },
   "outputs": [
    {
     "name": "stdout",
     "output_type": "stream",
     "text": [
      "Deleting existing service with name simple-nn\n"
     ]
    }
   ],
   "source": [
    "KServe = KServeClient()\n",
    "kserve.delete_existing_inference_service(KServe, inference_service)"
   ]
  },
  {
   "cell_type": "markdown",
   "id": "bcab1ee8-ea94-4a6f-bd14-69cbf1125b41",
   "metadata": {},
   "source": [
    "Deploying the InferenceService with the `KServeClient`"
   ]
  },
  {
   "cell_type": "code",
   "execution_count": 8,
   "id": "d47e71ea-8956-4321-bea1-e8532e77fd2e",
   "metadata": {
    "tags": []
   },
   "outputs": [],
   "source": [
    "created_inference_service = KServe.create(inference_service)"
   ]
  },
  {
   "cell_type": "code",
   "execution_count": 9,
   "id": "1a90692a-a2f6-4553-8cfa-04334c931c93",
   "metadata": {},
   "outputs": [
    {
     "name": "stdout",
     "output_type": "stream",
     "text": [
      "Waiting until model simple-nn is ready\n",
      "Predictor is ready for simple-nn\n"
     ]
    }
   ],
   "source": [
    "kserve.wait_until_predictor_is_ready(KServe, inference_service)"
   ]
  },
  {
   "cell_type": "markdown",
   "id": "c42ddafd-40b9-48eb-8461-d37ea9e12ebc",
   "metadata": {},
   "source": [
    "## Inspecting the Inference Service"
   ]
  },
  {
   "cell_type": "markdown",
   "id": "fd6a6b40-5387-4967-99af-91e0dd549f0f",
   "metadata": {},
   "source": [
    "Verify resources using `oc` CLI"
   ]
  },
  {
   "cell_type": "code",
   "execution_count": 10,
   "id": "d66cb8d3-92cf-463f-b655-69e2ad59453e",
   "metadata": {
    "tags": []
   },
   "outputs": [
    {
     "name": "stdout",
     "output_type": "stream",
     "text": [
      "NAME        URL                                   READY   PREV   LATEST   PREVROLLEDOUTREVISION   LATESTREADYREVISION   AGE\n",
      "simple-nn   grpc://modelmesh-serving.feast:8033   True                                                                  1s\n",
      "NAME        HOST/PORT                                                  PATH                   SERVICES            PORT   TERMINATION          WILDCARD\n",
      "simple-nn   simple-nn-feast.apps.feast-lab.4cuu.p1.openshiftapps.com   /v2/models/simple-nn   modelmesh-serving   8443   reencrypt/Redirect   None\n"
     ]
    }
   ],
   "source": [
    "!oc get inferenceservices -n $MODEL_NAMESPACE $MODEL_NAME\n",
    "!oc get routes -n $MODEL_NAMESPACE $MODEL_NAME"
   ]
  },
  {
   "cell_type": "markdown",
   "id": "c7afadc1-278a-468a-81c4-4bfb8f4a52ce",
   "metadata": {},
   "source": [
    "Fetch model URIs"
   ]
  },
  {
   "cell_type": "code",
   "execution_count": 11,
   "id": "3260838c-425c-42a1-83f9-2c3ccfb79e29",
   "metadata": {
    "tags": []
   },
   "outputs": [
    {
     "name": "stdout",
     "output_type": "stream",
     "text": [
      "REST URI for model simple-nn is http://modelmesh-serving.feast:8008\n",
      "Model service URI for model simple-nn is http://modelmesh-serving.feast:8008/v2/models/simple-nn\n",
      "Prediction URI for model simple-nn is http://modelmesh-serving.feast:8008/v2/models/simple-nn/infer\n"
     ]
    }
   ],
   "source": [
    "rest_uri, model_service_uri, prediction_uri = kserve.inference_service_uris(KServe, inference_service)\n",
    "print(f\"REST URI for model {inference_service.metadata.name} is {rest_uri}\")\n",
    "print(f\"Model service URI for model {inference_service.metadata.name} is {model_service_uri}\")\n",
    "print(f\"Prediction URI for model {inference_service.metadata.name} is {prediction_uri}\")"
   ]
  },
  {
   "cell_type": "markdown",
   "id": "33424ee1-8647-4418-b35a-f4d33b0e635f",
   "metadata": {},
   "source": [
    "Inspect service metedata"
   ]
  },
  {
   "cell_type": "code",
   "execution_count": 12,
   "id": "f800464b-2c24-4495-bc54-690d485c4dc2",
   "metadata": {
    "tags": []
   },
   "outputs": [
    {
     "name": "stdout",
     "output_type": "stream",
     "text": [
      "Metadata request to http://modelmesh-serving.feast:8008/v2/models/simple-nn succeded.\n"
     ]
    },
    {
     "data": {
      "text/plain": [
       "{'name': 'simple-nn__isvc-5453f9f0d1',\n",
       " 'versions': ['1'],\n",
       " 'platform': 'OpenVINO',\n",
       " 'inputs': [{'name': 'x', 'datatype': 'FP64', 'shape': ['1', '28', '28']}],\n",
       " 'outputs': [{'name': 'dense_2', 'datatype': 'FP32', 'shape': ['1', '10']}]}"
      ]
     },
     "execution_count": 12,
     "metadata": {},
     "output_type": "execute_result"
    }
   ],
   "source": [
    "kserve.inspect_service_metadata(model_service_uri)"
   ]
  },
  {
   "cell_type": "markdown",
   "id": "5374c4b4-dfb6-4eb7-b3a1-c77efe50b53a",
   "metadata": {},
   "source": [
    "## Validating online features"
   ]
  },
  {
   "cell_type": "markdown",
   "id": "d09f3582-e9a8-4478-a264-fcba7b9a3dd9",
   "metadata": {},
   "source": [
    "Fetching online features from `Feast`.\n",
    "\n",
    "See [./src/feast/utils.py](./src/feast/utils.py)"
   ]
  },
  {
   "cell_type": "code",
   "execution_count": 13,
   "id": "5d365ce4-32a4-432f-829e-e7f239d27511",
   "metadata": {
    "tags": []
   },
   "outputs": [
    {
     "name": "stderr",
     "output_type": "stream",
     "text": [
      "INFO:feast.infra.registry.registry:Registry cache expired, so refreshing\n"
     ]
    }
   ],
   "source": [
    "online_features = feast.fetch_online_features()"
   ]
  },
  {
   "cell_type": "code",
   "execution_count": 14,
   "id": "e1037bbc-f369-4509-8d02-78cff1b1a5c1",
   "metadata": {
    "tags": []
   },
   "outputs": [],
   "source": [
    "assert len(online_features) == 10, f\"Found {len(online_features)} instead of 10\""
   ]
  },
  {
   "cell_type": "code",
   "execution_count": 15,
   "id": "bc558cb0-2dbd-4b8d-b54d-5a22ef14190b",
   "metadata": {
    "tags": []
   },
   "outputs": [
    {
     "data": {
      "text/html": [
       "<div>\n",
       "<style scoped>\n",
       "    .dataframe tbody tr th:only-of-type {\n",
       "        vertical-align: middle;\n",
       "    }\n",
       "\n",
       "    .dataframe tbody tr th {\n",
       "        vertical-align: top;\n",
       "    }\n",
       "\n",
       "    .dataframe thead th {\n",
       "        text-align: right;\n",
       "    }\n",
       "</style>\n",
       "<table border=\"1\" class=\"dataframe\">\n",
       "  <thead>\n",
       "    <tr style=\"text-align: right;\">\n",
       "      <th></th>\n",
       "      <th>image_id</th>\n",
       "      <th>feature_14</th>\n",
       "      <th>feature_17</th>\n",
       "      <th>feature_27</th>\n",
       "      <th>feature_23</th>\n",
       "      <th>feature_2</th>\n",
       "      <th>feature_1</th>\n",
       "      <th>feature_4</th>\n",
       "      <th>feature_20</th>\n",
       "      <th>feature_13</th>\n",
       "      <th>...</th>\n",
       "      <th>feature_22</th>\n",
       "      <th>feature_18</th>\n",
       "      <th>feature_19</th>\n",
       "      <th>feature_15</th>\n",
       "      <th>feature_25</th>\n",
       "      <th>feature_26</th>\n",
       "      <th>feature_3</th>\n",
       "      <th>feature_9</th>\n",
       "      <th>feature_12</th>\n",
       "      <th>feature_8</th>\n",
       "    </tr>\n",
       "  </thead>\n",
       "  <tbody>\n",
       "    <tr>\n",
       "      <th>8</th>\n",
       "      <td>8</td>\n",
       "      <td>[0.0, 0.0, 0.0, 0.0, 0.0, 0.0, 0.0, 0.0, 1.0, ...</td>\n",
       "      <td>[0.0, 0.0, 0.0, 0.0, 0.0, 0.4285714328289032, ...</td>\n",
       "      <td>[0.0, 0.0, 0.0, 0.0, 0.0, 0.0, 0.0, 0.0, 0.0, ...</td>\n",
       "      <td>[0.0, 0.0, 0.0, 0.0, 0.0, 0.0, 0.0, 1.0, 1.0, ...</td>\n",
       "      <td>[0.0, 0.0, 0.0, 0.0, 0.0, 0.0, 0.0, 0.0, 0.0, ...</td>\n",
       "      <td>[0.0, 0.0, 0.0, 0.0, 0.0, 0.0, 0.0, 0.0, 0.0, ...</td>\n",
       "      <td>[0.0, 0.0, 0.0, 0.0, 0.0, 0.0, 0.0, 0.0, 0.0, ...</td>\n",
       "      <td>[0.0, 0.0, 0.0, 0.0, 0.0, 1.0, 1.0, 1.0, 0.0, ...</td>\n",
       "      <td>[0.0, 0.0, 0.0, 0.0, 0.0, 0.0, 0.0, 0.0, 0.0, ...</td>\n",
       "      <td>...</td>\n",
       "      <td>[0.0, 0.0, 0.0, 0.0, 0.0, 0.0, 1.0, 1.0, 1.0, ...</td>\n",
       "      <td>[0.0, 0.0, 0.0, 0.0, 0.0, 1.0, 1.0, 1.0, 0.0, ...</td>\n",
       "      <td>[0.0, 0.0, 0.0, 0.0, 0.0, 1.0, 1.0, 1.0, 0.0, ...</td>\n",
       "      <td>[0.0, 0.0, 0.0, 0.0, 0.0, 0.0, 0.0, 1.0, 1.0, ...</td>\n",
       "      <td>[0.0, 0.0, 0.0, 0.0, 0.0, 0.0, 0.0, 0.0, 0.0, ...</td>\n",
       "      <td>[0.0, 0.0, 0.0, 0.0, 0.0, 0.0, 0.0, 0.0, 0.0, ...</td>\n",
       "      <td>[0.0, 0.0, 0.0, 0.0, 0.0, 0.0, 0.0, 0.0, 0.0, ...</td>\n",
       "      <td>[0.0, 0.0, 0.0, 0.0, 0.0, 0.0, 0.0, 0.0, 0.0, ...</td>\n",
       "      <td>[0.0, 0.0, 0.0, 0.0, 0.0, 0.0, 0.0, 0.0, 0.0, ...</td>\n",
       "      <td>[0.0, 0.0, 0.0, 0.0, 0.0, 0.0, 0.0, 0.0, 0.0, ...</td>\n",
       "    </tr>\n",
       "    <tr>\n",
       "      <th>1</th>\n",
       "      <td>1</td>\n",
       "      <td>[0.0, 0.0, 0.0, 0.0, 0.0, 0.0, 0.0, 0.0, 0.0, ...</td>\n",
       "      <td>[0.0, 0.0, 0.0, 0.0, 0.0, 0.0, 0.0, 0.0, 0.0, ...</td>\n",
       "      <td>[0.0, 0.0, 0.0, 0.0, 0.0, 0.0, 0.0, 0.0, 0.0, ...</td>\n",
       "      <td>[0.0, 0.0, 0.0, 0.0, 0.0, 0.0, 0.0, 0.0, 0.0, ...</td>\n",
       "      <td>[0.0, 0.0, 0.0, 0.0, 0.0, 0.0, 0.0, 0.0, 0.0, ...</td>\n",
       "      <td>[0.0, 0.0, 0.0, 0.0, 0.0, 0.0, 0.0, 0.0, 0.0, ...</td>\n",
       "      <td>[0.0, 0.0, 0.0, 0.0, 0.0, 0.0, 0.0, 0.0, 0.0, ...</td>\n",
       "      <td>[0.0, 0.0, 0.0, 0.0, 0.0, 0.0, 0.0, 0.0, 0.0, ...</td>\n",
       "      <td>[0.0, 0.0, 0.0, 0.0, 0.0, 0.0, 0.0, 0.0, 0.0, ...</td>\n",
       "      <td>...</td>\n",
       "      <td>[0.0, 0.0, 0.0, 0.0, 0.0, 0.0, 0.0, 0.0, 0.0, ...</td>\n",
       "      <td>[0.0, 0.0, 0.0, 0.0, 0.0, 0.0, 0.0, 0.0, 0.0, ...</td>\n",
       "      <td>[0.0, 0.0, 0.0, 0.0, 0.0, 0.0, 0.0, 0.0, 0.0, ...</td>\n",
       "      <td>[0.0, 0.0, 0.0, 0.0, 0.0, 0.0, 0.0, 0.0, 0.0, ...</td>\n",
       "      <td>[0.0, 0.0, 0.0, 0.0, 0.0, 0.0, 0.0, 0.0, 0.0, ...</td>\n",
       "      <td>[0.0, 0.0, 0.0, 0.0, 0.0, 0.0, 0.0, 0.0, 0.0, ...</td>\n",
       "      <td>[0.0, 0.0, 0.0, 0.0, 0.0, 0.0, 0.0, 0.0, 0.0, ...</td>\n",
       "      <td>[0.0, 0.0, 0.0, 0.0, 0.0, 0.0, 0.0, 0.0, 0.0, ...</td>\n",
       "      <td>[0.0, 0.0, 0.0, 0.0, 0.0, 0.0, 0.0, 0.0, 0.0, ...</td>\n",
       "      <td>[0.0, 0.0, 0.0, 0.0, 0.0, 0.0, 0.0, 0.0, 0.0, ...</td>\n",
       "    </tr>\n",
       "    <tr>\n",
       "      <th>5</th>\n",
       "      <td>5</td>\n",
       "      <td>[0.0, 0.0, 0.0, 0.0, 0.0, 0.0, 0.0, 0.0, 0.0, ...</td>\n",
       "      <td>[0.0, 0.0, 0.0, 0.0, 0.0, 0.0, 0.0, 0.0, 1.0, ...</td>\n",
       "      <td>[0.0, 0.0, 0.0, 0.0, 0.0, 0.0, 0.0, 0.0, 0.0, ...</td>\n",
       "      <td>[0.0, 0.0, 0.0, 0.0, 1.0, 1.0, 1.0, 0.0, 0.0, ...</td>\n",
       "      <td>[0.0, 0.0, 0.0, 0.0, 0.0, 0.0, 0.0, 0.0, 0.0, ...</td>\n",
       "      <td>[0.0, 0.0, 0.0, 0.0, 0.0, 0.0, 0.0, 0.0, 0.0, ...</td>\n",
       "      <td>[0.0, 0.0, 0.0, 0.0, 0.0, 0.0, 0.0, 0.0, 0.0, ...</td>\n",
       "      <td>[0.0, 0.0, 0.0, 0.0, 0.0, 0.0, 0.0, 0.0, 0.0, ...</td>\n",
       "      <td>[0.0, 0.0, 0.0, 0.0, 0.0, 0.0, 0.0, 0.0, 0.0, ...</td>\n",
       "      <td>...</td>\n",
       "      <td>[0.0, 0.0, 0.0, 0.0, 0.0, 0.0, 0.0, 0.0, 0.0, ...</td>\n",
       "      <td>[0.0, 0.0, 0.0, 0.0, 0.0, 0.0, 0.0, 0.0, 1.0, ...</td>\n",
       "      <td>[0.0, 0.0, 0.0, 0.0, 0.0, 0.0, 0.0, 0.0, 0.0, ...</td>\n",
       "      <td>[0.0, 0.0, 0.0, 0.0, 0.0, 0.0, 0.0, 0.0, 0.0, ...</td>\n",
       "      <td>[0.0, 0.0, 0.0, 0.0, 0.0, 1.0, 1.0, 1.0, 1.0, ...</td>\n",
       "      <td>[0.0, 0.0, 0.0, 0.0, 0.0, 0.0, 0.0, 0.0, 0.0, ...</td>\n",
       "      <td>[0.0, 0.0, 0.0, 0.0, 0.0, 0.0, 0.0, 0.0, 0.0, ...</td>\n",
       "      <td>[0.0, 0.0, 0.0, 0.0, 0.0, 0.0, 0.0, 0.0, 0.0, ...</td>\n",
       "      <td>[0.0, 0.0, 0.0, 0.0, 0.0, 0.0, 0.0, 0.0, 0.0, ...</td>\n",
       "      <td>[0.0, 0.0, 0.0, 0.0, 0.0, 0.0, 0.0, 0.0, 0.0, ...</td>\n",
       "    </tr>\n",
       "    <tr>\n",
       "      <th>0</th>\n",
       "      <td>0</td>\n",
       "      <td>[0.0, 0.0, 0.0, 0.0, 0.0, 0.0, 1.0, 1.0, 0.714...</td>\n",
       "      <td>[0.0, 0.0, 0.0, 0.0, 0.0, 0.0, 1.0, 1.0, 0.0, ...</td>\n",
       "      <td>[0.0, 0.0, 0.0, 0.0, 0.0, 0.0, 0.0, 0.0, 0.0, ...</td>\n",
       "      <td>[0.0, 0.0, 0.0, 0.0, 0.0, 0.0, 0.0, 0.0, 0.0, ...</td>\n",
       "      <td>[0.0, 0.0, 0.0, 0.0, 0.0, 0.0, 0.0, 0.0, 0.0, ...</td>\n",
       "      <td>[0.0, 0.0, 0.0, 0.0, 0.0, 0.0, 0.0, 0.0, 0.0, ...</td>\n",
       "      <td>[0.0, 0.0, 0.0, 0.0, 0.0, 0.0, 0.0, 0.0, 0.0, ...</td>\n",
       "      <td>[0.0, 0.0, 0.0, 0.0, 0.0, 0.0, 1.0, 1.0, 1.0, ...</td>\n",
       "      <td>[0.0, 0.0, 0.0, 0.0, 0.0, 0.0, 1.0, 1.0, 1.0, ...</td>\n",
       "      <td>...</td>\n",
       "      <td>[0.0, 0.0, 0.0, 0.0, 0.0, 0.0, 0.0, 1.0, 1.0, ...</td>\n",
       "      <td>[0.0, 0.0, 0.0, 0.0, 0.0, 0.0, 1.0, 1.0, 0.0, ...</td>\n",
       "      <td>[0.0, 0.0, 0.0, 0.0, 0.0, 0.0, 1.0, 1.0, 1.0, ...</td>\n",
       "      <td>[0.0, 0.0, 0.0, 0.0, 0.0, 0.0, 1.0, 1.0, 0.0, ...</td>\n",
       "      <td>[0.0, 0.0, 0.0, 0.0, 0.0, 0.0, 0.0, 0.0, 0.0, ...</td>\n",
       "      <td>[0.0, 0.0, 0.0, 0.0, 0.0, 0.0, 0.0, 0.0, 0.0, ...</td>\n",
       "      <td>[0.0, 0.0, 0.0, 0.0, 0.0, 0.0, 0.0, 0.0, 0.0, ...</td>\n",
       "      <td>[0.0, 0.0, 0.0, 0.0, 0.0, 0.0, 0.0, 1.0, 1.0, ...</td>\n",
       "      <td>[0.0, 0.0, 0.0, 0.0, 0.0, 0.0, 0.7142857313156...</td>\n",
       "      <td>[0.0, 0.0, 0.0, 0.0, 0.0, 0.0, 0.0, 0.0, 1.0, ...</td>\n",
       "    </tr>\n",
       "    <tr>\n",
       "      <th>7</th>\n",
       "      <td>7</td>\n",
       "      <td>[0.0, 0.0, 0.0, 0.0, 0.0, 0.0, 0.0, 0.0, 0.0, ...</td>\n",
       "      <td>[0.0, 0.0, 0.0, 0.0, 0.0, 0.0, 0.0, 0.0, 0.0, ...</td>\n",
       "      <td>[0.0, 0.0, 0.0, 0.0, 0.0, 0.0, 0.0, 0.0, 0.0, ...</td>\n",
       "      <td>[0.0, 0.0, 0.0, 0.0, 0.0, 0.0, 0.0, 0.0, 1.0, ...</td>\n",
       "      <td>[0.0, 0.0, 0.0, 0.0, 0.0, 0.0, 0.0, 0.0, 0.0, ...</td>\n",
       "      <td>[0.0, 0.0, 0.0, 0.0, 0.0, 0.0, 0.0, 0.0, 0.0, ...</td>\n",
       "      <td>[0.0, 0.0, 0.0, 0.0, 0.0, 0.0, 0.0, 0.0, 0.0, ...</td>\n",
       "      <td>[0.0, 0.0, 0.0, 0.0, 0.0, 0.0, 0.0, 0.0, 0.0, ...</td>\n",
       "      <td>[0.0, 0.0, 0.0, 0.0, 0.0, 0.0, 0.0, 0.0, 0.0, ...</td>\n",
       "      <td>...</td>\n",
       "      <td>[0.0, 0.0, 0.0, 0.0, 0.0, 0.0, 0.0, 0.0, 1.0, ...</td>\n",
       "      <td>[0.0, 0.0, 0.0, 0.0, 0.0, 0.0, 0.0, 0.0, 0.0, ...</td>\n",
       "      <td>[0.0, 0.0, 0.0, 0.0, 0.0, 0.0, 0.0, 0.0, 0.0, ...</td>\n",
       "      <td>[0.0, 0.0, 0.0, 0.0, 0.0, 0.0, 0.0, 0.0, 0.0, ...</td>\n",
       "      <td>[0.0, 0.0, 0.0, 0.0, 0.0, 0.0, 0.0, 1.0, 1.0, ...</td>\n",
       "      <td>[0.0, 0.0, 0.0, 0.0, 0.0, 0.0, 0.0, 1.0, 1.0, ...</td>\n",
       "      <td>[0.0, 0.0, 0.0, 0.0, 0.0, 0.0, 0.0, 0.0, 0.0, ...</td>\n",
       "      <td>[0.0, 0.0, 0.0, 0.0, 0.0, 0.0, 0.0, 0.0, 1.0, ...</td>\n",
       "      <td>[0.0, 0.0, 0.0, 0.0, 0.0, 0.0, 0.0, 0.0, 0.0, ...</td>\n",
       "      <td>[0.0, 0.0, 0.0, 0.0, 0.0, 0.0, 0.0, 1.0, 1.0, ...</td>\n",
       "    </tr>\n",
       "  </tbody>\n",
       "</table>\n",
       "<p>5 rows × 29 columns</p>\n",
       "</div>"
      ],
      "text/plain": [
       "   image_id                                         feature_14  \\\n",
       "8         8  [0.0, 0.0, 0.0, 0.0, 0.0, 0.0, 0.0, 0.0, 1.0, ...   \n",
       "1         1  [0.0, 0.0, 0.0, 0.0, 0.0, 0.0, 0.0, 0.0, 0.0, ...   \n",
       "5         5  [0.0, 0.0, 0.0, 0.0, 0.0, 0.0, 0.0, 0.0, 0.0, ...   \n",
       "0         0  [0.0, 0.0, 0.0, 0.0, 0.0, 0.0, 1.0, 1.0, 0.714...   \n",
       "7         7  [0.0, 0.0, 0.0, 0.0, 0.0, 0.0, 0.0, 0.0, 0.0, ...   \n",
       "\n",
       "                                          feature_17  \\\n",
       "8  [0.0, 0.0, 0.0, 0.0, 0.0, 0.4285714328289032, ...   \n",
       "1  [0.0, 0.0, 0.0, 0.0, 0.0, 0.0, 0.0, 0.0, 0.0, ...   \n",
       "5  [0.0, 0.0, 0.0, 0.0, 0.0, 0.0, 0.0, 0.0, 1.0, ...   \n",
       "0  [0.0, 0.0, 0.0, 0.0, 0.0, 0.0, 1.0, 1.0, 0.0, ...   \n",
       "7  [0.0, 0.0, 0.0, 0.0, 0.0, 0.0, 0.0, 0.0, 0.0, ...   \n",
       "\n",
       "                                          feature_27  \\\n",
       "8  [0.0, 0.0, 0.0, 0.0, 0.0, 0.0, 0.0, 0.0, 0.0, ...   \n",
       "1  [0.0, 0.0, 0.0, 0.0, 0.0, 0.0, 0.0, 0.0, 0.0, ...   \n",
       "5  [0.0, 0.0, 0.0, 0.0, 0.0, 0.0, 0.0, 0.0, 0.0, ...   \n",
       "0  [0.0, 0.0, 0.0, 0.0, 0.0, 0.0, 0.0, 0.0, 0.0, ...   \n",
       "7  [0.0, 0.0, 0.0, 0.0, 0.0, 0.0, 0.0, 0.0, 0.0, ...   \n",
       "\n",
       "                                          feature_23  \\\n",
       "8  [0.0, 0.0, 0.0, 0.0, 0.0, 0.0, 0.0, 1.0, 1.0, ...   \n",
       "1  [0.0, 0.0, 0.0, 0.0, 0.0, 0.0, 0.0, 0.0, 0.0, ...   \n",
       "5  [0.0, 0.0, 0.0, 0.0, 1.0, 1.0, 1.0, 0.0, 0.0, ...   \n",
       "0  [0.0, 0.0, 0.0, 0.0, 0.0, 0.0, 0.0, 0.0, 0.0, ...   \n",
       "7  [0.0, 0.0, 0.0, 0.0, 0.0, 0.0, 0.0, 0.0, 1.0, ...   \n",
       "\n",
       "                                           feature_2  \\\n",
       "8  [0.0, 0.0, 0.0, 0.0, 0.0, 0.0, 0.0, 0.0, 0.0, ...   \n",
       "1  [0.0, 0.0, 0.0, 0.0, 0.0, 0.0, 0.0, 0.0, 0.0, ...   \n",
       "5  [0.0, 0.0, 0.0, 0.0, 0.0, 0.0, 0.0, 0.0, 0.0, ...   \n",
       "0  [0.0, 0.0, 0.0, 0.0, 0.0, 0.0, 0.0, 0.0, 0.0, ...   \n",
       "7  [0.0, 0.0, 0.0, 0.0, 0.0, 0.0, 0.0, 0.0, 0.0, ...   \n",
       "\n",
       "                                           feature_1  \\\n",
       "8  [0.0, 0.0, 0.0, 0.0, 0.0, 0.0, 0.0, 0.0, 0.0, ...   \n",
       "1  [0.0, 0.0, 0.0, 0.0, 0.0, 0.0, 0.0, 0.0, 0.0, ...   \n",
       "5  [0.0, 0.0, 0.0, 0.0, 0.0, 0.0, 0.0, 0.0, 0.0, ...   \n",
       "0  [0.0, 0.0, 0.0, 0.0, 0.0, 0.0, 0.0, 0.0, 0.0, ...   \n",
       "7  [0.0, 0.0, 0.0, 0.0, 0.0, 0.0, 0.0, 0.0, 0.0, ...   \n",
       "\n",
       "                                           feature_4  \\\n",
       "8  [0.0, 0.0, 0.0, 0.0, 0.0, 0.0, 0.0, 0.0, 0.0, ...   \n",
       "1  [0.0, 0.0, 0.0, 0.0, 0.0, 0.0, 0.0, 0.0, 0.0, ...   \n",
       "5  [0.0, 0.0, 0.0, 0.0, 0.0, 0.0, 0.0, 0.0, 0.0, ...   \n",
       "0  [0.0, 0.0, 0.0, 0.0, 0.0, 0.0, 0.0, 0.0, 0.0, ...   \n",
       "7  [0.0, 0.0, 0.0, 0.0, 0.0, 0.0, 0.0, 0.0, 0.0, ...   \n",
       "\n",
       "                                          feature_20  \\\n",
       "8  [0.0, 0.0, 0.0, 0.0, 0.0, 1.0, 1.0, 1.0, 0.0, ...   \n",
       "1  [0.0, 0.0, 0.0, 0.0, 0.0, 0.0, 0.0, 0.0, 0.0, ...   \n",
       "5  [0.0, 0.0, 0.0, 0.0, 0.0, 0.0, 0.0, 0.0, 0.0, ...   \n",
       "0  [0.0, 0.0, 0.0, 0.0, 0.0, 0.0, 1.0, 1.0, 1.0, ...   \n",
       "7  [0.0, 0.0, 0.0, 0.0, 0.0, 0.0, 0.0, 0.0, 0.0, ...   \n",
       "\n",
       "                                          feature_13  ...  \\\n",
       "8  [0.0, 0.0, 0.0, 0.0, 0.0, 0.0, 0.0, 0.0, 0.0, ...  ...   \n",
       "1  [0.0, 0.0, 0.0, 0.0, 0.0, 0.0, 0.0, 0.0, 0.0, ...  ...   \n",
       "5  [0.0, 0.0, 0.0, 0.0, 0.0, 0.0, 0.0, 0.0, 0.0, ...  ...   \n",
       "0  [0.0, 0.0, 0.0, 0.0, 0.0, 0.0, 1.0, 1.0, 1.0, ...  ...   \n",
       "7  [0.0, 0.0, 0.0, 0.0, 0.0, 0.0, 0.0, 0.0, 0.0, ...  ...   \n",
       "\n",
       "                                          feature_22  \\\n",
       "8  [0.0, 0.0, 0.0, 0.0, 0.0, 0.0, 1.0, 1.0, 1.0, ...   \n",
       "1  [0.0, 0.0, 0.0, 0.0, 0.0, 0.0, 0.0, 0.0, 0.0, ...   \n",
       "5  [0.0, 0.0, 0.0, 0.0, 0.0, 0.0, 0.0, 0.0, 0.0, ...   \n",
       "0  [0.0, 0.0, 0.0, 0.0, 0.0, 0.0, 0.0, 1.0, 1.0, ...   \n",
       "7  [0.0, 0.0, 0.0, 0.0, 0.0, 0.0, 0.0, 0.0, 1.0, ...   \n",
       "\n",
       "                                          feature_18  \\\n",
       "8  [0.0, 0.0, 0.0, 0.0, 0.0, 1.0, 1.0, 1.0, 0.0, ...   \n",
       "1  [0.0, 0.0, 0.0, 0.0, 0.0, 0.0, 0.0, 0.0, 0.0, ...   \n",
       "5  [0.0, 0.0, 0.0, 0.0, 0.0, 0.0, 0.0, 0.0, 1.0, ...   \n",
       "0  [0.0, 0.0, 0.0, 0.0, 0.0, 0.0, 1.0, 1.0, 0.0, ...   \n",
       "7  [0.0, 0.0, 0.0, 0.0, 0.0, 0.0, 0.0, 0.0, 0.0, ...   \n",
       "\n",
       "                                          feature_19  \\\n",
       "8  [0.0, 0.0, 0.0, 0.0, 0.0, 1.0, 1.0, 1.0, 0.0, ...   \n",
       "1  [0.0, 0.0, 0.0, 0.0, 0.0, 0.0, 0.0, 0.0, 0.0, ...   \n",
       "5  [0.0, 0.0, 0.0, 0.0, 0.0, 0.0, 0.0, 0.0, 0.0, ...   \n",
       "0  [0.0, 0.0, 0.0, 0.0, 0.0, 0.0, 1.0, 1.0, 1.0, ...   \n",
       "7  [0.0, 0.0, 0.0, 0.0, 0.0, 0.0, 0.0, 0.0, 0.0, ...   \n",
       "\n",
       "                                          feature_15  \\\n",
       "8  [0.0, 0.0, 0.0, 0.0, 0.0, 0.0, 0.0, 1.0, 1.0, ...   \n",
       "1  [0.0, 0.0, 0.0, 0.0, 0.0, 0.0, 0.0, 0.0, 0.0, ...   \n",
       "5  [0.0, 0.0, 0.0, 0.0, 0.0, 0.0, 0.0, 0.0, 0.0, ...   \n",
       "0  [0.0, 0.0, 0.0, 0.0, 0.0, 0.0, 1.0, 1.0, 0.0, ...   \n",
       "7  [0.0, 0.0, 0.0, 0.0, 0.0, 0.0, 0.0, 0.0, 0.0, ...   \n",
       "\n",
       "                                          feature_25  \\\n",
       "8  [0.0, 0.0, 0.0, 0.0, 0.0, 0.0, 0.0, 0.0, 0.0, ...   \n",
       "1  [0.0, 0.0, 0.0, 0.0, 0.0, 0.0, 0.0, 0.0, 0.0, ...   \n",
       "5  [0.0, 0.0, 0.0, 0.0, 0.0, 1.0, 1.0, 1.0, 1.0, ...   \n",
       "0  [0.0, 0.0, 0.0, 0.0, 0.0, 0.0, 0.0, 0.0, 0.0, ...   \n",
       "7  [0.0, 0.0, 0.0, 0.0, 0.0, 0.0, 0.0, 1.0, 1.0, ...   \n",
       "\n",
       "                                          feature_26  \\\n",
       "8  [0.0, 0.0, 0.0, 0.0, 0.0, 0.0, 0.0, 0.0, 0.0, ...   \n",
       "1  [0.0, 0.0, 0.0, 0.0, 0.0, 0.0, 0.0, 0.0, 0.0, ...   \n",
       "5  [0.0, 0.0, 0.0, 0.0, 0.0, 0.0, 0.0, 0.0, 0.0, ...   \n",
       "0  [0.0, 0.0, 0.0, 0.0, 0.0, 0.0, 0.0, 0.0, 0.0, ...   \n",
       "7  [0.0, 0.0, 0.0, 0.0, 0.0, 0.0, 0.0, 1.0, 1.0, ...   \n",
       "\n",
       "                                           feature_3  \\\n",
       "8  [0.0, 0.0, 0.0, 0.0, 0.0, 0.0, 0.0, 0.0, 0.0, ...   \n",
       "1  [0.0, 0.0, 0.0, 0.0, 0.0, 0.0, 0.0, 0.0, 0.0, ...   \n",
       "5  [0.0, 0.0, 0.0, 0.0, 0.0, 0.0, 0.0, 0.0, 0.0, ...   \n",
       "0  [0.0, 0.0, 0.0, 0.0, 0.0, 0.0, 0.0, 0.0, 0.0, ...   \n",
       "7  [0.0, 0.0, 0.0, 0.0, 0.0, 0.0, 0.0, 0.0, 0.0, ...   \n",
       "\n",
       "                                           feature_9  \\\n",
       "8  [0.0, 0.0, 0.0, 0.0, 0.0, 0.0, 0.0, 0.0, 0.0, ...   \n",
       "1  [0.0, 0.0, 0.0, 0.0, 0.0, 0.0, 0.0, 0.0, 0.0, ...   \n",
       "5  [0.0, 0.0, 0.0, 0.0, 0.0, 0.0, 0.0, 0.0, 0.0, ...   \n",
       "0  [0.0, 0.0, 0.0, 0.0, 0.0, 0.0, 0.0, 1.0, 1.0, ...   \n",
       "7  [0.0, 0.0, 0.0, 0.0, 0.0, 0.0, 0.0, 0.0, 1.0, ...   \n",
       "\n",
       "                                          feature_12  \\\n",
       "8  [0.0, 0.0, 0.0, 0.0, 0.0, 0.0, 0.0, 0.0, 0.0, ...   \n",
       "1  [0.0, 0.0, 0.0, 0.0, 0.0, 0.0, 0.0, 0.0, 0.0, ...   \n",
       "5  [0.0, 0.0, 0.0, 0.0, 0.0, 0.0, 0.0, 0.0, 0.0, ...   \n",
       "0  [0.0, 0.0, 0.0, 0.0, 0.0, 0.0, 0.7142857313156...   \n",
       "7  [0.0, 0.0, 0.0, 0.0, 0.0, 0.0, 0.0, 0.0, 0.0, ...   \n",
       "\n",
       "                                           feature_8  \n",
       "8  [0.0, 0.0, 0.0, 0.0, 0.0, 0.0, 0.0, 0.0, 0.0, ...  \n",
       "1  [0.0, 0.0, 0.0, 0.0, 0.0, 0.0, 0.0, 0.0, 0.0, ...  \n",
       "5  [0.0, 0.0, 0.0, 0.0, 0.0, 0.0, 0.0, 0.0, 0.0, ...  \n",
       "0  [0.0, 0.0, 0.0, 0.0, 0.0, 0.0, 0.0, 0.0, 1.0, ...  \n",
       "7  [0.0, 0.0, 0.0, 0.0, 0.0, 0.0, 0.0, 1.0, 1.0, ...  \n",
       "\n",
       "[5 rows x 29 columns]"
      ]
     },
     "execution_count": 15,
     "metadata": {},
     "output_type": "execute_result"
    }
   ],
   "source": [
    "online_features.head()"
   ]
  },
  {
   "cell_type": "markdown",
   "id": "cfd050f8-95df-46c8-b152-57ae05ddb770",
   "metadata": {},
   "source": [
    "For each online feature, invokes the prediction service and plot the image for visual verification"
   ]
  },
  {
   "cell_type": "code",
   "execution_count": 33,
   "id": "e5250ef3-9182-4966-86e0-9cadf5854577",
   "metadata": {
    "tags": []
   },
   "outputs": [
    {
     "name": "stdout",
     "output_type": "stream",
     "text": [
      "The predicted number for image 8 is 8\n"
     ]
    },
    {
     "data": {
      "image/png": "[encoded data removed]",
      "text/plain": [
       "<Figure size 100x100 with 1 Axes>"
      ]
     },
     "metadata": {},
     "output_type": "display_data"
    },
    {
     "name": "stdout",
     "output_type": "stream",
     "text": [
      "The predicted number for image 1 is 1\n"
     ]
    },
    {
     "data": {
      "image/png": "[encoded data removed]",
      "text/plain": [
       "<Figure size 100x100 with 1 Axes>"
      ]
     },
     "metadata": {},
     "output_type": "display_data"
    },
    {
     "name": "stdout",
     "output_type": "stream",
     "text": [
      "The predicted number for image 5 is 5\n"
     ]
    },
    {
     "data": {
      "image/png": "[encoded data removed]",
      "text/plain": [
       "<Figure size 100x100 with 1 Axes>"
      ]
     },
     "metadata": {},
     "output_type": "display_data"
    },
    {
     "name": "stdout",
     "output_type": "stream",
     "text": [
      "The predicted number for image 0 is 0\n"
     ]
    },
    {
     "data": {
      "image/png": "[encoded data removed]",
      "text/plain": [
       "<Figure size 100x100 with 1 Axes>"
      ]
     },
     "metadata": {},
     "output_type": "display_data"
    },
    {
     "name": "stdout",
     "output_type": "stream",
     "text": [
      "The predicted number for image 7 is 7\n"
     ]
    },
    {
     "data": {
      "image/png": "[encoded data removed]",
      "text/plain": [
       "<Figure size 100x100 with 1 Axes>"
      ]
     },
     "metadata": {},
     "output_type": "display_data"
    },
    {
     "name": "stdout",
     "output_type": "stream",
     "text": [
      "The predicted number for image 2 is 2\n"
     ]
    },
    {
     "data": {
      "image/png": "[encoded data removed]",
      "text/plain": [
       "<Figure size 100x100 with 1 Axes>"
      ]
     },
     "metadata": {},
     "output_type": "display_data"
    },
    {
     "name": "stdout",
     "output_type": "stream",
     "text": [
      "The predicted number for image 9 is 9\n"
     ]
    },
    {
     "data": {
      "image/png": "[encoded data removed]",
      "text/plain": [
       "<Figure size 100x100 with 1 Axes>"
      ]
     },
     "metadata": {},
     "output_type": "display_data"
    },
    {
     "name": "stdout",
     "output_type": "stream",
     "text": [
      "The predicted number for image 4 is 6\n"
     ]
    },
    {
     "data": {
      "image/png": "[encoded data removed]",
      "text/plain": [
       "<Figure size 100x100 with 1 Axes>"
      ]
     },
     "metadata": {},
     "output_type": "display_data"
    },
    {
     "name": "stdout",
     "output_type": "stream",
     "text": [
      "*** The prediction failed: expected 4, predicted 6 ***\n",
      "The predicted number for image 3 is 3\n"
     ]
    },
    {
     "data": {
      "image/png": "[encoded data removed]",
      "text/plain": [
       "<Figure size 100x100 with 1 Axes>"
      ]
     },
     "metadata": {},
     "output_type": "display_data"
    },
    {
     "name": "stdout",
     "output_type": "stream",
     "text": [
      "The predicted number for image 6 is 6\n"
     ]
    },
    {
     "data": {
      "image/png": "[encoded data removed]",
      "text/plain": [
       "<Figure size 100x100 with 1 Axes>"
      ]
     },
     "metadata": {},
     "output_type": "display_data"
    }
   ],
   "source": [
    "image_ids, images = feast.to_model_data(online_features)\n",
    "for i in range(len(image_ids)):\n",
    "    image_id = image_ids[i]\n",
    "    image = []\n",
    "    image.append(images[i])\n",
    "    try:\n",
    "        kserve.validate_prediction(inference_service, prediction_uri, image_id, image)\n",
    "    except Exception as e:\n",
    "        print(f\"*** {e} ***\")"
   ]
  },
  {
   "cell_type": "code",
   "execution_count": null,
   "id": "876e07de-6328-4838-806e-5e7b5023e054",
   "metadata": {},
   "outputs": [],
   "source": []
  }
 ],
 "metadata": {
  "kernelspec": {
   "display_name": "Python 3.9",
   "language": "python",
   "name": "python3"
  },
  "language_info": {
   "codemirror_mode": {
    "name": "ipython",
    "version": 3
   },
   "file_extension": ".py",
   "mimetype": "text/x-python",
   "name": "python",
   "nbconvert_exporter": "python",
   "pygments_lexer": "ipython3",
   "version": "3.9.18"
  }
 },
 "nbformat": 4,
 "nbformat_minor": 5
}
