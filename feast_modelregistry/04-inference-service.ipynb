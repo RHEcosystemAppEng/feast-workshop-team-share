{
 "cells": [
  {
   "cell_type": "markdown",
   "id": "8a8d4067-52fb-4988-b8e8-144086c5da4c",
   "metadata": {},
   "source": [
    "# Inference Service"
   ]
  },
  {
   "cell_type": "markdown",
   "id": "56c3d31a-055e-47f2-99d2-b612dd2497bf",
   "metadata": {},
   "source": [
    "* Create an inference service to serve one of the registered models\n",
    "* Fetch online features and calculate predictions from the inference service"
   ]
  },
  {
   "cell_type": "markdown",
   "id": "870b6e24-8a17-4592-9573-3a3119d64258",
   "metadata": {
    "tags": []
   },
   "source": [
    "**Prerequisites**\n",
    "* Create a `Model Server`called `mnist` under the current workspace `feast`"
   ]
  },
  {
   "cell_type": "code",
   "execution_count": 1,
   "id": "ee21f58d-167e-4bfa-a2e2-53ee9cc5b70c",
   "metadata": {
    "tags": []
   },
   "outputs": [
    {
     "name": "stdout",
     "output_type": "stream",
     "text": [
      "Requirement already satisfied: pip in /opt/app-root/lib/python3.9/site-packages (24.0)\n",
      "Collecting ml-metadata==1.14.0+remote.1\n",
      "  Downloading https://github.com/opendatahub-io/ml-metadata/releases/download/v1.14.0%2Bremote.1/ml_metadata-1.14.0+remote.1-py3-none-any.whl (78 kB)\n",
      "\u001b[2K     \u001b[90m━━━━━━━━━━━━━━━━━━━━━━━━━━━━━━━━━━━━━━━━\u001b[0m \u001b[32m78.4/78.4 kB\u001b[0m \u001b[31m6.6 MB/s\u001b[0m eta \u001b[36m0:00:00\u001b[0m\n",
      "\u001b[?25hRequirement already satisfied: model-registry==0.1.2 in /opt/app-root/lib/python3.9/site-packages (0.1.2)\n",
      "Found existing installation: ray 2.9.3\n",
      "Uninstalling ray-2.9.3:\n",
      "  Successfully uninstalled ray-2.9.3\n",
      "Collecting ray<=2.9.3,>=2.9.2 (from ray[serve]<=2.9.3,>=2.9.2)\n",
      "  Downloading ray-2.9.3-cp39-cp39-manylinux2014_x86_64.whl.metadata (13 kB)\n",
      "Requirement already satisfied: click>=7.0 in /opt/app-root/lib/python3.9/site-packages (from ray<=2.9.3,>=2.9.2->ray[serve]<=2.9.3,>=2.9.2) (8.1.7)\n",
      "Requirement already satisfied: filelock in /opt/app-root/lib/python3.9/site-packages (from ray<=2.9.3,>=2.9.2->ray[serve]<=2.9.3,>=2.9.2) (3.13.1)\n",
      "Requirement already satisfied: jsonschema in /opt/app-root/lib/python3.9/site-packages (from ray<=2.9.3,>=2.9.2->ray[serve]<=2.9.3,>=2.9.2) (4.21.1)\n",
      "Requirement already satisfied: msgpack<2.0.0,>=1.0.0 in /opt/app-root/lib/python3.9/site-packages (from ray<=2.9.3,>=2.9.2->ray[serve]<=2.9.3,>=2.9.2) (1.0.7)\n",
      "Requirement already satisfied: packaging in /opt/app-root/lib/python3.9/site-packages (from ray<=2.9.3,>=2.9.2->ray[serve]<=2.9.3,>=2.9.2) (23.2)\n",
      "Requirement already satisfied: protobuf!=3.19.5,>=3.15.3 in /opt/app-root/lib/python3.9/site-packages (from ray<=2.9.3,>=2.9.2->ray[serve]<=2.9.3,>=2.9.2) (4.23.3)\n",
      "Requirement already satisfied: pyyaml in /opt/app-root/lib/python3.9/site-packages (from ray<=2.9.3,>=2.9.2->ray[serve]<=2.9.3,>=2.9.2) (6.0.1)\n",
      "Requirement already satisfied: aiosignal in /opt/app-root/lib/python3.9/site-packages (from ray<=2.9.3,>=2.9.2->ray[serve]<=2.9.3,>=2.9.2) (1.3.1)\n",
      "Requirement already satisfied: frozenlist in /opt/app-root/lib/python3.9/site-packages (from ray<=2.9.3,>=2.9.2->ray[serve]<=2.9.3,>=2.9.2) (1.4.1)\n",
      "Requirement already satisfied: requests in /opt/app-root/lib/python3.9/site-packages (from ray<=2.9.3,>=2.9.2->ray[serve]<=2.9.3,>=2.9.2) (2.31.0)\n",
      "Requirement already satisfied: pydantic!=2.0.*,!=2.1.*,!=2.2.*,!=2.3.*,!=2.4.*,<3 in /opt/app-root/lib/python3.9/site-packages (from ray[serve]<=2.9.3,>=2.9.2) (2.7.0)\n",
      "Requirement already satisfied: smart-open in /opt/app-root/lib/python3.9/site-packages (from ray[serve]<=2.9.3,>=2.9.2) (7.0.1)\n",
      "Requirement already satisfied: uvicorn[standard] in /opt/app-root/lib/python3.9/site-packages (from ray[serve]<=2.9.3,>=2.9.2) (0.19.0)\n",
      "Collecting fastapi<=0.108.0 (from ray[serve]<=2.9.3,>=2.9.2)\n",
      "  Downloading fastapi-0.108.0-py3-none-any.whl.metadata (24 kB)\n",
      "Requirement already satisfied: aiohttp>=3.7 in /opt/app-root/lib/python3.9/site-packages (from ray[serve]<=2.9.3,>=2.9.2) (3.9.3)\n",
      "Requirement already satisfied: aiohttp-cors in /opt/app-root/lib/python3.9/site-packages (from ray[serve]<=2.9.3,>=2.9.2) (0.7.0)\n",
      "Requirement already satisfied: py-spy>=0.2.0 in /opt/app-root/lib/python3.9/site-packages (from ray[serve]<=2.9.3,>=2.9.2) (0.3.14)\n",
      "Requirement already satisfied: gpustat>=1.0.0 in /opt/app-root/lib/python3.9/site-packages (from ray[serve]<=2.9.3,>=2.9.2) (1.1.1)\n",
      "Requirement already satisfied: opencensus in /opt/app-root/lib/python3.9/site-packages (from ray[serve]<=2.9.3,>=2.9.2) (0.11.4)\n",
      "Requirement already satisfied: prometheus-client>=0.7.1 in /opt/app-root/lib/python3.9/site-packages (from ray[serve]<=2.9.3,>=2.9.2) (0.13.1)\n",
      "Requirement already satisfied: watchfiles in /opt/app-root/lib/python3.9/site-packages (from ray[serve]<=2.9.3,>=2.9.2) (0.21.0)\n",
      "Requirement already satisfied: virtualenv!=20.21.1,>=20.0.24 in /opt/app-root/lib/python3.9/site-packages (from ray[serve]<=2.9.3,>=2.9.2) (20.21.0)\n",
      "Requirement already satisfied: starlette in /opt/app-root/lib/python3.9/site-packages (from ray[serve]<=2.9.3,>=2.9.2) (0.37.2)\n",
      "Requirement already satisfied: aiorwlock in /opt/app-root/lib/python3.9/site-packages (from ray[serve]<=2.9.3,>=2.9.2) (1.4.0)\n",
      "Requirement already satisfied: colorful in /opt/app-root/lib/python3.9/site-packages (from ray[serve]<=2.9.3,>=2.9.2) (0.5.6)\n",
      "Requirement already satisfied: grpcio>=1.32.0 in /opt/app-root/lib/python3.9/site-packages (from ray[serve]<=2.9.3,>=2.9.2) (1.62.2)\n",
      "Requirement already satisfied: attrs>=17.3.0 in /opt/app-root/lib/python3.9/site-packages (from aiohttp>=3.7->ray[serve]<=2.9.3,>=2.9.2) (23.2.0)\n",
      "Requirement already satisfied: multidict<7.0,>=4.5 in /opt/app-root/lib/python3.9/site-packages (from aiohttp>=3.7->ray[serve]<=2.9.3,>=2.9.2) (6.0.5)\n",
      "Requirement already satisfied: yarl<2.0,>=1.0 in /opt/app-root/lib/python3.9/site-packages (from aiohttp>=3.7->ray[serve]<=2.9.3,>=2.9.2) (1.9.4)\n",
      "Requirement already satisfied: async-timeout<5.0,>=4.0 in /opt/app-root/lib/python3.9/site-packages (from aiohttp>=3.7->ray[serve]<=2.9.3,>=2.9.2) (4.0.3)\n",
      "Collecting starlette (from ray[serve]<=2.9.3,>=2.9.2)\n",
      "  Downloading starlette-0.32.0.post1-py3-none-any.whl.metadata (5.8 kB)\n",
      "Requirement already satisfied: typing-extensions>=4.8.0 in /opt/app-root/lib/python3.9/site-packages (from fastapi<=0.108.0->ray[serve]<=2.9.3,>=2.9.2) (4.11.0)\n",
      "Requirement already satisfied: nvidia-ml-py>=11.450.129 in /opt/app-root/lib/python3.9/site-packages (from gpustat>=1.0.0->ray[serve]<=2.9.3,>=2.9.2) (12.535.133)\n",
      "Requirement already satisfied: psutil>=5.6.0 in /opt/app-root/lib/python3.9/site-packages (from gpustat>=1.0.0->ray[serve]<=2.9.3,>=2.9.2) (5.9.8)\n",
      "Requirement already satisfied: blessed>=1.17.1 in /opt/app-root/lib/python3.9/site-packages (from gpustat>=1.0.0->ray[serve]<=2.9.3,>=2.9.2) (1.20.0)\n",
      "Requirement already satisfied: annotated-types>=0.4.0 in /opt/app-root/lib/python3.9/site-packages (from pydantic!=2.0.*,!=2.1.*,!=2.2.*,!=2.3.*,!=2.4.*,<3->ray[serve]<=2.9.3,>=2.9.2) (0.6.0)\n",
      "Requirement already satisfied: pydantic-core==2.18.1 in /opt/app-root/lib/python3.9/site-packages (from pydantic!=2.0.*,!=2.1.*,!=2.2.*,!=2.3.*,!=2.4.*,<3->ray[serve]<=2.9.3,>=2.9.2) (2.18.1)\n",
      "Requirement already satisfied: anyio<5,>=3.4.0 in /opt/app-root/lib/python3.9/site-packages (from starlette->ray[serve]<=2.9.3,>=2.9.2) (4.3.0)\n",
      "Requirement already satisfied: distlib<1,>=0.3.6 in /opt/app-root/lib/python3.9/site-packages (from virtualenv!=20.21.1,>=20.0.24->ray[serve]<=2.9.3,>=2.9.2) (0.3.8)\n",
      "Requirement already satisfied: platformdirs<4,>=2.4 in /opt/app-root/lib/python3.9/site-packages (from virtualenv!=20.21.1,>=20.0.24->ray[serve]<=2.9.3,>=2.9.2) (3.11.0)\n",
      "Requirement already satisfied: jsonschema-specifications>=2023.03.6 in /opt/app-root/lib/python3.9/site-packages (from jsonschema->ray<=2.9.3,>=2.9.2->ray[serve]<=2.9.3,>=2.9.2) (2023.12.1)\n",
      "Requirement already satisfied: referencing>=0.28.4 in /opt/app-root/lib/python3.9/site-packages (from jsonschema->ray<=2.9.3,>=2.9.2->ray[serve]<=2.9.3,>=2.9.2) (0.33.0)\n",
      "Requirement already satisfied: rpds-py>=0.7.1 in /opt/app-root/lib/python3.9/site-packages (from jsonschema->ray<=2.9.3,>=2.9.2->ray[serve]<=2.9.3,>=2.9.2) (0.18.0)\n",
      "Requirement already satisfied: opencensus-context>=0.1.3 in /opt/app-root/lib/python3.9/site-packages (from opencensus->ray[serve]<=2.9.3,>=2.9.2) (0.1.3)\n",
      "Requirement already satisfied: six~=1.16 in /opt/app-root/lib/python3.9/site-packages (from opencensus->ray[serve]<=2.9.3,>=2.9.2) (1.16.0)\n",
      "Requirement already satisfied: google-api-core<3.0.0,>=1.0.0 in /opt/app-root/lib/python3.9/site-packages (from opencensus->ray[serve]<=2.9.3,>=2.9.2) (2.17.1)\n",
      "Requirement already satisfied: charset-normalizer<4,>=2 in /opt/app-root/lib/python3.9/site-packages (from requests->ray<=2.9.3,>=2.9.2->ray[serve]<=2.9.3,>=2.9.2) (3.3.2)\n",
      "Requirement already satisfied: idna<4,>=2.5 in /opt/app-root/lib/python3.9/site-packages (from requests->ray<=2.9.3,>=2.9.2->ray[serve]<=2.9.3,>=2.9.2) (3.6)\n",
      "Requirement already satisfied: urllib3<3,>=1.21.1 in /opt/app-root/lib/python3.9/site-packages (from requests->ray<=2.9.3,>=2.9.2->ray[serve]<=2.9.3,>=2.9.2) (1.26.18)\n",
      "Requirement already satisfied: certifi>=2017.4.17 in /opt/app-root/lib/python3.9/site-packages (from requests->ray<=2.9.3,>=2.9.2->ray[serve]<=2.9.3,>=2.9.2) (2024.2.2)\n",
      "Requirement already satisfied: wrapt in /opt/app-root/lib/python3.9/site-packages (from smart-open->ray[serve]<=2.9.3,>=2.9.2) (1.16.0)\n",
      "Requirement already satisfied: h11>=0.8 in /opt/app-root/lib/python3.9/site-packages (from uvicorn[standard]; extra == \"serve\"->ray[serve]<=2.9.3,>=2.9.2) (0.14.0)\n",
      "Requirement already satisfied: httptools>=0.5.0 in /opt/app-root/lib/python3.9/site-packages (from uvicorn[standard]; extra == \"serve\"->ray[serve]<=2.9.3,>=2.9.2) (0.6.1)\n",
      "Requirement already satisfied: python-dotenv>=0.13 in /opt/app-root/lib/python3.9/site-packages (from uvicorn[standard]; extra == \"serve\"->ray[serve]<=2.9.3,>=2.9.2) (1.0.1)\n",
      "Requirement already satisfied: uvloop!=0.15.0,!=0.15.1,>=0.14.0 in /opt/app-root/lib/python3.9/site-packages (from uvicorn[standard]; extra == \"serve\"->ray[serve]<=2.9.3,>=2.9.2) (0.19.0)\n",
      "Requirement already satisfied: websockets>=10.0 in /opt/app-root/lib/python3.9/site-packages (from uvicorn[standard]; extra == \"serve\"->ray[serve]<=2.9.3,>=2.9.2) (12.0)\n",
      "Requirement already satisfied: sniffio>=1.1 in /opt/app-root/lib/python3.9/site-packages (from anyio<5,>=3.4.0->starlette->ray[serve]<=2.9.3,>=2.9.2) (1.3.1)\n",
      "Requirement already satisfied: exceptiongroup>=1.0.2 in /opt/app-root/lib/python3.9/site-packages (from anyio<5,>=3.4.0->starlette->ray[serve]<=2.9.3,>=2.9.2) (1.2.0)\n",
      "Requirement already satisfied: wcwidth>=0.1.4 in /opt/app-root/lib/python3.9/site-packages (from blessed>=1.17.1->gpustat>=1.0.0->ray[serve]<=2.9.3,>=2.9.2) (0.2.13)\n",
      "Requirement already satisfied: googleapis-common-protos<2.0.dev0,>=1.56.2 in /opt/app-root/lib/python3.9/site-packages (from google-api-core<3.0.0,>=1.0.0->opencensus->ray[serve]<=2.9.3,>=2.9.2) (1.62.0)\n",
      "Requirement already satisfied: google-auth<3.0.dev0,>=2.14.1 in /opt/app-root/lib/python3.9/site-packages (from google-api-core<3.0.0,>=1.0.0->opencensus->ray[serve]<=2.9.3,>=2.9.2) (2.28.1)\n",
      "Requirement already satisfied: cachetools<6.0,>=2.0.0 in /opt/app-root/lib/python3.9/site-packages (from google-auth<3.0.dev0,>=2.14.1->google-api-core<3.0.0,>=1.0.0->opencensus->ray[serve]<=2.9.3,>=2.9.2) (5.3.3)\n",
      "Requirement already satisfied: pyasn1-modules>=0.2.1 in /opt/app-root/lib/python3.9/site-packages (from google-auth<3.0.dev0,>=2.14.1->google-api-core<3.0.0,>=1.0.0->opencensus->ray[serve]<=2.9.3,>=2.9.2) (0.3.0)\n",
      "Requirement already satisfied: rsa<5,>=3.1.4 in /opt/app-root/lib/python3.9/site-packages (from google-auth<3.0.dev0,>=2.14.1->google-api-core<3.0.0,>=1.0.0->opencensus->ray[serve]<=2.9.3,>=2.9.2) (4.9)\n",
      "Requirement already satisfied: pyasn1<0.6.0,>=0.4.6 in /opt/app-root/lib/python3.9/site-packages (from pyasn1-modules>=0.2.1->google-auth<3.0.dev0,>=2.14.1->google-api-core<3.0.0,>=1.0.0->opencensus->ray[serve]<=2.9.3,>=2.9.2) (0.5.1)\n",
      "Downloading ray-2.9.3-cp39-cp39-manylinux2014_x86_64.whl (64.9 MB)\n",
      "\u001b[2K   \u001b[90m━━━━━━━━━━━━━━━━━━━━━━━━━━━━━━━━━━━━━━━━\u001b[0m \u001b[32m64.9/64.9 MB\u001b[0m \u001b[31m269.0 MB/s\u001b[0m eta \u001b[36m0:00:00\u001b[0ma \u001b[36m0:00:01\u001b[0m\n",
      "\u001b[?25hDownloading fastapi-0.108.0-py3-none-any.whl (92 kB)\n",
      "\u001b[2K   \u001b[90m━━━━━━━━━━━━━━━━━━━━━━━━━━━━━━━━━━━━━━━━\u001b[0m \u001b[32m92.0/92.0 kB\u001b[0m \u001b[31m266.1 MB/s\u001b[0m eta \u001b[36m0:00:00\u001b[0m\n",
      "\u001b[?25hDownloading starlette-0.32.0.post1-py3-none-any.whl (70 kB)\n",
      "\u001b[2K   \u001b[90m━━━━━━━━━━━━━━━━━━━━━━━━━━━━━━━━━━━━━━━━\u001b[0m \u001b[32m70.0/70.0 kB\u001b[0m \u001b[31m266.9 MB/s\u001b[0m eta \u001b[36m0:00:00\u001b[0m\n",
      "\u001b[?25hInstalling collected packages: starlette, fastapi, ray\n",
      "  Attempting uninstall: starlette\n",
      "    Found existing installation: starlette 0.37.2\n",
      "    Uninstalling starlette-0.37.2:\n",
      "      Successfully uninstalled starlette-0.37.2\n",
      "  Attempting uninstall: fastapi\n",
      "    Found existing installation: fastapi 0.110.2\n",
      "    Uninstalling fastapi-0.110.2:\n",
      "      Successfully uninstalled fastapi-0.110.2\n",
      "\u001b[31mERROR: pip's dependency resolver does not currently take into account all the packages that are installed. This behaviour is the source of the following dependency conflicts.\n",
      "codeflare-sdk 0.14.1 requires pydantic<2, but you have pydantic 2.7.0 which is incompatible.\n",
      "codeflare-sdk 0.14.1 requires ray[data,default]==2.7.0, but you have ray 2.9.3 which is incompatible.\n",
      "kserve 0.12.0 requires fastapi<0.96.0,>=0.95.0, but you have fastapi 0.108.0 which is incompatible.\n",
      "kserve 0.12.0 requires protobuf<4.0.0,>=3.19.0, but you have protobuf 4.23.3 which is incompatible.\u001b[0m\u001b[31m\n",
      "\u001b[0mSuccessfully installed fastapi-0.108.0 ray-2.9.3 starlette-0.32.0.post1\n",
      "\u001b[31mERROR: pip's dependency resolver does not currently take into account all the packages that are installed. This behaviour is the source of the following dependency conflicts.\n",
      "codeflare-sdk 0.14.1 requires ray[data,default]==2.7.0, but you have ray 2.9.3 which is incompatible.\n",
      "feast 0.36.0 requires pydantic>=2.0.0, but you have pydantic 1.10.15 which is incompatible.\n",
      "grpcio-health-checking 1.62.2 requires protobuf>=4.21.6, but you have protobuf 3.20.3 which is incompatible.\n",
      "grpcio-reflection 1.62.2 requires protobuf>=4.21.6, but you have protobuf 3.20.3 which is incompatible.\n",
      "grpcio-tools 1.62.2 requires protobuf<5.0dev,>=4.21.6, but you have protobuf 3.20.3 which is incompatible.\n",
      "ml-metadata 1.14.0+remote.1 requires attrs<22,>=20.3, but you have attrs 23.2.0 which is incompatible.\n",
      "model-registry 0.1.2 requires attrs<22.0,>=21.0, but you have attrs 23.2.0 which is incompatible.\n",
      "tensorflow 2.13.1 requires typing-extensions<4.6.0,>=3.6.6, but you have typing-extensions 4.11.0 which is incompatible.\u001b[0m\u001b[31m\n",
      "\u001b[0m\u001b[31mERROR: pip's dependency resolver does not currently take into account all the packages that are installed. This behaviour is the source of the following dependency conflicts.\n",
      "codeflare-sdk 0.14.1 requires pydantic<2, but you have pydantic 2.7.0 which is incompatible.\n",
      "codeflare-sdk 0.14.1 requires ray[data,default]==2.7.0, but you have ray 2.9.3 which is incompatible.\n",
      "kfp 1.8.22 requires protobuf<4,>=3.13.0, but you have protobuf 4.23.3 which is incompatible.\n",
      "kfp 1.8.22 requires pydantic<2,>=1.8.2, but you have pydantic 2.7.0 which is incompatible.\n",
      "kfp-pipeline-spec 0.1.16 requires protobuf<4,>=3.13.0, but you have protobuf 4.23.3 which is incompatible.\n",
      "kserve 0.12.0 requires fastapi<0.96.0,>=0.95.0, but you have fastapi 0.110.2 which is incompatible.\n",
      "kserve 0.12.0 requires protobuf<4.0.0,>=3.19.0, but you have protobuf 4.23.3 which is incompatible.\n",
      "ml-metadata 1.14.0+remote.1 requires attrs<22,>=20.3, but you have attrs 23.2.0 which is incompatible.\n",
      "ml-metadata 1.14.0+remote.1 requires protobuf<4,>=3.13, but you have protobuf 4.23.3 which is incompatible.\n",
      "model-registry 0.1.2 requires attrs<22.0,>=21.0, but you have attrs 23.2.0 which is incompatible.\n",
      "mysql-connector-python 8.0.33 requires protobuf<=3.20.3,>=3.11.0, but you have protobuf 4.23.3 which is incompatible.\n",
      "tensorflow 2.13.1 requires typing-extensions<4.6.0,>=3.6.6, but you have typing-extensions 4.11.0 which is incompatible.\n",
      "tf2onnx 1.15.1 requires protobuf~=3.20.2, but you have protobuf 4.23.3 which is incompatible.\u001b[0m\u001b[31m\n",
      "\u001b[0mray                             2.9.3\n"
     ]
    }
   ],
   "source": [
    "!pip install --upgrade pip\n",
    "!pip install --no-deps --ignore-requires-python \"https://github.com/opendatahub-io/ml-metadata/releases/download/v1.14.0%2Bremote.1/ml_metadata-1.14.0+remote.1-py3-none-any.whl\" # need a Python 3.11 compatible version\n",
    "!pip install --no-deps --ignore-requires-python \"model-registry==0.1.2\" # ignore dependencies because of the above override\n",
    "!pip uninstall ray --yes\n",
    "!pip install \"ray[serve]<=2.9.3,>=2.9.2\"\n",
    "!pip install kserve[storage]>=0.12.0\n",
    "!pip install -q -r requirements.txt\n",
    "!pip list | grep ray"
   ]
  },
  {
   "cell_type": "markdown",
   "id": "26729afa-49c4-4b39-933a-510972818943",
   "metadata": {},
   "source": [
    "## Imports and constants"
   ]
  },
  {
   "cell_type": "code",
   "execution_count": 2,
   "id": "7ef9c776-b5ee-4893-a109-6abd8b6e1113",
   "metadata": {
    "tags": []
   },
   "outputs": [
    {
     "name": "stderr",
     "output_type": "stream",
     "text": [
      "/opt/app-root/lib64/python3.9/site-packages/pydantic/_internal/_config.py:334: UserWarning: Valid config keys have changed in V2:\n",
      "* 'schema_extra' has been renamed to 'json_schema_extra'\n",
      "  warnings.warn(message, UserWarning)\n",
      "/opt/app-root/lib64/python3.9/site-packages/pydantic/_internal/_config.py:334: UserWarning: Valid config keys have changed in V2:\n",
      "* 'schema_extra' has been renamed to 'json_schema_extra'\n",
      "* 'json_loads' has been removed\n",
      "  warnings.warn(message, UserWarning)\n",
      "/opt/app-root/lib64/python3.9/site-packages/pydantic/_internal/_fields.py:160: UserWarning: Field \"model_name\" has conflict with protected namespace \"model_\".\n",
      "\n",
      "You may be able to resolve this warning by setting `model_config['protected_namespaces'] = ()`.\n",
      "  warnings.warn(\n",
      "/opt/app-root/lib64/python3.9/site-packages/pydantic/_internal/_fields.py:160: UserWarning: Field \"model_version\" has conflict with protected namespace \"model_\".\n",
      "\n",
      "You may be able to resolve this warning by setting `model_config['protected_namespaces'] = ()`.\n",
      "  warnings.warn(\n"
     ]
    }
   ],
   "source": [
    "import os\n",
    "\n",
    "import boto3\n",
    "import json\n",
    "import matplotlib.pyplot as plt\n",
    "import psycopg2\n",
    "import requests\n",
    "import time\n",
    "from kubernetes import client \n",
    "from kserve import KServeClient\n",
    "from kserve import constants\n",
    "from kserve import utils\n",
    "from kserve import V1beta1InferenceService\n",
    "from kserve import V1beta1InferenceServiceSpec\n",
    "from kserve import V1beta1PredictorSpec\n",
    "from kserve import V1beta1SKLearnSpec\n",
    "from kserve import V1beta1ModelSpec\n",
    "from kserve import V1beta1ModelFormat\n",
    "from kserve import V1beta1StorageSpec\n",
    "from feast import FeatureStore\n",
    "from model_registry import ModelRegistry\n",
    "from model_registry.types import ContextState\n",
    "from urllib.parse import urlparse"
   ]
  },
  {
   "cell_type": "code",
   "execution_count": 3,
   "id": "b88f0cf4-505d-4684-b921-13c9437ead73",
   "metadata": {
    "tags": []
   },
   "outputs": [],
   "source": [
    "os.environ['accesskey'] = 'minio'\n",
    "os.environ['secretkey'] = 'minio123'\n",
    "os.environ['AWS_S3_ENDPOINT'] = 'http://minio-service.feast.svc.cluster.local:9000'\n",
    "os.environ['AWS_S3_BUCKET'] = 'feast'\n",
    "os.environ['AWS_DEFAULT_REGION'] = 'default'"
   ]
  },
  {
   "cell_type": "markdown",
   "id": "557b35a2-80e4-47ba-bc2f-f8ed58306f49",
   "metadata": {},
   "source": [
    "Change this variable to use a different `Data Science Project`"
   ]
  },
  {
   "cell_type": "code",
   "execution_count": 4,
   "id": "11d65096-6c2e-4495-a7ae-56ef14461aee",
   "metadata": {
    "tags": []
   },
   "outputs": [
    {
     "name": "stdout",
     "output_type": "stream",
     "text": [
      "env: MODEL_NAMESPACE=feast\n"
     ]
    }
   ],
   "source": [
    "%env MODEL_NAMESPACE=feast"
   ]
  },
  {
   "cell_type": "code",
   "execution_count": 5,
   "id": "9d805484-c34d-4ec5-9837-a58805b1447b",
   "metadata": {
    "tags": []
   },
   "outputs": [
    {
     "name": "stdout",
     "output_type": "stream",
     "text": [
      "env: REPO_PATH=mnist_demo/feature_repo/\n"
     ]
    }
   ],
   "source": [
    "%env REPO_PATH=mnist_demo/feature_repo/\n",
    "# Disable Feast usage reporting\n",
    "os.environ['FEAST_USAGE']='False'"
   ]
  },
  {
   "cell_type": "markdown",
   "id": "85886c96-faf8-46bb-a07f-0f51b7952bb2",
   "metadata": {},
   "source": [
    "## Shared functions"
   ]
  },
  {
   "cell_type": "code",
   "execution_count": 6,
   "id": "7624695f-5233-4aa5-adbe-c7f1daccea5b",
   "metadata": {
    "tags": []
   },
   "outputs": [],
   "source": [
    "def get_model_registry():\n",
    "    return ModelRegistry(server_address=\"modelregistry-sample.feast.svc.cluster.local\", port=9090, author=\"feast-dev@redhat.com\")"
   ]
  },
  {
   "cell_type": "code",
   "execution_count": 7,
   "id": "974b71b6-4dda-45c6-a0ab-19861756ce26",
   "metadata": {
    "tags": []
   },
   "outputs": [],
   "source": [
    "def select_model_for_test():\n",
    "    registry = get_model_registry()\n",
    "\n",
    "    models = registry._api.get_registered_models()\n",
    "    for model in models:\n",
    "        print(f\"Model {model.name}\")\n",
    "        model_versions = registry._api.get_model_versions(model.id)\n",
    "        for model_version in model_versions:\n",
    "            print(f\"Version {model_version.name}\")\n",
    "            model_artifacts = registry._api.get_model_artifacts(model_version.id)\n",
    "            for model_artifact in model_artifacts:\n",
    "                print(f\"Artifact {model_artifact.name}: {model_artifact.uri}\")\n",
    "\n",
    "    # Update the logic to select the model and the version\n",
    "    selected_model = models[0]\n",
    "    live_model_versions = [m for m in registry._api.get_model_versions(selected_model.id) if m.state!=ContextState.ARCHIVED]\n",
    "    selected_model_version = live_model_versions[0]\n",
    "    selected_model_artifact = registry._api.get_model_artifacts(selected_model_version.id)[0]\n",
    "    return (selected_model, selected_model_version, selected_model_artifact)"
   ]
  },
  {
   "cell_type": "code",
   "execution_count": 8,
   "id": "5e2d8eb3-3275-4353-9b5b-076c8bd812cf",
   "metadata": {
    "tags": []
   },
   "outputs": [],
   "source": [
    "def create_data_connection_secret(selected_model):\n",
    "    connection_secret = f'''\n",
    "kind: Secret\n",
    "apiVersion: v1\n",
    "metadata:\n",
    "  name: {selected_model.name}-s3-creds\n",
    "  namespace: {os.environ['MODEL_NAMESPACE']}\n",
    "  labels:\n",
    "    opendatahub.io/dashboard: 'true'\n",
    "    opendatahub.io/managed: 'true'\n",
    "  annotations:\n",
    "    opendatahub.io/connection-type: s3\n",
    "    openshift.io/display-name: {selected_model.name}-s3\n",
    "stringData:\n",
    "  AWS_ACCESS_KEY_ID: {os.environ['accesskey']}\n",
    "  AWS_DEFAULT_REGION: {os.environ['AWS_DEFAULT_REGION']}\n",
    "  AWS_S3_BUCKET: {os.environ['AWS_S3_BUCKET']}\n",
    "  AWS_S3_ENDPOINT: {os.environ['AWS_S3_ENDPOINT']}\n",
    "  AWS_SECRET_ACCESS_KEY: {os.environ['secretkey']}\n",
    "type: Opaque\n",
    "'''\n",
    "\n",
    "    with open(\"connection_secret.yaml\", 'w') as file:\n",
    "        file.write(connection_secret)"
   ]
  },
  {
   "cell_type": "code",
   "execution_count": 9,
   "id": "4deb6542-b2c8-4118-b8e2-4fd4359ca05b",
   "metadata": {
    "tags": []
   },
   "outputs": [],
   "source": [
    "def create_inference_service(selected_model, selected_model_version, selected_model_artifact):\n",
    "    # Normalize name v.simple_NN.20240419150600 to comply with DNS naming specs\n",
    "    model_name = selected_model_version.name.lower().split(\".\")[1].replace(\"_\",\"-\")\n",
    "    os.environ['MODEL_NAME'] = model_name\n",
    "    kserve_version='v1beta1'\n",
    "    api_version = constants.KSERVE_GROUP + '/' + kserve_version\n",
    "    namespace = os.environ['MODEL_NAMESPACE']\n",
    "    s3_secret_name = f\"{selected_model.name}-s3-creds\"\n",
    "    service_account_name = f\"{selected_model.name}-s3-creds\"\n",
    "    # s3://feast/v.simple_NN.20240419150600/simple_NN.onnx?endpoint=http://minio-service.feast.svc.cluster.local:9000&defaultRegion=default\n",
    "    storage_path = urlparse(selected_model_artifact.uri).path.lstrip('/')\n",
    "    model_format_name = selected_model_artifact.model_format_name\n",
    "    model_format_version = selected_model_artifact.model_format_version\n",
    "    storage_uri = selected_model_artifact.uri.split(\"?\")[0]\n",
    "\n",
    "    inference_service = V1beta1InferenceService(api_version=api_version,\n",
    "                                   kind=constants.KSERVE_KIND,\n",
    "                                   metadata=client.V1ObjectMeta(\n",
    "                                       name=model_name, namespace=namespace,\n",
    "                                       annotations={'serving.kserve.io/deploymentMode': 'ModelMesh'},\n",
    "                                       labels={'modelregistry/registered-model-id': selected_model.id, \n",
    "                                               'modelregistry/model-version-id': selected_model_version.id,\n",
    "                                                'opendatahub.io/dashboard': 'true',}\n",
    "                                   ),\n",
    "                                   spec=V1beta1InferenceServiceSpec(\n",
    "                                       predictor=V1beta1PredictorSpec(\n",
    "                                           model=V1beta1ModelSpec(\n",
    "                                               name=model_name,\n",
    "                                               storage=V1beta1StorageSpec(\n",
    "                                                   key=s3_secret_name,\n",
    "                                                   path=storage_path,\n",
    "                                               ),\n",
    "                                               model_format=V1beta1ModelFormat(name=model_format_name, version=model_format_version),\n",
    "                                               runtime=\"mnist\",\n",
    "                                               # protocol_version='v2' # see https://kserve.github.io/website/master/modelserving/v1beta1/onnx/#create-the-inferenceservice\n",
    "                                     )\n",
    "                                   )))\n",
    "    print(f\"Creating InferenceService {inference_service.metadata.name} to serve {storage_uri}\")\n",
    "    return inference_service"
   ]
  },
  {
   "cell_type": "code",
   "execution_count": 10,
   "id": "2e31f0be-84ab-4844-86b8-f8923b04fa3b",
   "metadata": {
    "tags": []
   },
   "outputs": [],
   "source": [
    "def delete_existing_inference_service(KServe, inference_service):\n",
    "    try:\n",
    "        existing_inference_service = KServe.get(inference_service.metadata.name, inference_service.metadata.namespace)\n",
    "        print(f\"Deleting existing service with name {inference_service.metadata.name}\")\n",
    "        KServe.delete(inference_service.metadata.name, inference_service.metadata.namespace)\n",
    "    except RuntimeError:\n",
    "        print(f\"No existing service to delete\")"
   ]
  },
  {
   "cell_type": "code",
   "execution_count": 11,
   "id": "ab8643e1-be12-4e93-bdc0-88eb42af123a",
   "metadata": {
    "tags": []
   },
   "outputs": [],
   "source": [
    "def wait_until_predictor_is_ready(KServe, inference_service):\n",
    "    model_name = inference_service.metadata.name\n",
    "    model_namespace = inference_service.metadata.namespace\n",
    "    print(f\"Waiting until model {model_name} is ready\")\n",
    "\n",
    "    total_iterations = 5 * 60 // 3\n",
    "    iteration = 0\n",
    "    is_predictor_ready = False\n",
    "    while iteration < total_iterations:\n",
    "        inference_service = KServe.get(model_name, model_namespace)\n",
    "        if 'status' in inference_service and 'conditions' in inference_service['status']:\n",
    "            is_predictor_ready = \\\n",
    "                bool([condition['status'] for condition in inference_service['status']['conditions'] if condition['type'] == 'PredictorReady'][0]) | False\n",
    "            if is_predictor_ready == True:\n",
    "                 break\n",
    "\n",
    "        iteration += 1\n",
    "        time.sleep(3)\n",
    "\n",
    "    if is_predictor_ready:\n",
    "        print(f\"Predictor is ready for {model_name}\")\n",
    "    else:\n",
    "        print(f\"Predictor is not ready for {model_name}\")"
   ]
  },
  {
   "cell_type": "code",
   "execution_count": 27,
   "id": "d31aa7ed-117c-4acc-aeb1-37c8bf07ee1a",
   "metadata": {
    "tags": []
   },
   "outputs": [],
   "source": [
    "def inference_service_uris(KServe, inference_service):\n",
    "    model_name = inference_service.metadata.name\n",
    "    model_namespace = inference_service.metadata.namespace\n",
    "    inference_service = KServe.get(model_name, model_namespace)\n",
    "    rest_uri = inference_service['status']['components']['predictor']['restUrl']\n",
    "    model_service_uri = f\"{rest_uri}/v2/models/{model_name}\"\n",
    "    prediction_uri = f\"{model_service_uri}/infer\"\n",
    "    return (rest_uri, model_service_uri, prediction_uri)"
   ]
  },
  {
   "cell_type": "code",
   "execution_count": 13,
   "id": "d06b7699-7438-413a-aee9-7f264937ac26",
   "metadata": {
    "tags": []
   },
   "outputs": [],
   "source": [
    "def inspect_service_metadata(model_service_uri):\n",
    "    headers = {\n",
    "        'Content-Type': 'application/json'\n",
    "    }\n",
    "\n",
    "    response = requests.get(model_service_uri, headers=headers)\n",
    "    if response.status_code == 200:\n",
    "        output_data = response.json()\n",
    "        print(f\"Metadata request to {model_service_uri} succeded.\")\n",
    "        return output_data\n",
    "    else:\n",
    "        print(f\"Metadata request to {model_service_uri} failed with status code: {response.status_code}\")"
   ]
  },
  {
   "cell_type": "code",
   "execution_count": 14,
   "id": "65ecb9aa-6b86-4983-8ce6-329d9be1d58e",
   "metadata": {
    "tags": []
   },
   "outputs": [],
   "source": [
    "def fetch_online_features():\n",
    "    store = FeatureStore(repo_path=os.environ['REPO_PATH'])    \n",
    "    online_features = store.get_online_features(\n",
    "        features = [f\"mnist:feature_{feature_id+1}\" for feature_id in range(28)],\n",
    "        entity_rows=[{\"image_id\": f\"{image_id}\"} for image_id in range(10)]\n",
    "    ).to_df()\n",
    "\n",
    "    # Reshuffle dataframe with random order\n",
    "    online_features = online_features.sample(frac=1, random_state=42)  \n",
    "    return online_features"
   ]
  },
  {
   "cell_type": "code",
   "execution_count": 15,
   "id": "dd5294de-5af4-4825-ac14-ea9d1d11fee2",
   "metadata": {
    "tags": []
   },
   "outputs": [],
   "source": [
    "# Translates string array of floats to list of floats\n",
    "def to_array(float_array_string):\n",
    "    return [float(x) for x in float_array_string.strip('()').split(',')]\n",
    "\n",
    "def to_model_data(online_features):\n",
    "    image_ids = []\n",
    "    images = []\n",
    "    for index in range(len(online_features)):\n",
    "        image_ids.append(online_features['image_id'].iloc[index])\n",
    "\n",
    "        image = []\n",
    "        image.append([to_array(online_features[f'feature_{id+1}'].iloc[index]) for id in range(28)])\n",
    "        images.append(image)\n",
    "    return (image_ids, images)\n",
    "\n",
    "def generate_prediction_input(model_name, image):\n",
    "    prediction_input = {\n",
    "        \"model_name\": model_name,\n",
    "        \"inputs\": [{\n",
    "            \"name\": \"x\",\n",
    "            \"shape\": [1, 28, 28],\n",
    "            \"datatype\": \"FP64\",\n",
    "            \"data\" : []\n",
    "        }]\n",
    "    }\n",
    "\n",
    "    prediction_input['inputs'][0]['data'] = image\n",
    "    return prediction_input\n",
    "\n",
    "def validate_prediction(inference_service, image_id, image):\n",
    "    headers = {\n",
    "        'Content-Type': 'application/json'\n",
    "    }\n",
    "    \n",
    "    prediction_input = generate_prediction_input(inference_service.metadata.name, image)\n",
    "    response = requests.post(prediction_uri, data=json.dumps(prediction_input), headers=headers)\n",
    "    if response.status_code == 200:\n",
    "        output_data = response.json()\n",
    "        predictions = output_data['outputs'][0]['data']\n",
    "        max_prediction = max(predictions)\n",
    "        max_index = predictions.index(max_prediction)\n",
    "        print(f\"The predicted number for image {image_id} is {max_index}\")\n",
    "        plt.figure(figsize = (1, 1))\n",
    "        plt.imshow(image[0], cmap=plt.get_cmap('gray'))\n",
    "        plt.show()\n",
    "        assert max_index == image_id, f\"The prediction failed: expected {image_id}, predicted {max_index}\"\n",
    "    else:\n",
    "        # with open(\"data.json\", 'w') as file:\n",
    "        #     file.write(json.dumps(prediction_input))\n",
    "        print(f\"POST request to {prediction_uri} for {prediction_input} failed with status code: {response.status_code}\")"
   ]
  },
  {
   "cell_type": "markdown",
   "id": "f4b0c3d4-affd-4c78-b4bf-6b47517623fc",
   "metadata": {
    "tags": []
   },
   "source": [
    "## Selecting one of the registered models"
   ]
  },
  {
   "cell_type": "markdown",
   "id": "9d8df707-c271-4c89-b80c-c272dcb71233",
   "metadata": {},
   "source": [
    "Update the below logic to select a different model and version"
   ]
  },
  {
   "cell_type": "code",
   "execution_count": 16,
   "id": "647f1fcc-bbb9-46d2-b0d8-b29abf96fdf3",
   "metadata": {
    "tags": []
   },
   "outputs": [
    {
     "name": "stderr",
     "output_type": "stream",
     "text": [
      "INFO:absl:MetadataStore with gRPC connection initialized\n"
     ]
    },
    {
     "name": "stdout",
     "output_type": "stream",
     "text": [
      "Model mnist\n",
      "Version v.simple_NN.20240419150600\n",
      "Artifact mnist: s3://feast/v.simple_NN.20240419150600/simple_NN.onnx?endpoint=http://minio-service.feast.svc.cluster.local:9000&defaultRegion=default\n",
      "Version v.convolutedNN.202404191508261\n",
      "Artifact mnist: s3://feast/v.convolutedNN.20240419150826/convolutedNN.onnx?endpoint=http://minio-service.feast.svc.cluster.local:9000&defaultRegion=default\n",
      "==============================\n",
      "Creating inference service for model: 1\n",
      "RegisteredModel(id='1', description='', external_id='', create_time_since_epoch=1713539173108, last_update_time_since_epoch=1713539173108, state=<ContextState.LIVE: 'LIVE'>, name='mnist')\n",
      "==============================\n",
      "Creating inference service for model version: 2\n",
      "ModelVersion(name='v.simple_NN.20240419150600', id='2', description='demo20231121 e2e MNIST', external_id='', create_time_since_epoch=1713539173809, last_update_time_since_epoch=1713539173809, state=<ContextState.LIVE: 'LIVE'>, model_name='mnist', version='v.simple_NN.20240419150600', author='feast-dev@redhat.com', metadata={'AWS_DEFAULT_REGION': 'default', 'AWS_S3_BUCKET': 'feast', 'AWS_S3_ENDPOINT': 'http://minio-service.feast.svc.cluster.local:9000'}, artifacts=NOTHING, _registered_model_id=NOTHING)\n",
      "==============================\n",
      "Creating inference service for model artifact: 1\n",
      "ModelArtifact(id='1', description='', external_id='', create_time_since_epoch=1713539174615, last_update_time_since_epoch=1713539174615, name='mnist', uri='s3://feast/v.simple_NN.20240419150600/simple_NN.onnx?endpoint=http://minio-service.feast.svc.cluster.local:9000&defaultRegion=default', state=<ArtifactState.UNKNOWN: 0>, model_format_name='onnx', model_format_version='1', storage_key='aws-connection-feast', storage_path='v.simple_NN.20240419150600', service_account_name='', _model_version_id=NOTHING)\n"
     ]
    }
   ],
   "source": [
    "selected_model, selected_model_version, selected_model_artifact = select_model_for_test()\n",
    "print('=' * 30)\n",
    "print(f\"Creating inference service for model: {selected_model.id}\\n{selected_model}\")\n",
    "print('=' * 30)\n",
    "print(f\"Creating inference service for model version: {selected_model_version.id}\\n{selected_model_version}\")\n",
    "print('=' * 30)\n",
    "print(f\"Creating inference service for model artifact: {selected_model_artifact.id}\\n{selected_model_artifact}\")"
   ]
  },
  {
   "cell_type": "markdown",
   "id": "aa47148b-851d-4ebb-8a5e-b1fdcac0c577",
   "metadata": {},
   "source": [
    "## Create the Inference Service"
   ]
  },
  {
   "cell_type": "markdown",
   "id": "c02525cf-ee97-42b2-be07-b95fc163db7b",
   "metadata": {},
   "source": [
    "Fetch the existing services using `oc` CLI"
   ]
  },
  {
   "cell_type": "code",
   "execution_count": 17,
   "id": "2ca93a50-ac93-4fc0-82f2-559d0f70ddd2",
   "metadata": {
    "tags": []
   },
   "outputs": [
    {
     "name": "stdout",
     "output_type": "stream",
     "text": [
      "NAME        URL                                   READY   PREV   LATEST   PREVROLLEDOUTREVISION   LATESTREADYREVISION   AGE\n",
      "simple-nn   grpc://modelmesh-serving.feast:8033   True                                                                  2m1s\n"
     ]
    }
   ],
   "source": [
    "!oc get inferenceservices -n $MODEL_NAMESPACE "
   ]
  },
  {
   "cell_type": "markdown",
   "id": "2a1c0b95-843f-4ad1-a543-cd9e6c28fb85",
   "metadata": {},
   "source": [
    "Create a `Data Connection` to the S3 bucket.\n",
    "\n",
    "The `Data Connection` is defined by a `Secret` with well-defined annotations, labels and keys to match the KServe definition."
   ]
  },
  {
   "cell_type": "code",
   "execution_count": 18,
   "id": "22c57630-e245-43b8-9ecf-5fb64f5246cb",
   "metadata": {
    "tags": []
   },
   "outputs": [],
   "source": [
    "create_data_connection_secret(selected_model)"
   ]
  },
  {
   "cell_type": "code",
   "execution_count": 19,
   "id": "8b661951-f1ff-4feb-84dd-722f7eba10aa",
   "metadata": {
    "tags": []
   },
   "outputs": [
    {
     "name": "stdout",
     "output_type": "stream",
     "text": [
      "\n",
      "kind: Secret\n",
      "apiVersion: v1\n",
      "metadata:\n",
      "  name: mnist-s3-creds\n",
      "  namespace: feast\n",
      "  labels:\n",
      "    opendatahub.io/dashboard: 'true'\n",
      "    opendatahub.io/managed: 'true'\n",
      "  annotations:\n",
      "    opendatahub.io/connection-type: s3\n",
      "    openshift.io/display-name: mnist-s3\n",
      "stringData:\n",
      "  AWS_ACCESS_KEY_ID: minio\n",
      "  AWS_DEFAULT_REGION: default\n",
      "  AWS_S3_BUCKET: feast\n",
      "  AWS_S3_ENDPOINT: http://minio-service.feast.svc.cluster.local:9000\n",
      "  AWS_SECRET_ACCESS_KEY: minio123\n",
      "type: Opaque\n"
     ]
    }
   ],
   "source": [
    "!cat connection_secret.yaml"
   ]
  },
  {
   "cell_type": "code",
   "execution_count": 20,
   "id": "128ac575-754f-431d-a22a-91eba923ce07",
   "metadata": {
    "tags": []
   },
   "outputs": [
    {
     "name": "stdout",
     "output_type": "stream",
     "text": [
      "secret \"mnist-s3-creds\" deleted\n",
      "secret/mnist-s3-creds created\n"
     ]
    }
   ],
   "source": [
    "!oc delete -f connection_secret.yaml\n",
    "!oc create -f connection_secret.yaml"
   ]
  },
  {
   "cell_type": "markdown",
   "id": "f4e3ebc0-ce24-4537-8a4a-a62045197fab",
   "metadata": {
    "tags": []
   },
   "source": [
    "Create the `InferenceService` resource (see [Create the InferenceService](https://kserve.github.io/website/master/modelserving/v1beta1/onnx/#create-the-inferenceservice))"
   ]
  },
  {
   "cell_type": "code",
   "execution_count": 21,
   "id": "b0f3a54c-282f-44a2-a602-207864758e94",
   "metadata": {
    "tags": []
   },
   "outputs": [
    {
     "name": "stdout",
     "output_type": "stream",
     "text": [
      "Creating InferenceService simple-nn to serve s3://feast/v.simple_NN.20240419150600/simple_NN.onnx\n"
     ]
    }
   ],
   "source": [
    "inference_service = create_inference_service(selected_model, selected_model_version, selected_model_artifact)"
   ]
  },
  {
   "cell_type": "markdown",
   "id": "6da4b50f-5a04-490a-8192-d708923821d9",
   "metadata": {},
   "source": [
    "Delete the existing instance with same name"
   ]
  },
  {
   "cell_type": "code",
   "execution_count": 22,
   "id": "456bc95b-48b2-44e5-912e-94b707479a99",
   "metadata": {
    "tags": []
   },
   "outputs": [
    {
     "name": "stdout",
     "output_type": "stream",
     "text": [
      "Deleting existing service with name simple-nn\n"
     ]
    }
   ],
   "source": [
    "KServe = KServeClient()\n",
    "delete_existing_inference_service(KServe, inference_service)"
   ]
  },
  {
   "cell_type": "markdown",
   "id": "bcab1ee8-ea94-4a6f-bd14-69cbf1125b41",
   "metadata": {},
   "source": [
    "Deploying the InferenceService with the `KServeClient`"
   ]
  },
  {
   "cell_type": "code",
   "execution_count": 23,
   "id": "d47e71ea-8956-4321-bea1-e8532e77fd2e",
   "metadata": {
    "tags": []
   },
   "outputs": [],
   "source": [
    "created_inference_service = KServe.create(inference_service)"
   ]
  },
  {
   "cell_type": "code",
   "execution_count": 24,
   "id": "1a90692a-a2f6-4553-8cfa-04334c931c93",
   "metadata": {},
   "outputs": [
    {
     "name": "stdout",
     "output_type": "stream",
     "text": [
      "Waiting until model simple-nn is ready\n",
      "Predictor is ready for simple-nn\n"
     ]
    }
   ],
   "source": [
    "wait_until_predictor_is_ready(KServe, inference_service)"
   ]
  },
  {
   "cell_type": "markdown",
   "id": "c42ddafd-40b9-48eb-8461-d37ea9e12ebc",
   "metadata": {},
   "source": [
    "## Inspecting the Inference Service"
   ]
  },
  {
   "cell_type": "markdown",
   "id": "fd6a6b40-5387-4967-99af-91e0dd549f0f",
   "metadata": {},
   "source": [
    "Verify resources using `oc` CLI"
   ]
  },
  {
   "cell_type": "code",
   "execution_count": 25,
   "id": "d66cb8d3-92cf-463f-b655-69e2ad59453e",
   "metadata": {
    "tags": []
   },
   "outputs": [
    {
     "name": "stdout",
     "output_type": "stream",
     "text": [
      "NAME        URL                                   READY   PREV   LATEST   PREVROLLEDOUTREVISION   LATESTREADYREVISION   AGE\n",
      "simple-nn   grpc://modelmesh-serving.feast:8033   True                                                                  4s\n",
      "NAME        HOST/PORT                                                  PATH                   SERVICES            PORT   TERMINATION          WILDCARD\n",
      "simple-nn   simple-nn-feast.apps.feast-lab.4cuu.p1.openshiftapps.com   /v2/models/simple-nn   modelmesh-serving   8443   reencrypt/Redirect   None\n"
     ]
    }
   ],
   "source": [
    "!oc get inferenceservices -n $MODEL_NAMESPACE $MODEL_NAME\n",
    "!oc get routes -n $MODEL_NAMESPACE $MODEL_NAME"
   ]
  },
  {
   "cell_type": "markdown",
   "id": "c7afadc1-278a-468a-81c4-4bfb8f4a52ce",
   "metadata": {},
   "source": [
    "Fetch REST service URI"
   ]
  },
  {
   "cell_type": "code",
   "execution_count": 29,
   "id": "3260838c-425c-42a1-83f9-2c3ccfb79e29",
   "metadata": {
    "tags": []
   },
   "outputs": [
    {
     "name": "stdout",
     "output_type": "stream",
     "text": [
      "REST URI for model simple-nn is http://modelmesh-serving.feast:8008\n",
      "Model service URI for model simple-nn is http://modelmesh-serving.feast:8008/v2/models/simple-nn\n",
      "Prediction URI for model simple-nn is http://modelmesh-serving.feast:8008/v2/models/simple-nn/infer\n"
     ]
    }
   ],
   "source": [
    "rest_uri, model_service_uri, prediction_uri = inference_service_uris(KServe, inference_service)\n",
    "print(f\"REST URI for model {inference_service.metadata.name} is {rest_uri}\")\n",
    "print(f\"Model service URI for model {inference_service.metadata.name} is {model_service_uri}\")\n",
    "print(f\"Prediction URI for model {inference_service.metadata.name} is {prediction_uri}\")"
   ]
  },
  {
   "cell_type": "markdown",
   "id": "33424ee1-8647-4418-b35a-f4d33b0e635f",
   "metadata": {},
   "source": [
    "Inspect service metedata"
   ]
  },
  {
   "cell_type": "code",
   "execution_count": 30,
   "id": "f800464b-2c24-4495-bc54-690d485c4dc2",
   "metadata": {
    "tags": []
   },
   "outputs": [
    {
     "name": "stdout",
     "output_type": "stream",
     "text": [
      "Metadata request to http://modelmesh-serving.feast:8008/v2/models/simple-nn succeded.\n"
     ]
    },
    {
     "data": {
      "text/plain": [
       "{'name': 'simple-nn__isvc-1cc0366e9a',\n",
       " 'versions': ['1'],\n",
       " 'platform': 'OpenVINO',\n",
       " 'inputs': [{'name': 'x', 'datatype': 'FP64', 'shape': ['1', '28', '28']}],\n",
       " 'outputs': [{'name': 'dense_2', 'datatype': 'FP32', 'shape': ['1', '10']}]}"
      ]
     },
     "execution_count": 30,
     "metadata": {},
     "output_type": "execute_result"
    }
   ],
   "source": [
    "inspect_service_metadata(model_service_uri)"
   ]
  },
  {
   "cell_type": "markdown",
   "id": "5374c4b4-dfb6-4eb7-b3a1-c77efe50b53a",
   "metadata": {},
   "source": [
    "## Validating online features"
   ]
  },
  {
   "cell_type": "markdown",
   "id": "d09f3582-e9a8-4478-a264-fcba7b9a3dd9",
   "metadata": {},
   "source": [
    "Fetching online features from `Feast`"
   ]
  },
  {
   "cell_type": "code",
   "execution_count": 31,
   "id": "5d365ce4-32a4-432f-829e-e7f239d27511",
   "metadata": {
    "tags": []
   },
   "outputs": [
    {
     "name": "stderr",
     "output_type": "stream",
     "text": [
      "INFO:feast.infra.registry.registry:Registry cache expired, so refreshing\n",
      "WARNING:urllib3.connection:Certificate did not match expected hostname: usage.feast.dev. Certificate: {'subject': ((('countryName', 'US'),), (('stateOrProvinceName', 'California'),), (('localityName', 'San Francisco'),), (('organizationName', 'Netlify, Inc'),), (('commonName', '*.netlify.app'),)), 'issuer': ((('countryName', 'US'),), (('organizationName', 'DigiCert Inc'),), (('commonName', 'DigiCert Global G2 TLS RSA SHA256 2020 CA1'),)), 'version': 3, 'serialNumber': '03ED167A2659DA278E7B21CDBEB33E32', 'notBefore': 'Jan 15 00:00:00 2024 GMT', 'notAfter': 'Feb 14 23:59:59 2025 GMT', 'subjectAltName': (('DNS', '*.netlify.app'), ('DNS', 'netlify.app')), 'OCSP': ('http://ocsp.digicert.com',), 'caIssuers': ('http://cacerts.digicert.com/DigiCertGlobalG2TLSRSASHA2562020CA1-1.crt',), 'crlDistributionPoints': ('http://crl3.digicert.com/DigiCertGlobalG2TLSRSASHA2562020CA1-1.crl', 'http://crl4.digicert.com/DigiCertGlobalG2TLSRSASHA2562020CA1-1.crl')}\n"
     ]
    }
   ],
   "source": [
    "online_features = fetch_online_features()"
   ]
  },
  {
   "cell_type": "code",
   "execution_count": 32,
   "id": "e1037bbc-f369-4509-8d02-78cff1b1a5c1",
   "metadata": {
    "tags": []
   },
   "outputs": [],
   "source": [
    "assert len(online_features) == 10, f\"Found {len(online_features)} instead of 10\""
   ]
  },
  {
   "cell_type": "code",
   "execution_count": 33,
   "id": "bc558cb0-2dbd-4b8d-b54d-5a22ef14190b",
   "metadata": {
    "tags": []
   },
   "outputs": [
    {
     "data": {
      "text/html": [
       "<div>\n",
       "<style scoped>\n",
       "    .dataframe tbody tr th:only-of-type {\n",
       "        vertical-align: middle;\n",
       "    }\n",
       "\n",
       "    .dataframe tbody tr th {\n",
       "        vertical-align: top;\n",
       "    }\n",
       "\n",
       "    .dataframe thead th {\n",
       "        text-align: right;\n",
       "    }\n",
       "</style>\n",
       "<table border=\"1\" class=\"dataframe\">\n",
       "  <thead>\n",
       "    <tr style=\"text-align: right;\">\n",
       "      <th></th>\n",
       "      <th>image_id</th>\n",
       "      <th>feature_2</th>\n",
       "      <th>feature_4</th>\n",
       "      <th>feature_27</th>\n",
       "      <th>feature_6</th>\n",
       "      <th>feature_20</th>\n",
       "      <th>feature_15</th>\n",
       "      <th>feature_22</th>\n",
       "      <th>feature_28</th>\n",
       "      <th>feature_7</th>\n",
       "      <th>...</th>\n",
       "      <th>feature_19</th>\n",
       "      <th>feature_3</th>\n",
       "      <th>feature_9</th>\n",
       "      <th>feature_11</th>\n",
       "      <th>feature_18</th>\n",
       "      <th>feature_21</th>\n",
       "      <th>feature_13</th>\n",
       "      <th>feature_25</th>\n",
       "      <th>feature_5</th>\n",
       "      <th>feature_12</th>\n",
       "    </tr>\n",
       "  </thead>\n",
       "  <tbody>\n",
       "    <tr>\n",
       "      <th>8</th>\n",
       "      <td>8</td>\n",
       "      <td>(0.0,0.0,0.0,0.0,0.0,0.0,0.0,0.0,0.0,0.0,0.0,0...</td>\n",
       "      <td>(0.0,0.0,0.0,0.0,0.0,0.0,0.0,0.0,0.0,0.0,0.0,0...</td>\n",
       "      <td>(0.0,0.0,0.0,0.0,0.0,0.0,0.0,0.0,0.0,0.0,0.0,0...</td>\n",
       "      <td>(0.0,0.0,0.0,0.0,0.0,0.0,0.0,0.0,0.0,0.0,0.501...</td>\n",
       "      <td>(0.0,0.0,0.0,0.0,0.0,0.0,0.0,0.0,1.0,1.0,1.0,0...</td>\n",
       "      <td>(0.0,0.0,0.0,0.0,0.0,0.0,0.0,0.0,0.0,0.0,0.749...</td>\n",
       "      <td>(0.0,0.0,0.0,0.0,0.0,0.0,0.0,0.0,0.50196078431...</td>\n",
       "      <td>(0.0,0.0,0.0,0.0,0.0,0.0,0.0,0.0,0.0,0.0,0.0,0...</td>\n",
       "      <td>(0.0,0.0,0.0,0.0,0.0,0.0,0.0,0.0,0.0,0.7490196...</td>\n",
       "      <td>...</td>\n",
       "      <td>(0.0,0.0,0.0,0.0,0.0,0.0,0.0,0.0,1.0,1.0,1.0,0...</td>\n",
       "      <td>(0.0,0.0,0.0,0.0,0.0,0.0,0.0,0.0,0.0,0.0,0.0,0...</td>\n",
       "      <td>(0.0,0.0,0.0,0.0,0.0,0.0,0.0,0.0,0.0,0.2509803...</td>\n",
       "      <td>(0.0,0.0,0.0,0.0,0.0,0.0,0.0,0.0,0.0,0.0,0.749...</td>\n",
       "      <td>(0.0,0.0,0.0,0.0,0.0,0.0,0.0,0.0,0.74901960784...</td>\n",
       "      <td>(0.0,0.0,0.0,0.0,0.0,0.0,0.0,0.0,0.74901960784...</td>\n",
       "      <td>(0.0,0.0,0.0,0.0,0.0,0.0,0.0,0.0,0.0,0.0,0.0,0...</td>\n",
       "      <td>(0.0,0.0,0.0,0.0,0.0,0.0,0.0,0.0,0.0,0.0,0.250...</td>\n",
       "      <td>(0.0,0.0,0.0,0.0,0.0,0.0,0.0,0.0,0.0,0.0,0.0,0...</td>\n",
       "      <td>(0.0,0.0,0.0,0.0,0.0,0.0,0.0,0.0,0.0,0.0,0.0,1...</td>\n",
       "    </tr>\n",
       "    <tr>\n",
       "      <th>1</th>\n",
       "      <td>1</td>\n",
       "      <td>(0.0,0.0,0.0,0.0,0.0,0.0,0.0,0.0,0.0,0.0,0.0,0...</td>\n",
       "      <td>(0.0,0.0,0.0,0.0,0.0,0.0,0.0,0.0,0.0,0.0,0.0,0...</td>\n",
       "      <td>(0.0,0.0,0.0,0.0,0.0,0.0,0.0,0.0,0.0,0.0,0.0,0...</td>\n",
       "      <td>(0.0,0.0,0.0,0.0,0.0,0.0,0.0,0.0,0.0,0.0,0.0,0...</td>\n",
       "      <td>(0.0,0.0,0.0,0.0,0.0,0.0,0.0,0.0,0.0,0.0,0.6,0...</td>\n",
       "      <td>(0.0,0.0,0.0,0.0,0.0,0.0,0.0,0.0,0.0,0.0,0.0,0...</td>\n",
       "      <td>(0.0,0.0,0.0,0.0,0.0,0.0,0.0,0.0,0.0,0.1490196...</td>\n",
       "      <td>(0.0,0.0,0.0,0.0,0.0,0.0,0.0,0.0,0.0,0.0,0.0,0...</td>\n",
       "      <td>(0.0,0.0,0.0,0.0,0.0,0.0,0.0,0.0,0.0,0.0,0.0,0...</td>\n",
       "      <td>...</td>\n",
       "      <td>(0.0,0.0,0.0,0.0,0.0,0.0,0.0,0.0,0.0,0.0,0.066...</td>\n",
       "      <td>(0.0,0.0,0.0,0.0,0.0,0.0,0.0,0.0,0.0,0.0,0.0,0...</td>\n",
       "      <td>(0.0,0.0,0.0,0.0,0.0,0.0,0.0,0.0,0.0,0.0,0.0,0...</td>\n",
       "      <td>(0.0,0.0,0.0,0.0,0.0,0.0,0.0,0.0,0.0,0.0,0.0,0...</td>\n",
       "      <td>(0.0,0.0,0.0,0.0,0.0,0.0,0.0,0.0,0.0,0.0,0.0,0...</td>\n",
       "      <td>(0.0,0.0,0.0,0.0,0.0,0.0,0.0,0.0,0.0,0.0627450...</td>\n",
       "      <td>(0.0,0.0,0.0,0.0,0.0,0.0,0.0,0.0,0.0,0.0,0.0,0...</td>\n",
       "      <td>(0.0,0.0,0.0,0.0,0.0,0.0,0.0,0.0,0.0,0.0,0.0,0...</td>\n",
       "      <td>(0.0,0.0,0.0,0.0,0.0,0.0,0.0,0.0,0.0,0.0,0.0,0...</td>\n",
       "      <td>(0.0,0.0,0.0,0.0,0.0,0.0,0.0,0.0,0.0,0.0,0.0,0...</td>\n",
       "    </tr>\n",
       "    <tr>\n",
       "      <th>5</th>\n",
       "      <td>5</td>\n",
       "      <td>(0.0,0.0,0.0,0.0,0.0,0.0,0.0,0.0,0.0,0.0,0.0,0...</td>\n",
       "      <td>(0.0,0.0,0.0,0.0,0.0,0.0,0.0,0.0,0.0,0.0,0.0,0...</td>\n",
       "      <td>(0.0,0.0,0.0,0.0,0.0,0.0,0.0,0.0,0.0,0.0,0.0,0...</td>\n",
       "      <td>(0.0,0.0,0.0,0.0,0.0,0.0,0.0,0.0,0.0,0.0,0.0,0...</td>\n",
       "      <td>(0.0,0.0,0.0,0.0,0.0,0.0,0.0,0.776470588235294...</td>\n",
       "      <td>(0.0,0.0,0.0,0.0,0.0,0.0,0.0,0.0,0.0,0.0196078...</td>\n",
       "      <td>(0.0,0.0,0.0,0.0,0.0,0.0,0.0,0.0,0.54509803921...</td>\n",
       "      <td>(0.0,0.0,0.0,0.0,0.0,0.0,0.0,0.0,0.0,0.0,0.0,0...</td>\n",
       "      <td>(0.0,0.0,0.0,0.0,0.0,0.0,0.0,0.0,0.0,0.0,0.0,0...</td>\n",
       "      <td>...</td>\n",
       "      <td>(0.0,0.0,0.0,0.0,0.0,0.0,0.0,0.996078431372549...</td>\n",
       "      <td>(0.0,0.0,0.0,0.0,0.0,0.0,0.0,0.0,0.0,0.0,0.0,0...</td>\n",
       "      <td>(0.0,0.0,0.0,0.0,0.0,0.0,0.0,0.0,0.0,0.0,0.0,0...</td>\n",
       "      <td>(0.0,0.0,0.0,0.0,0.0,0.0,0.0,0.0,0.0,0.0,0.278...</td>\n",
       "      <td>(0.0,0.0,0.0,0.0,0.0,0.0,0.0,0.482352941176470...</td>\n",
       "      <td>(0.0,0.0,0.0,0.0,0.0,0.0,0.0,0.349019607843137...</td>\n",
       "      <td>(0.0,0.0,0.0,0.0,0.0,0.0,0.0,0.0,0.0,0.1529411...</td>\n",
       "      <td>(0.0,0.0,0.0,0.0,0.0,0.0,0.0,0.0,0.0,0.0,0.0,0...</td>\n",
       "      <td>(0.0,0.0,0.0,0.0,0.0,0.0,0.0,0.0,0.0,0.0,0.0,0...</td>\n",
       "      <td>(0.0,0.0,0.0,0.0,0.0,0.0,0.0,0.0,0.0,0.0,0.325...</td>\n",
       "    </tr>\n",
       "    <tr>\n",
       "      <th>0</th>\n",
       "      <td>0</td>\n",
       "      <td>(0.0,0.0,0.0,0.0,0.0,0.0,0.0,0.0,0.0,0.0,0.0,0...</td>\n",
       "      <td>(0.0,0.0,0.0,0.0,0.0,0.0,0.0,0.0,0.0,0.0,0.0,0...</td>\n",
       "      <td>(0.0,0.0,0.0,0.0,0.0,0.0,0.0,0.0,0.0,0.0,0.0,0...</td>\n",
       "      <td>(0.0,0.0,0.0,0.0,0.0,0.0,0.0,0.0,0.0,0.0,0.0,0...</td>\n",
       "      <td>(0.0,0.0,0.0,0.0,0.0,0.9921568627450981,0.9882...</td>\n",
       "      <td>(0.0,0.0,0.0,0.0,0.0,0.0,0.08235294117647059,0...</td>\n",
       "      <td>(0.0,0.0,0.0,0.0,0.0,0.7529411764705882,0.9921...</td>\n",
       "      <td>(0.0,0.0,0.0,0.0,0.0,0.0,0.0,0.0,0.0,0.0,0.0,0...</td>\n",
       "      <td>(0.0,0.0,0.0,0.0,0.0,0.0,0.0,0.0,0.0,0.0,0.0,0...</td>\n",
       "      <td>...</td>\n",
       "      <td>(0.0,0.0,0.0,0.0,0.0,0.9921568627450981,0.9882...</td>\n",
       "      <td>(0.0,0.0,0.0,0.0,0.0,0.0,0.0,0.0,0.0,0.0,0.0,0...</td>\n",
       "      <td>(0.0,0.0,0.0,0.0,0.0,0.0,0.0,0.0,0.0,0.0039215...</td>\n",
       "      <td>(0.0,0.0,0.0,0.0,0.0,0.0,0.0,0.286274509803921...</td>\n",
       "      <td>(0.0,0.0,0.0,0.0,0.0,0.6705882352941176,0.9921...</td>\n",
       "      <td>(0.0,0.0,0.0,0.0,0.0,0.9921568627450981,0.9882...</td>\n",
       "      <td>(0.0,0.0,0.0,0.0,0.0,0.0,0.28627450980392155,0...</td>\n",
       "      <td>(0.0,0.0,0.0,0.0,0.0,0.0,0.0,0.0,0.0,0.0,0.0,0...</td>\n",
       "      <td>(0.0,0.0,0.0,0.0,0.0,0.0,0.0,0.0,0.0,0.0,0.0,0...</td>\n",
       "      <td>(0.0,0.0,0.0,0.0,0.0,0.0,0.20784313725490197,0...</td>\n",
       "    </tr>\n",
       "    <tr>\n",
       "      <th>7</th>\n",
       "      <td>7</td>\n",
       "      <td>(0.0,0.0,0.0,0.0,0.0,0.0,0.0,0.0,0.0,0.0,0.0,0...</td>\n",
       "      <td>(0.0,0.0,0.0,0.0,0.0,0.0,0.0,0.0,0.0,0.0,0.0,0...</td>\n",
       "      <td>(0.0,0.0,0.0,0.0,0.0,0.0,0.0,0.0,0.0,0.0,0.0,0...</td>\n",
       "      <td>(0.0,0.0,0.0,0.0,0.0,0.0,0.0,0.0,0.0,0.0,0.0,0...</td>\n",
       "      <td>(0.0,0.0,0.0,0.0,0.0,0.0,0.0,0.0,0.0,0.0,0.0,0...</td>\n",
       "      <td>(0.0,0.0,0.0,0.0,0.0,0.0,0.0,0.0,0.0,0.0,0.0,0...</td>\n",
       "      <td>(0.0,0.0,0.0,0.0,0.0,0.0,0.0,0.0,0.0,0.0,0.0,0...</td>\n",
       "      <td>(0.0,0.0,0.0,0.0,0.0,0.0,0.0,0.0,0.0,0.0,0.0,0...</td>\n",
       "      <td>(0.0,0.0,0.0,0.0,0.0,0.0,0.0,0.0,0.0,0.0,0.0,0...</td>\n",
       "      <td>...</td>\n",
       "      <td>(0.0,0.0,0.0,0.0,0.0,0.0,0.0,0.0,0.0,0.0,0.0,0...</td>\n",
       "      <td>(0.0,0.0,0.0,0.0,0.0,0.0,0.0,0.0,0.0,0.0,0.0,0...</td>\n",
       "      <td>(0.0,0.0,0.0,0.0,0.0,0.0,0.8980392156862745,0....</td>\n",
       "      <td>(0.0,0.0,0.0,0.0,0.0,0.0,0.043137254901960784,...</td>\n",
       "      <td>(0.0,0.0,0.0,0.0,0.0,0.0,0.0,0.0,0.0,0.0,0.0,0...</td>\n",
       "      <td>(0.0,0.0,0.0,0.0,0.0,0.0,0.0,0.0,0.0,0.0,0.0,0...</td>\n",
       "      <td>(0.0,0.0,0.0,0.0,0.0,0.0,0.0,0.0,0.0,0.0,0.0,0...</td>\n",
       "      <td>(0.0,0.0,0.0,0.0,0.0,0.0,0.0,0.0,0.0,0.0,0.309...</td>\n",
       "      <td>(0.0,0.0,0.0,0.0,0.0,0.0,0.0,0.0,0.0,0.0,0.0,0...</td>\n",
       "      <td>(0.0,0.0,0.0,0.0,0.0,0.0,0.0,0.0,0.0,0.0,0.0,0...</td>\n",
       "    </tr>\n",
       "  </tbody>\n",
       "</table>\n",
       "<p>5 rows × 29 columns</p>\n",
       "</div>"
      ],
      "text/plain": [
       "   image_id                                          feature_2  \\\n",
       "8         8  (0.0,0.0,0.0,0.0,0.0,0.0,0.0,0.0,0.0,0.0,0.0,0...   \n",
       "1         1  (0.0,0.0,0.0,0.0,0.0,0.0,0.0,0.0,0.0,0.0,0.0,0...   \n",
       "5         5  (0.0,0.0,0.0,0.0,0.0,0.0,0.0,0.0,0.0,0.0,0.0,0...   \n",
       "0         0  (0.0,0.0,0.0,0.0,0.0,0.0,0.0,0.0,0.0,0.0,0.0,0...   \n",
       "7         7  (0.0,0.0,0.0,0.0,0.0,0.0,0.0,0.0,0.0,0.0,0.0,0...   \n",
       "\n",
       "                                           feature_4  \\\n",
       "8  (0.0,0.0,0.0,0.0,0.0,0.0,0.0,0.0,0.0,0.0,0.0,0...   \n",
       "1  (0.0,0.0,0.0,0.0,0.0,0.0,0.0,0.0,0.0,0.0,0.0,0...   \n",
       "5  (0.0,0.0,0.0,0.0,0.0,0.0,0.0,0.0,0.0,0.0,0.0,0...   \n",
       "0  (0.0,0.0,0.0,0.0,0.0,0.0,0.0,0.0,0.0,0.0,0.0,0...   \n",
       "7  (0.0,0.0,0.0,0.0,0.0,0.0,0.0,0.0,0.0,0.0,0.0,0...   \n",
       "\n",
       "                                          feature_27  \\\n",
       "8  (0.0,0.0,0.0,0.0,0.0,0.0,0.0,0.0,0.0,0.0,0.0,0...   \n",
       "1  (0.0,0.0,0.0,0.0,0.0,0.0,0.0,0.0,0.0,0.0,0.0,0...   \n",
       "5  (0.0,0.0,0.0,0.0,0.0,0.0,0.0,0.0,0.0,0.0,0.0,0...   \n",
       "0  (0.0,0.0,0.0,0.0,0.0,0.0,0.0,0.0,0.0,0.0,0.0,0...   \n",
       "7  (0.0,0.0,0.0,0.0,0.0,0.0,0.0,0.0,0.0,0.0,0.0,0...   \n",
       "\n",
       "                                           feature_6  \\\n",
       "8  (0.0,0.0,0.0,0.0,0.0,0.0,0.0,0.0,0.0,0.0,0.501...   \n",
       "1  (0.0,0.0,0.0,0.0,0.0,0.0,0.0,0.0,0.0,0.0,0.0,0...   \n",
       "5  (0.0,0.0,0.0,0.0,0.0,0.0,0.0,0.0,0.0,0.0,0.0,0...   \n",
       "0  (0.0,0.0,0.0,0.0,0.0,0.0,0.0,0.0,0.0,0.0,0.0,0...   \n",
       "7  (0.0,0.0,0.0,0.0,0.0,0.0,0.0,0.0,0.0,0.0,0.0,0...   \n",
       "\n",
       "                                          feature_20  \\\n",
       "8  (0.0,0.0,0.0,0.0,0.0,0.0,0.0,0.0,1.0,1.0,1.0,0...   \n",
       "1  (0.0,0.0,0.0,0.0,0.0,0.0,0.0,0.0,0.0,0.0,0.6,0...   \n",
       "5  (0.0,0.0,0.0,0.0,0.0,0.0,0.0,0.776470588235294...   \n",
       "0  (0.0,0.0,0.0,0.0,0.0,0.9921568627450981,0.9882...   \n",
       "7  (0.0,0.0,0.0,0.0,0.0,0.0,0.0,0.0,0.0,0.0,0.0,0...   \n",
       "\n",
       "                                          feature_15  \\\n",
       "8  (0.0,0.0,0.0,0.0,0.0,0.0,0.0,0.0,0.0,0.0,0.749...   \n",
       "1  (0.0,0.0,0.0,0.0,0.0,0.0,0.0,0.0,0.0,0.0,0.0,0...   \n",
       "5  (0.0,0.0,0.0,0.0,0.0,0.0,0.0,0.0,0.0,0.0196078...   \n",
       "0  (0.0,0.0,0.0,0.0,0.0,0.0,0.08235294117647059,0...   \n",
       "7  (0.0,0.0,0.0,0.0,0.0,0.0,0.0,0.0,0.0,0.0,0.0,0...   \n",
       "\n",
       "                                          feature_22  \\\n",
       "8  (0.0,0.0,0.0,0.0,0.0,0.0,0.0,0.0,0.50196078431...   \n",
       "1  (0.0,0.0,0.0,0.0,0.0,0.0,0.0,0.0,0.0,0.1490196...   \n",
       "5  (0.0,0.0,0.0,0.0,0.0,0.0,0.0,0.0,0.54509803921...   \n",
       "0  (0.0,0.0,0.0,0.0,0.0,0.7529411764705882,0.9921...   \n",
       "7  (0.0,0.0,0.0,0.0,0.0,0.0,0.0,0.0,0.0,0.0,0.0,0...   \n",
       "\n",
       "                                          feature_28  \\\n",
       "8  (0.0,0.0,0.0,0.0,0.0,0.0,0.0,0.0,0.0,0.0,0.0,0...   \n",
       "1  (0.0,0.0,0.0,0.0,0.0,0.0,0.0,0.0,0.0,0.0,0.0,0...   \n",
       "5  (0.0,0.0,0.0,0.0,0.0,0.0,0.0,0.0,0.0,0.0,0.0,0...   \n",
       "0  (0.0,0.0,0.0,0.0,0.0,0.0,0.0,0.0,0.0,0.0,0.0,0...   \n",
       "7  (0.0,0.0,0.0,0.0,0.0,0.0,0.0,0.0,0.0,0.0,0.0,0...   \n",
       "\n",
       "                                           feature_7  ...  \\\n",
       "8  (0.0,0.0,0.0,0.0,0.0,0.0,0.0,0.0,0.0,0.7490196...  ...   \n",
       "1  (0.0,0.0,0.0,0.0,0.0,0.0,0.0,0.0,0.0,0.0,0.0,0...  ...   \n",
       "5  (0.0,0.0,0.0,0.0,0.0,0.0,0.0,0.0,0.0,0.0,0.0,0...  ...   \n",
       "0  (0.0,0.0,0.0,0.0,0.0,0.0,0.0,0.0,0.0,0.0,0.0,0...  ...   \n",
       "7  (0.0,0.0,0.0,0.0,0.0,0.0,0.0,0.0,0.0,0.0,0.0,0...  ...   \n",
       "\n",
       "                                          feature_19  \\\n",
       "8  (0.0,0.0,0.0,0.0,0.0,0.0,0.0,0.0,1.0,1.0,1.0,0...   \n",
       "1  (0.0,0.0,0.0,0.0,0.0,0.0,0.0,0.0,0.0,0.0,0.066...   \n",
       "5  (0.0,0.0,0.0,0.0,0.0,0.0,0.0,0.996078431372549...   \n",
       "0  (0.0,0.0,0.0,0.0,0.0,0.9921568627450981,0.9882...   \n",
       "7  (0.0,0.0,0.0,0.0,0.0,0.0,0.0,0.0,0.0,0.0,0.0,0...   \n",
       "\n",
       "                                           feature_3  \\\n",
       "8  (0.0,0.0,0.0,0.0,0.0,0.0,0.0,0.0,0.0,0.0,0.0,0...   \n",
       "1  (0.0,0.0,0.0,0.0,0.0,0.0,0.0,0.0,0.0,0.0,0.0,0...   \n",
       "5  (0.0,0.0,0.0,0.0,0.0,0.0,0.0,0.0,0.0,0.0,0.0,0...   \n",
       "0  (0.0,0.0,0.0,0.0,0.0,0.0,0.0,0.0,0.0,0.0,0.0,0...   \n",
       "7  (0.0,0.0,0.0,0.0,0.0,0.0,0.0,0.0,0.0,0.0,0.0,0...   \n",
       "\n",
       "                                           feature_9  \\\n",
       "8  (0.0,0.0,0.0,0.0,0.0,0.0,0.0,0.0,0.0,0.2509803...   \n",
       "1  (0.0,0.0,0.0,0.0,0.0,0.0,0.0,0.0,0.0,0.0,0.0,0...   \n",
       "5  (0.0,0.0,0.0,0.0,0.0,0.0,0.0,0.0,0.0,0.0,0.0,0...   \n",
       "0  (0.0,0.0,0.0,0.0,0.0,0.0,0.0,0.0,0.0,0.0039215...   \n",
       "7  (0.0,0.0,0.0,0.0,0.0,0.0,0.8980392156862745,0....   \n",
       "\n",
       "                                          feature_11  \\\n",
       "8  (0.0,0.0,0.0,0.0,0.0,0.0,0.0,0.0,0.0,0.0,0.749...   \n",
       "1  (0.0,0.0,0.0,0.0,0.0,0.0,0.0,0.0,0.0,0.0,0.0,0...   \n",
       "5  (0.0,0.0,0.0,0.0,0.0,0.0,0.0,0.0,0.0,0.0,0.278...   \n",
       "0  (0.0,0.0,0.0,0.0,0.0,0.0,0.0,0.286274509803921...   \n",
       "7  (0.0,0.0,0.0,0.0,0.0,0.0,0.043137254901960784,...   \n",
       "\n",
       "                                          feature_18  \\\n",
       "8  (0.0,0.0,0.0,0.0,0.0,0.0,0.0,0.0,0.74901960784...   \n",
       "1  (0.0,0.0,0.0,0.0,0.0,0.0,0.0,0.0,0.0,0.0,0.0,0...   \n",
       "5  (0.0,0.0,0.0,0.0,0.0,0.0,0.0,0.482352941176470...   \n",
       "0  (0.0,0.0,0.0,0.0,0.0,0.6705882352941176,0.9921...   \n",
       "7  (0.0,0.0,0.0,0.0,0.0,0.0,0.0,0.0,0.0,0.0,0.0,0...   \n",
       "\n",
       "                                          feature_21  \\\n",
       "8  (0.0,0.0,0.0,0.0,0.0,0.0,0.0,0.0,0.74901960784...   \n",
       "1  (0.0,0.0,0.0,0.0,0.0,0.0,0.0,0.0,0.0,0.0627450...   \n",
       "5  (0.0,0.0,0.0,0.0,0.0,0.0,0.0,0.349019607843137...   \n",
       "0  (0.0,0.0,0.0,0.0,0.0,0.9921568627450981,0.9882...   \n",
       "7  (0.0,0.0,0.0,0.0,0.0,0.0,0.0,0.0,0.0,0.0,0.0,0...   \n",
       "\n",
       "                                          feature_13  \\\n",
       "8  (0.0,0.0,0.0,0.0,0.0,0.0,0.0,0.0,0.0,0.0,0.0,0...   \n",
       "1  (0.0,0.0,0.0,0.0,0.0,0.0,0.0,0.0,0.0,0.0,0.0,0...   \n",
       "5  (0.0,0.0,0.0,0.0,0.0,0.0,0.0,0.0,0.0,0.1529411...   \n",
       "0  (0.0,0.0,0.0,0.0,0.0,0.0,0.28627450980392155,0...   \n",
       "7  (0.0,0.0,0.0,0.0,0.0,0.0,0.0,0.0,0.0,0.0,0.0,0...   \n",
       "\n",
       "                                          feature_25  \\\n",
       "8  (0.0,0.0,0.0,0.0,0.0,0.0,0.0,0.0,0.0,0.0,0.250...   \n",
       "1  (0.0,0.0,0.0,0.0,0.0,0.0,0.0,0.0,0.0,0.0,0.0,0...   \n",
       "5  (0.0,0.0,0.0,0.0,0.0,0.0,0.0,0.0,0.0,0.0,0.0,0...   \n",
       "0  (0.0,0.0,0.0,0.0,0.0,0.0,0.0,0.0,0.0,0.0,0.0,0...   \n",
       "7  (0.0,0.0,0.0,0.0,0.0,0.0,0.0,0.0,0.0,0.0,0.309...   \n",
       "\n",
       "                                           feature_5  \\\n",
       "8  (0.0,0.0,0.0,0.0,0.0,0.0,0.0,0.0,0.0,0.0,0.0,0...   \n",
       "1  (0.0,0.0,0.0,0.0,0.0,0.0,0.0,0.0,0.0,0.0,0.0,0...   \n",
       "5  (0.0,0.0,0.0,0.0,0.0,0.0,0.0,0.0,0.0,0.0,0.0,0...   \n",
       "0  (0.0,0.0,0.0,0.0,0.0,0.0,0.0,0.0,0.0,0.0,0.0,0...   \n",
       "7  (0.0,0.0,0.0,0.0,0.0,0.0,0.0,0.0,0.0,0.0,0.0,0...   \n",
       "\n",
       "                                          feature_12  \n",
       "8  (0.0,0.0,0.0,0.0,0.0,0.0,0.0,0.0,0.0,0.0,0.0,1...  \n",
       "1  (0.0,0.0,0.0,0.0,0.0,0.0,0.0,0.0,0.0,0.0,0.0,0...  \n",
       "5  (0.0,0.0,0.0,0.0,0.0,0.0,0.0,0.0,0.0,0.0,0.325...  \n",
       "0  (0.0,0.0,0.0,0.0,0.0,0.0,0.20784313725490197,0...  \n",
       "7  (0.0,0.0,0.0,0.0,0.0,0.0,0.0,0.0,0.0,0.0,0.0,0...  \n",
       "\n",
       "[5 rows x 29 columns]"
      ]
     },
     "execution_count": 33,
     "metadata": {},
     "output_type": "execute_result"
    }
   ],
   "source": [
    "online_features.head()"
   ]
  },
  {
   "cell_type": "markdown",
   "id": "cfd050f8-95df-46c8-b152-57ae05ddb770",
   "metadata": {},
   "source": [
    "For each online feature, invokes the prediction service and plot the image for visual verification"
   ]
  },
  {
   "cell_type": "code",
   "execution_count": 34,
   "id": "e5250ef3-9182-4966-86e0-9cadf5854577",
   "metadata": {
    "tags": []
   },
   "outputs": [
    {
     "name": "stdout",
     "output_type": "stream",
     "text": [
      "The predicted number for image 8 is 8\n"
     ]
    },
    {
     "data": {
      "image/png": "[encoded data removed]",
      "text/plain": [
       "<Figure size 100x100 with 1 Axes>"
      ]
     },
     "metadata": {},
     "output_type": "display_data"
    },
    {
     "name": "stdout",
     "output_type": "stream",
     "text": [
      "The predicted number for image 1 is 1\n"
     ]
    },
    {
     "data": {
      "image/png": "[encoded data removed]",
      "text/plain": [
       "<Figure size 100x100 with 1 Axes>"
      ]
     },
     "metadata": {},
     "output_type": "display_data"
    },
    {
     "name": "stdout",
     "output_type": "stream",
     "text": [
      "The predicted number for image 5 is 5\n"
     ]
    },
    {
     "data": {
      "image/png": "[encoded data removed]",
      "text/plain": [
       "<Figure size 100x100 with 1 Axes>"
      ]
     },
     "metadata": {},
     "output_type": "display_data"
    },
    {
     "name": "stdout",
     "output_type": "stream",
     "text": [
      "The predicted number for image 0 is 0\n"
     ]
    },
    {
     "data": {
      "image/png": "[encoded data removed]",
      "text/plain": [
       "<Figure size 100x100 with 1 Axes>"
      ]
     },
     "metadata": {},
     "output_type": "display_data"
    },
    {
     "name": "stdout",
     "output_type": "stream",
     "text": [
      "The predicted number for image 7 is 7\n"
     ]
    },
    {
     "data": {
      "image/png": "[encoded data removed]",
      "text/plain": [
       "<Figure size 100x100 with 1 Axes>"
      ]
     },
     "metadata": {},
     "output_type": "display_data"
    },
    {
     "name": "stdout",
     "output_type": "stream",
     "text": [
      "The predicted number for image 2 is 2\n"
     ]
    },
    {
     "data": {
      "image/png": "[encoded data removed]",
      "text/plain": [
       "<Figure size 100x100 with 1 Axes>"
      ]
     },
     "metadata": {},
     "output_type": "display_data"
    },
    {
     "name": "stdout",
     "output_type": "stream",
     "text": [
      "The predicted number for image 9 is 9\n"
     ]
    },
    {
     "data": {
      "image/png": "[encoded data removed]",
      "text/plain": [
       "<Figure size 100x100 with 1 Axes>"
      ]
     },
     "metadata": {},
     "output_type": "display_data"
    },
    {
     "name": "stdout",
     "output_type": "stream",
     "text": [
      "The predicted number for image 4 is 4\n"
     ]
    },
    {
     "data": {
      "image/png": "[encoded data removed]",
      "text/plain": [
       "<Figure size 100x100 with 1 Axes>"
      ]
     },
     "metadata": {},
     "output_type": "display_data"
    },
    {
     "name": "stdout",
     "output_type": "stream",
     "text": [
      "The predicted number for image 3 is 3\n"
     ]
    },
    {
     "data": {
      "image/png": "[encoded data removed]",
      "text/plain": [
       "<Figure size 100x100 with 1 Axes>"
      ]
     },
     "metadata": {},
     "output_type": "display_data"
    },
    {
     "name": "stdout",
     "output_type": "stream",
     "text": [
      "The predicted number for image 6 is 6\n"
     ]
    },
    {
     "data": {
      "image/png": "[encoded data removed]",
      "text/plain": [
       "<Figure size 100x100 with 1 Axes>"
      ]
     },
     "metadata": {},
     "output_type": "display_data"
    }
   ],
   "source": [
    "image_ids, images = to_model_data(online_features)\n",
    "for i in range(len(image_ids)):\n",
    "    image_id = image_ids[i]\n",
    "    image = images[i]\n",
    "    validate_prediction(inference_service, image_id, image)"
   ]
  },
  {
   "cell_type": "code",
   "execution_count": null,
   "id": "d747c695-58c9-4549-996a-a970566ae43d",
   "metadata": {},
   "outputs": [],
   "source": []
  },
  {
   "cell_type": "code",
   "execution_count": null,
   "id": "fa48b12c-a380-42a1-aa0d-6861ef3a35f2",
   "metadata": {},
   "outputs": [],
   "source": []
  }
 ],
 "metadata": {
  "kernelspec": {
   "display_name": "Python 3.9",
   "language": "python",
   "name": "python3"
  },
  "language_info": {
   "codemirror_mode": {
    "name": "ipython",
    "version": 3
   },
   "file_extension": ".py",
   "mimetype": "text/x-python",
   "name": "python",
   "nbconvert_exporter": "python",
   "pygments_lexer": "ipython3",
   "version": "3.9.18"
  }
 },
 "nbformat": 4,
 "nbformat_minor": 5
}
