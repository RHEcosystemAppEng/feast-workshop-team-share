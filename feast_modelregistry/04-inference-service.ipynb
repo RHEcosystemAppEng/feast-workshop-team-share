{
 "cells": [
  {
   "cell_type": "markdown",
   "id": "8a8d4067-52fb-4988-b8e8-144086c5da4c",
   "metadata": {},
   "source": [
    "# Inference Service"
   ]
  },
  {
   "cell_type": "markdown",
   "id": "56c3d31a-055e-47f2-99d2-b612dd2497bf",
   "metadata": {},
   "source": [
    "* Create an inference service to serve one of the registered models\n",
    "* Fetch online features and calculate predictions from the inference service"
   ]
  },
  {
   "cell_type": "code",
   "execution_count": 1,
   "id": "ee21f58d-167e-4bfa-a2e2-53ee9cc5b70c",
   "metadata": {
    "tags": []
   },
   "outputs": [
    {
     "name": "stdout",
     "output_type": "stream",
     "text": [
      "Requirement already satisfied: pip in /opt/app-root/lib/python3.9/site-packages (24.0)\n",
      "feast==0.36.0\n",
      "psycopg2>=2.9\n",
      "onnx==1.14.1\n",
      "onnxruntime\n",
      "#tf2onnx\n",
      "#typing-extensions==4.5.0\n",
      "Collecting ml-metadata==1.14.0+remote.1\n",
      "  Downloading https://github.com/opendatahub-io/ml-metadata/releases/download/v1.14.0%2Bremote.1/ml_metadata-1.14.0+remote.1-py3-none-any.whl (78 kB)\n",
      "\u001b[2K     \u001b[90m━━━━━━━━━━━━━━━━━━━━━━━━━━━━━━━━━━━━━━━━\u001b[0m \u001b[32m78.4/78.4 kB\u001b[0m \u001b[31m5.7 MB/s\u001b[0m eta \u001b[36m0:00:00\u001b[0m\n",
      "\u001b[?25hRequirement already satisfied: model-registry==0.1.2 in /opt/app-root/lib/python3.9/site-packages (0.1.2)\n"
     ]
    }
   ],
   "source": [
    "!pip install --upgrade pip\n",
    "!cat requirements.`txt\n",
    "!pip install -q -r requirements.txt\n",
    "!pip install --no-deps --ignore-requires-python \"https://github.com/opendatahub-io/ml-metadata/releases/download/v1.14.0%2Bremote.1/ml_metadata-1.14.0+remote.1-py3-none-any.whl\" # need a Python 3.11 compatible version\n",
    "!pip install --no-deps --ignore-requires-python \"model-registry==0.1.2\" # ignore dependencies because of the above override"
   ]
  },
  {
   "cell_type": "markdown",
   "id": "26729afa-49c4-4b39-933a-510972818943",
   "metadata": {},
   "source": [
    "## Imports and constants"
   ]
  },
  {
   "cell_type": "code",
   "execution_count": 9,
   "id": "7ef9c776-b5ee-4893-a109-6abd8b6e1113",
   "metadata": {
    "tags": []
   },
   "outputs": [],
   "source": [
    "import os\n",
    "\n",
    "import boto3\n",
    "import matplotlib.pyplot as plt\n",
    "import onnx\n",
    "import onnxruntime as ort\n",
    "from feast import FeatureStore\n",
    "from model_registry import ModelRegistry\n",
    "from model_registry.types import ContextState"
   ]
  },
  {
   "cell_type": "code",
   "execution_count": 10,
   "id": "7624695f-5233-4aa5-adbe-c7f1daccea5b",
   "metadata": {
    "tags": []
   },
   "outputs": [],
   "source": [
    "def modelRegistry():\n",
    "    return ModelRegistry(server_address=\"modelregistry-sample.feast.svc.cluster.local\", port=9090, author=\"feast-dev@redhat.com\")"
   ]
  },
  {
   "cell_type": "code",
   "execution_count": 12,
   "id": "647f1fcc-bbb9-46d2-b0d8-b29abf96fdf3",
   "metadata": {
    "tags": []
   },
   "outputs": [
    {
     "name": "stdout",
     "output_type": "stream",
     "text": [
      "Model mnist\n",
      "Version v.simple_NN.20240417155921\n",
      "Version v.convolutedNN.202404171600521\n",
      "Version v.simple_NN.20240418124507\n",
      "Version v.simple_NN.20240419072531\n",
      "Version v.convolutedNN.202404190726401\n",
      "Version v.simple_NN.20240419073913\n",
      "Version v.convolutedNN.202404190740471\n",
      "Creating inference service for model: RegisteredModel(id='1', description='', external_id='', create_time_since_epoch=1713369565611, last_update_time_since_epoch=1713369565611, state=<ContextState.LIVE: 'LIVE'>, name='mnist')\n",
      "Model version: ModelVersion(name='v.simple_NN.20240419073913', id='7', description='demo20231121 e2e MNIST', external_id='', create_time_since_epoch=1713512361312, last_update_time_since_epoch=1713512361312, state=<ContextState.LIVE: 'LIVE'>, model_name='mnist', version='v.simple_NN.20240419073913', author='feast-dev@redhat.com', metadata={}, artifacts=NOTHING, _registered_model_id=NOTHING)\n",
      "Model artifact: ModelArtifact(id='6', description='', external_id='', create_time_since_epoch=1713512362011, last_update_time_since_epoch=1713512362011, name='mnist', uri='s3://feast/v.simple_NN.20240419073913/simple_NN.onnx', state=<ArtifactState.UNKNOWN: 0>, model_format_name='onnx', model_format_version='1', storage_key='aws-connection-feast', storage_path='v.simple_NN.20240419073913', service_account_name='', _model_version_id=NOTHING)\n"
     ]
    }
   ],
   "source": [
    "registry = modelRegistry()\n",
    "\n",
    "models = registry._api.get_registered_models()\n",
    "for model in models:\n",
    "    print(f\"Model {model.name}\")\n",
    "    model_versions = registry._api.get_model_versions(model.id)\n",
    "    for model_version in model_versions:\n",
    "        print(f\"Version {model_version.name}\")\n",
    "        \n",
    "# Update the logic to select the model and the version\n",
    "selected_model = models[0]\n",
    "live_model_versions = [m for m in registry._api.get_model_versions(selected_model.id) if m.state!=ContextState.ARCHIVED]\n",
    "selected_model_version = live_model_versions[0]\n",
    "selected_model_artifact = registry._api.get_model_artifacts(selected_model_version.id)[0]\n",
    "\n",
    "print(f\"Creating inference service for model: {selected_model}\")\n",
    "print(f\"Model version: {selected_model_version}\")\n",
    "print(f\"Model artifact: {selected_model_artifact}\")"
   ]
  },
  {
   "cell_type": "code",
   "execution_count": null,
   "id": "7ecc4b00-8bd5-43b1-ab2e-dd979dff6f11",
   "metadata": {},
   "outputs": [],
   "source": []
  }
 ],
 "metadata": {
  "kernelspec": {
   "display_name": "Python 3.9",
   "language": "python",
   "name": "python3"
  },
  "language_info": {
   "codemirror_mode": {
    "name": "ipython",
    "version": 3
   },
   "file_extension": ".py",
   "mimetype": "text/x-python",
   "name": "python",
   "nbconvert_exporter": "python",
   "pygments_lexer": "ipython3",
   "version": "3.9.18"
  }
 },
 "nbformat": 4,
 "nbformat_minor": 5
}
