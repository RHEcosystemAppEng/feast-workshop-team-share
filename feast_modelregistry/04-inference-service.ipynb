{
 "cells": [
  {
   "cell_type": "markdown",
   "id": "8a8d4067-52fb-4988-b8e8-144086c5da4c",
   "metadata": {},
   "source": [
    "# Inference Service"
   ]
  },
  {
   "cell_type": "markdown",
   "id": "56c3d31a-055e-47f2-99d2-b612dd2497bf",
   "metadata": {},
   "source": [
    "* Create an inference service to serve one of the registered models\n",
    "* Fetch online features and calculate predictions from the inference service"
   ]
  },
  {
   "cell_type": "code",
   "execution_count": 46,
   "id": "ee21f58d-167e-4bfa-a2e2-53ee9cc5b70c",
   "metadata": {
    "tags": []
   },
   "outputs": [
    {
     "name": "stdout",
     "output_type": "stream",
     "text": [
      "Collecting ml-metadata==1.14.0+remote.1\n",
      "  Downloading https://github.com/opendatahub-io/ml-metadata/releases/download/v1.14.0%2Bremote.1/ml_metadata-1.14.0+remote.1-py3-none-any.whl (78 kB)\n",
      "\u001b[2K     \u001b[90m━━━━━━━━━━━━━━━━━━━━━━━━━━━━━━━━━━━━━━━━\u001b[0m \u001b[32m78.4/78.4 kB\u001b[0m \u001b[31m5.9 MB/s\u001b[0m eta \u001b[36m0:00:00\u001b[0m\n",
      "\u001b[?25hRequirement already satisfied: model-registry==0.1.2 in /opt/app-root/lib/python3.9/site-packages (0.1.2)\n",
      "E0419 14:32:46.722302831   15001 backup_poller.cc:127]                 Run client channel backup poller: UNKNOWN:pollset_work {created_time:\"2024-04-19T14:32:46.722108608+00:00\", children:[UNKNOWN:Bad file descriptor {syscall:\"epoll_wait\", os_error:\"Bad file descriptor\", errno:9, created_time:\"2024-04-19T14:32:46.72204918+00:00\"}]}\n",
      "Found existing installation: ray 2.9.3\n",
      "Uninstalling ray-2.9.3:\n",
      "  Successfully uninstalled ray-2.9.3\n",
      "Collecting ray<=2.9.3,>=2.9.2 (from ray[serve]<=2.9.3,>=2.9.2)\n",
      "  Downloading ray-2.9.3-cp39-cp39-manylinux2014_x86_64.whl.metadata (13 kB)\n",
      "Requirement already satisfied: click>=7.0 in /opt/app-root/lib/python3.9/site-packages (from ray<=2.9.3,>=2.9.2->ray[serve]<=2.9.3,>=2.9.2) (8.1.7)\n",
      "Requirement already satisfied: filelock in /opt/app-root/lib/python3.9/site-packages (from ray<=2.9.3,>=2.9.2->ray[serve]<=2.9.3,>=2.9.2) (3.13.1)\n",
      "Requirement already satisfied: jsonschema in /opt/app-root/lib/python3.9/site-packages (from ray<=2.9.3,>=2.9.2->ray[serve]<=2.9.3,>=2.9.2) (4.21.1)\n",
      "Requirement already satisfied: msgpack<2.0.0,>=1.0.0 in /opt/app-root/lib/python3.9/site-packages (from ray<=2.9.3,>=2.9.2->ray[serve]<=2.9.3,>=2.9.2) (1.0.7)\n",
      "Requirement already satisfied: packaging in /opt/app-root/lib/python3.9/site-packages (from ray<=2.9.3,>=2.9.2->ray[serve]<=2.9.3,>=2.9.2) (23.2)\n",
      "Requirement already satisfied: protobuf!=3.19.5,>=3.15.3 in /opt/app-root/lib/python3.9/site-packages (from ray<=2.9.3,>=2.9.2->ray[serve]<=2.9.3,>=2.9.2) (4.23.3)\n",
      "Requirement already satisfied: pyyaml in /opt/app-root/lib/python3.9/site-packages (from ray<=2.9.3,>=2.9.2->ray[serve]<=2.9.3,>=2.9.2) (6.0.1)\n",
      "Requirement already satisfied: aiosignal in /opt/app-root/lib/python3.9/site-packages (from ray<=2.9.3,>=2.9.2->ray[serve]<=2.9.3,>=2.9.2) (1.3.1)\n",
      "Requirement already satisfied: frozenlist in /opt/app-root/lib/python3.9/site-packages (from ray<=2.9.3,>=2.9.2->ray[serve]<=2.9.3,>=2.9.2) (1.4.1)\n",
      "Requirement already satisfied: requests in /opt/app-root/lib/python3.9/site-packages (from ray<=2.9.3,>=2.9.2->ray[serve]<=2.9.3,>=2.9.2) (2.31.0)\n",
      "Requirement already satisfied: pydantic!=2.0.*,!=2.1.*,!=2.2.*,!=2.3.*,!=2.4.*,<3 in /opt/app-root/lib/python3.9/site-packages (from ray[serve]<=2.9.3,>=2.9.2) (2.7.0)\n",
      "Requirement already satisfied: smart-open in /opt/app-root/lib/python3.9/site-packages (from ray[serve]<=2.9.3,>=2.9.2) (7.0.1)\n",
      "Requirement already satisfied: uvicorn[standard] in /opt/app-root/lib/python3.9/site-packages (from ray[serve]<=2.9.3,>=2.9.2) (0.19.0)\n",
      "Collecting fastapi<=0.108.0 (from ray[serve]<=2.9.3,>=2.9.2)\n",
      "  Downloading fastapi-0.108.0-py3-none-any.whl.metadata (24 kB)\n",
      "Requirement already satisfied: aiohttp>=3.7 in /opt/app-root/lib/python3.9/site-packages (from ray[serve]<=2.9.3,>=2.9.2) (3.9.3)\n",
      "Requirement already satisfied: aiohttp-cors in /opt/app-root/lib/python3.9/site-packages (from ray[serve]<=2.9.3,>=2.9.2) (0.7.0)\n",
      "Requirement already satisfied: py-spy>=0.2.0 in /opt/app-root/lib/python3.9/site-packages (from ray[serve]<=2.9.3,>=2.9.2) (0.3.14)\n",
      "Requirement already satisfied: gpustat>=1.0.0 in /opt/app-root/lib/python3.9/site-packages (from ray[serve]<=2.9.3,>=2.9.2) (1.1.1)\n",
      "Requirement already satisfied: opencensus in /opt/app-root/lib/python3.9/site-packages (from ray[serve]<=2.9.3,>=2.9.2) (0.11.4)\n",
      "Requirement already satisfied: prometheus-client>=0.7.1 in /opt/app-root/lib/python3.9/site-packages (from ray[serve]<=2.9.3,>=2.9.2) (0.13.1)\n",
      "Requirement already satisfied: watchfiles in /opt/app-root/lib/python3.9/site-packages (from ray[serve]<=2.9.3,>=2.9.2) (0.21.0)\n",
      "Requirement already satisfied: virtualenv!=20.21.1,>=20.0.24 in /opt/app-root/lib/python3.9/site-packages (from ray[serve]<=2.9.3,>=2.9.2) (20.21.0)\n",
      "Requirement already satisfied: starlette in /opt/app-root/lib/python3.9/site-packages (from ray[serve]<=2.9.3,>=2.9.2) (0.37.2)\n",
      "Requirement already satisfied: aiorwlock in /opt/app-root/lib/python3.9/site-packages (from ray[serve]<=2.9.3,>=2.9.2) (1.4.0)\n",
      "Requirement already satisfied: colorful in /opt/app-root/lib/python3.9/site-packages (from ray[serve]<=2.9.3,>=2.9.2) (0.5.6)\n",
      "Requirement already satisfied: grpcio>=1.32.0 in /opt/app-root/lib/python3.9/site-packages (from ray[serve]<=2.9.3,>=2.9.2) (1.62.1)\n",
      "Requirement already satisfied: attrs>=17.3.0 in /opt/app-root/lib/python3.9/site-packages (from aiohttp>=3.7->ray[serve]<=2.9.3,>=2.9.2) (23.2.0)\n",
      "Requirement already satisfied: multidict<7.0,>=4.5 in /opt/app-root/lib/python3.9/site-packages (from aiohttp>=3.7->ray[serve]<=2.9.3,>=2.9.2) (6.0.5)\n",
      "Requirement already satisfied: yarl<2.0,>=1.0 in /opt/app-root/lib/python3.9/site-packages (from aiohttp>=3.7->ray[serve]<=2.9.3,>=2.9.2) (1.9.4)\n",
      "Requirement already satisfied: async-timeout<5.0,>=4.0 in /opt/app-root/lib/python3.9/site-packages (from aiohttp>=3.7->ray[serve]<=2.9.3,>=2.9.2) (4.0.3)\n",
      "Collecting starlette (from ray[serve]<=2.9.3,>=2.9.2)\n",
      "  Downloading starlette-0.32.0.post1-py3-none-any.whl.metadata (5.8 kB)\n",
      "Requirement already satisfied: typing-extensions>=4.8.0 in /opt/app-root/lib/python3.9/site-packages (from fastapi<=0.108.0->ray[serve]<=2.9.3,>=2.9.2) (4.11.0)\n",
      "Requirement already satisfied: nvidia-ml-py>=11.450.129 in /opt/app-root/lib/python3.9/site-packages (from gpustat>=1.0.0->ray[serve]<=2.9.3,>=2.9.2) (12.535.133)\n",
      "Requirement already satisfied: psutil>=5.6.0 in /opt/app-root/lib/python3.9/site-packages (from gpustat>=1.0.0->ray[serve]<=2.9.3,>=2.9.2) (5.9.8)\n",
      "Requirement already satisfied: blessed>=1.17.1 in /opt/app-root/lib/python3.9/site-packages (from gpustat>=1.0.0->ray[serve]<=2.9.3,>=2.9.2) (1.20.0)\n",
      "Requirement already satisfied: annotated-types>=0.4.0 in /opt/app-root/lib/python3.9/site-packages (from pydantic!=2.0.*,!=2.1.*,!=2.2.*,!=2.3.*,!=2.4.*,<3->ray[serve]<=2.9.3,>=2.9.2) (0.6.0)\n",
      "Requirement already satisfied: pydantic-core==2.18.1 in /opt/app-root/lib/python3.9/site-packages (from pydantic!=2.0.*,!=2.1.*,!=2.2.*,!=2.3.*,!=2.4.*,<3->ray[serve]<=2.9.3,>=2.9.2) (2.18.1)\n",
      "Requirement already satisfied: anyio<5,>=3.4.0 in /opt/app-root/lib/python3.9/site-packages (from starlette->ray[serve]<=2.9.3,>=2.9.2) (4.3.0)\n",
      "Requirement already satisfied: distlib<1,>=0.3.6 in /opt/app-root/lib/python3.9/site-packages (from virtualenv!=20.21.1,>=20.0.24->ray[serve]<=2.9.3,>=2.9.2) (0.3.8)\n",
      "Requirement already satisfied: platformdirs<4,>=2.4 in /opt/app-root/lib/python3.9/site-packages (from virtualenv!=20.21.1,>=20.0.24->ray[serve]<=2.9.3,>=2.9.2) (3.11.0)\n",
      "Requirement already satisfied: jsonschema-specifications>=2023.03.6 in /opt/app-root/lib/python3.9/site-packages (from jsonschema->ray<=2.9.3,>=2.9.2->ray[serve]<=2.9.3,>=2.9.2) (2023.12.1)\n",
      "Requirement already satisfied: referencing>=0.28.4 in /opt/app-root/lib/python3.9/site-packages (from jsonschema->ray<=2.9.3,>=2.9.2->ray[serve]<=2.9.3,>=2.9.2) (0.33.0)\n",
      "Requirement already satisfied: rpds-py>=0.7.1 in /opt/app-root/lib/python3.9/site-packages (from jsonschema->ray<=2.9.3,>=2.9.2->ray[serve]<=2.9.3,>=2.9.2) (0.18.0)\n",
      "Requirement already satisfied: opencensus-context>=0.1.3 in /opt/app-root/lib/python3.9/site-packages (from opencensus->ray[serve]<=2.9.3,>=2.9.2) (0.1.3)\n",
      "Requirement already satisfied: six~=1.16 in /opt/app-root/lib/python3.9/site-packages (from opencensus->ray[serve]<=2.9.3,>=2.9.2) (1.16.0)\n",
      "Requirement already satisfied: google-api-core<3.0.0,>=1.0.0 in /opt/app-root/lib/python3.9/site-packages (from opencensus->ray[serve]<=2.9.3,>=2.9.2) (2.17.1)\n",
      "Requirement already satisfied: charset-normalizer<4,>=2 in /opt/app-root/lib/python3.9/site-packages (from requests->ray<=2.9.3,>=2.9.2->ray[serve]<=2.9.3,>=2.9.2) (3.3.2)\n",
      "Requirement already satisfied: idna<4,>=2.5 in /opt/app-root/lib/python3.9/site-packages (from requests->ray<=2.9.3,>=2.9.2->ray[serve]<=2.9.3,>=2.9.2) (3.6)\n",
      "Requirement already satisfied: urllib3<3,>=1.21.1 in /opt/app-root/lib/python3.9/site-packages (from requests->ray<=2.9.3,>=2.9.2->ray[serve]<=2.9.3,>=2.9.2) (1.26.18)\n",
      "Requirement already satisfied: certifi>=2017.4.17 in /opt/app-root/lib/python3.9/site-packages (from requests->ray<=2.9.3,>=2.9.2->ray[serve]<=2.9.3,>=2.9.2) (2024.2.2)\n",
      "Requirement already satisfied: wrapt in /opt/app-root/lib/python3.9/site-packages (from smart-open->ray[serve]<=2.9.3,>=2.9.2) (1.16.0)\n",
      "Requirement already satisfied: h11>=0.8 in /opt/app-root/lib/python3.9/site-packages (from uvicorn[standard]; extra == \"serve\"->ray[serve]<=2.9.3,>=2.9.2) (0.14.0)\n",
      "Requirement already satisfied: httptools>=0.5.0 in /opt/app-root/lib/python3.9/site-packages (from uvicorn[standard]; extra == \"serve\"->ray[serve]<=2.9.3,>=2.9.2) (0.6.1)\n",
      "Requirement already satisfied: python-dotenv>=0.13 in /opt/app-root/lib/python3.9/site-packages (from uvicorn[standard]; extra == \"serve\"->ray[serve]<=2.9.3,>=2.9.2) (1.0.1)\n",
      "Requirement already satisfied: uvloop!=0.15.0,!=0.15.1,>=0.14.0 in /opt/app-root/lib/python3.9/site-packages (from uvicorn[standard]; extra == \"serve\"->ray[serve]<=2.9.3,>=2.9.2) (0.19.0)\n",
      "Requirement already satisfied: websockets>=10.0 in /opt/app-root/lib/python3.9/site-packages (from uvicorn[standard]; extra == \"serve\"->ray[serve]<=2.9.3,>=2.9.2) (12.0)\n",
      "Requirement already satisfied: sniffio>=1.1 in /opt/app-root/lib/python3.9/site-packages (from anyio<5,>=3.4.0->starlette->ray[serve]<=2.9.3,>=2.9.2) (1.3.1)\n",
      "Requirement already satisfied: exceptiongroup>=1.0.2 in /opt/app-root/lib/python3.9/site-packages (from anyio<5,>=3.4.0->starlette->ray[serve]<=2.9.3,>=2.9.2) (1.2.0)\n",
      "Requirement already satisfied: wcwidth>=0.1.4 in /opt/app-root/lib/python3.9/site-packages (from blessed>=1.17.1->gpustat>=1.0.0->ray[serve]<=2.9.3,>=2.9.2) (0.2.13)\n",
      "Requirement already satisfied: googleapis-common-protos<2.0.dev0,>=1.56.2 in /opt/app-root/lib/python3.9/site-packages (from google-api-core<3.0.0,>=1.0.0->opencensus->ray[serve]<=2.9.3,>=2.9.2) (1.62.0)\n",
      "Requirement already satisfied: google-auth<3.0.dev0,>=2.14.1 in /opt/app-root/lib/python3.9/site-packages (from google-api-core<3.0.0,>=1.0.0->opencensus->ray[serve]<=2.9.3,>=2.9.2) (2.28.1)\n",
      "Requirement already satisfied: cachetools<6.0,>=2.0.0 in /opt/app-root/lib/python3.9/site-packages (from google-auth<3.0.dev0,>=2.14.1->google-api-core<3.0.0,>=1.0.0->opencensus->ray[serve]<=2.9.3,>=2.9.2) (5.3.3)\n",
      "Requirement already satisfied: pyasn1-modules>=0.2.1 in /opt/app-root/lib/python3.9/site-packages (from google-auth<3.0.dev0,>=2.14.1->google-api-core<3.0.0,>=1.0.0->opencensus->ray[serve]<=2.9.3,>=2.9.2) (0.3.0)\n",
      "Requirement already satisfied: rsa<5,>=3.1.4 in /opt/app-root/lib/python3.9/site-packages (from google-auth<3.0.dev0,>=2.14.1->google-api-core<3.0.0,>=1.0.0->opencensus->ray[serve]<=2.9.3,>=2.9.2) (4.7.2)\n",
      "Requirement already satisfied: pyasn1<0.6.0,>=0.4.6 in /opt/app-root/lib/python3.9/site-packages (from pyasn1-modules>=0.2.1->google-auth<3.0.dev0,>=2.14.1->google-api-core<3.0.0,>=1.0.0->opencensus->ray[serve]<=2.9.3,>=2.9.2) (0.5.1)\n",
      "Downloading ray-2.9.3-cp39-cp39-manylinux2014_x86_64.whl (64.9 MB)\n",
      "\u001b[2K   \u001b[90m━━━━━━━━━━━━━━━━━━━━━━━━━━━━━━━━━━━━━━━━\u001b[0m \u001b[32m64.9/64.9 MB\u001b[0m \u001b[31m227.6 MB/s\u001b[0m eta \u001b[36m0:00:00\u001b[0ma \u001b[36m0:00:01\u001b[0m\n",
      "\u001b[?25hDownloading fastapi-0.108.0-py3-none-any.whl (92 kB)\n",
      "\u001b[2K   \u001b[90m━━━━━━━━━━━━━━━━━━━━━━━━━━━━━━━━━━━━━━━━\u001b[0m \u001b[32m92.0/92.0 kB\u001b[0m \u001b[31m286.9 MB/s\u001b[0m eta \u001b[36m0:00:00\u001b[0m\n",
      "\u001b[?25hDownloading starlette-0.32.0.post1-py3-none-any.whl (70 kB)\n",
      "\u001b[2K   \u001b[90m━━━━━━━━━━━━━━━━━━━━━━━━━━━━━━━━━━━━━━━━\u001b[0m \u001b[32m70.0/70.0 kB\u001b[0m \u001b[31m172.0 MB/s\u001b[0m eta \u001b[36m0:00:00\u001b[0m\n",
      "\u001b[?25hInstalling collected packages: starlette, fastapi, ray\n",
      "  Attempting uninstall: starlette\n",
      "    Found existing installation: starlette 0.37.2\n",
      "    Uninstalling starlette-0.37.2:\n",
      "      Successfully uninstalled starlette-0.37.2\n",
      "  Attempting uninstall: fastapi\n",
      "    Found existing installation: fastapi 0.110.2\n",
      "    Uninstalling fastapi-0.110.2:\n",
      "      Successfully uninstalled fastapi-0.110.2\n",
      "\u001b[31mERROR: pip's dependency resolver does not currently take into account all the packages that are installed. This behaviour is the source of the following dependency conflicts.\n",
      "codeflare-sdk 0.14.1 requires pydantic<2, but you have pydantic 2.7.0 which is incompatible.\n",
      "codeflare-sdk 0.14.1 requires ray[data,default]==2.7.0, but you have ray 2.9.3 which is incompatible.\n",
      "codeflare-sdk 0.14.1 requires rich<13.0,>=12.5, but you have rich 13.7.1 which is incompatible.\n",
      "kserve 0.12.0 requires fastapi<0.96.0,>=0.95.0, but you have fastapi 0.108.0 which is incompatible.\n",
      "kserve 0.12.0 requires protobuf<4.0.0,>=3.19.0, but you have protobuf 4.23.3 which is incompatible.\u001b[0m\u001b[31m\n",
      "\u001b[0mSuccessfully installed fastapi-0.108.0 ray-2.9.3 starlette-0.32.0.post1\n",
      "\u001b[31mERROR: pip's dependency resolver does not currently take into account all the packages that are installed. This behaviour is the source of the following dependency conflicts.\n",
      "codeflare-sdk 0.14.1 requires ray[data,default]==2.7.0, but you have ray 2.9.3 which is incompatible.\n",
      "codeflare-sdk 0.14.1 requires rich<13.0,>=12.5, but you have rich 13.7.1 which is incompatible.\n",
      "feast 0.36.0 requires pydantic>=2.0.0, but you have pydantic 1.10.15 which is incompatible.\n",
      "grpcio-health-checking 1.62.1 requires protobuf>=4.21.6, but you have protobuf 3.20.3 which is incompatible.\n",
      "grpcio-reflection 1.62.1 requires protobuf>=4.21.6, but you have protobuf 3.20.3 which is incompatible.\n",
      "grpcio-tools 1.62.1 requires protobuf<5.0dev,>=4.21.6, but you have protobuf 3.20.3 which is incompatible.\n",
      "ml-metadata 1.14.0+remote.1 requires attrs<22,>=20.3, but you have attrs 23.2.0 which is incompatible.\n",
      "model-registry 0.1.2 requires attrs<22.0,>=21.0, but you have attrs 23.2.0 which is incompatible.\n",
      "tensorflow 2.13.1 requires typing-extensions<4.6.0,>=3.6.6, but you have typing-extensions 4.11.0 which is incompatible.\u001b[0m\u001b[31m\n",
      "\u001b[0mmemray                          1.12.0\n",
      "ray                             2.9.3\n"
     ]
    }
   ],
   "source": [
    "# !pip install --upgrade pip\n",
    "# !cat requirements.`txt\n",
    "# !pip install -q -r requirements.txt\n",
    "# !pip uninstall -r requirements.txt --yes\n",
    "# !pip install --no-deps feast==0.36.0\n",
    "!pip install --no-deps --ignore-requires-python \"https://github.com/opendatahub-io/ml-metadata/releases/download/v1.14.0%2Bremote.1/ml_metadata-1.14.0+remote.1-py3-none-any.whl\" # need a Python 3.11 compatible version\n",
    "!pip install --no-deps --ignore-requires-python \"model-registry==0.1.2\" # ignore dependencies because of the above override\n",
    "!pip uninstall ray --yes\n",
    "!pip install \"ray[serve]<=2.9.3,>=2.9.2\"\n",
    "!pip install kserve[storage]>=0.12.0\n",
    "!pip list | grep ray"
   ]
  },
  {
   "cell_type": "markdown",
   "id": "26729afa-49c4-4b39-933a-510972818943",
   "metadata": {},
   "source": [
    "## Imports and constants"
   ]
  },
  {
   "cell_type": "code",
   "execution_count": 47,
   "id": "7ef9c776-b5ee-4893-a109-6abd8b6e1113",
   "metadata": {
    "tags": []
   },
   "outputs": [],
   "source": [
    "import os\n",
    "\n",
    "import boto3\n",
    "import matplotlib.pyplot as plt\n",
    "# import onnx\n",
    "# import onnxruntime as ort\n",
    "# from feast import FeatureStore\n",
    "from kubernetes import client \n",
    "from kserve import KServeClient\n",
    "from kserve import constants\n",
    "from kserve import utils\n",
    "from kserve import V1beta1InferenceService\n",
    "from kserve import V1beta1InferenceServiceSpec\n",
    "from kserve import V1beta1PredictorSpec\n",
    "from kserve import V1beta1SKLearnSpec\n",
    "from kserve import V1beta1ModelSpec\n",
    "from kserve import V1beta1ModelFormat\n",
    "from kserve import V1alpha1ServingRuntime\n",
    "\n",
    "from model_registry import ModelRegistry\n",
    "from model_registry.types import ContextState\n",
    "from ray.serve.handle import RayServeHandle"
   ]
  },
  {
   "cell_type": "code",
   "execution_count": 48,
   "id": "b88f0cf4-505d-4684-b921-13c9437ead73",
   "metadata": {
    "tags": []
   },
   "outputs": [],
   "source": [
    "os.environ['accesskey'] = 'minio'\n",
    "os.environ['secretkey'] = 'minio123'\n",
    "os.environ['AWS_S3_ENDPOINT'] = 'http://minio-service.feast.svc.cluster.local:9000'\n",
    "os.environ['AWS_S3_BUCKET'] = 'feast'\n",
    "os.environ['AWS_DEFAULT_REGION'] = 'default'"
   ]
  },
  {
   "cell_type": "code",
   "execution_count": 49,
   "id": "11d65096-6c2e-4495-a7ae-56ef14461aee",
   "metadata": {
    "tags": []
   },
   "outputs": [
    {
     "name": "stdout",
     "output_type": "stream",
     "text": [
      "env: MODEL_NAMESPACE=feast-runbook\n"
     ]
    }
   ],
   "source": [
    "%env MODEL_NAMESPACE=feast-runbook"
   ]
  },
  {
   "cell_type": "markdown",
   "id": "85886c96-faf8-46bb-a07f-0f51b7952bb2",
   "metadata": {},
   "source": [
    "## Shared functions"
   ]
  },
  {
   "cell_type": "code",
   "execution_count": 50,
   "id": "7624695f-5233-4aa5-adbe-c7f1daccea5b",
   "metadata": {
    "tags": []
   },
   "outputs": [],
   "source": [
    "def modelRegistry():\n",
    "    return ModelRegistry(server_address=\"modelregistry-sample.feast-runbook.svc.cluster.local\", port=9090, author=\"feast-dev@redhat.com\")"
   ]
  },
  {
   "cell_type": "code",
   "execution_count": 51,
   "id": "647f1fcc-bbb9-46d2-b0d8-b29abf96fdf3",
   "metadata": {
    "tags": []
   },
   "outputs": [
    {
     "name": "stderr",
     "output_type": "stream",
     "text": [
      "INFO:absl:MetadataStore with gRPC connection initialized\n"
     ]
    },
    {
     "ename": "StoreException",
     "evalue": "Context type kf.RegisteredModel does not exist",
     "output_type": "error",
     "traceback": [
      "\u001b[0;31m---------------------------------------------------------------------------\u001b[0m",
      "\u001b[0;31mStoreException\u001b[0m                            Traceback (most recent call last)",
      "Cell \u001b[0;32mIn[51], line 3\u001b[0m\n\u001b[1;32m      1\u001b[0m registry \u001b[38;5;241m=\u001b[39m modelRegistry()\n\u001b[0;32m----> 3\u001b[0m models \u001b[38;5;241m=\u001b[39m \u001b[43mregistry\u001b[49m\u001b[38;5;241;43m.\u001b[39;49m\u001b[43m_api\u001b[49m\u001b[38;5;241;43m.\u001b[39;49m\u001b[43mget_registered_models\u001b[49m\u001b[43m(\u001b[49m\u001b[43m)\u001b[49m\n\u001b[1;32m      4\u001b[0m \u001b[38;5;28;01mfor\u001b[39;00m model \u001b[38;5;129;01min\u001b[39;00m models:\n\u001b[1;32m      5\u001b[0m     \u001b[38;5;28mprint\u001b[39m(\u001b[38;5;124mf\u001b[39m\u001b[38;5;124m\"\u001b[39m\u001b[38;5;124mModel \u001b[39m\u001b[38;5;132;01m{\u001b[39;00mmodel\u001b[38;5;241m.\u001b[39mname\u001b[38;5;132;01m}\u001b[39;00m\u001b[38;5;124m\"\u001b[39m)\n",
      "File \u001b[0;32m/opt/app-root/lib64/python3.9/site-packages/model_registry/core.py:143\u001b[0m, in \u001b[0;36mModelRegistryAPIClient.get_registered_models\u001b[0;34m(self, options)\u001b[0m\n\u001b[1;32m    134\u001b[0m \u001b[38;5;250m\u001b[39m\u001b[38;5;124;03m\"\"\"Fetch registered models.\u001b[39;00m\n\u001b[1;32m    135\u001b[0m \n\u001b[1;32m    136\u001b[0m \u001b[38;5;124;03mArgs:\u001b[39;00m\n\u001b[0;32m   (...)\u001b[0m\n\u001b[1;32m    140\u001b[0m \u001b[38;5;124;03m    Registered models.\u001b[39;00m\n\u001b[1;32m    141\u001b[0m \u001b[38;5;124;03m\"\"\"\u001b[39;00m\n\u001b[1;32m    142\u001b[0m mlmd_options \u001b[38;5;241m=\u001b[39m options\u001b[38;5;241m.\u001b[39mas_mlmd_list_options() \u001b[38;5;28;01mif\u001b[39;00m options \u001b[38;5;28;01melse\u001b[39;00m MLMDListOptions()\n\u001b[0;32m--> 143\u001b[0m proto_rms \u001b[38;5;241m=\u001b[39m \u001b[38;5;28;43mself\u001b[39;49m\u001b[38;5;241;43m.\u001b[39;49m\u001b[43m_store\u001b[49m\u001b[38;5;241;43m.\u001b[39;49m\u001b[43mget_contexts\u001b[49m\u001b[43m(\u001b[49m\n\u001b[1;32m    144\u001b[0m \u001b[43m    \u001b[49m\u001b[43mRegisteredModel\u001b[49m\u001b[38;5;241;43m.\u001b[39;49m\u001b[43mget_proto_type_name\u001b[49m\u001b[43m(\u001b[49m\u001b[43m)\u001b[49m\u001b[43m,\u001b[49m\u001b[43m \u001b[49m\u001b[43mmlmd_options\u001b[49m\n\u001b[1;32m    145\u001b[0m \u001b[43m\u001b[49m\u001b[43m)\u001b[49m\n\u001b[1;32m    146\u001b[0m \u001b[38;5;28;01mreturn\u001b[39;00m [RegisteredModel\u001b[38;5;241m.\u001b[39munmap(proto_rm) \u001b[38;5;28;01mfor\u001b[39;00m proto_rm \u001b[38;5;129;01min\u001b[39;00m proto_rms]\n",
      "File \u001b[0;32m/opt/app-root/lib64/python3.9/site-packages/model_registry/store/wrapper.py:200\u001b[0m, in \u001b[0;36mMLMDStore.get_contexts\u001b[0;34m(self, ctx_type_name, options)\u001b[0m\n\u001b[1;32m    198\u001b[0m \u001b[38;5;28;01mif\u001b[39;00m \u001b[38;5;129;01mnot\u001b[39;00m contexts:\n\u001b[1;32m    199\u001b[0m     msg \u001b[38;5;241m=\u001b[39m \u001b[38;5;124mf\u001b[39m\u001b[38;5;124m\"\u001b[39m\u001b[38;5;124mContext type \u001b[39m\u001b[38;5;132;01m{\u001b[39;00mctx_type_name\u001b[38;5;132;01m}\u001b[39;00m\u001b[38;5;124m does not exist\u001b[39m\u001b[38;5;124m\"\u001b[39m\n\u001b[0;32m--> 200\u001b[0m     \u001b[38;5;28;01mraise\u001b[39;00m StoreException(msg)\n\u001b[1;32m    202\u001b[0m \u001b[38;5;28;01mreturn\u001b[39;00m contexts\n",
      "\u001b[0;31mStoreException\u001b[0m: Context type kf.RegisteredModel does not exist"
     ]
    }
   ],
   "source": [
    "registry = modelRegistry()\n",
    "\n",
    "models = registry._api.get_registered_models()\n",
    "for model in models:\n",
    "    print(f\"Model {model.name}\")\n",
    "    model_versions = registry._api.get_model_versions(model.id)\n",
    "    for model_version in model_versions:\n",
    "        print(f\"Version {model_version.name}\")\n",
    "        \n",
    "# Update the logic to select the model and the version\n",
    "selected_model = models[0]\n",
    "live_model_versions = [m for m in registry._api.get_model_versions(selected_model.id) if m.state!=ContextState.ARCHIVED]\n",
    "selected_model_version = live_model_versions[0]\n",
    "selected_model_artifact = registry._api.get_model_artifacts(selected_model_version.id)[0]\n",
    "\n",
    "print(f\"Creating inference service for model: {selected_model}\")\n",
    "print(f\"Model version: {selected_model_version}\")\n",
    "print(f\"Model artifact: {selected_model_artifact}\")"
   ]
  },
  {
   "cell_type": "code",
   "execution_count": 33,
   "id": "075e4175-3adf-4421-bd84-3c5fa5bf1444",
   "metadata": {
    "tags": []
   },
   "outputs": [
    {
     "name": "stdout",
     "output_type": "stream",
     "text": [
      "env: MR_URL=http://modelregistry-sample.feast-runbook.svc.cluster.local:8080\n",
      "{\"items\":[],\"nextPageToken\":\"\",\"pageSize\":0,\"size\":0}\n"
     ]
    }
   ],
   "source": [
    "%env MR_URL=http://modelregistry-sample.feast-runbook.svc.cluster.local:8080\n",
    "!curl -X GET -H 'Accept: application/json' \"${MR_URL}/api/model_registry/v1alpha3/serving_environments\""
   ]
  },
  {
   "cell_type": "code",
   "execution_count": 34,
   "id": "2ca93a50-ac93-4fc0-82f2-559d0f70ddd2",
   "metadata": {
    "tags": []
   },
   "outputs": [
    {
     "name": "stdout",
     "output_type": "stream",
     "text": [
      "env: WORKSPACE=feast-runbook\n",
      "No resources found in feast-runbook namespace.\n"
     ]
    }
   ],
   "source": [
    "%env WORKSPACE=feast-runbook\n",
    "!oc get inferenceservices -n $WORKSPACE "
   ]
  },
  {
   "cell_type": "code",
   "execution_count": 9,
   "id": "bd9d85de-e04e-4b8a-a4f3-a886919edf57",
   "metadata": {
    "tags": []
   },
   "outputs": [],
   "source": [
    "# !oc describe inferenceservices mnist-simplenn -n $WORKSPACE"
   ]
  },
  {
   "cell_type": "code",
   "execution_count": 26,
   "id": "577e8e1f-1f9e-4105-a9a5-0b13876b9777",
   "metadata": {
    "tags": []
   },
   "outputs": [
    {
     "name": "stdout",
     "output_type": "stream",
     "text": [
      "env: MODEL_URL=http://modelmesh-serving.feast-runbook:8008\n"
     ]
    }
   ],
   "source": [
    "%env MODEL_URL=http://modelmesh-serving.feast-runbook:8008"
   ]
  },
  {
   "cell_type": "code",
   "execution_count": 27,
   "id": "7ecc4b00-8bd5-43b1-ab2e-dd979dff6f11",
   "metadata": {
    "tags": []
   },
   "outputs": [
    {
     "name": "stdout",
     "output_type": "stream",
     "text": [
      "curl: (6) Could not resolve host: modelmesh-serving.feast-runbook\n"
     ]
    }
   ],
   "source": [
    "!curl -X GET -H 'Accept: application/json' \"${MODEL_URL}/v1/models/mnist-simplenn\""
   ]
  },
  {
   "cell_type": "code",
   "execution_count": 28,
   "id": "c2a6e8ed-9835-4ddd-ad50-78440dd0fe41",
   "metadata": {
    "tags": []
   },
   "outputs": [
    {
     "name": "stdout",
     "output_type": "stream",
     "text": [
      "env: MODEL=http://modelmesh-serving.feast-runbook.svc.cluster.local:8008\n"
     ]
    }
   ],
   "source": [
    "%env MODEL=http://modelmesh-serving.feast-runbook.svc.cluster.local:8008"
   ]
  },
  {
   "cell_type": "code",
   "execution_count": 13,
   "id": "0bdd2fd6-ad06-44a9-aa0c-6e165f9a1e9f",
   "metadata": {
    "tags": []
   },
   "outputs": [
    {
     "name": "stdout",
     "output_type": "stream",
     "text": [
      "http://modelmesh-serving.feast-runbook.svc.cluster.local:8008\n"
     ]
    }
   ],
   "source": [
    "!echo $MODEL"
   ]
  },
  {
   "cell_type": "code",
   "execution_count": 14,
   "id": "d9dde9af-7d4d-4ea8-a227-584f05a6dcda",
   "metadata": {
    "tags": []
   },
   "outputs": [
    {
     "name": "stdout",
     "output_type": "stream",
     "text": [
      "* Could not resolve host: modelmesh-serving.feast-runbook.svc.cluster.local\n",
      "* Closing connection 0\n",
      "curl: (6) Could not resolve host: modelmesh-serving.feast-runbook.svc.cluster.local\n"
     ]
    }
   ],
   "source": [
    "!curl -v -H 'Accept: application/json' $MODEL/v2"
   ]
  },
  {
   "cell_type": "markdown",
   "id": "79e658ba-ed66-481e-9c7b-835167c4f875",
   "metadata": {
    "tags": []
   },
   "source": [
    "## Create the inference servicem"
   ]
  },
  {
   "cell_type": "markdown",
   "id": "58d496b9-e87f-4b01-9b60-8628e11d83f4",
   "metadata": {
    "tags": []
   },
   "source": [
    "**Prerequisites**\n",
    "* Create a `Model Server`called `mnist` under the current workspace `feast-runbook`"
   ]
  },
  {
   "cell_type": "markdown",
   "id": "f4e3ebc0-ce24-4537-8a4a-a62045197fab",
   "metadata": {
    "tags": []
   },
   "source": [
    "Create the `InferenceService` (see [Create the InferenceService](https://kserve.github.io/website/master/modelserving/v1beta1/onnx/#create-the-inferenceservice))"
   ]
  },
  {
   "cell_type": "code",
   "execution_count": 35,
   "id": "b0f3a54c-282f-44a2-a602-207864758e94",
   "metadata": {
    "tags": []
   },
   "outputs": [
    {
     "name": "stdout",
     "output_type": "stream",
     "text": [
      "Creating InferenceService {'api_version': 'serving.kserve.io/v1beta1',\n",
      " 'kind': 'InferenceService',\n",
      " 'metadata': {'annotations': None,\n",
      "              'creation_timestamp': None,\n",
      "              'deletion_grace_period_seconds': None,\n",
      "              'deletion_timestamp': None,\n",
      "              'finalizers': None,\n",
      "              'generate_name': None,\n",
      "              'generation': None,\n",
      "              'labels': {'modelregistry/model-version-id': '12',\n",
      "                         'modelregistry/registered-model-id': '1'},\n",
      "              'managed_fields': None,\n",
      "              'name': 'mnist',\n",
      "              'namespace': 'feast-runbook',\n",
      "              'owner_references': None,\n",
      "              'resource_version': None,\n",
      "              'self_link': None,\n",
      "              'uid': None},\n",
      " 'spec': {'explainer': None,\n",
      "          'predictor': {'active_deadline_seconds': None,\n",
      "                        'affinity': None,\n",
      "                        'annotations': None,\n",
      "                        'automount_service_account_token': None,\n",
      "                        'batcher': None,\n",
      "                        'canary_traffic_percent': None,\n",
      "                        'container_concurrency': None,\n",
      "                        'containers': None,\n",
      "                        'dns_config': None,\n",
      "                        'dns_policy': None,\n",
      "                        'enable_service_links': None,\n",
      "                        'ephemeral_containers': None,\n",
      "                        'host_aliases': None,\n",
      "                        'host_ipc': None,\n",
      "                        'host_network': None,\n",
      "                        'host_pid': None,\n",
      "                        'host_users': None,\n",
      "                        'hostname': None,\n",
      "                        'huggingface': None,\n",
      "                        'image_pull_secrets': None,\n",
      "                        'init_containers': None,\n",
      "                        'labels': None,\n",
      "                        'lightgbm': None,\n",
      "                        'logger': None,\n",
      "                        'max_replicas': None,\n",
      "                        'min_replicas': None,\n",
      "                        'model': {'args': None,\n",
      "                                  'command': None,\n",
      "                                  'env': None,\n",
      "                                  'env_from': None,\n",
      "                                  'image': None,\n",
      "                                  'image_pull_policy': None,\n",
      "                                  'lifecycle': None,\n",
      "                                  'liveness_probe': None,\n",
      "                                  'model_format': {'name': 'onnx',\n",
      "                                                   'version': '1'},\n",
      "                                  'name': '',\n",
      "                                  'ports': None,\n",
      "                                  'protocol_version': 'v2',\n",
      "                                  'readiness_probe': None,\n",
      "                                  'resize_policy': None,\n",
      "                                  'resources': None,\n",
      "                                  'restart_policy': None,\n",
      "                                  'runtime': 'mnist',\n",
      "                                  'runtime_version': None,\n",
      "                                  'security_context': None,\n",
      "                                  'startup_probe': None,\n",
      "                                  'stdin': None,\n",
      "                                  'stdin_once': None,\n",
      "                                  'storage': None,\n",
      "                                  'storage_uri': 's3://feast/v.simple_NN.20240419101713/simple_NN.onnx?endpoint=http://minio-service.feast.svc.cluster.local:9000&defaultRegion=default',\n",
      "                                  'termination_message_path': None,\n",
      "                                  'termination_message_policy': None,\n",
      "                                  'tty': None,\n",
      "                                  'volume_devices': None,\n",
      "                                  'volume_mounts': None,\n",
      "                                  'working_dir': None},\n",
      "                        'node_name': None,\n",
      "                        'node_selector': None,\n",
      "                        'onnx': None,\n",
      "                        'os': None,\n",
      "                        'overhead': None,\n",
      "                        'paddle': None,\n",
      "                        'pmml': None,\n",
      "                        'preemption_policy': None,\n",
      "                        'priority': None,\n",
      "                        'priority_class_name': None,\n",
      "                        'pytorch': None,\n",
      "                        'readiness_gates': None,\n",
      "                        'resource_claims': None,\n",
      "                        'restart_policy': None,\n",
      "                        'runtime_class_name': None,\n",
      "                        'scale_metric': None,\n",
      "                        'scale_target': None,\n",
      "                        'scheduler_name': None,\n",
      "                        'scheduling_gates': None,\n",
      "                        'security_context': None,\n",
      "                        'service_account': None,\n",
      "                        'service_account_name': None,\n",
      "                        'set_hostname_as_fqdn': None,\n",
      "                        'share_process_namespace': None,\n",
      "                        'sklearn': None,\n",
      "                        'subdomain': None,\n",
      "                        'tensorflow': None,\n",
      "                        'termination_grace_period_seconds': None,\n",
      "                        'timeout': None,\n",
      "                        'tolerations': None,\n",
      "                        'topology_spread_constraints': None,\n",
      "                        'triton': None,\n",
      "                        'volumes': None,\n",
      "                        'xgboost': None},\n",
      "          'transformer': None},\n",
      " 'status': None}\n"
     ]
    }
   ],
   "source": [
    "name=selected_model.name\n",
    "kserve_version='v1beta1'\n",
    "api_version = constants.KSERVE_GROUP + '/' + kserve_version\n",
    "namespace = os.environ['MODEL_NAMESPACE']\n",
    "storage_uri = selected_model_artifact.uri\n",
    "model_format_name = selected_model_artifact.model_format_name\n",
    "model_format_version = selected_model_artifact.model_format_version\n",
    "\n",
    "storageUri formatted like model-registry://{registeredModelName}/{versionName}\n",
    "\n",
    "isvc = V1beta1InferenceService(api_version=api_version,\n",
    "                               kind=constants.KSERVE_KIND,\n",
    "                               metadata=client.V1ObjectMeta(\n",
    "                                   name=name, namespace=namespace,\n",
    "                                   labels={'modelregistry/registered-model-id': selected_model.id, \n",
    "                                           'modelregistry/model-version-id': selected_model_version.id}\n",
    "                               ),\n",
    "                               spec=V1beta1InferenceServiceSpec(\n",
    "                                   predictor=V1beta1PredictorSpec(\n",
    "                                       model=V1beta1ModelSpec(\n",
    "                                           storage_uri=storage_uri,\n",
    "                                           model_format=V1beta1ModelFormat(name=model_format_name, version=model_format_version),\n",
    "                                           runtime=\"mnist\",\n",
    "                                           protocol_version='v2' # see https://kserve.github.io/website/master/modelserving/v1beta1/onnx/#create-the-inferenceservice\n",
    "                                 )\n",
    "                               )))\n",
    "print(f\"Creating InferenceService {isvc}\")"
   ]
  },
  {
   "cell_type": "code",
   "execution_count": 36,
   "id": "d47e71ea-8956-4321-bea1-e8532e77fd2e",
   "metadata": {
    "tags": []
   },
   "outputs": [
    {
     "data": {
      "text/plain": [
       "{'apiVersion': 'serving.kserve.io/v1beta1',\n",
       " 'kind': 'InferenceService',\n",
       " 'metadata': {'creationTimestamp': '2024-04-19T14:03:11Z',\n",
       "  'generation': 1,\n",
       "  'labels': {'modelregistry/model-version-id': '12',\n",
       "   'modelregistry/registered-model-id': '1'},\n",
       "  'managedFields': [{'apiVersion': 'serving.kserve.io/v1beta1',\n",
       "    'fieldsType': 'FieldsV1',\n",
       "    'fieldsV1': {'f:metadata': {'f:labels': {'.': {},\n",
       "       'f:modelregistry/model-version-id': {},\n",
       "       'f:modelregistry/registered-model-id': {}}},\n",
       "     'f:spec': {'.': {},\n",
       "      'f:predictor': {'.': {},\n",
       "       'f:model': {'.': {},\n",
       "        'f:modelFormat': {'.': {}, 'f:name': {}, 'f:version': {}},\n",
       "        'f:name': {},\n",
       "        'f:protocolVersion': {},\n",
       "        'f:runtime': {},\n",
       "        'f:storageUri': {}}}}},\n",
       "    'manager': 'OpenAPI-Generator',\n",
       "    'operation': 'Update',\n",
       "    'time': '2024-04-19T14:03:11Z'}],\n",
       "  'name': 'mnist',\n",
       "  'namespace': 'feast-runbook',\n",
       "  'resourceVersion': '2001438',\n",
       "  'uid': 'ffa12d39-6faf-469e-a0bc-a01da902aacd'},\n",
       " 'spec': {'predictor': {'model': {'modelFormat': {'name': 'onnx',\n",
       "     'version': '1'},\n",
       "    'name': '',\n",
       "    'protocolVersion': 'v2',\n",
       "    'runtime': 'mnist',\n",
       "    'storageUri': 's3://feast/v.simple_NN.20240419101713/simple_NN.onnx?endpoint=http://minio-service.feast.svc.cluster.local:9000&defaultRegion=default'}}}}"
      ]
     },
     "execution_count": 36,
     "metadata": {},
     "output_type": "execute_result"
    }
   ],
   "source": [
    "KServe = KServeClient()\n",
    "KServe.create(isvc)"
   ]
  },
  {
   "cell_type": "code",
   "execution_count": null,
   "id": "29ad71c4-5765-4938-a4d8-3574fd5a7d31",
   "metadata": {
    "tags": []
   },
   "outputs": [],
   "source": [
    "connection_secret = f'''\n",
    "kind: Secret\n",
    "apiVersion: v1\n",
    "metadata:\n",
    "  name: aws-connection-mnist-simplenn\n",
    "  namespace: feast-runbook\n",
    "  annotations:\n",
    "    opendatahub.io/connection-type: s3\n",
    "    openshift.io/display-name: mnist-simpleNN\n",
    "stringData:\n",
    "  AWS_ACCESS_KEY_ID: {os.environ['accesskey']}\n",
    "  AWS_DEFAULT_REGION: {os.environ['AWS_DEFAULT_REGION']}\n",
    "  AWS_S3_BUCKET: {os.environ['AWS_S3_BUCKET']}\n",
    "  AWS_S3_ENDPOINT: {os.environ['AWS_S3_ENDPOINT']}\n",
    "  AWS_SECRET_ACCESS_KEY: {os.environ['secretkey']}\n",
    "type: Opaque\n",
    "'''\n",
    "\n",
    "# with open(\"connection_secret.yaml\", 'w') as file:\n",
    "#     file.write(connection_secret)\n"
   ]
  },
  {
   "cell_type": "code",
   "execution_count": null,
   "id": "e5ff3eaf-e156-4916-ab54-1d67739d701f",
   "metadata": {},
   "outputs": [],
   "source": [
    "\"\"\"\n",
    "spec:\n",
    "  predictor:\n",
    "    model:\n",
    "      modelFormat:\n",
    "        name: onnx\n",
    "        version: '1'\n",
    "      runtime: mnist\n",
    "      storage:\n",
    "        key: aws-connection-mnistsimplenn\n",
    "        path: v.simple_NN.20240419101713/simple_NN.onnx\n",
    "\"\"\""
   ]
  },
  {
   "cell_type": "code",
   "execution_count": null,
   "id": "1a90692a-a2f6-4553-8cfa-04334c931c93",
   "metadata": {},
   "outputs": [],
   "source": []
  }
 ],
 "metadata": {
  "kernelspec": {
   "display_name": "Python 3.9",
   "language": "python",
   "name": "python3"
  },
  "language_info": {
   "codemirror_mode": {
    "name": "ipython",
    "version": 3
   },
   "file_extension": ".py",
   "mimetype": "text/x-python",
   "name": "python",
   "nbconvert_exporter": "python",
   "pygments_lexer": "ipython3",
   "version": "3.9.18"
  }
 },
 "nbformat": 4,
 "nbformat_minor": 5
}
