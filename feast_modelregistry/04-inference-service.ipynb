{
 "cells": [
  {
   "cell_type": "markdown",
   "id": "8a8d4067-52fb-4988-b8e8-144086c5da4c",
   "metadata": {},
   "source": [
    "# Inference Service"
   ]
  },
  {
   "cell_type": "markdown",
   "id": "56c3d31a-055e-47f2-99d2-b612dd2497bf",
   "metadata": {},
   "source": [
    "* Create an inference service to serve one of the registered models\n",
    "* Fetch online features and calculate predictions from the inference service"
   ]
  },
  {
   "cell_type": "code",
   "execution_count": 1,
   "id": "ee21f58d-167e-4bfa-a2e2-53ee9cc5b70c",
   "metadata": {
    "tags": []
   },
   "outputs": [
    {
     "name": "stdout",
     "output_type": "stream",
     "text": [
      "Collecting ml-metadata==1.14.0+remote.1\n",
      "  Downloading https://github.com/opendatahub-io/ml-metadata/releases/download/v1.14.0%2Bremote.1/ml_metadata-1.14.0+remote.1-py3-none-any.whl (78 kB)\n",
      "\u001b[2K     \u001b[90m━━━━━━━━━━━━━━━━━━━━━━━━━━━━━━━━━━━━━━━━\u001b[0m \u001b[32m78.4/78.4 kB\u001b[0m \u001b[31m5.9 MB/s\u001b[0m eta \u001b[36m0:00:00\u001b[0m\n",
      "\u001b[?25hInstalling collected packages: ml-metadata\n",
      "Successfully installed ml-metadata-1.14.0+remote.1\n",
      "\n",
      "\u001b[1m[\u001b[0m\u001b[34;49mnotice\u001b[0m\u001b[1;39;49m]\u001b[0m\u001b[39;49m A new release of pip available: \u001b[0m\u001b[31;49m22.2.2\u001b[0m\u001b[39;49m -> \u001b[0m\u001b[32;49m24.0\u001b[0m\n",
      "\u001b[1m[\u001b[0m\u001b[34;49mnotice\u001b[0m\u001b[1;39;49m]\u001b[0m\u001b[39;49m To update, run: \u001b[0m\u001b[32;49mpip install --upgrade pip\u001b[0m\n",
      "Collecting model-registry==0.1.2\n",
      "  Downloading model_registry-0.1.2-py3-none-any.whl (16 kB)\n",
      "Installing collected packages: model-registry\n",
      "Successfully installed model-registry-0.1.2\n",
      "\n",
      "\u001b[1m[\u001b[0m\u001b[34;49mnotice\u001b[0m\u001b[1;39;49m]\u001b[0m\u001b[39;49m A new release of pip available: \u001b[0m\u001b[31;49m22.2.2\u001b[0m\u001b[39;49m -> \u001b[0m\u001b[32;49m24.0\u001b[0m\n",
      "\u001b[1m[\u001b[0m\u001b[34;49mnotice\u001b[0m\u001b[1;39;49m]\u001b[0m\u001b[39;49m To update, run: \u001b[0m\u001b[32;49mpip install --upgrade pip\u001b[0m\n",
      "Found existing installation: ray 2.7.0\n",
      "Uninstalling ray-2.7.0:\n",
      "  Successfully uninstalled ray-2.7.0\n",
      "Collecting ray[serve]<=2.9.3,>=2.9.2\n",
      "  Downloading ray-2.9.3-cp39-cp39-manylinux2014_x86_64.whl (64.9 MB)\n",
      "\u001b[2K     \u001b[90m━━━━━━━━━━━━━━━━━━━━━━━━━━━━━━━━━━━━━━━\u001b[0m \u001b[32m64.9/64.9 MB\u001b[0m \u001b[31m253.0 MB/s\u001b[0m eta \u001b[36m0:00:00\u001b[0ma \u001b[36m0:00:01\u001b[0m\n",
      "\u001b[?25hRequirement already satisfied: packaging in /opt/app-root/lib/python3.9/site-packages (from ray[serve]<=2.9.3,>=2.9.2) (23.2)\n",
      "Requirement already satisfied: jsonschema in /opt/app-root/lib/python3.9/site-packages (from ray[serve]<=2.9.3,>=2.9.2) (4.21.1)\n",
      "Requirement already satisfied: frozenlist in /opt/app-root/lib/python3.9/site-packages (from ray[serve]<=2.9.3,>=2.9.2) (1.4.1)\n",
      "Requirement already satisfied: pyyaml in /opt/app-root/lib/python3.9/site-packages (from ray[serve]<=2.9.3,>=2.9.2) (6.0.1)\n",
      "Requirement already satisfied: protobuf!=3.19.5,>=3.15.3 in /opt/app-root/lib/python3.9/site-packages (from ray[serve]<=2.9.3,>=2.9.2) (3.20.3)\n",
      "Requirement already satisfied: requests in /opt/app-root/lib/python3.9/site-packages (from ray[serve]<=2.9.3,>=2.9.2) (2.31.0)\n",
      "Requirement already satisfied: aiosignal in /opt/app-root/lib/python3.9/site-packages (from ray[serve]<=2.9.3,>=2.9.2) (1.3.1)\n",
      "Requirement already satisfied: msgpack<2.0.0,>=1.0.0 in /opt/app-root/lib/python3.9/site-packages (from ray[serve]<=2.9.3,>=2.9.2) (1.0.7)\n",
      "Requirement already satisfied: filelock in /opt/app-root/lib/python3.9/site-packages (from ray[serve]<=2.9.3,>=2.9.2) (3.13.1)\n",
      "Requirement already satisfied: click>=7.0 in /opt/app-root/lib/python3.9/site-packages (from ray[serve]<=2.9.3,>=2.9.2) (8.1.7)\n",
      "Requirement already satisfied: grpcio>=1.32.0 in /opt/app-root/lib/python3.9/site-packages (from ray[serve]<=2.9.3,>=2.9.2) (1.62.0)\n",
      "Collecting uvicorn[standard]\n",
      "  Downloading uvicorn-0.29.0-py3-none-any.whl (60 kB)\n",
      "\u001b[2K     \u001b[90m━━━━━━━━━━━━━━━━━━━━━━━━━━━━━━━━━━━━━━━\u001b[0m \u001b[32m60.8/60.8 kB\u001b[0m \u001b[31m259.0 MB/s\u001b[0m eta \u001b[36m0:00:00\u001b[0m\n",
      "\u001b[?25hRequirement already satisfied: py-spy>=0.2.0 in /opt/app-root/lib/python3.9/site-packages (from ray[serve]<=2.9.3,>=2.9.2) (0.3.14)\n",
      "Collecting watchfiles\n",
      "  Downloading watchfiles-0.21.0-cp39-cp39-manylinux_2_17_x86_64.manylinux2014_x86_64.whl (1.3 MB)\n",
      "\u001b[2K     \u001b[90m━━━━━━━━━━━━━━━━━━━━━━━━━━━━━━━━━━━━━━━━\u001b[0m \u001b[32m1.3/1.3 MB\u001b[0m \u001b[31m324.6 MB/s\u001b[0m eta \u001b[36m0:00:00\u001b[0m\n",
      "\u001b[?25hCollecting fastapi<=0.108.0\n",
      "  Downloading fastapi-0.108.0-py3-none-any.whl (92 kB)\n",
      "\u001b[2K     \u001b[90m━━━━━━━━━━━━━━━━━━━━━━━━━━━━━━━━━━━━━━━\u001b[0m \u001b[32m92.0/92.0 kB\u001b[0m \u001b[31m253.6 MB/s\u001b[0m eta \u001b[36m0:00:00\u001b[0m\n",
      "\u001b[?25hCollecting starlette\n",
      "  Downloading starlette-0.37.2-py3-none-any.whl (71 kB)\n",
      "\u001b[2K     \u001b[90m━━━━━━━━━━━━━━━━━━━━━━━━━━━━━━━━━━━━━━━\u001b[0m \u001b[32m71.9/71.9 kB\u001b[0m \u001b[31m248.9 MB/s\u001b[0m eta \u001b[36m0:00:00\u001b[0m\n",
      "\u001b[?25hRequirement already satisfied: colorful in /opt/app-root/lib/python3.9/site-packages (from ray[serve]<=2.9.3,>=2.9.2) (0.5.6)\n",
      "Requirement already satisfied: gpustat>=1.0.0 in /opt/app-root/lib/python3.9/site-packages (from ray[serve]<=2.9.3,>=2.9.2) (1.1.1)\n",
      "Requirement already satisfied: prometheus-client>=0.7.1 in /opt/app-root/lib/python3.9/site-packages (from ray[serve]<=2.9.3,>=2.9.2) (0.20.0)\n",
      "Requirement already satisfied: pydantic!=2.0.*,!=2.1.*,!=2.2.*,!=2.3.*,!=2.4.*,<3 in /opt/app-root/lib/python3.9/site-packages (from ray[serve]<=2.9.3,>=2.9.2) (1.10.14)\n",
      "Collecting aiorwlock\n",
      "  Downloading aiorwlock-1.4.0-py3-none-any.whl (10.0 kB)\n",
      "Requirement already satisfied: opencensus in /opt/app-root/lib/python3.9/site-packages (from ray[serve]<=2.9.3,>=2.9.2) (0.11.4)\n",
      "Requirement already satisfied: smart-open in /opt/app-root/lib/python3.9/site-packages (from ray[serve]<=2.9.3,>=2.9.2) (7.0.1)\n",
      "Requirement already satisfied: aiohttp-cors in /opt/app-root/lib/python3.9/site-packages (from ray[serve]<=2.9.3,>=2.9.2) (0.7.0)\n",
      "Requirement already satisfied: aiohttp>=3.7 in /opt/app-root/lib/python3.9/site-packages (from ray[serve]<=2.9.3,>=2.9.2) (3.9.3)\n",
      "Requirement already satisfied: virtualenv!=20.21.1,>=20.0.24 in /opt/app-root/lib/python3.9/site-packages (from ray[serve]<=2.9.3,>=2.9.2) (20.21.0)\n",
      "Requirement already satisfied: multidict<7.0,>=4.5 in /opt/app-root/lib/python3.9/site-packages (from aiohttp>=3.7->ray[serve]<=2.9.3,>=2.9.2) (6.0.5)\n",
      "Requirement already satisfied: async-timeout<5.0,>=4.0 in /opt/app-root/lib/python3.9/site-packages (from aiohttp>=3.7->ray[serve]<=2.9.3,>=2.9.2) (4.0.3)\n",
      "Requirement already satisfied: yarl<2.0,>=1.0 in /opt/app-root/lib/python3.9/site-packages (from aiohttp>=3.7->ray[serve]<=2.9.3,>=2.9.2) (1.9.4)\n",
      "Requirement already satisfied: attrs>=17.3.0 in /opt/app-root/lib/python3.9/site-packages (from aiohttp>=3.7->ray[serve]<=2.9.3,>=2.9.2) (23.2.0)\n",
      "Collecting starlette\n",
      "  Downloading starlette-0.32.0.post1-py3-none-any.whl (70 kB)\n",
      "\u001b[2K     \u001b[90m━━━━━━━━━━━━━━━━━━━━━━━━━━━━━━━━━━━━━━━\u001b[0m \u001b[32m70.0/70.0 kB\u001b[0m \u001b[31m257.8 MB/s\u001b[0m eta \u001b[36m0:00:00\u001b[0m\n",
      "\u001b[?25hCollecting typing-extensions>=4.8.0\n",
      "  Downloading typing_extensions-4.11.0-py3-none-any.whl (34 kB)\n",
      "Requirement already satisfied: blessed>=1.17.1 in /opt/app-root/lib/python3.9/site-packages (from gpustat>=1.0.0->ray[serve]<=2.9.3,>=2.9.2) (1.20.0)\n",
      "Requirement already satisfied: nvidia-ml-py>=11.450.129 in /opt/app-root/lib/python3.9/site-packages (from gpustat>=1.0.0->ray[serve]<=2.9.3,>=2.9.2) (12.535.133)\n",
      "Requirement already satisfied: psutil>=5.6.0 in /opt/app-root/lib/python3.9/site-packages (from gpustat>=1.0.0->ray[serve]<=2.9.3,>=2.9.2) (5.9.8)\n",
      "Requirement already satisfied: anyio<5,>=3.4.0 in /opt/app-root/lib/python3.9/site-packages (from starlette->ray[serve]<=2.9.3,>=2.9.2) (4.3.0)\n",
      "Requirement already satisfied: distlib<1,>=0.3.6 in /opt/app-root/lib/python3.9/site-packages (from virtualenv!=20.21.1,>=20.0.24->ray[serve]<=2.9.3,>=2.9.2) (0.3.8)\n",
      "Requirement already satisfied: platformdirs<4,>=2.4 in /opt/app-root/lib/python3.9/site-packages (from virtualenv!=20.21.1,>=20.0.24->ray[serve]<=2.9.3,>=2.9.2) (3.11.0)\n",
      "Requirement already satisfied: rpds-py>=0.7.1 in /opt/app-root/lib/python3.9/site-packages (from jsonschema->ray[serve]<=2.9.3,>=2.9.2) (0.18.0)\n",
      "Requirement already satisfied: jsonschema-specifications>=2023.03.6 in /opt/app-root/lib/python3.9/site-packages (from jsonschema->ray[serve]<=2.9.3,>=2.9.2) (2023.12.1)\n",
      "Requirement already satisfied: referencing>=0.28.4 in /opt/app-root/lib/python3.9/site-packages (from jsonschema->ray[serve]<=2.9.3,>=2.9.2) (0.33.0)\n",
      "Requirement already satisfied: six~=1.16 in /opt/app-root/lib/python3.9/site-packages (from opencensus->ray[serve]<=2.9.3,>=2.9.2) (1.16.0)\n",
      "Requirement already satisfied: opencensus-context>=0.1.3 in /opt/app-root/lib/python3.9/site-packages (from opencensus->ray[serve]<=2.9.3,>=2.9.2) (0.1.3)\n",
      "Requirement already satisfied: google-api-core<3.0.0,>=1.0.0 in /opt/app-root/lib/python3.9/site-packages (from opencensus->ray[serve]<=2.9.3,>=2.9.2) (2.17.1)\n",
      "Requirement already satisfied: urllib3<3,>=1.21.1 in /opt/app-root/lib/python3.9/site-packages (from requests->ray[serve]<=2.9.3,>=2.9.2) (1.26.18)\n",
      "Requirement already satisfied: charset-normalizer<4,>=2 in /opt/app-root/lib/python3.9/site-packages (from requests->ray[serve]<=2.9.3,>=2.9.2) (3.3.2)\n",
      "Requirement already satisfied: certifi>=2017.4.17 in /opt/app-root/lib/python3.9/site-packages (from requests->ray[serve]<=2.9.3,>=2.9.2) (2024.2.2)\n",
      "Requirement already satisfied: idna<4,>=2.5 in /opt/app-root/lib/python3.9/site-packages (from requests->ray[serve]<=2.9.3,>=2.9.2) (3.6)\n",
      "Requirement already satisfied: wrapt in /opt/app-root/lib/python3.9/site-packages (from smart-open->ray[serve]<=2.9.3,>=2.9.2) (1.16.0)\n",
      "Collecting h11>=0.8\n",
      "  Downloading h11-0.14.0-py3-none-any.whl (58 kB)\n",
      "\u001b[2K     \u001b[90m━━━━━━━━━━━━━━━━━━━━━━━━━━━━━━━━━━━━━━━\u001b[0m \u001b[32m58.3/58.3 kB\u001b[0m \u001b[31m203.1 MB/s\u001b[0m eta \u001b[36m0:00:00\u001b[0m\n",
      "\u001b[?25hCollecting httptools>=0.5.0\n",
      "  Downloading httptools-0.6.1-cp39-cp39-manylinux_2_5_x86_64.manylinux1_x86_64.manylinux_2_17_x86_64.manylinux2014_x86_64.whl (345 kB)\n",
      "\u001b[2K     \u001b[90m━━━━━━━━━━━━━━━━━━━━━━━━━━━━━━━━━━━━━\u001b[0m \u001b[32m345.2/345.2 kB\u001b[0m \u001b[31m294.7 MB/s\u001b[0m eta \u001b[36m0:00:00\u001b[0m\n",
      "\u001b[?25hCollecting websockets>=10.4\n",
      "  Downloading websockets-12.0-cp39-cp39-manylinux_2_5_x86_64.manylinux1_x86_64.manylinux_2_17_x86_64.manylinux2014_x86_64.whl (130 kB)\n",
      "\u001b[2K     \u001b[90m━━━━━━━━━━━━━━━━━━━━━━━━━━━━━━━━━━━━━\u001b[0m \u001b[32m130.0/130.0 kB\u001b[0m \u001b[31m303.9 MB/s\u001b[0m eta \u001b[36m0:00:00\u001b[0m\n",
      "\u001b[?25hCollecting uvloop!=0.15.0,!=0.15.1,>=0.14.0\n",
      "  Downloading uvloop-0.19.0-cp39-cp39-manylinux_2_17_x86_64.manylinux2014_x86_64.whl (3.5 MB)\n",
      "\u001b[2K     \u001b[90m━━━━━━━━━━━━━━━━━━━━━━━━━━━━━━━━━━━━━━━━\u001b[0m \u001b[32m3.5/3.5 MB\u001b[0m \u001b[31m257.7 MB/s\u001b[0m eta \u001b[36m0:00:00\u001b[0m\n",
      "\u001b[?25hCollecting python-dotenv>=0.13\n",
      "  Downloading python_dotenv-1.0.1-py3-none-any.whl (19 kB)\n",
      "Requirement already satisfied: exceptiongroup>=1.0.2 in /opt/app-root/lib/python3.9/site-packages (from anyio<5,>=3.4.0->starlette->ray[serve]<=2.9.3,>=2.9.2) (1.2.0)\n",
      "Requirement already satisfied: sniffio>=1.1 in /opt/app-root/lib/python3.9/site-packages (from anyio<5,>=3.4.0->starlette->ray[serve]<=2.9.3,>=2.9.2) (1.3.1)\n",
      "Requirement already satisfied: wcwidth>=0.1.4 in /opt/app-root/lib/python3.9/site-packages (from blessed>=1.17.1->gpustat>=1.0.0->ray[serve]<=2.9.3,>=2.9.2) (0.2.13)\n",
      "Requirement already satisfied: googleapis-common-protos<2.0.dev0,>=1.56.2 in /opt/app-root/lib/python3.9/site-packages (from google-api-core<3.0.0,>=1.0.0->opencensus->ray[serve]<=2.9.3,>=2.9.2) (1.62.0)\n",
      "Requirement already satisfied: google-auth<3.0.dev0,>=2.14.1 in /opt/app-root/lib/python3.9/site-packages (from google-api-core<3.0.0,>=1.0.0->opencensus->ray[serve]<=2.9.3,>=2.9.2) (2.28.1)\n",
      "Requirement already satisfied: rsa<5,>=3.1.4 in /opt/app-root/lib/python3.9/site-packages (from google-auth<3.0.dev0,>=2.14.1->google-api-core<3.0.0,>=1.0.0->opencensus->ray[serve]<=2.9.3,>=2.9.2) (4.9)\n",
      "Requirement already satisfied: cachetools<6.0,>=2.0.0 in /opt/app-root/lib/python3.9/site-packages (from google-auth<3.0.dev0,>=2.14.1->google-api-core<3.0.0,>=1.0.0->opencensus->ray[serve]<=2.9.3,>=2.9.2) (5.3.3)\n",
      "Requirement already satisfied: pyasn1-modules>=0.2.1 in /opt/app-root/lib/python3.9/site-packages (from google-auth<3.0.dev0,>=2.14.1->google-api-core<3.0.0,>=1.0.0->opencensus->ray[serve]<=2.9.3,>=2.9.2) (0.3.0)\n",
      "Requirement already satisfied: pyasn1<0.6.0,>=0.4.6 in /opt/app-root/lib/python3.9/site-packages (from pyasn1-modules>=0.2.1->google-auth<3.0.dev0,>=2.14.1->google-api-core<3.0.0,>=1.0.0->opencensus->ray[serve]<=2.9.3,>=2.9.2) (0.5.1)\n",
      "Installing collected packages: websockets, uvloop, typing-extensions, python-dotenv, httptools, h11, aiorwlock, uvicorn, watchfiles, starlette, ray, fastapi\n",
      "  Attempting uninstall: typing-extensions\n",
      "    Found existing installation: typing_extensions 4.5.0\n",
      "    Uninstalling typing_extensions-4.5.0:\n",
      "      Successfully uninstalled typing_extensions-4.5.0\n",
      "\u001b[31mERROR: pip's dependency resolver does not currently take into account all the packages that are installed. This behaviour is the source of the following dependency conflicts.\n",
      "tensorflow 2.13.1 requires typing-extensions<4.6.0,>=3.6.6, but you have typing-extensions 4.11.0 which is incompatible.\n",
      "model-registry 0.1.2 requires attrs<22.0,>=21.0, but you have attrs 23.2.0 which is incompatible.\n",
      "codeflare-sdk 0.14.1 requires ray[data,default]==2.7.0, but you have ray 2.9.3 which is incompatible.\u001b[0m\u001b[31m\n",
      "\u001b[0mSuccessfully installed aiorwlock-1.4.0 fastapi-0.108.0 h11-0.14.0 httptools-0.6.1 python-dotenv-1.0.1 ray-2.9.3 starlette-0.32.0.post1 typing-extensions-4.11.0 uvicorn-0.29.0 uvloop-0.19.0 watchfiles-0.21.0 websockets-12.0\n",
      "\n",
      "\u001b[1m[\u001b[0m\u001b[34;49mnotice\u001b[0m\u001b[1;39;49m]\u001b[0m\u001b[39;49m A new release of pip available: \u001b[0m\u001b[31;49m22.2.2\u001b[0m\u001b[39;49m -> \u001b[0m\u001b[32;49m24.0\u001b[0m\n",
      "\u001b[1m[\u001b[0m\u001b[34;49mnotice\u001b[0m\u001b[1;39;49m]\u001b[0m\u001b[39;49m To update, run: \u001b[0m\u001b[32;49mpip install --upgrade pip\u001b[0m\n",
      "\n",
      "\u001b[1m[\u001b[0m\u001b[34;49mnotice\u001b[0m\u001b[1;39;49m]\u001b[0m\u001b[39;49m A new release of pip available: \u001b[0m\u001b[31;49m22.2.2\u001b[0m\u001b[39;49m -> \u001b[0m\u001b[32;49m24.0\u001b[0m\n",
      "\u001b[1m[\u001b[0m\u001b[34;49mnotice\u001b[0m\u001b[1;39;49m]\u001b[0m\u001b[39;49m To update, run: \u001b[0m\u001b[32;49mpip install --upgrade pip\u001b[0m\n",
      "ray                             2.9.3\n",
      "\n",
      "\u001b[1m[\u001b[0m\u001b[34;49mnotice\u001b[0m\u001b[1;39;49m]\u001b[0m\u001b[39;49m A new release of pip available: \u001b[0m\u001b[31;49m22.2.2\u001b[0m\u001b[39;49m -> \u001b[0m\u001b[32;49m24.0\u001b[0m\n",
      "\u001b[1m[\u001b[0m\u001b[34;49mnotice\u001b[0m\u001b[1;39;49m]\u001b[0m\u001b[39;49m To update, run: \u001b[0m\u001b[32;49mpip install --upgrade pip\u001b[0m\n"
     ]
    }
   ],
   "source": [
    "# !pip install --upgrade pip\n",
    "# !cat requirements.`txt\n",
    "# !pip install -q -r requirements.txt\n",
    "# !pip uninstall -r requirements.txt --yes\n",
    "# !pip install --no-deps feast==0.36.0\n",
    "!pip install --no-deps --ignore-requires-python \"https://github.com/opendatahub-io/ml-metadata/releases/download/v1.14.0%2Bremote.1/ml_metadata-1.14.0+remote.1-py3-none-any.whl\" # need a Python 3.11 compatible version\n",
    "!pip install --no-deps --ignore-requires-python \"model-registry==0.1.2\" # ignore dependencies because of the above override\n",
    "!pip uninstall ray --yes\n",
    "!pip install \"ray[serve]<=2.9.3,>=2.9.2\"\n",
    "!pip install kserve[storage]>=0.12.0\n",
    "!pip list | grep ray"
   ]
  },
  {
   "cell_type": "markdown",
   "id": "26729afa-49c4-4b39-933a-510972818943",
   "metadata": {},
   "source": [
    "## Imports and constants"
   ]
  },
  {
   "cell_type": "code",
   "execution_count": 40,
   "id": "7ef9c776-b5ee-4893-a109-6abd8b6e1113",
   "metadata": {
    "tags": []
   },
   "outputs": [],
   "source": [
    "import os\n",
    "\n",
    "import boto3\n",
    "import matplotlib.pyplot as plt\n",
    "# import onnx\n",
    "# import onnxruntime as ort\n",
    "# from feast import FeatureStore\n",
    "from kubernetes import client \n",
    "from kserve import KServeClient\n",
    "from kserve import constants\n",
    "from kserve import utils\n",
    "from kserve import V1beta1InferenceService\n",
    "from kserve import V1beta1InferenceServiceSpec\n",
    "from kserve import V1beta1PredictorSpec\n",
    "from kserve import V1beta1SKLearnSpec\n",
    "from kserve import V1beta1ModelSpec\n",
    "from kserve import V1beta1ModelFormat\n",
    "from kserve import V1beta1StorageSpec\n",
    "from model_registry import ModelRegistry\n",
    "from model_registry.types import ContextState\n",
    "from ray.serve.handle import RayServeHandle\n",
    "from urllib.parse import urlparse"
   ]
  },
  {
   "cell_type": "code",
   "execution_count": 3,
   "id": "b88f0cf4-505d-4684-b921-13c9437ead73",
   "metadata": {
    "tags": []
   },
   "outputs": [],
   "source": [
    "os.environ['accesskey'] = 'minio'\n",
    "os.environ['secretkey'] = 'minio123'\n",
    "os.environ['AWS_S3_ENDPOINT'] = 'http://minio-service.feast.svc.cluster.local:9000'\n",
    "os.environ['AWS_S3_BUCKET'] = 'feast'\n",
    "os.environ['AWS_DEFAULT_REGION'] = 'default'"
   ]
  },
  {
   "cell_type": "code",
   "execution_count": 4,
   "id": "11d65096-6c2e-4495-a7ae-56ef14461aee",
   "metadata": {
    "tags": []
   },
   "outputs": [
    {
     "name": "stdout",
     "output_type": "stream",
     "text": [
      "env: MODEL_NAMESPACE=feast-runbook\n"
     ]
    }
   ],
   "source": [
    "%env MODEL_NAMESPACE=feast-runbook"
   ]
  },
  {
   "cell_type": "markdown",
   "id": "85886c96-faf8-46bb-a07f-0f51b7952bb2",
   "metadata": {},
   "source": [
    "## Shared functions"
   ]
  },
  {
   "cell_type": "code",
   "execution_count": 5,
   "id": "7624695f-5233-4aa5-adbe-c7f1daccea5b",
   "metadata": {
    "tags": []
   },
   "outputs": [],
   "source": [
    "def modelRegistry():\n",
    "    return ModelRegistry(server_address=\"modelregistry-sample.feast.svc.cluster.local\", port=9090, author=\"feast-dev@redhat.com\")"
   ]
  },
  {
   "cell_type": "code",
   "execution_count": 6,
   "id": "647f1fcc-bbb9-46d2-b0d8-b29abf96fdf3",
   "metadata": {
    "tags": []
   },
   "outputs": [
    {
     "name": "stderr",
     "output_type": "stream",
     "text": [
      "INFO:absl:MetadataStore with gRPC connection initialized\n"
     ]
    },
    {
     "name": "stdout",
     "output_type": "stream",
     "text": [
      "Model mnist\n",
      "Version v.simple_NN.20240419150600\n",
      "Version v.convolutedNN.202404191508261\n",
      "Creating inference service for model: RegisteredModel(id='1', description='', external_id='', create_time_since_epoch=1713539173108, last_update_time_since_epoch=1713539173108, state=<ContextState.LIVE: 'LIVE'>, name='mnist')\n",
      "Model version: ModelVersion(name='v.simple_NN.20240419150600', id='2', description='demo20231121 e2e MNIST', external_id='', create_time_since_epoch=1713539173809, last_update_time_since_epoch=1713539173809, state=<ContextState.LIVE: 'LIVE'>, model_name='mnist', version='v.simple_NN.20240419150600', author='feast-dev@redhat.com', metadata={'AWS_S3_BUCKET': 'feast', 'AWS_S3_ENDPOINT': 'http://minio-service.feast.svc.cluster.local:9000', 'AWS_DEFAULT_REGION': 'default'}, artifacts=NOTHING, _registered_model_id=NOTHING)\n",
      "Model artifact: ModelArtifact(id='1', description='', external_id='', create_time_since_epoch=1713539174615, last_update_time_since_epoch=1713539174615, name='mnist', uri='s3://feast/v.simple_NN.20240419150600/simple_NN.onnx?endpoint=http://minio-service.feast.svc.cluster.local:9000&defaultRegion=default', state=<ArtifactState.UNKNOWN: 0>, model_format_name='onnx', model_format_version='1', storage_key='aws-connection-feast', storage_path='v.simple_NN.20240419150600', service_account_name='', _model_version_id=NOTHING)\n"
     ]
    }
   ],
   "source": [
    "registry = modelRegistry()\n",
    "\n",
    "models = registry._api.get_registered_models()\n",
    "for model in models:\n",
    "    print(f\"Model {model.name}\")\n",
    "    model_versions = registry._api.get_model_versions(model.id)\n",
    "    for model_version in model_versions:\n",
    "        print(f\"Version {model_version.name}\")\n",
    "        \n",
    "# Update the logic to select the model and the version\n",
    "selected_model = models[0]\n",
    "live_model_versions = [m for m in registry._api.get_model_versions(selected_model.id) if m.state!=ContextState.ARCHIVED]\n",
    "selected_model_version = live_model_versions[0]\n",
    "selected_model_artifact = registry._api.get_model_artifacts(selected_model_version.id)[0]\n",
    "\n",
    "print(f\"Creating inference service for model: {selected_model}\")\n",
    "print(f\"Model version: {selected_model_version}\")\n",
    "print(f\"Model artifact: {selected_model_artifact}\")"
   ]
  },
  {
   "cell_type": "markdown",
   "id": "c02525cf-ee97-42b2-be07-b95fc163db7b",
   "metadata": {},
   "source": [
    "Change this variabkle to use a different `Data Science Project`"
   ]
  },
  {
   "cell_type": "code",
   "execution_count": 8,
   "id": "2ca93a50-ac93-4fc0-82f2-559d0f70ddd2",
   "metadata": {
    "tags": []
   },
   "outputs": [
    {
     "name": "stdout",
     "output_type": "stream",
     "text": [
      "env: PROJECT=feast\n",
      "No resources found in feast namespace.\n"
     ]
    }
   ],
   "source": [
    "%env PROJECT=feast\n",
    "!oc get inferenceservices -n $PROJECT "
   ]
  },
  {
   "cell_type": "code",
   "execution_count": 9,
   "id": "bd9d85de-e04e-4b8a-a4f3-a886919edf57",
   "metadata": {
    "tags": []
   },
   "outputs": [],
   "source": [
    "# !oc describe inferenceservices mnist-simplenn -n $WORKSPACE"
   ]
  },
  {
   "cell_type": "code",
   "execution_count": 10,
   "id": "577e8e1f-1f9e-4105-a9a5-0b13876b9777",
   "metadata": {
    "tags": []
   },
   "outputs": [
    {
     "name": "stdout",
     "output_type": "stream",
     "text": [
      "env: MODEL_URL=http://modelmesh-serving.feast:8008\n"
     ]
    }
   ],
   "source": [
    "%env MODEL_URL=http://modelmesh-serving.feast:8008"
   ]
  },
  {
   "cell_type": "code",
   "execution_count": 11,
   "id": "7ecc4b00-8bd5-43b1-ab2e-dd979dff6f11",
   "metadata": {
    "tags": []
   },
   "outputs": [
    {
     "name": "stdout",
     "output_type": "stream",
     "text": [
      "curl: (6) Could not resolve host: modelmesh-serving.feast\n"
     ]
    }
   ],
   "source": [
    "!curl -X GET -H 'Accept: application/json' \"${MODEL_URL}/v1/models/mnist-simplenn\""
   ]
  },
  {
   "cell_type": "code",
   "execution_count": 12,
   "id": "c2a6e8ed-9835-4ddd-ad50-78440dd0fe41",
   "metadata": {
    "tags": []
   },
   "outputs": [
    {
     "name": "stdout",
     "output_type": "stream",
     "text": [
      "env: MODEL=http://modelmesh-serving.feast-runbook.svc.cluster.local:8008\n"
     ]
    }
   ],
   "source": [
    "%env MODEL=http://modelmesh-serving.feast-runbook.svc.cluster.local:8008"
   ]
  },
  {
   "cell_type": "code",
   "execution_count": 13,
   "id": "0bdd2fd6-ad06-44a9-aa0c-6e165f9a1e9f",
   "metadata": {
    "tags": []
   },
   "outputs": [
    {
     "name": "stdout",
     "output_type": "stream",
     "text": [
      "http://modelmesh-serving.feast-runbook.svc.cluster.local:8008\n"
     ]
    }
   ],
   "source": [
    "!echo $MODEL"
   ]
  },
  {
   "cell_type": "code",
   "execution_count": 14,
   "id": "d9dde9af-7d4d-4ea8-a227-584f05a6dcda",
   "metadata": {
    "tags": []
   },
   "outputs": [
    {
     "name": "stdout",
     "output_type": "stream",
     "text": [
      "E0419 15:40:49.255177264     316 backup_poller.cc:127]                 Run client channel backup poller: UNKNOWN:pollset_work {created_time:\"2024-04-19T15:40:49.254911013+00:00\", children:[UNKNOWN:Bad file descriptor {syscall:\"epoll_wait\", os_error:\"Bad file descriptor\", errno:9, created_time:\"2024-04-19T15:40:49.254827636+00:00\"}]}\n",
      "* Could not resolve host: modelmesh-serving.feast-runbook.svc.cluster.local\n",
      "* Closing connection 0\n",
      "curl: (6) Could not resolve host: modelmesh-serving.feast-runbook.svc.cluster.local\n"
     ]
    }
   ],
   "source": [
    "!curl -v -H 'Accept: application/json' $MODEL/v2"
   ]
  },
  {
   "cell_type": "markdown",
   "id": "79e658ba-ed66-481e-9c7b-835167c4f875",
   "metadata": {
    "tags": []
   },
   "source": [
    "## Create the Inference Service"
   ]
  },
  {
   "cell_type": "markdown",
   "id": "58d496b9-e87f-4b01-9b60-8628e11d83f4",
   "metadata": {
    "tags": []
   },
   "source": [
    "**Prerequisites**\n",
    "* Create a `Model Server`called `mnist` under the current workspace `feast`"
   ]
  },
  {
   "cell_type": "markdown",
   "id": "2a1c0b95-843f-4ad1-a543-cd9e6c28fb85",
   "metadata": {},
   "source": [
    "Create a Data Connection to the S3 bucket"
   ]
  },
  {
   "cell_type": "code",
   "execution_count": 15,
   "id": "22c57630-e245-43b8-9ecf-5fb64f5246cb",
   "metadata": {
    "tags": []
   },
   "outputs": [],
   "source": [
    "connection_secret = f'''\n",
    "kind: Secret\n",
    "apiVersion: v1\n",
    "metadata:\n",
    "  name: {selected_model.name}-s3\n",
    "  namespace: feast\n",
    "  labels:\n",
    "    opendatahub.io/dashboard: 'true'\n",
    "    opendatahub.io/managed: 'true'\n",
    "  annotations:\n",
    "    opendatahub.io/connection-type: s3\n",
    "    openshift.io/display-name: {selected_model.name}-s3\n",
    "stringData:\n",
    "  AWS_ACCESS_KEY_ID: {os.environ['accesskey']}\n",
    "  AWS_DEFAULT_REGION: {os.environ['AWS_DEFAULT_REGION']}\n",
    "  AWS_S3_BUCKET: {os.environ['AWS_S3_BUCKET']}\n",
    "  AWS_S3_ENDPOINT: {os.environ['AWS_S3_ENDPOINT']}\n",
    "  AWS_SECRET_ACCESS_KEY: {os.environ['secretkey']}\n",
    "type: Opaque\n",
    "'''\n",
    "\n",
    "with open(\"connection_secret.yaml\", 'w') as file:\n",
    "    file.write(connection_secret)"
   ]
  },
  {
   "cell_type": "code",
   "execution_count": 16,
   "id": "128ac575-754f-431d-a22a-91eba923ce07",
   "metadata": {
    "tags": []
   },
   "outputs": [
    {
     "name": "stdout",
     "output_type": "stream",
     "text": [
      "secret \"mnist-s3\" deleted\n",
      "secret/mnist-s3 created\n"
     ]
    }
   ],
   "source": [
    "!oc delete -f connection_secret.yaml\n",
    "!oc create -f connection_secret.yaml"
   ]
  },
  {
   "cell_type": "markdown",
   "id": "f4e3ebc0-ce24-4537-8a4a-a62045197fab",
   "metadata": {
    "tags": []
   },
   "source": [
    "Create the `InferenceService` (see [Create the InferenceService](https://kserve.github.io/website/master/modelserving/v1beta1/onnx/#create-the-inferenceservice))"
   ]
  },
  {
   "cell_type": "code",
   "execution_count": 41,
   "id": "b0f3a54c-282f-44a2-a602-207864758e94",
   "metadata": {
    "tags": []
   },
   "outputs": [
    {
     "name": "stdout",
     "output_type": "stream",
     "text": [
      "Creating InferenceService {'api_version': 'serving.kserve.io/v1beta1',\n",
      " 'kind': 'InferenceService',\n",
      " 'metadata': {'annotations': None,\n",
      "              'creation_timestamp': None,\n",
      "              'deletion_grace_period_seconds': None,\n",
      "              'deletion_timestamp': None,\n",
      "              'finalizers': None,\n",
      "              'generate_name': None,\n",
      "              'generation': None,\n",
      "              'labels': {'modelregistry/model-version-id': '2',\n",
      "                         'modelregistry/registered-model-id': '1',\n",
      "                         'opendatahub.io/dashboard': 'true'},\n",
      "              'managed_fields': None,\n",
      "              'name': 'mnist',\n",
      "              'namespace': 'feast',\n",
      "              'owner_references': None,\n",
      "              'resource_version': None,\n",
      "              'self_link': None,\n",
      "              'uid': None},\n",
      " 'spec': {'explainer': None,\n",
      "          'predictor': {'active_deadline_seconds': None,\n",
      "                        'affinity': None,\n",
      "                        'annotations': None,\n",
      "                        'automount_service_account_token': None,\n",
      "                        'batcher': None,\n",
      "                        'canary_traffic_percent': None,\n",
      "                        'container_concurrency': None,\n",
      "                        'containers': None,\n",
      "                        'dns_config': None,\n",
      "                        'dns_policy': None,\n",
      "                        'enable_service_links': None,\n",
      "                        'ephemeral_containers': None,\n",
      "                        'host_aliases': None,\n",
      "                        'host_ipc': None,\n",
      "                        'host_network': None,\n",
      "                        'host_pid': None,\n",
      "                        'host_users': None,\n",
      "                        'hostname': None,\n",
      "                        'huggingface': None,\n",
      "                        'image_pull_secrets': None,\n",
      "                        'init_containers': None,\n",
      "                        'labels': None,\n",
      "                        'lightgbm': None,\n",
      "                        'logger': None,\n",
      "                        'max_replicas': None,\n",
      "                        'min_replicas': None,\n",
      "                        'model': {'args': None,\n",
      "                                  'command': None,\n",
      "                                  'env': None,\n",
      "                                  'env_from': None,\n",
      "                                  'image': None,\n",
      "                                  'image_pull_policy': None,\n",
      "                                  'lifecycle': None,\n",
      "                                  'liveness_probe': None,\n",
      "                                  'model_format': {'name': 'onnx',\n",
      "                                                   'version': '1'},\n",
      "                                  'name': '',\n",
      "                                  'ports': None,\n",
      "                                  'protocol_version': 'v2',\n",
      "                                  'readiness_probe': None,\n",
      "                                  'resize_policy': None,\n",
      "                                  'resources': None,\n",
      "                                  'restart_policy': None,\n",
      "                                  'runtime': 'mnist',\n",
      "                                  'runtime_version': None,\n",
      "                                  'security_context': None,\n",
      "                                  'startup_probe': None,\n",
      "                                  'stdin': None,\n",
      "                                  'stdin_once': None,\n",
      "                                  'storage': {'key': 'mnist-s3',\n",
      "                                              'parameters': None,\n",
      "                                              'path': 'v.simple_NN.20240419150600/simple_NN.onnx',\n",
      "                                              'schema_path': None},\n",
      "                                  'storage_uri': None,\n",
      "                                  'termination_message_path': None,\n",
      "                                  'termination_message_policy': None,\n",
      "                                  'tty': None,\n",
      "                                  'volume_devices': None,\n",
      "                                  'volume_mounts': None,\n",
      "                                  'working_dir': None},\n",
      "                        'node_name': None,\n",
      "                        'node_selector': None,\n",
      "                        'onnx': None,\n",
      "                        'os': None,\n",
      "                        'overhead': None,\n",
      "                        'paddle': None,\n",
      "                        'pmml': None,\n",
      "                        'preemption_policy': None,\n",
      "                        'priority': None,\n",
      "                        'priority_class_name': None,\n",
      "                        'pytorch': None,\n",
      "                        'readiness_gates': None,\n",
      "                        'resource_claims': None,\n",
      "                        'restart_policy': None,\n",
      "                        'runtime_class_name': None,\n",
      "                        'scale_metric': None,\n",
      "                        'scale_target': None,\n",
      "                        'scheduler_name': None,\n",
      "                        'scheduling_gates': None,\n",
      "                        'security_context': None,\n",
      "                        'service_account': None,\n",
      "                        'service_account_name': None,\n",
      "                        'set_hostname_as_fqdn': None,\n",
      "                        'share_process_namespace': None,\n",
      "                        'sklearn': None,\n",
      "                        'subdomain': None,\n",
      "                        'tensorflow': None,\n",
      "                        'termination_grace_period_seconds': None,\n",
      "                        'timeout': None,\n",
      "                        'tolerations': None,\n",
      "                        'topology_spread_constraints': None,\n",
      "                        'triton': None,\n",
      "                        'volumes': None,\n",
      "                        'xgboost': None},\n",
      "          'transformer': None},\n",
      " 'status': None}\n"
     ]
    }
   ],
   "source": [
    "name=selected_model.name\n",
    "kserve_version='v1beta1'\n",
    "api_version = constants.KSERVE_GROUP + '/' + kserve_version\n",
    "namespace = os.environ['PROJECT']\n",
    "storage_uri = selected_model_artifact.uri\n",
    "# s3://feast/v.simple_NN.20240419150600/simple_NN.onnx?endpoint=http://minio-service.feast.svc.cluster.local:9000&defaultRegion=default\n",
    "storage_path = urlparse(selected_model_artifact.uri).path.lstrip('/')\n",
    "model_format_name = selected_model_artifact.model_format_name\n",
    "model_format_version = selected_model_artifact.model_format_version\n",
    "\n",
    "isvc = V1beta1InferenceService(api_version=api_version,\n",
    "                               kind=constants.KSERVE_KIND,\n",
    "                               metadata=client.V1ObjectMeta(\n",
    "                                   name=name, namespace=namespace,\n",
    "                                   labels={'modelregistry/registered-model-id': selected_model.id, \n",
    "                                           'modelregistry/model-version-id': selected_model_version.id,\n",
    "                                            'opendatahub.io/dashboard': 'true',}\n",
    "                               ),\n",
    "                               spec=V1beta1InferenceServiceSpec(\n",
    "                                   predictor=V1beta1PredictorSpec(\n",
    "                                       model=V1beta1ModelSpec(\n",
    "                                           storage=V1beta1StorageSpec(\n",
    "                                               key=f'{selected_model.name}-s3',\n",
    "                                               path=storage_path,\n",
    "                                           ),\n",
    "                                           model_format=V1beta1ModelFormat(name=model_format_name, version=model_format_version),\n",
    "                                           runtime=\"mnist\",\n",
    "                                           protocol_version='v2' # see https://kserve.github.io/website/master/modelserving/v1beta1/onnx/#create-the-inferenceservice\n",
    "                                 )\n",
    "                               )))\n",
    "print(f\"Creating InferenceService {isvc}\")"
   ]
  },
  {
   "cell_type": "code",
   "execution_count": 42,
   "id": "456bc95b-48b2-44e5-912e-94b707479a99",
   "metadata": {
    "tags": []
   },
   "outputs": [
    {
     "name": "stdout",
     "output_type": "stream",
     "text": [
      "NAME    URL   READY   PREV   LATEST   PREVROLLEDOUTREVISION   LATESTREADYREVISION   AGE\n",
      "mnist                                                                               14m\n",
      "inferenceservice.serving.kserve.io \"mnist\" deleted\n"
     ]
    }
   ],
   "source": [
    "!oc get inferenceservices -n $PROJECT\n",
    "!oc delete inferenceservice mnist -n $PROJECT"
   ]
  },
  {
   "cell_type": "code",
   "execution_count": 43,
   "id": "d47e71ea-8956-4321-bea1-e8532e77fd2e",
   "metadata": {
    "tags": []
   },
   "outputs": [
    {
     "data": {
      "text/plain": [
       "{'apiVersion': 'serving.kserve.io/v1beta1',\n",
       " 'kind': 'InferenceService',\n",
       " 'metadata': {'creationTimestamp': '2024-04-19T15:59:48Z',\n",
       "  'generation': 1,\n",
       "  'labels': {'modelregistry/model-version-id': '2',\n",
       "   'modelregistry/registered-model-id': '1',\n",
       "   'opendatahub.io/dashboard': 'true'},\n",
       "  'managedFields': [{'apiVersion': 'serving.kserve.io/v1beta1',\n",
       "    'fieldsType': 'FieldsV1',\n",
       "    'fieldsV1': {'f:metadata': {'f:labels': {'.': {},\n",
       "       'f:modelregistry/model-version-id': {},\n",
       "       'f:modelregistry/registered-model-id': {},\n",
       "       'f:opendatahub.io/dashboard': {}}},\n",
       "     'f:spec': {'.': {},\n",
       "      'f:predictor': {'.': {},\n",
       "       'f:model': {'.': {},\n",
       "        'f:modelFormat': {'.': {}, 'f:name': {}, 'f:version': {}},\n",
       "        'f:name': {},\n",
       "        'f:protocolVersion': {},\n",
       "        'f:runtime': {},\n",
       "        'f:storage': {'.': {}, 'f:key': {}, 'f:path': {}}}}}},\n",
       "    'manager': 'OpenAPI-Generator',\n",
       "    'operation': 'Update',\n",
       "    'time': '2024-04-19T15:59:48Z'}],\n",
       "  'name': 'mnist',\n",
       "  'namespace': 'feast',\n",
       "  'resourceVersion': '2078772',\n",
       "  'uid': 'ad22a6e6-cfd9-4951-895a-054f95c9b9fc'},\n",
       " 'spec': {'predictor': {'model': {'modelFormat': {'name': 'onnx',\n",
       "     'version': '1'},\n",
       "    'name': '',\n",
       "    'protocolVersion': 'v2',\n",
       "    'runtime': 'mnist',\n",
       "    'storage': {'key': 'mnist-s3',\n",
       "     'path': 'v.simple_NN.20240419150600/simple_NN.onnx'}}}}}"
      ]
     },
     "execution_count": 43,
     "metadata": {},
     "output_type": "execute_result"
    }
   ],
   "source": [
    "KServe = KServeClient()\n",
    "KServe.create(isvc)"
   ]
  },
  {
   "cell_type": "code",
   "execution_count": 44,
   "id": "d66cb8d3-92cf-463f-b655-69e2ad59453e",
   "metadata": {
    "tags": []
   },
   "outputs": [
    {
     "name": "stdout",
     "output_type": "stream",
     "text": [
      "NAME    URL   READY   PREV   LATEST   PREVROLLEDOUTREVISION   LATESTREADYREVISION   AGE\n",
      "mnist                                                                               4s\n"
     ]
    }
   ],
   "source": [
    "!oc get inferenceservices -n $PROJECT"
   ]
  },
  {
   "cell_type": "code",
   "execution_count": null,
   "id": "29ad71c4-5765-4938-a4d8-3574fd5a7d31",
   "metadata": {
    "tags": []
   },
   "outputs": [],
   "source": [
    "KServe.de"
   ]
  },
  {
   "cell_type": "code",
   "execution_count": null,
   "id": "e5ff3eaf-e156-4916-ab54-1d67739d701f",
   "metadata": {},
   "outputs": [],
   "source": [
    "\"\"\"\n",
    "spec:\n",
    "  predictor:\n",
    "    model:\n",
    "      modelFormat:\n",
    "        name: onnx\n",
    "        version: '1'\n",
    "      runtime: mnist\n",
    "      storage:\n",
    "        key: aws-connection-mnistsimplenn\n",
    "        path: v.simple_NN.20240419101713/simple_NN.onnx\n",
    "\"\"\""
   ]
  },
  {
   "cell_type": "code",
   "execution_count": null,
   "id": "1a90692a-a2f6-4553-8cfa-04334c931c93",
   "metadata": {},
   "outputs": [],
   "source": []
  }
 ],
 "metadata": {
  "kernelspec": {
   "display_name": "Python 3.9",
   "language": "python",
   "name": "python3"
  },
  "language_info": {
   "codemirror_mode": {
    "name": "ipython",
    "version": 3
   },
   "file_extension": ".py",
   "mimetype": "text/x-python",
   "name": "python",
   "nbconvert_exporter": "python",
   "pygments_lexer": "ipython3",
   "version": "3.9.18"
  }
 },
 "nbformat": 4,
 "nbformat_minor": 5
}
