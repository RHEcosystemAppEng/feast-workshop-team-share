{
 "cells": [
  {
   "cell_type": "code",
   "execution_count": 74,
   "id": "26b475ec-3e71-484b-a664-dd31726d7d42",
   "metadata": {
    "tags": []
   },
   "outputs": [
    {
     "name": "stdout",
     "output_type": "stream",
     "text": [
      "Requirement already satisfied: pip in /opt/app-root/lib/python3.9/site-packages (24.0)\n"
     ]
    }
   ],
   "source": [
    "!pip install --upgrade pip\n",
    "!pip install -q -r requirements.txt"
   ]
  },
  {
   "cell_type": "markdown",
   "id": "7a70cbc0-230b-4387-878f-d94831570546",
   "metadata": {},
   "source": [
    "## Imports and constants"
   ]
  },
  {
   "cell_type": "code",
   "execution_count": 75,
   "id": "f05dd5be-e4b5-4a81-abe4-1a3cd520eff6",
   "metadata": {
    "tags": []
   },
   "outputs": [],
   "source": [
    "import os\n",
    "from datetime import datetime, timedelta\n",
    "\n",
    "import pandas as pd\n",
    "import psycopg2\n",
    "import random\n",
    "from feast import FeatureStore\n",
    "from sqlalchemy import create_engine"
   ]
  },
  {
   "cell_type": "code",
   "execution_count": 76,
   "id": "ae926893-18e5-40ec-b837-2ef7575646cc",
   "metadata": {
    "tags": []
   },
   "outputs": [
    {
     "name": "stdout",
     "output_type": "stream",
     "text": [
      "env: REPO_PATH=mnist_demo/feature_repo/\n"
     ]
    }
   ],
   "source": [
    "%env REPO_PATH=mnist_demo/feature_repo/"
   ]
  },
  {
   "cell_type": "code",
   "execution_count": 77,
   "id": "9c28930b-9c59-4bd4-b827-11aef5600661",
   "metadata": {
    "tags": []
   },
   "outputs": [],
   "source": [
    "psqlHost = 'postgresql.feast.svc.cluster.local'\n",
    "psqlPort = 5432\n",
    "psqlUsername = 'feast'\n",
    "psqlPassword = 'feast'\n",
    "psqlDb = 'feast'\n",
    "psqlSchema = 'feast'\n",
    "\n",
    "mnistTableName = 'mnist_source'\n",
    "historicalTableName = 'mnist_demo_mnist'\n",
    "onlineTableName = 'mnist_demo_mnist_fresh'"
   ]
  },
  {
   "cell_type": "markdown",
   "id": "8f38c797-edf8-4c6d-bfe3-ffcdcc18a3c8",
   "metadata": {
    "tags": []
   },
   "source": [
    "## Create feature repository"
   ]
  },
  {
   "cell_type": "markdown",
   "id": "36b4ae2a-02a6-4e37-a6c2-a5d0c4b25919",
   "metadata": {},
   "source": [
    "Disable Feast usage reporting"
   ]
  },
  {
   "cell_type": "code",
   "execution_count": 78,
   "id": "cf914f44-be8a-43ea-b9c0-823f9cac2365",
   "metadata": {
    "tags": []
   },
   "outputs": [],
   "source": [
    "os.environ['FEAST_USAGE']='False'"
   ]
  },
  {
   "cell_type": "markdown",
   "id": "4487953d-ea26-407d-972c-9f8aee3db6e3",
   "metadata": {
    "tags": []
   },
   "source": [
    "Tear down previous run"
   ]
  },
  {
   "cell_type": "code",
   "execution_count": 79,
   "id": "fe19d70e-bbae-46f8-b66b-f435d4d24a1e",
   "metadata": {
    "tags": []
   },
   "outputs": [
    {
     "name": "stdout",
     "output_type": "stream",
     "text": [
      "04/18/2024 09:37:11 AM feast.infra.registry.registry INFO: Registry cache expired, so refreshing\n",
      "04/18/2024 09:37:11 AM feast.infra.registry.registry INFO: Registry cache expired, so refreshing\n",
      "04/18/2024 09:37:11 AM feast.infra.registry.registry INFO: Registry cache expired, so refreshing\n"
     ]
    }
   ],
   "source": [
    "!feast --log-level=DEBUG -c $REPO_PATH teardown\n",
    "!rm -rf $REPO_PATH"
   ]
  },
  {
   "cell_type": "markdown",
   "id": "9dfcb121-597b-4768-b5cd-cef6e0d1b730",
   "metadata": {},
   "source": [
    "Init Feast repo `mnist_demo`"
   ]
  },
  {
   "cell_type": "code",
   "execution_count": 80,
   "id": "d3376568-47bc-4685-8089-f678e8ca7d3b",
   "metadata": {
    "tags": []
   },
   "outputs": [
    {
     "name": "stdout",
     "output_type": "stream",
     "text": [
      "\n",
      "Creating a new Feast repository in \u001b[1m\u001b[32m/opt/app-root/src/feast-workshop-team-share/feast_modelregistry/mnist_demo\u001b[0m.\n",
      "\n"
     ]
    }
   ],
   "source": [
    "!feast init -m mnist_demo"
   ]
  },
  {
   "cell_type": "markdown",
   "id": "67e737f5-fe58-49f6-8a7f-61cdc9f44785",
   "metadata": {},
   "source": [
    "Copy repo configuration from [repo](./repo) folder"
   ]
  },
  {
   "cell_type": "code",
   "execution_count": 81,
   "id": "646551e2-12c4-400a-987f-237a86b032d3",
   "metadata": {
    "tags": []
   },
   "outputs": [
    {
     "name": "stdout",
     "output_type": "stream",
     "text": [
      "feature_store.yaml  __init__.py  mnist_repo.py\t__pycache__\n"
     ]
    }
   ],
   "source": [
    "!cp repo/* $REPO_PATH\n",
    "!ls $REPO_PATH"
   ]
  },
  {
   "cell_type": "markdown",
   "id": "5b440f31-af52-4f87-9e30-41e9e341cf2b",
   "metadata": {},
   "source": [
    "Apply the repo configuration"
   ]
  },
  {
   "cell_type": "code",
   "execution_count": 83,
   "id": "cb5ed376-fed0-492e-bc59-0da49b3cf91c",
   "metadata": {
    "tags": []
   },
   "outputs": [
    {
     "name": "stdout",
     "output_type": "stream",
     "text": [
      "Deploying infrastructure for \u001b[1m\u001b[32mmnist\u001b[0m\n",
      "Deploying infrastructure for \u001b[1m\u001b[32mmnist_fresh\u001b[0m\n"
     ]
    }
   ],
   "source": [
    "!feast -c $REPO_PATH apply"
   ]
  },
  {
   "cell_type": "markdown",
   "id": "f13991a0-a2ab-40ab-8548-dac0700860c2",
   "metadata": {},
   "source": [
    "Verify repo using `feast` CLI"
   ]
  },
  {
   "cell_type": "code",
   "execution_count": 84,
   "id": "e06c187d-3705-4088-9fec-72f86bc45575",
   "metadata": {
    "tags": []
   },
   "outputs": [
    {
     "name": "stdout",
     "output_type": "stream",
     "text": [
      "NAME    DESCRIPTION    TYPE\n",
      "image                  ValueType.UNKNOWN\n",
      "NAME         ENTITIES    TYPE\n",
      "mnist        {'image'}   FeatureView\n",
      "mnist_fresh  {'image'}   FeatureView\n",
      "NAME    FEATURES\n",
      "mnist   mnist:feature_1, mnist:feature_2, mnist:feature_3, mnist:feature_4, mnist:feature_5, mnist:feature_6, mnist:feature_7, mnist:feature_8, mnist:feature_9, mnist:feature_10, mnist:feature_11, mnist:feature_12, mnist:feature_13, mnist:feature_14, mnist:feature_15, mnist:feature_16, mnist:feature_17, mnist:feature_18, mnist:feature_19, mnist:feature_20, mnist:feature_21, mnist:feature_22, mnist:feature_23, mnist:feature_24, mnist:feature_25, mnist:feature_26, mnist:feature_27, mnist:feature_28\n",
      "NAME                CLASS\n",
      "images_push_source  <class 'feast.data_source.PushSource'>\n",
      "mnist_source        <class 'feast.infra.offline_stores.contrib.postgres_offline_store.postgres_source.PostgreSQLSource'>\n",
      "mnist_push_source   <class 'feast.infra.offline_stores.contrib.postgres_offline_store.postgres_source.PostgreSQLSource'>\n"
     ]
    }
   ],
   "source": [
    "!feast -c $REPO_PATH entities list\n",
    "!feast -c $REPO_PATH feature-views list\n",
    "!feast -c $REPO_PATH feature-services list\n",
    "!feast -c $REPO_PATH data-sources list"
   ]
  },
  {
   "cell_type": "markdown",
   "id": "7614f4f9-a7ec-4e33-9b3e-03a034121c23",
   "metadata": {},
   "source": [
    "### Content validation"
   ]
  },
  {
   "cell_type": "markdown",
   "id": "95babe5f-88fe-4cb3-8ba4-4b7e783c8a79",
   "metadata": {},
   "source": [
    "Select some random historical data and verify it matches the initial MNIST dataset"
   ]
  },
  {
   "cell_type": "code",
   "execution_count": 106,
   "id": "0ef485a8-8be7-471d-8b1f-29033d13bd46",
   "metadata": {
    "tags": []
   },
   "outputs": [
    {
     "name": "stderr",
     "output_type": "stream",
     "text": [
      "/tmp/ipykernel_599/1391327927.py:7: SADeprecationWarning: The LegacyRow.items() method is deprecated and will be removed in a future release.  Use the Row._mapping attribute, i.e., 'row._mapping.items()'. (deprecated since: 1.4)\n",
      "  first_ts = first_ts.items()[0][1]\n"
     ]
    },
    {
     "name": "stdout",
     "output_type": "stream",
     "text": [
      "Testing for [9, 1, 2, 5, 5, 3, 3, 8, 4, 8] and [datetime.datetime(2024, 4, 10, 7, 2, 56), datetime.datetime(2024, 4, 10, 7, 2, 46), datetime.datetime(2024, 4, 10, 7, 3, 6), datetime.datetime(2024, 4, 10, 7, 2, 16), datetime.datetime(2024, 4, 10, 7, 2, 16), datetime.datetime(2024, 4, 10, 7, 3, 26), datetime.datetime(2024, 4, 10, 7, 3, 26), datetime.datetime(2024, 4, 10, 7, 5, 6), datetime.datetime(2024, 4, 10, 7, 2, 36), datetime.datetime(2024, 4, 10, 7, 5, 6)]\n"
     ]
    }
   ],
   "source": [
    "image_ids = [random.randint(0, 9) for _ in range(10)]\n",
    "ts = []\n",
    "\n",
    "engine = create_engine(f'postgresql+psycopg2://{psqlUsername}:{psqlPassword}@{psqlHost}:{str(psqlPort)}/{psqlDb}')\n",
    "for image_id in image_ids:\n",
    "    first_ts = list(engine.execute(f\"SELECT ts FROM {mnistTableName} WHERE image_id={image_id}\").fetchall())[0]\n",
    "    first_ts = first_ts.items()[0][1]\n",
    "    ts.append(first_ts)\n",
    "\n",
    "print(f'Testing for {image_ids} and {ts}')\n",
    "entity_df = pd.DataFrame.from_dict(\n",
    "    {\n",
    "        \"image_id\": image_ids,\n",
    "        \"event_timestamp\": ts,\n",
    "    }\n",
    ")\n",
    "\n",
    "store = FeatureStore(repo_path=os.environ['REPO_PATH'])    \n",
    "test_df = store.get_historical_features(\n",
    "    entity_df=entity_df,\n",
    "    features=[\n",
    "        \"mnist:feature_1\",\n",
    "        \"mnist:feature_19\",\n",
    "        \"mnist:number\",\n",
    "    ],\n",
    ").to_df()"
   ]
  },
  {
   "cell_type": "code",
   "execution_count": 107,
   "id": "adfa5637-3b9e-47c8-b750-2be14872e17d",
   "metadata": {
    "tags": []
   },
   "outputs": [
    {
     "data": {
      "text/html": [
       "<div>\n",
       "<style scoped>\n",
       "    .dataframe tbody tr th:only-of-type {\n",
       "        vertical-align: middle;\n",
       "    }\n",
       "\n",
       "    .dataframe tbody tr th {\n",
       "        vertical-align: top;\n",
       "    }\n",
       "\n",
       "    .dataframe thead th {\n",
       "        text-align: right;\n",
       "    }\n",
       "</style>\n",
       "<table border=\"1\" class=\"dataframe\">\n",
       "  <thead>\n",
       "    <tr style=\"text-align: right;\">\n",
       "      <th></th>\n",
       "      <th>image_id</th>\n",
       "      <th>event_timestamp</th>\n",
       "      <th>feature_1</th>\n",
       "      <th>feature_19</th>\n",
       "      <th>number</th>\n",
       "    </tr>\n",
       "  </thead>\n",
       "  <tbody>\n",
       "    <tr>\n",
       "      <th>0</th>\n",
       "      <td>9</td>\n",
       "      <td>2024-04-10 07:02:56</td>\n",
       "      <td>(0.0,0.0,0.0,0.0,0.0,0.0,0.0,0.0,0.0,0.0,0.0,0...</td>\n",
       "      <td>(0.0,0.0,0.0,0.0,0.0,0.0,0.0,0.0,0.0,0.0,0.0,0...</td>\n",
       "      <td>9</td>\n",
       "    </tr>\n",
       "    <tr>\n",
       "      <th>1</th>\n",
       "      <td>1</td>\n",
       "      <td>2024-04-10 07:02:46</td>\n",
       "      <td>(0.0,0.0,0.0,0.0,0.0,0.0,0.0,0.0,0.0,0.0,0.0,0...</td>\n",
       "      <td>(0.0,0.0,0.0,0.0,0.0,0.0,0.0,0.0,0.0,0.0,0.917...</td>\n",
       "      <td>1</td>\n",
       "    </tr>\n",
       "    <tr>\n",
       "      <th>2</th>\n",
       "      <td>2</td>\n",
       "      <td>2024-04-10 07:03:06</td>\n",
       "      <td>(0.0,0.0,0.0,0.0,0.0,0.0,0.0,0.0,0.0,0.0,0.0,0...</td>\n",
       "      <td>(0.0,0.0,0.0,0.0,0.0,0.011764705882352941,0.53...</td>\n",
       "      <td>2</td>\n",
       "    </tr>\n",
       "    <tr>\n",
       "      <th>3</th>\n",
       "      <td>5</td>\n",
       "      <td>2024-04-10 07:02:16</td>\n",
       "      <td>(0.0,0.0,0.0,0.0,0.0,0.0,0.0,0.0,0.0,0.0,0.0,0...</td>\n",
       "      <td>(0.0,0.0,0.0,0.0,0.0,0.0,0.0,0.0,0.0,0.0,0.0,0...</td>\n",
       "      <td>5</td>\n",
       "    </tr>\n",
       "    <tr>\n",
       "      <th>4</th>\n",
       "      <td>5</td>\n",
       "      <td>2024-04-10 07:02:16</td>\n",
       "      <td>(0.0,0.0,0.0,0.0,0.0,0.0,0.0,0.0,0.0,0.0,0.0,0...</td>\n",
       "      <td>(0.0,0.0,0.0,0.0,0.0,0.0,0.0,0.0,0.0,0.0,0.0,0...</td>\n",
       "      <td>5</td>\n",
       "    </tr>\n",
       "  </tbody>\n",
       "</table>\n",
       "</div>"
      ],
      "text/plain": [
       "   image_id     event_timestamp  \\\n",
       "0         9 2024-04-10 07:02:56   \n",
       "1         1 2024-04-10 07:02:46   \n",
       "2         2 2024-04-10 07:03:06   \n",
       "3         5 2024-04-10 07:02:16   \n",
       "4         5 2024-04-10 07:02:16   \n",
       "\n",
       "                                           feature_1  \\\n",
       "0  (0.0,0.0,0.0,0.0,0.0,0.0,0.0,0.0,0.0,0.0,0.0,0...   \n",
       "1  (0.0,0.0,0.0,0.0,0.0,0.0,0.0,0.0,0.0,0.0,0.0,0...   \n",
       "2  (0.0,0.0,0.0,0.0,0.0,0.0,0.0,0.0,0.0,0.0,0.0,0...   \n",
       "3  (0.0,0.0,0.0,0.0,0.0,0.0,0.0,0.0,0.0,0.0,0.0,0...   \n",
       "4  (0.0,0.0,0.0,0.0,0.0,0.0,0.0,0.0,0.0,0.0,0.0,0...   \n",
       "\n",
       "                                          feature_19  number  \n",
       "0  (0.0,0.0,0.0,0.0,0.0,0.0,0.0,0.0,0.0,0.0,0.0,0...       9  \n",
       "1  (0.0,0.0,0.0,0.0,0.0,0.0,0.0,0.0,0.0,0.0,0.917...       1  \n",
       "2  (0.0,0.0,0.0,0.0,0.0,0.011764705882352941,0.53...       2  \n",
       "3  (0.0,0.0,0.0,0.0,0.0,0.0,0.0,0.0,0.0,0.0,0.0,0...       5  \n",
       "4  (0.0,0.0,0.0,0.0,0.0,0.0,0.0,0.0,0.0,0.0,0.0,0...       5  "
      ]
     },
     "execution_count": 107,
     "metadata": {},
     "output_type": "execute_result"
    }
   ],
   "source": [
    "test_df.head()"
   ]
  },
  {
   "cell_type": "code",
   "execution_count": 108,
   "id": "7579c7d7-1a95-4569-a290-0fb37c83235c",
   "metadata": {
    "tags": []
   },
   "outputs": [
    {
     "name": "stdout",
     "output_type": "stream",
     "text": [
      "<class 'pandas.core.frame.DataFrame'>\n",
      "RangeIndex: 10 entries, 0 to 9\n",
      "Data columns (total 5 columns):\n",
      " #   Column           Non-Null Count  Dtype         \n",
      "---  ------           --------------  -----         \n",
      " 0   image_id         10 non-null     int64         \n",
      " 1   event_timestamp  10 non-null     datetime64[ns]\n",
      " 2   feature_1        10 non-null     object        \n",
      " 3   feature_19       10 non-null     object        \n",
      " 4   number           10 non-null     int64         \n",
      "dtypes: datetime64[ns](1), int64(2), object(2)\n",
      "memory usage: 528.0+ bytes\n"
     ]
    }
   ],
   "source": [
    "test_df.info()"
   ]
  },
  {
   "cell_type": "markdown",
   "id": "9e6a5bdb-72aa-45f6-80b1-f6812326e328",
   "metadata": {},
   "source": [
    "## DB validation"
   ]
  },
  {
   "cell_type": "code",
   "execution_count": 109,
   "id": "7c876a43-5220-4513-9981-7057a376a3ed",
   "metadata": {
    "tags": []
   },
   "outputs": [],
   "source": [
    "def countDbRows():\n",
    "    engine = create_engine(f'postgresql+psycopg2://{psqlUsername}:{psqlPassword}@{psqlHost}:{str(psqlPort)}/{psqlDb}')\n",
    "    mnist_count = engine.execute(f\"SELECT COUNT(*) FROM {mnistTableName}\").scalar()\n",
    "    historical_count = engine.execute(f\"SELECT COUNT(*) FROM {historicalTableName}\").scalar()\n",
    "    online_count = engine.execute(f\"SELECT COUNT(*) FROM {onlineTableName}\").scalar()\n",
    "    return (mnist_count, historical_count, online_count)"
   ]
  },
  {
   "cell_type": "code",
   "execution_count": 110,
   "id": "b03e46b2-e861-4678-a942-9959484708f6",
   "metadata": {
    "tags": []
   },
   "outputs": [],
   "source": [
    "mnist_count, historical_count, online_count = countDbRows()\n",
    "\n",
    "assert historical_count==0, f\"Row count for {historicalTableName} is not 70000 but {historical_count}\"\n",
    "assert online_count==0, f\"Row count for {onlineTableName} is not 70000 but {online_count}\"\n",
    "assert mnist_count==70000, f\"Row count for {mnistTableName} is not 70000 but {mnist_count}\""
   ]
  },
  {
   "cell_type": "markdown",
   "id": "e64ee6a9-4896-4bbc-a836-636b4dbea147",
   "metadata": {},
   "source": [
    "## Features materialization"
   ]
  },
  {
   "cell_type": "markdown",
   "id": "69feb5ac-fc12-4aaa-8422-8097bb6f67ab",
   "metadata": {},
   "source": [
    "Materialization is ythe process to ingest batch features and streaming features (via a Push API) into the online store.\n",
    "\n",
    "See [Quickstart](https://docs.feast.dev/getting-started/quickstart#step-3c-ingest-batch-features-into-your-online-store)"
   ]
  },
  {
   "cell_type": "code",
   "execution_count": 112,
   "id": "63331c10-97b2-4c01-94bd-7aacdb501c42",
   "metadata": {
    "tags": []
   },
   "outputs": [
    {
     "name": "stdout",
     "output_type": "stream",
     "text": [
      "Materializing up to 2024-04-18 10:19:49\n",
      "Materializing \u001b[1m\u001b[32m2\u001b[0m feature views to \u001b[1m\u001b[32m2024-04-18 10:19:49+00:00\u001b[0m into the \u001b[1m\u001b[32mpostgres\u001b[0m online store.\n",
      "\n",
      "\u001b[1m\u001b[32mmnist_fresh\u001b[0m from \u001b[1m\u001b[32m2024-04-08 10:19:54+00:00\u001b[0m to \u001b[1m\u001b[32m2024-04-18 10:19:49+00:00\u001b[0m:\n",
      "0it [00:00, ?it/s]\n",
      "\u001b[1m\u001b[32mmnist\u001b[0m from \u001b[1m\u001b[32m2024-04-18 10:07:59+00:00\u001b[0m to \u001b[1m\u001b[32m2024-04-18 10:19:49+00:00\u001b[0m:\n",
      "0it [00:00, ?it/s]\n"
     ]
    }
   ],
   "source": [
    "os.environ['CURRENT_TIME']=str(datetime.now().replace(microsecond=0))\n",
    "!echo \"Materializing up to $CURRENT_TIME\"\n",
    "!cd $REPO_PATH;feast materialize-incremental \"$CURRENT_TIME\""
   ]
  },
  {
   "cell_type": "markdown",
   "id": "ac6857cc-72d1-409a-92b1-ec3e7964358c",
   "metadata": {},
   "source": [
    "Validate DB row count after materialization"
   ]
  },
  {
   "cell_type": "code",
   "execution_count": 116,
   "id": "0b256c05-9550-41a6-be7c-725ffe63747f",
   "metadata": {
    "tags": []
   },
   "outputs": [
    {
     "name": "stdout",
     "output_type": "stream",
     "text": [
      "Row count for mnist_demo_mnist is 300\n",
      "Row count for mnist_demo_mnist_fresh is 0\n",
      "Row count for mnist_source is 70000\n"
     ]
    }
   ],
   "source": [
    "mnist_count, historical_count, online_count = countDbRows()\n",
    "\n",
    "# Cannot predict row count, so just validate they are > 0\n",
    "assert historical_count>0, f\"Row count for {historicalTableName} is {historical_count}\"\n",
    "assert online_count==0, f\"Row count for {onlineTableName} is {online_count}\"\n",
    "assert mnist_count==70000, f\"Row count for {mnistTableName} is not 70000 but {mnist_count}\"\n",
    "print(f\"Row count for {historicalTableName} is {historical_count}\")\n",
    "print(f\"Row count for {onlineTableName} is {online_count}\")\n",
    "print(f\"Row count for {mnistTableName} is {mnist_count}\")"
   ]
  },
  {
   "cell_type": "code",
   "execution_count": null,
   "id": "636f4049-49b8-41dc-8d92-2896199afce9",
   "metadata": {},
   "outputs": [],
   "source": []
  }
 ],
 "metadata": {
  "kernelspec": {
   "display_name": "Python 3.9",
   "language": "python",
   "name": "python3"
  },
  "language_info": {
   "codemirror_mode": {
    "name": "ipython",
    "version": 3
   },
   "file_extension": ".py",
   "mimetype": "text/x-python",
   "name": "python",
   "nbconvert_exporter": "python",
   "pygments_lexer": "ipython3",
   "version": "3.9.18"
  }
 },
 "nbformat": 4,
 "nbformat_minor": 5
}
