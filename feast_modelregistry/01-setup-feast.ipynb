{
 "cells": [
  {
   "cell_type": "code",
   "execution_count": 43,
   "id": "26b475ec-3e71-484b-a664-dd31726d7d42",
   "metadata": {
    "tags": []
   },
   "outputs": [
    {
     "name": "stdout",
     "output_type": "stream",
     "text": [
      "Requirement already satisfied: pip in /opt/app-root/lib/python3.9/site-packages (24.0)\n"
     ]
    }
   ],
   "source": [
    "!pip install --upgrade pip\n",
    "!pip install -q -r requirements.txt"
   ]
  },
  {
   "cell_type": "markdown",
   "id": "8f38c797-edf8-4c6d-bfe3-ffcdcc18a3c8",
   "metadata": {
    "tags": []
   },
   "source": [
    "## Create feature repository"
   ]
  },
  {
   "cell_type": "markdown",
   "id": "36b4ae2a-02a6-4e37-a6c2-a5d0c4b25919",
   "metadata": {},
   "source": [
    "Disable Feast usage reporting"
   ]
  },
  {
   "cell_type": "code",
   "execution_count": 54,
   "id": "cf914f44-be8a-43ea-b9c0-823f9cac2365",
   "metadata": {
    "tags": []
   },
   "outputs": [],
   "source": [
    "os.environ['FEAST_USAGE']='False'"
   ]
  },
  {
   "cell_type": "code",
   "execution_count": 55,
   "id": "fe19d70e-bbae-46f8-b66b-f435d4d24a1e",
   "metadata": {
    "tags": []
   },
   "outputs": [
    {
     "name": "stdout",
     "output_type": "stream",
     "text": [
      "04/10/2024 08:24:46 PM feast.infra.registry.registry INFO: Registry cache expired, so refreshing\n",
      "04/10/2024 08:24:46 PM feast.infra.registry.registry INFO: Registry cache expired, so refreshing\n",
      "04/10/2024 08:24:46 PM feast.infra.registry.registry INFO: Registry cache expired, so refreshing\n"
     ]
    }
   ],
   "source": [
    "!feast --log-level=DEBUG -c $REPO_PATH teardown\n",
    "!rm -rf $REPO_PATH"
   ]
  },
  {
   "cell_type": "code",
   "execution_count": 56,
   "id": "d3376568-47bc-4685-8089-f678e8ca7d3b",
   "metadata": {
    "tags": []
   },
   "outputs": [
    {
     "name": "stdout",
     "output_type": "stream",
     "text": [
      "\n",
      "Creating a new Feast repository in \u001b[1m\u001b[32m/opt/app-root/src/feast-workshop-team-share/feast_modelregistry/mnist_demo\u001b[0m.\n",
      "\n"
     ]
    }
   ],
   "source": [
    "!feast init -m mnist_demo"
   ]
  },
  {
   "cell_type": "code",
   "execution_count": 57,
   "id": "ae926893-18e5-40ec-b837-2ef7575646cc",
   "metadata": {
    "tags": []
   },
   "outputs": [
    {
     "name": "stdout",
     "output_type": "stream",
     "text": [
      "env: REPO_PATH=mnist_demo/feature_repo/\n"
     ]
    }
   ],
   "source": [
    "%env REPO_PATH=mnist_demo/feature_repo/"
   ]
  },
  {
   "cell_type": "code",
   "execution_count": 58,
   "id": "646551e2-12c4-400a-987f-237a86b032d3",
   "metadata": {
    "tags": []
   },
   "outputs": [
    {
     "name": "stdout",
     "output_type": "stream",
     "text": [
      "feature_store.yaml  __init__.py  mnist_repo.py\t__pycache__\n"
     ]
    }
   ],
   "source": [
    "!cp repo/* $REPO_PATH\n",
    "!ls $REPO_PATH"
   ]
  },
  {
   "cell_type": "markdown",
   "id": "5b440f31-af52-4f87-9e30-41e9e341cf2b",
   "metadata": {},
   "source": [
    "Apply the feature definition"
   ]
  },
  {
   "cell_type": "code",
   "execution_count": 59,
   "id": "cb5ed376-fed0-492e-bc59-0da49b3cf91c",
   "metadata": {
    "tags": []
   },
   "outputs": [
    {
     "name": "stdout",
     "output_type": "stream",
     "text": [
      "Deploying infrastructure for \u001b[1m\u001b[32mmnist_fresh\u001b[0m\n",
      "Deploying infrastructure for \u001b[1m\u001b[32mmnist\u001b[0m\n"
     ]
    }
   ],
   "source": [
    "!feast -c $REPO_PATH apply"
   ]
  },
  {
   "cell_type": "code",
   "execution_count": 60,
   "id": "e06c187d-3705-4088-9fec-72f86bc45575",
   "metadata": {},
   "outputs": [
    {
     "name": "stdout",
     "output_type": "stream",
     "text": [
      "NAME    DESCRIPTION    TYPE\n",
      "image                  ValueType.UNKNOWN\n",
      "NAME         ENTITIES    TYPE\n",
      "mnist_fresh  {'image'}   FeatureView\n",
      "mnist        {'image'}   FeatureView\n",
      "NAME    FEATURES\n",
      "mnist   mnist:feature_1, mnist:feature_2, mnist:feature_3, mnist:feature_4, mnist:feature_5, mnist:feature_6, mnist:feature_7, mnist:feature_8, mnist:feature_9, mnist:feature_10, mnist:feature_11, mnist:feature_12, mnist:feature_13, mnist:feature_14, mnist:feature_15, mnist:feature_16, mnist:feature_17, mnist:feature_18, mnist:feature_19, mnist:feature_20, mnist:feature_21, mnist:feature_22, mnist:feature_23, mnist:feature_24, mnist:feature_25, mnist:feature_26, mnist:feature_27, mnist:feature_28\n"
     ]
    }
   ],
   "source": [
    "!feast -c $REPO_PATH entities list\n",
    "!feast -c $REPO_PATH feature-views list\n",
    "!feast -c $REPO_PATH feature-services list"
   ]
  },
  {
   "cell_type": "markdown",
   "id": "7614f4f9-a7ec-4e33-9b3e-03a034121c23",
   "metadata": {},
   "source": [
    "### Validation"
   ]
  },
  {
   "cell_type": "markdown",
   "id": "95babe5f-88fe-4cb3-8ba4-4b7e783c8a79",
   "metadata": {},
   "source": [
    "Select some random historical data and verify it matches the initial MNIST dataset"
   ]
  },
  {
   "cell_type": "code",
   "execution_count": null,
   "id": "0ef485a8-8be7-471d-8b1f-29033d13bd46",
   "metadata": {
    "tags": []
   },
   "outputs": [],
   "source": [
    "from feast import FeatureStore\n",
    "from datetime import datetime, timedelta\n",
    "import random\n",
    "\n",
    "end_date = datetime.now().replace(microsecond=0, second=0, minute=30, hour=10)\n",
    "print(f'Testing for {ts}')\n",
    "entity_df = pd.DataFrame.from_dict(\n",
    "    {\n",
    "        \"image_id\": [random.randint(1, 70000) for _ in range(100)],\n",
    "        \"event_timestamp\": [ts] * 100,\n",
    "    }\n",
    ")\n",
    "\n",
    "store = FeatureStore(repo_path=os.environ['REPO_PATH'])    \n",
    "test_df = store.get_historical_features(\n",
    "    entity_df=entity_df,\n",
    "    features=[\n",
    "        \"mnist:feature_1\",\n",
    "        \"mnist:feature_19\",\n",
    "        \"mnist:number\",\n",
    "    ],\n",
    ").to_df()"
   ]
  },
  {
   "cell_type": "code",
   "execution_count": 41,
   "id": "adfa5637-3b9e-47c8-b750-2be14872e17d",
   "metadata": {
    "tags": []
   },
   "outputs": [
    {
     "data": {
      "text/html": [
       "<div>\n",
       "<style scoped>\n",
       "    .dataframe tbody tr th:only-of-type {\n",
       "        vertical-align: middle;\n",
       "    }\n",
       "\n",
       "    .dataframe tbody tr th {\n",
       "        vertical-align: top;\n",
       "    }\n",
       "\n",
       "    .dataframe thead th {\n",
       "        text-align: right;\n",
       "    }\n",
       "</style>\n",
       "<table border=\"1\" class=\"dataframe\">\n",
       "  <thead>\n",
       "    <tr style=\"text-align: right;\">\n",
       "      <th></th>\n",
       "      <th>image_id</th>\n",
       "      <th>event_timestamp</th>\n",
       "      <th>feature_1</th>\n",
       "      <th>feature_19</th>\n",
       "      <th>number</th>\n",
       "    </tr>\n",
       "  </thead>\n",
       "  <tbody>\n",
       "    <tr>\n",
       "      <th>0</th>\n",
       "      <td>28350</td>\n",
       "      <td>2024-03-31 12:30:00</td>\n",
       "      <td>(0.0,0.0,0.0,0.0,0.0,0.0,0.0,0.0,0.0,0.0,0.0,0...</td>\n",
       "      <td>(0.0,0.0,0.0,0.0,0.0,0.0,0.0,0.0,0.0,0.0,0.058...</td>\n",
       "      <td>1.0</td>\n",
       "    </tr>\n",
       "    <tr>\n",
       "      <th>1</th>\n",
       "      <td>7362</td>\n",
       "      <td>2024-03-31 12:30:00</td>\n",
       "      <td>(0.0,0.0,0.0,0.0,0.0,0.0,0.0,0.0,0.0,0.0,0.0,0...</td>\n",
       "      <td>(0.0,0.0,0.0,0.0,0.0,0.0,0.0,0.407843137254901...</td>\n",
       "      <td>6.0</td>\n",
       "    </tr>\n",
       "    <tr>\n",
       "      <th>2</th>\n",
       "      <td>41645</td>\n",
       "      <td>2024-03-31 12:30:00</td>\n",
       "      <td>None</td>\n",
       "      <td>None</td>\n",
       "      <td>NaN</td>\n",
       "    </tr>\n",
       "    <tr>\n",
       "      <th>3</th>\n",
       "      <td>25901</td>\n",
       "      <td>2024-03-31 12:30:00</td>\n",
       "      <td>(0.0,0.0,0.0,0.0,0.0,0.0,0.0,0.0,0.0,0.0,0.0,0...</td>\n",
       "      <td>(0.0,0.0,0.0,0.0,0.0,0.0,0.0,0.0,0.0,0.0,0.0,0...</td>\n",
       "      <td>9.0</td>\n",
       "    </tr>\n",
       "    <tr>\n",
       "      <th>4</th>\n",
       "      <td>58051</td>\n",
       "      <td>2024-03-31 12:30:00</td>\n",
       "      <td>None</td>\n",
       "      <td>None</td>\n",
       "      <td>NaN</td>\n",
       "    </tr>\n",
       "  </tbody>\n",
       "</table>\n",
       "</div>"
      ],
      "text/plain": [
       "   image_id     event_timestamp  \\\n",
       "0     28350 2024-03-31 12:30:00   \n",
       "1      7362 2024-03-31 12:30:00   \n",
       "2     41645 2024-03-31 12:30:00   \n",
       "3     25901 2024-03-31 12:30:00   \n",
       "4     58051 2024-03-31 12:30:00   \n",
       "\n",
       "                                           feature_1  \\\n",
       "0  (0.0,0.0,0.0,0.0,0.0,0.0,0.0,0.0,0.0,0.0,0.0,0...   \n",
       "1  (0.0,0.0,0.0,0.0,0.0,0.0,0.0,0.0,0.0,0.0,0.0,0...   \n",
       "2                                               None   \n",
       "3  (0.0,0.0,0.0,0.0,0.0,0.0,0.0,0.0,0.0,0.0,0.0,0...   \n",
       "4                                               None   \n",
       "\n",
       "                                          feature_19  number  \n",
       "0  (0.0,0.0,0.0,0.0,0.0,0.0,0.0,0.0,0.0,0.0,0.058...     1.0  \n",
       "1  (0.0,0.0,0.0,0.0,0.0,0.0,0.0,0.407843137254901...     6.0  \n",
       "2                                               None     NaN  \n",
       "3  (0.0,0.0,0.0,0.0,0.0,0.0,0.0,0.0,0.0,0.0,0.0,0...     9.0  \n",
       "4                                               None     NaN  "
      ]
     },
     "execution_count": 41,
     "metadata": {},
     "output_type": "execute_result"
    }
   ],
   "source": [
    "test_df.head()"
   ]
  },
  {
   "cell_type": "code",
   "execution_count": 42,
   "id": "7579c7d7-1a95-4569-a290-0fb37c83235c",
   "metadata": {
    "tags": []
   },
   "outputs": [
    {
     "name": "stdout",
     "output_type": "stream",
     "text": [
      "<class 'pandas.core.frame.DataFrame'>\n",
      "RangeIndex: 100 entries, 0 to 99\n",
      "Data columns (total 5 columns):\n",
      " #   Column           Non-Null Count  Dtype         \n",
      "---  ------           --------------  -----         \n",
      " 0   image_id         100 non-null    int64         \n",
      " 1   event_timestamp  100 non-null    datetime64[ns]\n",
      " 2   feature_1        47 non-null     object        \n",
      " 3   feature_19       47 non-null     object        \n",
      " 4   number           47 non-null     float64       \n",
      "dtypes: datetime64[ns](1), float64(1), int64(1), object(2)\n",
      "memory usage: 4.0+ KB\n"
     ]
    }
   ],
   "source": [
    "test_df.info()"
   ]
  },
  {
   "cell_type": "markdown",
   "id": "1c369014-4767-4e62-aa64-48b05f67cc75",
   "metadata": {},
   "source": [
    "## Teardown"
   ]
  },
  {
   "cell_type": "code",
   "execution_count": 9,
   "id": "8a743789-15af-4045-ad24-01d4f62beb2d",
   "metadata": {
    "tags": []
   },
   "outputs": [
    {
     "name": "stdout",
     "output_type": "stream",
     "text": [
      "04/10/2024 03:52:46 PM feast.infra.registry.registry INFO: Registry cache expired, so refreshing\n",
      "04/10/2024 03:52:46 PM feast.infra.registry.registry INFO: Registry cache expired, so refreshing\n",
      "04/10/2024 03:52:46 PM feast.infra.registry.registry INFO: Registry cache expired, so refreshing\n"
     ]
    }
   ],
   "source": [
    "!feast --log-level=DEBUG -c $REPO_PATH teardown\n",
    "!rm -rf $REPO_PATH"
   ]
  },
  {
   "cell_type": "code",
   "execution_count": 218,
   "id": "3b310b70-de04-4d32-94cc-c8eb56bd6867",
   "metadata": {
    "tags": []
   },
   "outputs": [
    {
     "name": "stdout",
     "output_type": "stream",
     "text": [
      "ls: cannot access 'mnist_demo/feature_repo/': No such file or directory\n"
     ]
    }
   ],
   "source": [
    "!ls $REPO_PATH"
   ]
  },
  {
   "cell_type": "code",
   "execution_count": null,
   "id": "98e17fdc-a52b-4fde-b87f-82e707908337",
   "metadata": {},
   "outputs": [],
   "source": []
  }
 ],
 "metadata": {
  "kernelspec": {
   "display_name": "Python 3.9",
   "language": "python",
   "name": "python3"
  },
  "language_info": {
   "codemirror_mode": {
    "name": "ipython",
    "version": 3
   },
   "file_extension": ".py",
   "mimetype": "text/x-python",
   "name": "python",
   "nbconvert_exporter": "python",
   "pygments_lexer": "ipython3",
   "version": "3.9.18"
  }
 },
 "nbformat": 4,
 "nbformat_minor": 5
}
