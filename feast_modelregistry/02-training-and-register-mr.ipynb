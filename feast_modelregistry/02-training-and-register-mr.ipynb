{
 "cells": [
  {
   "cell_type": "markdown",
   "id": "70056bc7-87a8-4ad9-bb7c-9676464c5932",
   "metadata": {},
   "source": [
    "# Train Models using Feast historical data"
   ]
  },
  {
   "cell_type": "markdown",
   "id": "fb7e8790-c01f-400f-b7d6-42fe30a85450",
   "metadata": {},
   "source": [
    "* Collect historical features from Feast\n",
    "* Rebuild the MNIST dataset from the features\n",
    "* Train different models using the dataset\n",
    "* Register models using Model Registry"
   ]
  },
  {
   "cell_type": "code",
   "execution_count": 1,
   "id": "02fc0d45-4c06-4458-bc9a-43e61129c875",
   "metadata": {
    "tags": []
   },
   "outputs": [
    {
     "name": "stdout",
     "output_type": "stream",
     "text": [
      "Requirement already satisfied: pip in /opt/app-root/lib/python3.9/site-packages (24.0)\n",
      "feast==0.36.0\n",
      "psycopg2>=2.9\n",
      "onnx==1.14.1\n",
      "onnxruntime\n",
      "#tf2onnx\n",
      "#typing-extensions==4.5.0\n",
      "Collecting ml-metadata==1.14.0+remote.1\n",
      "  Downloading https://github.com/opendatahub-io/ml-metadata/releases/download/v1.14.0%2Bremote.1/ml_metadata-1.14.0+remote.1-py3-none-any.whl (78 kB)\n",
      "\u001b[2K     \u001b[90m━━━━━━━━━━━━━━━━━━━━━━━━━━━━━━━━━━━━━━━━\u001b[0m \u001b[32m78.4/78.4 kB\u001b[0m \u001b[31m7.6 MB/s\u001b[0m eta \u001b[36m0:00:00\u001b[0m\n",
      "\u001b[?25hRequirement already satisfied: model-registry==0.1.2 in /opt/app-root/lib/python3.9/site-packages (0.1.2)\n"
     ]
    }
   ],
   "source": [
    "!pip install --upgrade pip\n",
    "!cat requirements.txt\n",
    "!pip install -q -r requirements.txt\n",
    "!pip install --no-deps --ignore-requires-python \"https://github.com/opendatahub-io/ml-metadata/releases/download/v1.14.0%2Bremote.1/ml_metadata-1.14.0+remote.1-py3-none-any.whl\" # need a Python 3.11 compatible version\n",
    "!pip install --no-deps --ignore-requires-python \"model-registry==0.1.2\" # ignore dependencies because of the above override"
   ]
  },
  {
   "cell_type": "markdown",
   "id": "3cae2270-0256-4c87-a1b5-a989cea70ec4",
   "metadata": {},
   "source": [
    "## Imports and constants"
   ]
  },
  {
   "cell_type": "code",
   "execution_count": 2,
   "id": "c4918011-4fee-4c97-be06-e5800716efe3",
   "metadata": {
    "tags": []
   },
   "outputs": [
    {
     "name": "stderr",
     "output_type": "stream",
     "text": [
      "2024-04-19 09:47:18.650844: I tensorflow/core/platform/cpu_feature_guard.cc:182] This TensorFlow binary is optimized to use available CPU instructions in performance-critical operations.\n",
      "To enable the following instructions: AVX2 AVX512F FMA, in other operations, rebuild TensorFlow with the appropriate compiler flags.\n",
      "2024-04-19 09:47:19.499064: W tensorflow/compiler/tf2tensorrt/utils/py_utils.cc:38] TF-TRT Warning: Could not find TensorRT\n"
     ]
    }
   ],
   "source": [
    "# import ast\n",
    "import os\n",
    "from datetime import datetime, timedelta\n",
    "\n",
    "import boto3\n",
    "import matplotlib.pyplot as plt\n",
    "import numpy as np\n",
    "import onnx\n",
    "import onnxruntime as ort\n",
    "import pprint\n",
    "import pandas as pd\n",
    "import tensorflow as tf\n",
    "import tf2onnx\n",
    "from feast import FeatureStore\n",
    "from IPython.display import Markdown as md\n",
    "from model_registry import ModelRegistry\n",
    "from model_registry.types import ContextState\n",
    "# Needs a new release of model-registry\n",
    "# from model_registry.utils import s3_uri_from\n",
    "from sklearn.metrics import accuracy_score\n",
    "from sqlalchemy import create_engine, MetaData, Table, select, Column, Integer, DateTime\n",
    "from tensorflow import keras\n",
    "from tensorflow.keras import Sequential\n",
    "from tensorflow.keras.layers import Dense, Flatten"
   ]
  },
  {
   "cell_type": "markdown",
   "id": "e79b0dfa-8164-4277-952e-d137ba58cd20",
   "metadata": {},
   "source": [
    "**Note**: update this value to match the actual data"
   ]
  },
  {
   "cell_type": "code",
   "execution_count": 3,
   "id": "d767e338-2334-4d26-a5d8-94e46361c357",
   "metadata": {
    "tags": []
   },
   "outputs": [
    {
     "name": "stdout",
     "output_type": "stream",
     "text": [
      "env: REPO_PATH=mnist_demo/feature_repo/\n"
     ]
    }
   ],
   "source": [
    "%env REPO_PATH=mnist_demo/feature_repo/"
   ]
  },
  {
   "cell_type": "code",
   "execution_count": 4,
   "id": "fc6e6982-8508-4040-ad5f-e42ddbcfed3e",
   "metadata": {
    "tags": []
   },
   "outputs": [],
   "source": [
    "os.environ['accesskey'] = 'minio'\n",
    "os.environ['secretkey'] = 'minio123'\n",
    "os.environ['AWS_S3_ENDPOINT'] = 'http://minio-service.feast.svc.cluster.local:9000'\n",
    "os.environ['AWS_S3_BUCKET'] = 'feast'\n",
    "os.environ['AWS_DEFAULT_REGION'] = 'default'"
   ]
  },
  {
   "cell_type": "code",
   "execution_count": 5,
   "id": "655fefb2-ccfc-4992-a7b6-c57dbd17ea1c",
   "metadata": {
    "tags": []
   },
   "outputs": [],
   "source": [
    "psqlHost = 'postgresql.feast.svc.cluster.local'\n",
    "psqlPort = 5432\n",
    "psqlUsername = 'feast'\n",
    "psqlPassword = 'feast'\n",
    "psqlDb = 'feast'\n",
    "psqlSchema = 'feast'\n",
    "\n",
    "mnistTableName = 'mnist_source'"
   ]
  },
  {
   "cell_type": "markdown",
   "id": "8454f520-ce93-4a6b-ae7e-eb02e420a4fc",
   "metadata": {
    "tags": []
   },
   "source": [
    "## Reusable functions"
   ]
  },
  {
   "cell_type": "code",
   "execution_count": 42,
   "id": "41925691-0ea5-4fbb-bf9d-7cadfc480363",
   "metadata": {
    "tags": []
   },
   "outputs": [],
   "source": [
    "def simpleNN():\n",
    "    model = Sequential()\n",
    "\n",
    "    model.add(Flatten(input_shape=(28,28)))\n",
    "    model.add(Dense(128,activation='relu'))\n",
    "    model.add(Dense(32,activation='relu'))\n",
    "    model.add(Dense(10,activation='softmax'))\n",
    "\n",
    "    model.compile(loss='sparse_categorical_crossentropy',optimizer='Adam',metrics=['accuracy'])\n",
    "\n",
    "    model.summary()\n",
    "    return model, 'simple_NN'"
   ]
  },
  {
   "cell_type": "code",
   "execution_count": 43,
   "id": "4358eb16-4b9f-480e-b190-8150e1360380",
   "metadata": {
    "tags": []
   },
   "outputs": [],
   "source": [
    "def convolutedNN():\n",
    "    model = Sequential()\n",
    "\n",
    "    model.add(tf.keras.layers.Conv2D(filters=32, kernel_size=(3, 3), input_shape=(28, 28, 1)))\n",
    "    model.add(tf.keras.layers.MaxPooling2D(pool_size=(2, 2), strides=2))\n",
    "    model.add(tf.keras.layers.Flatten())\n",
    "    model.add(tf.keras.layers.Dense(units=64, activation=tf.nn.relu))\n",
    "    model.add(tf.keras.layers.Dropout(rate=0.2))\n",
    "    model.add(tf.keras.layers.Dense(10, activation=tf.nn.softmax))\n",
    "\n",
    "    model.compile(optimizer='adam',\n",
    "                  loss='sparse_categorical_crossentropy',\n",
    "                  metrics=['accuracy'])\n",
    "\n",
    "    model.summary()\n",
    "    return model, 'convolutedNN'"
   ]
  },
  {
   "cell_type": "code",
   "execution_count": 44,
   "id": "5de13e58-c58d-42b0-a70b-a25ed352627f",
   "metadata": {
    "tags": []
   },
   "outputs": [],
   "source": [
    "def evaluateModelAccuracy(model, model_name):\n",
    "    y_prob = model.predict(X_test)\n",
    "    y_pred = y_prob.argmax(axis=1)\n",
    "    accuracy = accuracy_score(y_test,y_pred)\n",
    "    print(f'Prediction accuracy for model `{model_name}` is: {round(accuracy * 100, 2)}%')"
   ]
  },
  {
   "cell_type": "code",
   "execution_count": 45,
   "id": "1f03cc35-90bf-4163-9be7-00e957a05ff9",
   "metadata": {
    "tags": []
   },
   "outputs": [],
   "source": [
    "def testModelForSample(model, sample_id):\n",
    "    prediction = model.predict(X_test[sample_id].reshape(1,28,28)).argmax(axis=1)[0]\n",
    "    print(f'prediction for sample {sample_id} is: ', prediction)\n",
    "    print(f'**Note**: the calculated prediction {prediction} must match the number plotted below. If not, the test failed')\n",
    "    plt.imshow(X_test[sample_id], cmap=\"Greys\")\n",
    "    plt.title(f'X_test[{sample_id}]:')\n",
    "    plt.show()\n"
   ]
  },
  {
   "cell_type": "code",
   "execution_count": 46,
   "id": "a240deb1-4ba8-46b2-9160-72e86607f58f",
   "metadata": {
    "tags": []
   },
   "outputs": [],
   "source": [
    "def saveModel(model, model_name):\n",
    "    input_signature = [tf.TensorSpec([1, 28, 28], tf.double, name='x')]\n",
    "    onnx_model, _ = tf2onnx.convert.from_keras(model, input_signature, opset=12)\n",
    "    file_name = f\"{model_name}.onnx\"\n",
    "    onnx.save(onnx_model, file_name)\n",
    "    print(f\"Saved as {file_name}\")\n",
    "    return file_name"
   ]
  },
  {
   "cell_type": "code",
   "execution_count": 47,
   "id": "9fd5963e-fabb-40ac-a002-2c7946955d96",
   "metadata": {
    "tags": []
   },
   "outputs": [],
   "source": [
    "def testModelFromFileForSample(file_name, sample_id):\n",
    "    model_onnx = onnx.load(file_name)\n",
    "    output = [node.name for node in model_onnx.graph.output]\n",
    "    print(output)\n",
    "\n",
    "    sess = ort.InferenceSession(file_name)\n",
    "    results_ort = sess.run([output[0]], {'x': X_test[sample_id].reshape(1,28,28)})\n",
    "    prediction = results_ort[0].argmax(axis=1)[0]\n",
    "    print(f'**Note**: the calculated prediction {prediction} must match the number plotted below. If not, the test failed')\n",
    "    plt.imshow(X_test[sample_id], cmap=\"Greys\")\n",
    "    plt.title(f'X_test[{sample_id}]:')\n",
    "    plt.show()"
   ]
  },
  {
   "cell_type": "code",
   "execution_count": 48,
   "id": "77b83b76-6342-4b28-af4f-fca1b99e28ca",
   "metadata": {
    "tags": []
   },
   "outputs": [],
   "source": [
    "# Copied from model-registry dev branch until a new package is released\n",
    "\"\"\"Utilities for the model registry.\"\"\"\n",
    "\n",
    "def s3_uri_from(\n",
    "    path: str,\n",
    ") -> str:\n",
    "    default_bucket = os.environ.get(\"AWS_S3_BUCKET\")\n",
    "    if not default_bucket:\n",
    "        msg = \"Custom environment requires all arguments\"\n",
    "        raise MissingMetadata(msg)\n",
    "    bucket = default_bucket\n",
    "\n",
    "    endpoint = os.getenv(\"AWS_S3_ENDPOINT\")\n",
    "    region = os.getenv(\"AWS_DEFAULT_REGION\")\n",
    "\n",
    "    if not (endpoint and region):\n",
    "        msg = \"Missing environment variables: bucket_endpoint and bucket_region are required\"\n",
    "        raise MissingMetadata(msg)\n",
    "\n",
    "    # https://alexwlchan.net/2020/s3-keys-are-not-file-paths/ nor do they resolve to valid URls\n",
    "    # FIXME: is this safe?\n",
    "    return f\"s3://{bucket}/{path}?endpoint={endpoint}&defaultRegion={region}\""
   ]
  },
  {
   "cell_type": "code",
   "execution_count": 49,
   "id": "eb617aaa-d045-44dc-aa74-6c300a1ad5b2",
   "metadata": {
    "tags": []
   },
   "outputs": [],
   "source": [
    "def storeTrainedModel(model, model_name, file_name):\n",
    "    registeredmodel_name = \"mnist\"\n",
    "    version_name = \"v.\"+model_name+\".\"+datetime.now().strftime(\"%Y%m%d%H%M%S\")\n",
    "    print(f\"Will be using: {registeredmodel_name}:{version_name} in the remainder of this task\")\n",
    "\n",
    "    in_bucket_path = version_name\n",
    "    in_bucket_target = f'{in_bucket_path}/{file_name}'\n",
    "\n",
    "    s3_uri = s3_uri_from(\n",
    "        in_bucket_target,\n",
    "    )\n",
    "    # Updated config for https://play.min.io:9443/\n",
    "    s3 = boto3.resource(\n",
    "        service_name='s3',\n",
    "        # region_name='default',\n",
    "        aws_access_key_id=os.environ['accesskey'],\n",
    "        aws_secret_access_key=os.environ['secretkey'],\n",
    "        # use_ssl=False,\n",
    "        endpoint_url=os.environ['AWS_S3_ENDPOINT'],\n",
    "        # config=boto3.session.Config(signature_version='s3v4'),\n",
    "        verify=False\n",
    "    )\n",
    "\n",
    "    s3_bucket_name = os.environ['AWS_S3_BUCKET']\n",
    "    odh_secret_name = f'aws-connection-{s3_bucket_name}'\n",
    "\n",
    "    my_bucket = s3.Bucket(s3_bucket_name)\n",
    "    my_bucket.upload_file(file_name, in_bucket_target)\n",
    "\n",
    "    print(f\"Objects in the {s3_bucket_name} bucket:\")\n",
    "    for obj in my_bucket.objects.filter():\n",
    "        print(obj.key)\n",
    "    return (registeredmodel_name, version_name, odh_secret_name, in_bucket_path, s3_uri)"
   ]
  },
  {
   "cell_type": "code",
   "execution_count": 58,
   "id": "b1d020b5-cdd6-4fb0-b80a-4dd590c717f0",
   "metadata": {
    "tags": []
   },
   "outputs": [],
   "source": [
    "def modelRegistry():\n",
    "    return ModelRegistry(server_address=\"modelregistry-sample.feast.svc.cluster.local\", port=9090, author=\"feast-dev@redhat.com\")"
   ]
  },
  {
   "cell_type": "code",
   "execution_count": 59,
   "id": "6f58bc62-59ef-49dc-8201-f24daef451bf",
   "metadata": {
    "tags": []
   },
   "outputs": [],
   "source": [
    "def registerToModelRegistry(\n",
    "    registeredmodel_name,\n",
    "    version_name,\n",
    "    odh_secret_name,\n",
    "    in_bucket_path,\n",
    "    s3_uri):\n",
    "    registry = modelRegistry()\n",
    "    \n",
    "    rm = registry.register_model(registeredmodel_name,\n",
    "                                    s3_uri,\n",
    "                                    model_format_name=\"onnx\",\n",
    "                                    model_format_version=\"1\",\n",
    "                                    storage_key=odh_secret_name,\n",
    "                                    storage_path=in_bucket_path,\n",
    "                                    version=version_name,\n",
    "                                    description=\"demo20231121 e2e MNIST\",\n",
    "                                    metadata={\n",
    "                                      key: os.environ[key] for key in ['AWS_S3_ENDPOINT', 'AWS_S3_BUCKET', 'AWS_DEFAULT_REGION'] if key in os.environ\n",
    "                                    },\n",
    "                                )\n",
    "    print(\"RegisteredModel:\")\n",
    "    print(registry.get_registered_model(registeredmodel_name))\n",
    "    print(\"ModelVersion:\")\n",
    "    print(registry.get_model_version(registeredmodel_name, version_name))\n",
    "    print(\"ModelArtifact:\")\n",
    "    print(registry.get_model_artifact(registeredmodel_name, version_name))\n",
    "    return registry"
   ]
  },
  {
   "cell_type": "code",
   "execution_count": 60,
   "id": "c4f39469-e22b-4bdf-b38c-182522b19c93",
   "metadata": {
    "tags": []
   },
   "outputs": [],
   "source": [
    "# Utility function to archive old versions\n",
    "def archiveAllModelVersions():\n",
    "    registry = modelRegistry()\n",
    "    models = registry._api.get_registered_models()\n",
    "    for model in models:\n",
    "        model_versions = registry._api.get_model_versions(model.id)\n",
    "        for model_version in model_versions:\n",
    "            if model_version.state != ContextState.ARCHIVED:\n",
    "                model_version.state=ContextState.ARCHIVED\n",
    "                try:\n",
    "                    print(f\"Archiving model version {model_version.name} of mode {model.name}\")\n",
    "                    res = registry._api.upsert_model_version(model_version, 1)\n",
    "                except Exception as e:\n",
    "                    print(f\"Error while archiving model version {model_version.name}: {e}\")"
   ]
  },
  {
   "cell_type": "markdown",
   "id": "5722467c-56fe-48fc-9f6c-989b8f97f73b",
   "metadata": {},
   "source": [
    "## Collect historical data"
   ]
  },
  {
   "cell_type": "markdown",
   "id": "d6e5dea0-a038-4046-944d-eea2512169d8",
   "metadata": {},
   "source": [
    "Fetches all the (`image_id`, `ts`) tuples from the MNIST dataset to use as the entity definition"
   ]
  },
  {
   "cell_type": "code",
   "execution_count": 16,
   "id": "4b24a183-e4c2-48b8-a3e9-e952d1a76ce7",
   "metadata": {
    "tags": []
   },
   "outputs": [
    {
     "name": "stderr",
     "output_type": "stream",
     "text": [
      "/tmp/ipykernel_11006/2869619936.py:3: RemovedIn20Warning: Deprecated API features detected! These feature(s) are not compatible with SQLAlchemy 2.0. To prevent incompatible upgrades prior to updating applications, ensure requirements files are pinned to \"sqlalchemy<2.0\". Set environment variable SQLALCHEMY_WARN_20=1 to show all deprecation warnings.  Set environment variable SQLALCHEMY_SILENCE_UBER_WARNING=1 to silence this message. (Background on SQLAlchemy 2.0 at: https://sqlalche.me/e/b8d9)\n",
      "  table = Table(mnistTableName, metadata, autoload=True, autoload_with=engine)\n"
     ]
    },
    {
     "data": {
      "text/html": [
       "<div>\n",
       "<style scoped>\n",
       "    .dataframe tbody tr th:only-of-type {\n",
       "        vertical-align: middle;\n",
       "    }\n",
       "\n",
       "    .dataframe tbody tr th {\n",
       "        vertical-align: top;\n",
       "    }\n",
       "\n",
       "    .dataframe thead th {\n",
       "        text-align: right;\n",
       "    }\n",
       "</style>\n",
       "<table border=\"1\" class=\"dataframe\">\n",
       "  <thead>\n",
       "    <tr style=\"text-align: right;\">\n",
       "      <th></th>\n",
       "      <th>image_id</th>\n",
       "      <th>event_timestamp</th>\n",
       "    </tr>\n",
       "  </thead>\n",
       "  <tbody>\n",
       "    <tr>\n",
       "      <th>0</th>\n",
       "      <td>5</td>\n",
       "      <td>2016-04-24 15:35:13</td>\n",
       "    </tr>\n",
       "    <tr>\n",
       "      <th>1</th>\n",
       "      <td>0</td>\n",
       "      <td>2016-04-24 16:35:13</td>\n",
       "    </tr>\n",
       "    <tr>\n",
       "      <th>2</th>\n",
       "      <td>4</td>\n",
       "      <td>2016-04-24 17:35:13</td>\n",
       "    </tr>\n",
       "    <tr>\n",
       "      <th>3</th>\n",
       "      <td>1</td>\n",
       "      <td>2016-04-24 18:35:13</td>\n",
       "    </tr>\n",
       "    <tr>\n",
       "      <th>4</th>\n",
       "      <td>9</td>\n",
       "      <td>2016-04-24 19:35:13</td>\n",
       "    </tr>\n",
       "  </tbody>\n",
       "</table>\n",
       "</div>"
      ],
      "text/plain": [
       "   image_id     event_timestamp\n",
       "0         5 2016-04-24 15:35:13\n",
       "1         0 2016-04-24 16:35:13\n",
       "2         4 2016-04-24 17:35:13\n",
       "3         1 2016-04-24 18:35:13\n",
       "4         9 2016-04-24 19:35:13"
      ]
     },
     "execution_count": 16,
     "metadata": {},
     "output_type": "execute_result"
    }
   ],
   "source": [
    "engine = create_engine(f'postgresql+psycopg2://{psqlUsername}:{psqlPassword}@{psqlHost}:{str(psqlPort)}/{psqlDb}')\n",
    "metadata = MetaData()\n",
    "table = Table(mnistTableName, metadata, autoload=True, autoload_with=engine)\n",
    "\n",
    "columns = [table.c.image_id, table.c.ts.label('event_timestamp')]\n",
    "stmt = select(columns)\n",
    "\n",
    "image_ids = []\n",
    "ts = []\n",
    "with engine.connect() as conn:\n",
    "    result = conn.execute(stmt)\n",
    "    for row in result:\n",
    "        image_ids.append(row['image_id'])\n",
    "        ts.append(row['event_timestamp'])\n",
    "\n",
    "entity_df = pd.DataFrame.from_dict(\n",
    "    {\n",
    "        \"image_id\": image_ids,\n",
    "        \"event_timestamp\": ts,\n",
    "    }\n",
    ")\n",
    "entity_df.head()"
   ]
  },
  {
   "cell_type": "code",
   "execution_count": 17,
   "id": "0055445e-f216-4d9b-9ffa-b7fb692f4671",
   "metadata": {
    "tags": []
   },
   "outputs": [
    {
     "name": "stdout",
     "output_type": "stream",
     "text": [
      "<class 'pandas.core.frame.DataFrame'>\n",
      "RangeIndex: 70000 entries, 0 to 69999\n",
      "Data columns (total 2 columns):\n",
      " #   Column           Non-Null Count  Dtype         \n",
      "---  ------           --------------  -----         \n",
      " 0   image_id         70000 non-null  int64         \n",
      " 1   event_timestamp  70000 non-null  datetime64[ns]\n",
      "dtypes: datetime64[ns](1), int64(1)\n",
      "memory usage: 1.1 MB\n"
     ]
    }
   ],
   "source": [
    "entity_df.info()"
   ]
  },
  {
   "cell_type": "markdown",
   "id": "433975e6-ec93-4e55-baf3-fbf13524e326",
   "metadata": {},
   "source": [
    "The execution of the following step that collects all the historical features for all the timestamps may take some time"
   ]
  },
  {
   "cell_type": "code",
   "execution_count": 18,
   "id": "2ba7d5fd-601c-4b15-a40f-61b422f683fe",
   "metadata": {
    "tags": []
   },
   "outputs": [
    {
     "name": "stdout",
     "output_type": "stream",
     "text": [
      "Fetching rows from 0 to 5000\n",
      "Fetching rows from 5000 to 10000\n",
      "Fetching rows from 10000 to 15000\n",
      "Fetching rows from 15000 to 20000\n",
      "Fetching rows from 20000 to 25000\n",
      "Fetching rows from 25000 to 30000\n",
      "Fetching rows from 30000 to 35000\n",
      "Fetching rows from 35000 to 40000\n",
      "Fetching rows from 40000 to 45000\n",
      "Fetching rows from 45000 to 50000\n",
      "Fetching rows from 50000 to 55000\n",
      "Fetching rows from 55000 to 60000\n",
      "Fetching rows from 60000 to 65000\n",
      "Fetching rows from 65000 to 70000\n",
      "CPU times: user 4.03 s, sys: 948 ms, total: 4.98 s\n",
      "Wall time: 15.6 s\n"
     ]
    }
   ],
   "source": [
    "%%time\n",
    "historical_df = pd.DataFrame()\n",
    "store = FeatureStore(repo_path=os.environ['REPO_PATH'])    \n",
    "features = [f\"mnist:feature_{i+1}\" for i in range(28)]\n",
    "features.append(\"mnist:number\")\n",
    "\n",
    "batch_size = 5000\n",
    "offset = 0\n",
    "while offset < len(entity_df):\n",
    "    end_index = min(len(entity_df), offset + batch_size)\n",
    "    print(f\"Fetching rows from {offset} to {end_index}\")\n",
    "    batch_entity_df = pd.DataFrame.from_dict(\n",
    "        {\n",
    "            \"image_id\": entity_df['image_id'][offset: end_index],\n",
    "            \"event_timestamp\": entity_df['event_timestamp'][offset: end_index],\n",
    "        }\n",
    "    )\n",
    "\n",
    "    offset += batch_size\n",
    "    batch_df = store.get_historical_features(\n",
    "        entity_df=batch_entity_df,\n",
    "        features=features,\n",
    "    ).to_df()\n",
    "    historical_df = pd.concat([historical_df, batch_df], ignore_index=True)    "
   ]
  },
  {
   "cell_type": "code",
   "execution_count": 19,
   "id": "14a3b6ec-1dde-4c3b-99bc-3fa5176f0760",
   "metadata": {
    "tags": []
   },
   "outputs": [],
   "source": [
    "assert len(historical_df)==70000, f\"Found {len(historical_df)} instead of 70000\""
   ]
  },
  {
   "cell_type": "code",
   "execution_count": 20,
   "id": "dd900ac6-e9c6-42ba-a1c8-7da488806289",
   "metadata": {
    "tags": []
   },
   "outputs": [
    {
     "data": {
      "text/html": [
       "<div>\n",
       "<style scoped>\n",
       "    .dataframe tbody tr th:only-of-type {\n",
       "        vertical-align: middle;\n",
       "    }\n",
       "\n",
       "    .dataframe tbody tr th {\n",
       "        vertical-align: top;\n",
       "    }\n",
       "\n",
       "    .dataframe thead th {\n",
       "        text-align: right;\n",
       "    }\n",
       "</style>\n",
       "<table border=\"1\" class=\"dataframe\">\n",
       "  <thead>\n",
       "    <tr style=\"text-align: right;\">\n",
       "      <th></th>\n",
       "      <th>image_id</th>\n",
       "      <th>event_timestamp</th>\n",
       "      <th>feature_1</th>\n",
       "      <th>feature_2</th>\n",
       "      <th>feature_3</th>\n",
       "      <th>feature_4</th>\n",
       "      <th>feature_5</th>\n",
       "      <th>feature_6</th>\n",
       "      <th>feature_7</th>\n",
       "      <th>feature_8</th>\n",
       "      <th>...</th>\n",
       "      <th>feature_20</th>\n",
       "      <th>feature_21</th>\n",
       "      <th>feature_22</th>\n",
       "      <th>feature_23</th>\n",
       "      <th>feature_24</th>\n",
       "      <th>feature_25</th>\n",
       "      <th>feature_26</th>\n",
       "      <th>feature_27</th>\n",
       "      <th>feature_28</th>\n",
       "      <th>number</th>\n",
       "    </tr>\n",
       "  </thead>\n",
       "  <tbody>\n",
       "    <tr>\n",
       "      <th>0</th>\n",
       "      <td>3</td>\n",
       "      <td>2016-04-25 01:35:13</td>\n",
       "      <td>(0.0,0.0,0.0,0.0,0.0,0.0,0.0,0.0,0.0,0.0,0.0,0...</td>\n",
       "      <td>(0.0,0.0,0.0,0.0,0.0,0.0,0.0,0.0,0.0,0.0,0.0,0...</td>\n",
       "      <td>(0.0,0.0,0.0,0.0,0.0,0.0,0.0,0.0,0.0,0.0,0.0,0...</td>\n",
       "      <td>(0.0,0.0,0.0,0.0,0.0,0.0,0.0,0.0,0.0,0.0,0.0,0...</td>\n",
       "      <td>(0.0,0.0,0.0,0.0,0.0,0.0,0.0,0.0,0.0,0.0,0.0,0...</td>\n",
       "      <td>(0.0,0.0,0.0,0.0,0.0,0.0,0.0,0.0,0.0,0.0,0.403...</td>\n",
       "      <td>(0.0,0.0,0.0,0.0,0.0,0.0,0.0,0.0,0.0,0.0,0.070...</td>\n",
       "      <td>(0.0,0.0,0.0,0.0,0.0,0.0,0.0,0.0,0.0,0.0,0.0,0...</td>\n",
       "      <td>...</td>\n",
       "      <td>(0.0,0.0,0.0,0.0,0.0,0.0,0.07450980392156863,0...</td>\n",
       "      <td>(0.0,0.0,0.0,0.0,0.0,0.0,0.6431372549019608,0....</td>\n",
       "      <td>(0.0,0.0,0.0,0.0,0.0,0.0,0.2235294117647059,0....</td>\n",
       "      <td>(0.0,0.0,0.0,0.0,0.0,0.0,0.0,0.549019607843137...</td>\n",
       "      <td>(0.0,0.0,0.0,0.0,0.0,0.0,0.0,0.0,0.02745098039...</td>\n",
       "      <td>(0.0,0.0,0.0,0.0,0.0,0.0,0.0,0.0,0.0,0.0,0.0,0...</td>\n",
       "      <td>(0.0,0.0,0.0,0.0,0.0,0.0,0.0,0.0,0.0,0.0,0.0,0...</td>\n",
       "      <td>(0.0,0.0,0.0,0.0,0.0,0.0,0.0,0.0,0.0,0.0,0.0,0...</td>\n",
       "      <td>(0.0,0.0,0.0,0.0,0.0,0.0,0.0,0.0,0.0,0.0,0.0,0...</td>\n",
       "      <td>3</td>\n",
       "    </tr>\n",
       "    <tr>\n",
       "      <th>1</th>\n",
       "      <td>5</td>\n",
       "      <td>2016-04-25 02:35:13</td>\n",
       "      <td>(0.0,0.0,0.0,0.0,0.0,0.0,0.0,0.0,0.0,0.0,0.0,0...</td>\n",
       "      <td>(0.0,0.0,0.0,0.0,0.0,0.0,0.0,0.0,0.0,0.0,0.0,0...</td>\n",
       "      <td>(0.0,0.0,0.0,0.0,0.0,0.0,0.0,0.0,0.0,0.0,0.0,0...</td>\n",
       "      <td>(0.0,0.0,0.0,0.0,0.0,0.0,0.0,0.0,0.0,0.0,0.0,0...</td>\n",
       "      <td>(0.0,0.0,0.0,0.0,0.0,0.0,0.0,0.0,0.0,0.0,0.0,0...</td>\n",
       "      <td>(0.0,0.0,0.0,0.0,0.0,0.0,0.0,0.0,0.0,0.0,0.0,0...</td>\n",
       "      <td>(0.0,0.0,0.0,0.0,0.0,0.0,0.0,0.0,0.0,0.0,0.0,0...</td>\n",
       "      <td>(0.0,0.0,0.0,0.0,0.0,0.0,0.0,0.0,0.0,0.0,0.0,0...</td>\n",
       "      <td>...</td>\n",
       "      <td>(0.0,0.0,0.0,0.0,0.0,0.0,0.4745098039215686,0....</td>\n",
       "      <td>(0.0,0.0,0.0,0.0,0.0,0.0,0.0,0.454901960784313...</td>\n",
       "      <td>(0.0,0.0,0.0,0.0,0.0,0.0,0.0,0.0,0.0,0.0,0.0,0...</td>\n",
       "      <td>(0.0,0.0,0.0,0.0,0.0,0.0,0.0,0.0,0.0,0.0,0.0,0...</td>\n",
       "      <td>(0.0,0.0,0.0,0.0,0.0,0.0,0.0,0.0,0.0,0.0,0.0,0...</td>\n",
       "      <td>(0.0,0.0,0.0,0.0,0.0,0.0,0.0,0.0,0.0,0.0,0.0,0...</td>\n",
       "      <td>(0.0,0.0,0.0,0.0,0.0,0.0,0.0,0.0,0.0,0.0,0.0,0...</td>\n",
       "      <td>(0.0,0.0,0.0,0.0,0.0,0.0,0.0,0.0,0.0,0.0,0.0,0...</td>\n",
       "      <td>(0.0,0.0,0.0,0.0,0.0,0.0,0.0,0.0,0.0,0.0,0.0,0...</td>\n",
       "      <td>5</td>\n",
       "    </tr>\n",
       "    <tr>\n",
       "      <th>2</th>\n",
       "      <td>7</td>\n",
       "      <td>2016-04-25 06:35:13</td>\n",
       "      <td>(0.0,0.0,0.0,0.0,0.0,0.0,0.0,0.0,0.0,0.0,0.0,0...</td>\n",
       "      <td>(0.0,0.0,0.0,0.0,0.0,0.0,0.0,0.0,0.0,0.0,0.0,0...</td>\n",
       "      <td>(0.0,0.0,0.0,0.0,0.0,0.0,0.0,0.0,0.0,0.0,0.0,0...</td>\n",
       "      <td>(0.0,0.0,0.0,0.0,0.0,0.0,0.0,0.0,0.0,0.0,0.0,0...</td>\n",
       "      <td>(0.0,0.0,0.0,0.0,0.0,0.0,0.0,0.0,0.0,0.0,0.0,0...</td>\n",
       "      <td>(0.0,0.0,0.0,0.0,0.0,0.0,0.0,0.0,0.0,0.0,0.0,0...</td>\n",
       "      <td>(0.0,0.0,0.0,0.0,0.0,0.0,0.0,0.0,0.0,0.0,0.0,0...</td>\n",
       "      <td>(0.0,0.0,0.0,0.0,0.0,0.0,0.0,0.0,0.0,0.0,0.0,0...</td>\n",
       "      <td>...</td>\n",
       "      <td>(0.0,0.0,0.0,0.0,0.0,0.0,0.0,0.0,0.0,0.0,0.0,0...</td>\n",
       "      <td>(0.0,0.0,0.0,0.0,0.0,0.0,0.0,0.0,0.0,0.0,0.050...</td>\n",
       "      <td>(0.0,0.0,0.0,0.0,0.0,0.0,0.0,0.0,0.0,0.0,0.160...</td>\n",
       "      <td>(0.0,0.0,0.0,0.0,0.0,0.0,0.0,0.0,0.0,0.1568627...</td>\n",
       "      <td>(0.0,0.0,0.0,0.0,0.0,0.0,0.0,0.0,0.0,0.6470588...</td>\n",
       "      <td>(0.0,0.0,0.0,0.0,0.0,0.0,0.0,0.0,0.16862745098...</td>\n",
       "      <td>(0.0,0.0,0.0,0.0,0.0,0.0,0.0,0.0,0.53725490196...</td>\n",
       "      <td>(0.0,0.0,0.0,0.0,0.0,0.0,0.0,0.0,0.26274509803...</td>\n",
       "      <td>(0.0,0.0,0.0,0.0,0.0,0.0,0.0,0.0,0.0,0.0,0.0,0...</td>\n",
       "      <td>7</td>\n",
       "    </tr>\n",
       "    <tr>\n",
       "      <th>3</th>\n",
       "      <td>6</td>\n",
       "      <td>2016-04-25 09:35:13</td>\n",
       "      <td>(0.0,0.0,0.0,0.0,0.0,0.0,0.0,0.0,0.0,0.0,0.0,0...</td>\n",
       "      <td>(0.0,0.0,0.0,0.0,0.0,0.0,0.0,0.0,0.0,0.0,0.0,0...</td>\n",
       "      <td>(0.0,0.0,0.0,0.0,0.0,0.0,0.0,0.0,0.0,0.0,0.0,0...</td>\n",
       "      <td>(0.0,0.0,0.0,0.0,0.0,0.0,0.0,0.0,0.0,0.0,0.0,0...</td>\n",
       "      <td>(0.0,0.0,0.0,0.0,0.0,0.0,0.0,0.0,0.0,0.0,0.0,0...</td>\n",
       "      <td>(0.0,0.0,0.0,0.0,0.0,0.0,0.0,0.0,0.0,0.0,0.0,0...</td>\n",
       "      <td>(0.0,0.0,0.0,0.0,0.0,0.0,0.0,0.0,0.0,0.0,0.0,0...</td>\n",
       "      <td>(0.0,0.0,0.0,0.0,0.0,0.0,0.0,0.0,0.0,0.0,0.0,0...</td>\n",
       "      <td>...</td>\n",
       "      <td>(0.0,0.0,0.0,0.0,0.0,0.0,0.0,0.0,0.0,0.2627450...</td>\n",
       "      <td>(0.0,0.0,0.0,0.0,0.0,0.0,0.0,0.0,0.0,0.0980392...</td>\n",
       "      <td>(0.0,0.0,0.0,0.0,0.0,0.0,0.0,0.0,0.0,0.0,0.419...</td>\n",
       "      <td>(0.0,0.0,0.0,0.0,0.0,0.0,0.0,0.0,0.0,0.0,0.0,0...</td>\n",
       "      <td>(0.0,0.0,0.0,0.0,0.0,0.0,0.0,0.0,0.0,0.0,0.0,0...</td>\n",
       "      <td>(0.0,0.0,0.0,0.0,0.0,0.0,0.0,0.0,0.0,0.0,0.0,0...</td>\n",
       "      <td>(0.0,0.0,0.0,0.0,0.0,0.0,0.0,0.0,0.0,0.0,0.0,0...</td>\n",
       "      <td>(0.0,0.0,0.0,0.0,0.0,0.0,0.0,0.0,0.0,0.0,0.0,0...</td>\n",
       "      <td>(0.0,0.0,0.0,0.0,0.0,0.0,0.0,0.0,0.0,0.0,0.0,0...</td>\n",
       "      <td>6</td>\n",
       "    </tr>\n",
       "    <tr>\n",
       "      <th>4</th>\n",
       "      <td>9</td>\n",
       "      <td>2016-04-25 13:35:13</td>\n",
       "      <td>(0.0,0.0,0.0,0.0,0.0,0.0,0.0,0.0,0.0,0.0,0.0,0...</td>\n",
       "      <td>(0.0,0.0,0.0,0.0,0.0,0.0,0.0,0.0,0.0,0.0,0.0,0...</td>\n",
       "      <td>(0.0,0.0,0.0,0.0,0.0,0.0,0.0,0.0,0.0,0.0,0.0,0...</td>\n",
       "      <td>(0.0,0.0,0.0,0.0,0.0,0.0,0.0,0.0,0.0,0.0,0.0,0...</td>\n",
       "      <td>(0.0,0.0,0.0,0.0,0.0,0.0,0.0,0.0,0.0,0.0,0.0,0...</td>\n",
       "      <td>(0.0,0.0,0.0,0.0,0.0,0.0,0.0,0.0,0.0,0.0,0.0,0...</td>\n",
       "      <td>(0.0,0.0,0.0,0.0,0.0,0.0,0.0,0.0,0.0,0.0,0.0,0...</td>\n",
       "      <td>(0.0,0.0,0.0,0.0,0.0,0.0,0.0,0.0,0.0,0.0,0.0,0...</td>\n",
       "      <td>...</td>\n",
       "      <td>(0.0,0.0,0.0,0.0,0.0,0.0,0.0,0.0,0.0,0.0,0.0,0...</td>\n",
       "      <td>(0.0,0.0,0.0,0.0,0.0,0.0,0.0,0.0,0.0,0.0,0.0,0...</td>\n",
       "      <td>(0.0,0.0,0.0,0.0,0.0,0.0,0.0,0.0,0.0,0.0,0.0,0...</td>\n",
       "      <td>(0.0,0.0,0.0,0.0,0.0,0.0,0.0,0.0,0.0,0.0,0.031...</td>\n",
       "      <td>(0.0,0.0,0.0,0.0,0.0,0.0,0.0,0.0,0.0,0.0,0.411...</td>\n",
       "      <td>(0.0,0.0,0.0,0.0,0.0,0.0,0.0,0.0,0.0,0.0,0.839...</td>\n",
       "      <td>(0.0,0.0,0.0,0.0,0.0,0.0,0.0,0.0,0.0,0.0,0.909...</td>\n",
       "      <td>(0.0,0.0,0.0,0.0,0.0,0.0,0.0,0.0,0.0,0.0,0.0,0...</td>\n",
       "      <td>(0.0,0.0,0.0,0.0,0.0,0.0,0.0,0.0,0.0,0.0,0.0,0...</td>\n",
       "      <td>9</td>\n",
       "    </tr>\n",
       "  </tbody>\n",
       "</table>\n",
       "<p>5 rows × 31 columns</p>\n",
       "</div>"
      ],
      "text/plain": [
       "   image_id     event_timestamp  \\\n",
       "0         3 2016-04-25 01:35:13   \n",
       "1         5 2016-04-25 02:35:13   \n",
       "2         7 2016-04-25 06:35:13   \n",
       "3         6 2016-04-25 09:35:13   \n",
       "4         9 2016-04-25 13:35:13   \n",
       "\n",
       "                                           feature_1  \\\n",
       "0  (0.0,0.0,0.0,0.0,0.0,0.0,0.0,0.0,0.0,0.0,0.0,0...   \n",
       "1  (0.0,0.0,0.0,0.0,0.0,0.0,0.0,0.0,0.0,0.0,0.0,0...   \n",
       "2  (0.0,0.0,0.0,0.0,0.0,0.0,0.0,0.0,0.0,0.0,0.0,0...   \n",
       "3  (0.0,0.0,0.0,0.0,0.0,0.0,0.0,0.0,0.0,0.0,0.0,0...   \n",
       "4  (0.0,0.0,0.0,0.0,0.0,0.0,0.0,0.0,0.0,0.0,0.0,0...   \n",
       "\n",
       "                                           feature_2  \\\n",
       "0  (0.0,0.0,0.0,0.0,0.0,0.0,0.0,0.0,0.0,0.0,0.0,0...   \n",
       "1  (0.0,0.0,0.0,0.0,0.0,0.0,0.0,0.0,0.0,0.0,0.0,0...   \n",
       "2  (0.0,0.0,0.0,0.0,0.0,0.0,0.0,0.0,0.0,0.0,0.0,0...   \n",
       "3  (0.0,0.0,0.0,0.0,0.0,0.0,0.0,0.0,0.0,0.0,0.0,0...   \n",
       "4  (0.0,0.0,0.0,0.0,0.0,0.0,0.0,0.0,0.0,0.0,0.0,0...   \n",
       "\n",
       "                                           feature_3  \\\n",
       "0  (0.0,0.0,0.0,0.0,0.0,0.0,0.0,0.0,0.0,0.0,0.0,0...   \n",
       "1  (0.0,0.0,0.0,0.0,0.0,0.0,0.0,0.0,0.0,0.0,0.0,0...   \n",
       "2  (0.0,0.0,0.0,0.0,0.0,0.0,0.0,0.0,0.0,0.0,0.0,0...   \n",
       "3  (0.0,0.0,0.0,0.0,0.0,0.0,0.0,0.0,0.0,0.0,0.0,0...   \n",
       "4  (0.0,0.0,0.0,0.0,0.0,0.0,0.0,0.0,0.0,0.0,0.0,0...   \n",
       "\n",
       "                                           feature_4  \\\n",
       "0  (0.0,0.0,0.0,0.0,0.0,0.0,0.0,0.0,0.0,0.0,0.0,0...   \n",
       "1  (0.0,0.0,0.0,0.0,0.0,0.0,0.0,0.0,0.0,0.0,0.0,0...   \n",
       "2  (0.0,0.0,0.0,0.0,0.0,0.0,0.0,0.0,0.0,0.0,0.0,0...   \n",
       "3  (0.0,0.0,0.0,0.0,0.0,0.0,0.0,0.0,0.0,0.0,0.0,0...   \n",
       "4  (0.0,0.0,0.0,0.0,0.0,0.0,0.0,0.0,0.0,0.0,0.0,0...   \n",
       "\n",
       "                                           feature_5  \\\n",
       "0  (0.0,0.0,0.0,0.0,0.0,0.0,0.0,0.0,0.0,0.0,0.0,0...   \n",
       "1  (0.0,0.0,0.0,0.0,0.0,0.0,0.0,0.0,0.0,0.0,0.0,0...   \n",
       "2  (0.0,0.0,0.0,0.0,0.0,0.0,0.0,0.0,0.0,0.0,0.0,0...   \n",
       "3  (0.0,0.0,0.0,0.0,0.0,0.0,0.0,0.0,0.0,0.0,0.0,0...   \n",
       "4  (0.0,0.0,0.0,0.0,0.0,0.0,0.0,0.0,0.0,0.0,0.0,0...   \n",
       "\n",
       "                                           feature_6  \\\n",
       "0  (0.0,0.0,0.0,0.0,0.0,0.0,0.0,0.0,0.0,0.0,0.403...   \n",
       "1  (0.0,0.0,0.0,0.0,0.0,0.0,0.0,0.0,0.0,0.0,0.0,0...   \n",
       "2  (0.0,0.0,0.0,0.0,0.0,0.0,0.0,0.0,0.0,0.0,0.0,0...   \n",
       "3  (0.0,0.0,0.0,0.0,0.0,0.0,0.0,0.0,0.0,0.0,0.0,0...   \n",
       "4  (0.0,0.0,0.0,0.0,0.0,0.0,0.0,0.0,0.0,0.0,0.0,0...   \n",
       "\n",
       "                                           feature_7  \\\n",
       "0  (0.0,0.0,0.0,0.0,0.0,0.0,0.0,0.0,0.0,0.0,0.070...   \n",
       "1  (0.0,0.0,0.0,0.0,0.0,0.0,0.0,0.0,0.0,0.0,0.0,0...   \n",
       "2  (0.0,0.0,0.0,0.0,0.0,0.0,0.0,0.0,0.0,0.0,0.0,0...   \n",
       "3  (0.0,0.0,0.0,0.0,0.0,0.0,0.0,0.0,0.0,0.0,0.0,0...   \n",
       "4  (0.0,0.0,0.0,0.0,0.0,0.0,0.0,0.0,0.0,0.0,0.0,0...   \n",
       "\n",
       "                                           feature_8  ...  \\\n",
       "0  (0.0,0.0,0.0,0.0,0.0,0.0,0.0,0.0,0.0,0.0,0.0,0...  ...   \n",
       "1  (0.0,0.0,0.0,0.0,0.0,0.0,0.0,0.0,0.0,0.0,0.0,0...  ...   \n",
       "2  (0.0,0.0,0.0,0.0,0.0,0.0,0.0,0.0,0.0,0.0,0.0,0...  ...   \n",
       "3  (0.0,0.0,0.0,0.0,0.0,0.0,0.0,0.0,0.0,0.0,0.0,0...  ...   \n",
       "4  (0.0,0.0,0.0,0.0,0.0,0.0,0.0,0.0,0.0,0.0,0.0,0...  ...   \n",
       "\n",
       "                                          feature_20  \\\n",
       "0  (0.0,0.0,0.0,0.0,0.0,0.0,0.07450980392156863,0...   \n",
       "1  (0.0,0.0,0.0,0.0,0.0,0.0,0.4745098039215686,0....   \n",
       "2  (0.0,0.0,0.0,0.0,0.0,0.0,0.0,0.0,0.0,0.0,0.0,0...   \n",
       "3  (0.0,0.0,0.0,0.0,0.0,0.0,0.0,0.0,0.0,0.2627450...   \n",
       "4  (0.0,0.0,0.0,0.0,0.0,0.0,0.0,0.0,0.0,0.0,0.0,0...   \n",
       "\n",
       "                                          feature_21  \\\n",
       "0  (0.0,0.0,0.0,0.0,0.0,0.0,0.6431372549019608,0....   \n",
       "1  (0.0,0.0,0.0,0.0,0.0,0.0,0.0,0.454901960784313...   \n",
       "2  (0.0,0.0,0.0,0.0,0.0,0.0,0.0,0.0,0.0,0.0,0.050...   \n",
       "3  (0.0,0.0,0.0,0.0,0.0,0.0,0.0,0.0,0.0,0.0980392...   \n",
       "4  (0.0,0.0,0.0,0.0,0.0,0.0,0.0,0.0,0.0,0.0,0.0,0...   \n",
       "\n",
       "                                          feature_22  \\\n",
       "0  (0.0,0.0,0.0,0.0,0.0,0.0,0.2235294117647059,0....   \n",
       "1  (0.0,0.0,0.0,0.0,0.0,0.0,0.0,0.0,0.0,0.0,0.0,0...   \n",
       "2  (0.0,0.0,0.0,0.0,0.0,0.0,0.0,0.0,0.0,0.0,0.160...   \n",
       "3  (0.0,0.0,0.0,0.0,0.0,0.0,0.0,0.0,0.0,0.0,0.419...   \n",
       "4  (0.0,0.0,0.0,0.0,0.0,0.0,0.0,0.0,0.0,0.0,0.0,0...   \n",
       "\n",
       "                                          feature_23  \\\n",
       "0  (0.0,0.0,0.0,0.0,0.0,0.0,0.0,0.549019607843137...   \n",
       "1  (0.0,0.0,0.0,0.0,0.0,0.0,0.0,0.0,0.0,0.0,0.0,0...   \n",
       "2  (0.0,0.0,0.0,0.0,0.0,0.0,0.0,0.0,0.0,0.1568627...   \n",
       "3  (0.0,0.0,0.0,0.0,0.0,0.0,0.0,0.0,0.0,0.0,0.0,0...   \n",
       "4  (0.0,0.0,0.0,0.0,0.0,0.0,0.0,0.0,0.0,0.0,0.031...   \n",
       "\n",
       "                                          feature_24  \\\n",
       "0  (0.0,0.0,0.0,0.0,0.0,0.0,0.0,0.0,0.02745098039...   \n",
       "1  (0.0,0.0,0.0,0.0,0.0,0.0,0.0,0.0,0.0,0.0,0.0,0...   \n",
       "2  (0.0,0.0,0.0,0.0,0.0,0.0,0.0,0.0,0.0,0.6470588...   \n",
       "3  (0.0,0.0,0.0,0.0,0.0,0.0,0.0,0.0,0.0,0.0,0.0,0...   \n",
       "4  (0.0,0.0,0.0,0.0,0.0,0.0,0.0,0.0,0.0,0.0,0.411...   \n",
       "\n",
       "                                          feature_25  \\\n",
       "0  (0.0,0.0,0.0,0.0,0.0,0.0,0.0,0.0,0.0,0.0,0.0,0...   \n",
       "1  (0.0,0.0,0.0,0.0,0.0,0.0,0.0,0.0,0.0,0.0,0.0,0...   \n",
       "2  (0.0,0.0,0.0,0.0,0.0,0.0,0.0,0.0,0.16862745098...   \n",
       "3  (0.0,0.0,0.0,0.0,0.0,0.0,0.0,0.0,0.0,0.0,0.0,0...   \n",
       "4  (0.0,0.0,0.0,0.0,0.0,0.0,0.0,0.0,0.0,0.0,0.839...   \n",
       "\n",
       "                                          feature_26  \\\n",
       "0  (0.0,0.0,0.0,0.0,0.0,0.0,0.0,0.0,0.0,0.0,0.0,0...   \n",
       "1  (0.0,0.0,0.0,0.0,0.0,0.0,0.0,0.0,0.0,0.0,0.0,0...   \n",
       "2  (0.0,0.0,0.0,0.0,0.0,0.0,0.0,0.0,0.53725490196...   \n",
       "3  (0.0,0.0,0.0,0.0,0.0,0.0,0.0,0.0,0.0,0.0,0.0,0...   \n",
       "4  (0.0,0.0,0.0,0.0,0.0,0.0,0.0,0.0,0.0,0.0,0.909...   \n",
       "\n",
       "                                          feature_27  \\\n",
       "0  (0.0,0.0,0.0,0.0,0.0,0.0,0.0,0.0,0.0,0.0,0.0,0...   \n",
       "1  (0.0,0.0,0.0,0.0,0.0,0.0,0.0,0.0,0.0,0.0,0.0,0...   \n",
       "2  (0.0,0.0,0.0,0.0,0.0,0.0,0.0,0.0,0.26274509803...   \n",
       "3  (0.0,0.0,0.0,0.0,0.0,0.0,0.0,0.0,0.0,0.0,0.0,0...   \n",
       "4  (0.0,0.0,0.0,0.0,0.0,0.0,0.0,0.0,0.0,0.0,0.0,0...   \n",
       "\n",
       "                                          feature_28 number  \n",
       "0  (0.0,0.0,0.0,0.0,0.0,0.0,0.0,0.0,0.0,0.0,0.0,0...      3  \n",
       "1  (0.0,0.0,0.0,0.0,0.0,0.0,0.0,0.0,0.0,0.0,0.0,0...      5  \n",
       "2  (0.0,0.0,0.0,0.0,0.0,0.0,0.0,0.0,0.0,0.0,0.0,0...      7  \n",
       "3  (0.0,0.0,0.0,0.0,0.0,0.0,0.0,0.0,0.0,0.0,0.0,0...      6  \n",
       "4  (0.0,0.0,0.0,0.0,0.0,0.0,0.0,0.0,0.0,0.0,0.0,0...      9  \n",
       "\n",
       "[5 rows x 31 columns]"
      ]
     },
     "execution_count": 20,
     "metadata": {},
     "output_type": "execute_result"
    }
   ],
   "source": [
    "historical_df.head()"
   ]
  },
  {
   "cell_type": "code",
   "execution_count": 21,
   "id": "15dcb232-e13f-4c0d-8f94-2e326e45f4a4",
   "metadata": {
    "tags": []
   },
   "outputs": [
    {
     "name": "stdout",
     "output_type": "stream",
     "text": [
      "<class 'pandas.core.frame.DataFrame'>\n",
      "RangeIndex: 70000 entries, 0 to 69999\n",
      "Data columns (total 31 columns):\n",
      " #   Column           Non-Null Count  Dtype         \n",
      "---  ------           --------------  -----         \n",
      " 0   image_id         70000 non-null  int64         \n",
      " 1   event_timestamp  70000 non-null  datetime64[ns]\n",
      " 2   feature_1        70000 non-null  object        \n",
      " 3   feature_2        70000 non-null  object        \n",
      " 4   feature_3        70000 non-null  object        \n",
      " 5   feature_4        70000 non-null  object        \n",
      " 6   feature_5        70000 non-null  object        \n",
      " 7   feature_6        70000 non-null  object        \n",
      " 8   feature_7        70000 non-null  object        \n",
      " 9   feature_8        70000 non-null  object        \n",
      " 10  feature_9        70000 non-null  object        \n",
      " 11  feature_10       70000 non-null  object        \n",
      " 12  feature_11       70000 non-null  object        \n",
      " 13  feature_12       70000 non-null  object        \n",
      " 14  feature_13       70000 non-null  object        \n",
      " 15  feature_14       70000 non-null  object        \n",
      " 16  feature_15       70000 non-null  object        \n",
      " 17  feature_16       70000 non-null  object        \n",
      " 18  feature_17       70000 non-null  object        \n",
      " 19  feature_18       70000 non-null  object        \n",
      " 20  feature_19       70000 non-null  object        \n",
      " 21  feature_20       70000 non-null  object        \n",
      " 22  feature_21       70000 non-null  object        \n",
      " 23  feature_22       70000 non-null  object        \n",
      " 24  feature_23       70000 non-null  object        \n",
      " 25  feature_24       70000 non-null  object        \n",
      " 26  feature_25       70000 non-null  object        \n",
      " 27  feature_26       70000 non-null  object        \n",
      " 28  feature_27       70000 non-null  object        \n",
      " 29  feature_28       70000 non-null  object        \n",
      " 30  number           70000 non-null  int64         \n",
      "dtypes: datetime64[ns](1), int64(2), object(28)\n",
      "memory usage: 16.6+ MB\n"
     ]
    }
   ],
   "source": [
    "historical_df.info()"
   ]
  },
  {
   "cell_type": "markdown",
   "id": "7065eba2-3901-4b59-85e0-38a9cf1ea69a",
   "metadata": {},
   "source": [
    "## Prepare dataset"
   ]
  },
  {
   "cell_type": "markdown",
   "id": "2f9a2b10-5764-4bac-8077-78444942cfcc",
   "metadata": {},
   "source": [
    "Remove rows with null features"
   ]
  },
  {
   "cell_type": "code",
   "execution_count": 22,
   "id": "d68bdbbe-d302-469b-bb28-c9b63bc051e7",
   "metadata": {
    "tags": []
   },
   "outputs": [],
   "source": [
    "for id in range(28):\n",
    "    historical_df.dropna(subset=[f'feature_{id+1}'], inplace=True)"
   ]
  },
  {
   "cell_type": "markdown",
   "id": "1b1f933f-a6c1-4920-b8e5-5cb6b3c5eb82",
   "metadata": {},
   "source": [
    "Rebuild the MNIST dataset.\n",
    "\n",
    "Goal is to recreate the `numpy` arrays that can feed the trained models."
   ]
  },
  {
   "cell_type": "code",
   "execution_count": 23,
   "id": "9f80b4f9-4c45-48a7-8831-20d9cc2ce486",
   "metadata": {
    "tags": []
   },
   "outputs": [],
   "source": [
    "images = []"
   ]
  },
  {
   "cell_type": "markdown",
   "id": "fdf250f2-9114-4a0d-bd8c-c9f188115b34",
   "metadata": {},
   "source": [
    "Load features and revert column to rows.\n",
    "\n",
    "**Note**: `feature_N` columns contain string representation of `list<float>`, so they must be reverted to the original data types firtt (`numpy.array`).\n",
    "\n",
    "The execution of these commands can take some minutes."
   ]
  },
  {
   "cell_type": "code",
   "execution_count": 24,
   "id": "5fefc4ca-f35f-43cd-b027-b5d1da5c08fc",
   "metadata": {
    "tags": []
   },
   "outputs": [
    {
     "name": "stdout",
     "output_type": "stream",
     "text": [
      "Rebuild features at index 0\n",
      "Rebuild features at index 5000\n",
      "Rebuild features at index 10000\n",
      "Rebuild features at index 15000\n",
      "Rebuild features at index 20000\n",
      "Rebuild features at index 25000\n",
      "Rebuild features at index 30000\n",
      "Rebuild features at index 35000\n",
      "Rebuild features at index 40000\n",
      "Rebuild features at index 45000\n",
      "Rebuild features at index 50000\n",
      "Rebuild features at index 55000\n",
      "Rebuild features at index 60000\n",
      "Rebuild features at index 65000\n",
      "CPU times: user 37.7 s, sys: 1.06 s, total: 38.8 s\n",
      "Wall time: 39.3 s\n"
     ]
    }
   ],
   "source": [
    "%%time\n",
    "\n",
    "def toArray(float_array_string):\n",
    "    return [float(x) for x in float_array_string.strip('()').split(',')]\n",
    "    # return list(map(float, ast.literal_eval(float_array_string)))\n",
    "    \n",
    "for index in range(len(historical_df)):\n",
    "    image_id = historical_df['image_id'].iloc[index]\n",
    "    if index % 5000 == 0:\n",
    "        print(f'Rebuild features at index {index}')\n",
    "    \n",
    "    image = [toArray(historical_df[f'feature_{id+1}'].iloc[index]) for id in range(28)]\n",
    "    images.append(image)"
   ]
  },
  {
   "cell_type": "markdown",
   "id": "69eea7db-0da3-4cd1-97d6-fe635d185720",
   "metadata": {},
   "source": [
    "Extract the prediction column `number`"
   ]
  },
  {
   "cell_type": "code",
   "execution_count": 25,
   "id": "0f0286cd-0a52-45fc-8477-45e51da14d6c",
   "metadata": {
    "tags": []
   },
   "outputs": [
    {
     "name": "stdout",
     "output_type": "stream",
     "text": [
      "70000\n"
     ]
    }
   ],
   "source": [
    "numbers = []\n",
    "for index in range(len(historical_df)):\n",
    "    numbers.append(int(historical_df['number'].iloc[index]))\n",
    "print(len(numbers))"
   ]
  },
  {
   "cell_type": "markdown",
   "id": "21c27e1f-ff95-4a3e-b06d-2551bf1966ff",
   "metadata": {},
   "source": [
    "Assign a fixed percentage of 20% to testing data"
   ]
  },
  {
   "cell_type": "code",
   "execution_count": 26,
   "id": "ff8c05cd-7ea2-42d0-8a5a-43fc546d2599",
   "metadata": {
    "tags": []
   },
   "outputs": [],
   "source": [
    "split = int(len(images) * 0.8)\n",
    "train_images = images[:split]\n",
    "test_images = images[split:]\n",
    "train_numbers = numbers[:split]\n",
    "test_numbers = numbers[split:]\n",
    "\n",
    "X_train = np.array(train_images)\n",
    "y_train = np.array(train_numbers)\n",
    "X_test = np.array(test_images)\n",
    "y_test = np.array(test_numbers)"
   ]
  },
  {
   "cell_type": "code",
   "execution_count": 27,
   "id": "cac74d9b-a26e-425b-b949-ca1c82f26013",
   "metadata": {
    "tags": []
   },
   "outputs": [
    {
     "name": "stdout",
     "output_type": "stream",
     "text": [
      "X_train: (56000, 28, 28)\n",
      "y_train: (56000,)\n",
      "X_test: (14000, 28, 28)\n",
      "y_test: (14000,)\n"
     ]
    }
   ],
   "source": [
    "print(f'X_train: {X_train.shape}')\n",
    "print(f'y_train: {y_train.shape}')\n",
    "print(f'X_test: {X_test.shape}')\n",
    "print(f'y_test: {y_test.shape}')"
   ]
  },
  {
   "cell_type": "markdown",
   "id": "1c002a35-229c-4e09-a6b5-6012e8a22d47",
   "metadata": {},
   "source": [
    "Plot some data samples to validate the transformation"
   ]
  },
  {
   "cell_type": "code",
   "execution_count": 28,
   "id": "fa227793-ccb8-4f32-a26e-ffee9c4b48d1",
   "metadata": {
    "tags": []
   },
   "outputs": [
    {
     "data": {
      "image/png": "[encoded data removed]",
      "text/plain": [
       "<Figure size 640x480 with 9 Axes>"
      ]
     },
     "metadata": {},
     "output_type": "display_data"
    }
   ],
   "source": [
    "for i in range(9):  \n",
    "    plt.subplot(330 + 1 + i)\n",
    "    plt.imshow(X_train[i], cmap=plt.get_cmap('gray'))\n",
    "plt.show()"
   ]
  },
  {
   "cell_type": "markdown",
   "id": "88d22d89-df48-484f-aa25-607356cb4da3",
   "metadata": {},
   "source": [
    "## Archive Model Versions"
   ]
  },
  {
   "cell_type": "markdown",
   "id": "b700dd6c-83d5-4d9b-8ae2-5dbbf035ccde",
   "metadata": {},
   "source": [
    "This step is needed to pass the next validation marks. All existing model versions are set to ARCHIVED so that the following asserts can validate\n",
    "the exact number of models and versions."
   ]
  },
  {
   "cell_type": "code",
   "execution_count": 61,
   "id": "f058d6b2-62ba-4408-a80e-cc489d780d28",
   "metadata": {
    "tags": []
   },
   "outputs": [
    {
     "name": "stdout",
     "output_type": "stream",
     "text": [
      "Archiving model version v.simple_NN.20240419101525 of mode mnist\n",
      "Error while archiving model version v.simple_NN.20240419101525: Parent context 1 already exists for context 11\n"
     ]
    }
   ],
   "source": [
    "archiveAllModelVersions()"
   ]
  },
  {
   "cell_type": "markdown",
   "id": "8b4cf617-d3b7-4e85-8e38-45d18c66f6fd",
   "metadata": {},
   "source": [
    "## Train simple neural network"
   ]
  },
  {
   "cell_type": "markdown",
   "id": "aefdd195-e417-4322-9920-8dd861777353",
   "metadata": {},
   "source": [
    "Let's train a simple neural network."
   ]
  },
  {
   "cell_type": "code",
   "execution_count": 30,
   "id": "b1404f63-2cbf-49fa-aa7a-be0cec6d9eb5",
   "metadata": {
    "tags": []
   },
   "outputs": [
    {
     "name": "stdout",
     "output_type": "stream",
     "text": [
      "Model: \"sequential\"\n",
      "_________________________________________________________________\n",
      " Layer (type)                Output Shape              Param #   \n",
      "=================================================================\n",
      " flatten (Flatten)           (None, 784)               0         \n",
      "                                                                 \n",
      " dense (Dense)               (None, 128)               100480    \n",
      "                                                                 \n",
      " dense_1 (Dense)             (None, 32)                4128      \n",
      "                                                                 \n",
      " dense_2 (Dense)             (None, 10)                330       \n",
      "                                                                 \n",
      "=================================================================\n",
      "Total params: 104938 (409.91 KB)\n",
      "Trainable params: 104938 (409.91 KB)\n",
      "Non-trainable params: 0 (0.00 Byte)\n",
      "_________________________________________________________________\n"
     ]
    }
   ],
   "source": [
    "model, model_name = simpleNN()"
   ]
  },
  {
   "cell_type": "code",
   "execution_count": 31,
   "id": "89ee6307-0136-4bc2-812e-00708ddf64fc",
   "metadata": {
    "tags": []
   },
   "outputs": [
    {
     "name": "stdout",
     "output_type": "stream",
     "text": [
      "Epoch 1/10\n",
      "1400/1400 [==============================] - 4s 2ms/step - loss: 0.2903 - accuracy: 0.9164 - val_loss: 0.1724 - val_accuracy: 0.9500\n",
      "Epoch 2/10\n",
      "1400/1400 [==============================] - 3s 2ms/step - loss: 0.1209 - accuracy: 0.9639 - val_loss: 0.1319 - val_accuracy: 0.9610\n",
      "Epoch 3/10\n",
      "1400/1400 [==============================] - 3s 2ms/step - loss: 0.0823 - accuracy: 0.9755 - val_loss: 0.1195 - val_accuracy: 0.9641\n",
      "Epoch 4/10\n",
      "1400/1400 [==============================] - 3s 2ms/step - loss: 0.0603 - accuracy: 0.9810 - val_loss: 0.1177 - val_accuracy: 0.9654\n",
      "Epoch 5/10\n",
      "1400/1400 [==============================] - 3s 2ms/step - loss: 0.0474 - accuracy: 0.9855 - val_loss: 0.1467 - val_accuracy: 0.9590\n",
      "Epoch 6/10\n",
      "1400/1400 [==============================] - 3s 2ms/step - loss: 0.0376 - accuracy: 0.9880 - val_loss: 0.1142 - val_accuracy: 0.9687\n",
      "Epoch 7/10\n",
      "1400/1400 [==============================] - 3s 2ms/step - loss: 0.0300 - accuracy: 0.9905 - val_loss: 0.1120 - val_accuracy: 0.9689\n",
      "Epoch 8/10\n",
      "1400/1400 [==============================] - 3s 2ms/step - loss: 0.0243 - accuracy: 0.9920 - val_loss: 0.1342 - val_accuracy: 0.9657\n",
      "Epoch 9/10\n",
      "1400/1400 [==============================] - 3s 2ms/step - loss: 0.0227 - accuracy: 0.9924 - val_loss: 0.1180 - val_accuracy: 0.9704\n",
      "Epoch 10/10\n",
      "1400/1400 [==============================] - 3s 2ms/step - loss: 0.0193 - accuracy: 0.9935 - val_loss: 0.1361 - val_accuracy: 0.9671\n"
     ]
    }
   ],
   "source": [
    "history = model.fit(X_train,y_train,epochs=10,validation_split=0.2)"
   ]
  },
  {
   "cell_type": "markdown",
   "id": "31d614f8-b276-47b4-b92d-529a398d7225",
   "metadata": {},
   "source": [
    "Evaluate model accuracy using test data"
   ]
  },
  {
   "cell_type": "code",
   "execution_count": 32,
   "id": "a78d54e3-6515-4d53-991d-41c915d3cd06",
   "metadata": {
    "tags": []
   },
   "outputs": [
    {
     "name": "stdout",
     "output_type": "stream",
     "text": [
      "438/438 [==============================] - 1s 1ms/step\n",
      "Prediction accuracy for model `simple_NN` is: 97.28%\n"
     ]
    }
   ],
   "source": [
    "evaluateModelAccuracy(model, model_name)"
   ]
  },
  {
   "cell_type": "markdown",
   "id": "98754564-e1c2-43a3-8e34-517b6ad53a82",
   "metadata": {
    "tags": []
   },
   "source": [
    "### Evaluate the trained model"
   ]
  },
  {
   "cell_type": "code",
   "execution_count": 33,
   "id": "40f3133d-5d11-401e-9ec7-6693adc48214",
   "metadata": {
    "tags": []
   },
   "outputs": [
    {
     "name": "stdout",
     "output_type": "stream",
     "text": [
      "1/1 [==============================] - 0s 15ms/step\n",
      "prediction for sample 1 is:  4\n",
      "**Note**: the calculated prediction 4 must match the number plotted below. If not, the test failed\n"
     ]
    },
    {
     "data": {
      "image/png": "[encoded data removed]",
      "text/plain": [
       "<Figure size 640x480 with 1 Axes>"
      ]
     },
     "metadata": {},
     "output_type": "display_data"
    }
   ],
   "source": [
    "testModelForSample(model, 1)"
   ]
  },
  {
   "cell_type": "markdown",
   "id": "a76eb1b9-b1bd-4a78-917c-0ecc09d74d37",
   "metadata": {},
   "source": [
    "### Save the model as ONNX file"
   ]
  },
  {
   "cell_type": "code",
   "execution_count": 34,
   "id": "17985d6f-0059-4235-bf3b-096759ba3ab8",
   "metadata": {
    "tags": []
   },
   "outputs": [
    {
     "name": "stderr",
     "output_type": "stream",
     "text": [
      "WARNING:tf2onnx.tf_loader:Could not search for non-variable resources. Concrete function internal representation may have changed.\n"
     ]
    },
    {
     "name": "stdout",
     "output_type": "stream",
     "text": [
      "Saved as simple_NN.onnx\n"
     ]
    },
    {
     "name": "stderr",
     "output_type": "stream",
     "text": [
      "2024-04-19 09:49:00.369327: I tensorflow/core/grappler/devices.cc:66] Number of eligible GPUs (core count >= 8, compute capability >= 0.0): 0\n",
      "2024-04-19 09:49:00.369506: I tensorflow/core/grappler/clusters/single_machine.cc:357] Starting new session\n",
      "2024-04-19 09:49:00.398072: I tensorflow/core/grappler/devices.cc:66] Number of eligible GPUs (core count >= 8, compute capability >= 0.0): 0\n",
      "2024-04-19 09:49:00.398188: I tensorflow/core/grappler/clusters/single_machine.cc:357] Starting new session\n"
     ]
    }
   ],
   "source": [
    "file_name = saveModel(model, model_name)"
   ]
  },
  {
   "cell_type": "markdown",
   "id": "c6c60c1e-8d71-4d61-821d-98847896b298",
   "metadata": {},
   "source": [
    "### Test the saved model"
   ]
  },
  {
   "cell_type": "code",
   "execution_count": 35,
   "id": "c27d83f9-6853-48ad-9f38-4fe40dc4ea3e",
   "metadata": {
    "tags": []
   },
   "outputs": [
    {
     "name": "stdout",
     "output_type": "stream",
     "text": [
      "['dense_2']\n",
      "**Note**: the calculated prediction 8 must match the number plotted below. If not, the test failed\n"
     ]
    },
    {
     "data": {
      "image/png": "[encoded data removed]",
      "text/plain": [
       "<Figure size 640x480 with 1 Axes>"
      ]
     },
     "metadata": {},
     "output_type": "display_data"
    }
   ],
   "source": [
    "testModelFromFileForSample(file_name, 115)"
   ]
  },
  {
   "cell_type": "markdown",
   "id": "bfe1e6f3-d13d-4e90-92c9-c52539161e42",
   "metadata": {},
   "source": [
    "### Store the model to S3 compatible bucket"
   ]
  },
  {
   "cell_type": "code",
   "execution_count": 62,
   "id": "c2cadf91-711b-4aa1-9730-a9c403a29688",
   "metadata": {
    "tags": []
   },
   "outputs": [
    {
     "name": "stdout",
     "output_type": "stream",
     "text": [
      "Will be using: mnist:v.simple_NN.20240419101713 in the remainder of this task\n",
      "Objects in the feast bucket:\n",
      "v.simple_NN.20240419095201/simple_NN.onnx\n",
      "v.simple_NN.20240419101420/simple_NN.onnx\n",
      "v.simple_NN.20240419101453/simple_NN.onnx\n",
      "v.simple_NN.20240419101525/simple_NN.onnx\n",
      "v.simple_NN.20240419101713/simple_NN.onnx\n"
     ]
    }
   ],
   "source": [
    "registeredmodel_name, version_name, odh_secret_name, in_bucket_path, s3_uri = storeTrainedModel(model, model_name, file_name)"
   ]
  },
  {
   "cell_type": "code",
   "execution_count": 63,
   "id": "0d464104-1808-4a29-a206-ab8338bd556d",
   "metadata": {
    "tags": []
   },
   "outputs": [
    {
     "data": {
      "text/plain": [
       "('mnist',\n",
       " 'v.simple_NN.20240419101713',\n",
       " 'aws-connection-feast',\n",
       " 'v.simple_NN.20240419101713',\n",
       " 's3://feast/v.simple_NN.20240419101713/simple_NN.onnx?endpoint=http://minio-service.feast.svc.cluster.local:9000&defaultRegion=default')"
      ]
     },
     "execution_count": 63,
     "metadata": {},
     "output_type": "execute_result"
    }
   ],
   "source": [
    "registeredmodel_name, version_name, odh_secret_name, in_bucket_path, s3_uri"
   ]
  },
  {
   "cell_type": "markdown",
   "id": "8c59e080-bfa8-463e-bcc0-403f2ab9b51e",
   "metadata": {},
   "source": [
    "### Register with Model Registry"
   ]
  },
  {
   "cell_type": "code",
   "execution_count": 64,
   "id": "495dff2e-e024-44c7-8381-ec7b2110da7a",
   "metadata": {
    "tags": []
   },
   "outputs": [
    {
     "name": "stdout",
     "output_type": "stream",
     "text": [
      "RegisteredModel:\n",
      "RegisteredModel(id='1', description='', external_id='', create_time_since_epoch=1713369565611, last_update_time_since_epoch=1713369565611, state=<ContextState.LIVE: 'LIVE'>, name='mnist')\n",
      "ModelVersion:\n",
      "ModelVersion(name='v.simple_NN.20240419101713', id='12', description='demo20231121 e2e MNIST', external_id='', create_time_since_epoch=1713521837621, last_update_time_since_epoch=1713521837621, state=<ContextState.LIVE: 'LIVE'>, model_name='mnist', version='v.simple_NN.20240419101713', author='feast-dev@redhat.com', metadata={'AWS_DEFAULT_REGION': 'default', 'AWS_S3_BUCKET': 'feast', 'AWS_S3_ENDPOINT': 'http://minio-service.feast.svc.cluster.local:9000'}, artifacts=NOTHING, _registered_model_id=NOTHING)\n",
      "ModelArtifact:\n",
      "ModelArtifact(id='11', description='', external_id='', create_time_since_epoch=1713521838321, last_update_time_since_epoch=1713521838321, name='mnist', uri='s3://feast/v.simple_NN.20240419101713/simple_NN.onnx?endpoint=http://minio-service.feast.svc.cluster.local:9000&defaultRegion=default', state=<ArtifactState.UNKNOWN: 0>, model_format_name='onnx', model_format_version='1', storage_key='aws-connection-feast', storage_path='v.simple_NN.20240419101713', service_account_name='', _model_version_id=NOTHING)\n"
     ]
    },
    {
     "data": {
      "text/plain": [
       "<model_registry._client.ModelRegistry at 0x7f6f62e8d730>"
      ]
     },
     "execution_count": 64,
     "metadata": {},
     "output_type": "execute_result"
    }
   ],
   "source": [
    "registerToModelRegistry(\n",
    "    registeredmodel_name, version_name, odh_secret_name, in_bucket_path, s3_uri\n",
    ")"
   ]
  },
  {
   "cell_type": "markdown",
   "id": "e0362722-82b8-409f-b474-7f6e1974f529",
   "metadata": {
    "tags": []
   },
   "source": [
    "## Train a convoluted neural network"
   ]
  },
  {
   "cell_type": "markdown",
   "id": "ce509b30-e342-4cc3-8e51-4183ced0f43a",
   "metadata": {},
   "source": [
    "Let's train a an alternative, a convoluted neural network:"
   ]
  },
  {
   "cell_type": "code",
   "execution_count": 65,
   "id": "6c98a57f-738d-457f-b496-166b065b5eae",
   "metadata": {
    "tags": []
   },
   "outputs": [
    {
     "name": "stdout",
     "output_type": "stream",
     "text": [
      "Model: \"sequential_1\"\n",
      "_________________________________________________________________\n",
      " Layer (type)                Output Shape              Param #   \n",
      "=================================================================\n",
      " conv2d (Conv2D)             (None, 26, 26, 32)        320       \n",
      "                                                                 \n",
      " max_pooling2d (MaxPooling2  (None, 13, 13, 32)        0         \n",
      " D)                                                              \n",
      "                                                                 \n",
      " flatten_1 (Flatten)         (None, 5408)              0         \n",
      "                                                                 \n",
      " dense_3 (Dense)             (None, 64)                346176    \n",
      "                                                                 \n",
      " dropout (Dropout)           (None, 64)                0         \n",
      "                                                                 \n",
      " dense_4 (Dense)             (None, 10)                650       \n",
      "                                                                 \n",
      "=================================================================\n",
      "Total params: 347146 (1.32 MB)\n",
      "Trainable params: 347146 (1.32 MB)\n",
      "Non-trainable params: 0 (0.00 Byte)\n",
      "_________________________________________________________________\n"
     ]
    }
   ],
   "source": [
    "model, model_name = convolutedNN()"
   ]
  },
  {
   "cell_type": "code",
   "execution_count": 66,
   "id": "fccae6b8-c4ef-4e42-8143-1cfae79279b3",
   "metadata": {
    "tags": []
   },
   "outputs": [
    {
     "name": "stdout",
     "output_type": "stream",
     "text": [
      "Epoch 1/3\n",
      "1750/1750 [==============================] - 18s 10ms/step - loss: 0.2701 - accuracy: 0.9190\n",
      "Epoch 2/3\n",
      "1750/1750 [==============================] - 18s 10ms/step - loss: 0.1152 - accuracy: 0.9655\n",
      "Epoch 3/3\n",
      "1750/1750 [==============================] - 17s 10ms/step - loss: 0.0848 - accuracy: 0.9741\n"
     ]
    }
   ],
   "source": [
    "history = model.fit(X_train,y_train,epochs=3)"
   ]
  },
  {
   "cell_type": "code",
   "execution_count": 67,
   "id": "e5640b02-f62e-4874-bceb-9b316984b0cb",
   "metadata": {
    "tags": []
   },
   "outputs": [
    {
     "name": "stdout",
     "output_type": "stream",
     "text": [
      "438/438 [==============================] - 1s 3ms/step\n",
      "Prediction accuracy for model `convolutedNN` is: 98.41%\n"
     ]
    }
   ],
   "source": [
    "evaluateModelAccuracy(model, model_name)"
   ]
  },
  {
   "cell_type": "markdown",
   "id": "5dbcac3b-a394-4120-ba00-8fa94b731a60",
   "metadata": {},
   "source": [
    "### Evaluate the trained model"
   ]
  },
  {
   "cell_type": "code",
   "execution_count": 68,
   "id": "58918931-682e-438a-b913-7ab12d2c1350",
   "metadata": {
    "tags": []
   },
   "outputs": [
    {
     "name": "stdout",
     "output_type": "stream",
     "text": [
      "1/1 [==============================] - 0s 14ms/step\n",
      "prediction for sample 19 is:  1\n",
      "**Note**: the calculated prediction 1 must match the number plotted below. If not, the test failed\n"
     ]
    },
    {
     "data": {
      "image/png": "[encoded data removed]",
      "text/plain": [
       "<Figure size 640x480 with 1 Axes>"
      ]
     },
     "metadata": {},
     "output_type": "display_data"
    }
   ],
   "source": [
    "testModelForSample(model, 19)"
   ]
  },
  {
   "cell_type": "markdown",
   "id": "8aa68f96-ad93-4ced-96e3-214e08650a89",
   "metadata": {},
   "source": [
    "### Save the model as ONNX file"
   ]
  },
  {
   "cell_type": "code",
   "execution_count": 69,
   "id": "934db90a-2f6d-4edd-aca5-26bf4c8f6d8b",
   "metadata": {
    "tags": []
   },
   "outputs": [
    {
     "name": "stderr",
     "output_type": "stream",
     "text": [
      "WARNING:tf2onnx.tf_loader:Could not search for non-variable resources. Concrete function internal representation may have changed.\n"
     ]
    },
    {
     "name": "stdout",
     "output_type": "stream",
     "text": [
      "Saved as convolutedNN.onnx\n"
     ]
    },
    {
     "name": "stderr",
     "output_type": "stream",
     "text": [
      "2024-04-19 10:18:27.565642: I tensorflow/core/grappler/devices.cc:66] Number of eligible GPUs (core count >= 8, compute capability >= 0.0): 0\n",
      "2024-04-19 10:18:27.565772: I tensorflow/core/grappler/clusters/single_machine.cc:357] Starting new session\n",
      "2024-04-19 10:18:27.606796: I tensorflow/core/grappler/devices.cc:66] Number of eligible GPUs (core count >= 8, compute capability >= 0.0): 0\n",
      "2024-04-19 10:18:27.606912: I tensorflow/core/grappler/clusters/single_machine.cc:357] Starting new session\n"
     ]
    }
   ],
   "source": [
    "file_name = saveModel(model, model_name)"
   ]
  },
  {
   "cell_type": "code",
   "execution_count": 70,
   "id": "d3ae766e-57f3-4e2e-8698-e5cd3db452bd",
   "metadata": {
    "tags": []
   },
   "outputs": [
    {
     "name": "stdout",
     "output_type": "stream",
     "text": [
      "['dense_4']\n",
      "**Note**: the calculated prediction 2 must match the number plotted below. If not, the test failed\n"
     ]
    },
    {
     "data": {
      "image/png": "[encoded data removed]",
      "text/plain": [
       "<Figure size 640x480 with 1 Axes>"
      ]
     },
     "metadata": {},
     "output_type": "display_data"
    }
   ],
   "source": [
    "testModelFromFileForSample(file_name, 17)"
   ]
  },
  {
   "cell_type": "code",
   "execution_count": 73,
   "id": "8ea1079f-953f-4fd9-92f1-71ec1b46a4ce",
   "metadata": {
    "tags": []
   },
   "outputs": [
    {
     "name": "stdout",
     "output_type": "stream",
     "text": [
      "Will be using: mnist:v.convolutedNN.20240419101905 in the remainder of this task\n",
      "Objects in the feast bucket:\n",
      "v.convolutedNN.20240419101827/convolutedNN.onnx\n",
      "v.convolutedNN.20240419101846/convolutedNN.onnx\n",
      "v.convolutedNN.20240419101905/convolutedNN.onnx\n",
      "v.simple_NN.20240419095201/simple_NN.onnx\n",
      "v.simple_NN.20240419101420/simple_NN.onnx\n",
      "v.simple_NN.20240419101453/simple_NN.onnx\n",
      "v.simple_NN.20240419101525/simple_NN.onnx\n",
      "v.simple_NN.20240419101713/simple_NN.onnx\n"
     ]
    }
   ],
   "source": [
    "registeredmodel_name, version_name, odh_secret_name, in_bucket_path, s3_uri = storeTrainedModel(model, model_name, file_name)"
   ]
  },
  {
   "cell_type": "code",
   "execution_count": 74,
   "id": "c29b9836-1218-42be-978a-3d1f659c60ee",
   "metadata": {
    "tags": []
   },
   "outputs": [
    {
     "data": {
      "text/plain": [
       "('mnist',\n",
       " 'v.convolutedNN.20240419101905',\n",
       " 'aws-connection-feast',\n",
       " 'v.convolutedNN.20240419101905',\n",
       " 's3://feast/v.convolutedNN.20240419101905/convolutedNN.onnx?endpoint=http://minio-service.feast.svc.cluster.local:9000&defaultRegion=default')"
      ]
     },
     "execution_count": 74,
     "metadata": {},
     "output_type": "execute_result"
    }
   ],
   "source": [
    "registeredmodel_name, version_name, odh_secret_name, in_bucket_path, s3_uri"
   ]
  },
  {
   "cell_type": "code",
   "execution_count": 75,
   "id": "93d2d8b5-1320-4344-8cc8-84c44b99e817",
   "metadata": {
    "tags": []
   },
   "outputs": [
    {
     "name": "stdout",
     "output_type": "stream",
     "text": [
      "RegisteredModel:\n",
      "RegisteredModel(id='1', description='', external_id='', create_time_since_epoch=1713369565611, last_update_time_since_epoch=1713369565611, state=<ContextState.LIVE: 'LIVE'>, name='mnist')\n",
      "ModelVersion:\n",
      "ModelVersion(name='v.convolutedNN.202404191019051', id='13', description='demo20231121 e2e MNIST', external_id='', create_time_since_epoch=1713521968910, last_update_time_since_epoch=1713521968910, state=<ContextState.LIVE: 'LIVE'>, model_name='mnist', version='v.convolutedNN.202404191019051', author='feast-dev@redhat.com', metadata={'AWS_DEFAULT_REGION': 'default', 'AWS_S3_BUCKET': 'feast', 'AWS_S3_ENDPOINT': 'http://minio-service.feast.svc.cluster.local:9000'}, artifacts=NOTHING, _registered_model_id=NOTHING)\n",
      "ModelArtifact:\n",
      "ModelArtifact(id='12', description='', external_id='', create_time_since_epoch=1713521969611, last_update_time_since_epoch=1713521969611, name='mnist', uri='s3://feast/v.convolutedNN.20240419101905/convolutedNN.onnx?endpoint=http://minio-service.feast.svc.cluster.local:9000&defaultRegion=default', state=<ArtifactState.UNKNOWN: 0>, model_format_name='onnx', model_format_version='1', storage_key='aws-connection-feast', storage_path='v.convolutedNN.20240419101905', service_account_name='', _model_version_id=NOTHING)\n"
     ]
    }
   ],
   "source": [
    "registry = registerToModelRegistry(\n",
    "    registeredmodel_name, version_name + \"1\", odh_secret_name, in_bucket_path, s3_uri\n",
    ")"
   ]
  },
  {
   "cell_type": "markdown",
   "id": "7d658fb9-9c4c-498f-b966-0f0a5d8269ec",
   "metadata": {},
   "source": [
    "## Inspect Model Registry"
   ]
  },
  {
   "cell_type": "code",
   "execution_count": 76,
   "id": "1c25fb8c-f8f1-4cea-8b8f-65a6a3b97e3e",
   "metadata": {
    "tags": []
   },
   "outputs": [],
   "source": [
    "models = registry._api.get_registered_models()\n",
    "assert len(models)==1, f\"Found {len(models)} instead of just 1\""
   ]
  },
  {
   "cell_type": "code",
   "execution_count": 77,
   "id": "3f459d03-3078-43cf-b78a-9564c7a26402",
   "metadata": {
    "tags": []
   },
   "outputs": [
    {
     "name": "stdout",
     "output_type": "stream",
     "text": [
      "Model mnist: RegisteredModel(id='1', description='', external_id='', create_time_since_epoch=1713369565611, last_update_time_since_epoch=1713369565611, state=<ContextState.LIVE: 'LIVE'>, name='mnist')\n",
      "==============================\n",
      "Version v.simple_NN.20240419101713: ModelVersion(name='v.simple_NN.20240419101713', id='12', description='demo20231121 e2e MNIST', external_id='', create_time_since_epoch=1713521837621, last_update_time_since_epoch=1713521837621, state=<ContextState.LIVE: 'LIVE'>, model_name='mnist', version='v.simple_NN.20240419101713', author='feast-dev@redhat.com', metadata={'AWS_DEFAULT_REGION': 'default', 'AWS_S3_BUCKET': 'feast', 'AWS_S3_ENDPOINT': 'http://minio-service.feast.svc.cluster.local:9000'}, artifacts=NOTHING, _registered_model_id=NOTHING)\n",
      "==============================\n",
      "Artifact mnist: ModelArtifact(id='11', description='', external_id='', create_time_since_epoch=1713521838321, last_update_time_since_epoch=1713521838321, name='mnist', uri='s3://feast/v.simple_NN.20240419101713/simple_NN.onnx?endpoint=http://minio-service.feast.svc.cluster.local:9000&defaultRegion=default', state=<ArtifactState.UNKNOWN: 0>, model_format_name='onnx', model_format_version='1', storage_key='aws-connection-feast', storage_path='v.simple_NN.20240419101713', service_account_name='', _model_version_id=NOTHING)\n",
      "==============================\n",
      "Version v.convolutedNN.202404191019051: ModelVersion(name='v.convolutedNN.202404191019051', id='13', description='demo20231121 e2e MNIST', external_id='', create_time_since_epoch=1713521968910, last_update_time_since_epoch=1713521968910, state=<ContextState.LIVE: 'LIVE'>, model_name='mnist', version='v.convolutedNN.202404191019051', author='feast-dev@redhat.com', metadata={'AWS_DEFAULT_REGION': 'default', 'AWS_S3_BUCKET': 'feast', 'AWS_S3_ENDPOINT': 'http://minio-service.feast.svc.cluster.local:9000'}, artifacts=NOTHING, _registered_model_id=NOTHING)\n",
      "==============================\n",
      "Artifact mnist: ModelArtifact(id='12', description='', external_id='', create_time_since_epoch=1713521969611, last_update_time_since_epoch=1713521969611, name='mnist', uri='s3://feast/v.convolutedNN.20240419101905/convolutedNN.onnx?endpoint=http://minio-service.feast.svc.cluster.local:9000&defaultRegion=default', state=<ArtifactState.UNKNOWN: 0>, model_format_name='onnx', model_format_version='1', storage_key='aws-connection-feast', storage_path='v.convolutedNN.20240419101905', service_account_name='', _model_version_id=NOTHING)\n",
      "==============================\n"
     ]
    }
   ],
   "source": [
    "models = registry._api.get_registered_models()\n",
    "for model in models:\n",
    "    print(f\"Model {model.name}: {model}\")\n",
    "    print(\"=\"*30)\n",
    "    live_model_versions = [m for m in registry._api.get_model_versions(model.id) if m.state!=ContextState.ARCHIVED]\n",
    "    for model_version in live_model_versions:\n",
    "        print(f\"Version {model_version.name}: {model_version}\")\n",
    "        print(\"=\"*30)\n",
    "        for model_artifact in registry._api.get_model_artifacts(model_version.id):\n",
    "            print(f\"Artifact {model_artifact.name}: {model_artifact}\")\n",
    "            print(\"=\"*30)"
   ]
  },
  {
   "cell_type": "code",
   "execution_count": null,
   "id": "d16b6f9c-e281-4399-adcf-800be03a6182",
   "metadata": {},
   "outputs": [],
   "source": []
  },
  {
   "cell_type": "code",
   "execution_count": null,
   "id": "6a7cadf6-24d7-48a7-8842-f4ef9ef9713f",
   "metadata": {},
   "outputs": [],
   "source": []
  }
 ],
 "metadata": {
  "kernelspec": {
   "display_name": "Python 3.9",
   "language": "python",
   "name": "python3"
  },
  "language_info": {
   "codemirror_mode": {
    "name": "ipython",
    "version": 3
   },
   "file_extension": ".py",
   "mimetype": "text/x-python",
   "name": "python",
   "nbconvert_exporter": "python",
   "pygments_lexer": "ipython3",
   "version": "3.9.18"
  }
 },
 "nbformat": 4,
 "nbformat_minor": 5
}
