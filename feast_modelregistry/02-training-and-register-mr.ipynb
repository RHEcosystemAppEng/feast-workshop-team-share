{
 "cells": [
  {
   "cell_type": "markdown",
   "id": "70056bc7-87a8-4ad9-bb7c-9676464c5932",
   "metadata": {},
   "source": [
    "# Train Models using Feast historical data"
   ]
  },
  {
   "cell_type": "markdown",
   "id": "fb7e8790-c01f-400f-b7d6-42fe30a85450",
   "metadata": {},
   "source": [
    "* Collect historical features from Feast\n",
    "* Rebuild the MNIST dataset from the features\n",
    "* Train different models using the dataset\n",
    "* Register models using Model Registry"
   ]
  },
  {
   "cell_type": "code",
   "execution_count": 1,
   "id": "69c76ca1-4c6a-418b-82a0-bbae9c37fa64",
   "metadata": {
    "tags": []
   },
   "outputs": [
    {
     "name": "stdout",
     "output_type": "stream",
     "text": [
      "Found existing installation: feast 0.36.0\n",
      "Uninstalling feast-0.36.0:\n",
      "  Successfully uninstalled feast-0.36.0\n",
      "Found existing installation: psycopg2 2.9.9\n",
      "Uninstalling psycopg2-2.9.9:\n",
      "  Successfully uninstalled psycopg2-2.9.9\n",
      "Found existing installation: onnxruntime 1.17.1\n",
      "Uninstalling onnxruntime-1.17.1:\n",
      "  Successfully uninstalled onnxruntime-1.17.1\n"
     ]
    }
   ],
   "source": [
    "!pip uninstall -r requirements.txt --yes\n",
    "# !pip install feast==0.36.0\n",
    "# !pip install typing_extensions"
   ]
  },
  {
   "cell_type": "code",
   "execution_count": 3,
   "id": "02fc0d45-4c06-4458-bc9a-43e61129c875",
   "metadata": {
    "tags": []
   },
   "outputs": [
    {
     "name": "stdout",
     "output_type": "stream",
     "text": [
      "Requirement already satisfied: pip in /opt/app-root/lib/python3.9/site-packages (24.0)\n",
      "feast==0.36.0\n",
      "psycopg2>=2.9\n",
      "onnxruntime\n"
     ]
    }
   ],
   "source": [
    "!pip install --upgrade pip\n",
    "!cat requirements.txt\n",
    "!pip install -q -r requirements.txt"
   ]
  },
  {
   "cell_type": "markdown",
   "id": "5722467c-56fe-48fc-9f6c-989b8f97f73b",
   "metadata": {},
   "source": [
    "## Collect historical data"
   ]
  },
  {
   "cell_type": "markdown",
   "id": "997e5e90-8378-48be-9460-a32e15ab0bd4",
   "metadata": {},
   "source": [
    "**Note**: update this value to match the actual data"
   ]
  },
  {
   "cell_type": "code",
   "execution_count": 10,
   "id": "af9f7632-ed32-4ad1-8b51-cadf039c477f",
   "metadata": {
    "tags": []
   },
   "outputs": [],
   "source": [
    "from datetime import datetime, timedelta\n",
    "ts = datetime(2024, 4, 1, 12, 30, 0)"
   ]
  },
  {
   "cell_type": "code",
   "execution_count": 11,
   "id": "e6f0409f-3d26-4735-afad-20ad4f12b07a",
   "metadata": {
    "tags": []
   },
   "outputs": [
    {
     "name": "stdout",
     "output_type": "stream",
     "text": [
      "env: REPO_PATH=mnist_demo/feature_repo/\n"
     ]
    }
   ],
   "source": [
    "%env REPO_PATH=mnist_demo/feature_repo/"
   ]
  },
  {
   "cell_type": "code",
   "execution_count": 12,
   "id": "180cc2ce-e042-43e3-8d3d-d3000fff3f3d",
   "metadata": {
    "tags": []
   },
   "outputs": [
    {
     "name": "stdout",
     "output_type": "stream",
     "text": [
      "Testing for 2024-04-01 12:30:00\n"
     ]
    }
   ],
   "source": [
    "from feast import FeatureStore\n",
    "import pandas as pd\n",
    "import os\n",
    "\n",
    "print(f'Testing for {ts}')\n",
    "entity_df = pd.DataFrame.from_dict(\n",
    "    {\n",
    "        \"image_id\": list(range(1, 70001)),\n",
    "        \"event_timestamp\": [ts] * 70000,\n",
    "    }\n",
    ")\n",
    "\n",
    "store = FeatureStore(repo_path=os.environ['REPO_PATH'])    \n",
    "features = [f\"mnist:feature_{i+1}\" for i in range(28)]\n",
    "features.append(\"mnist:number\")\n",
    "historical_df = store.get_historical_features(\n",
    "    entity_df=entity_df,\n",
    "    features=features,\n",
    ").to_df()"
   ]
  },
  {
   "cell_type": "code",
   "execution_count": 13,
   "id": "14a3b6ec-1dde-4c3b-99bc-3fa5176f0760",
   "metadata": {
    "tags": []
   },
   "outputs": [
    {
     "data": {
      "text/plain": [
       "70000"
      ]
     },
     "execution_count": 13,
     "metadata": {},
     "output_type": "execute_result"
    }
   ],
   "source": [
    "len(historical_df)"
   ]
  },
  {
   "cell_type": "code",
   "execution_count": 14,
   "id": "dd900ac6-e9c6-42ba-a1c8-7da488806289",
   "metadata": {
    "tags": []
   },
   "outputs": [
    {
     "data": {
      "text/html": [
       "<div>\n",
       "<style scoped>\n",
       "    .dataframe tbody tr th:only-of-type {\n",
       "        vertical-align: middle;\n",
       "    }\n",
       "\n",
       "    .dataframe tbody tr th {\n",
       "        vertical-align: top;\n",
       "    }\n",
       "\n",
       "    .dataframe thead th {\n",
       "        text-align: right;\n",
       "    }\n",
       "</style>\n",
       "<table border=\"1\" class=\"dataframe\">\n",
       "  <thead>\n",
       "    <tr style=\"text-align: right;\">\n",
       "      <th></th>\n",
       "      <th>image_id</th>\n",
       "      <th>event_timestamp</th>\n",
       "      <th>feature_1</th>\n",
       "      <th>feature_2</th>\n",
       "      <th>feature_3</th>\n",
       "      <th>feature_4</th>\n",
       "      <th>feature_5</th>\n",
       "      <th>feature_6</th>\n",
       "      <th>feature_7</th>\n",
       "      <th>feature_8</th>\n",
       "      <th>...</th>\n",
       "      <th>feature_20</th>\n",
       "      <th>feature_21</th>\n",
       "      <th>feature_22</th>\n",
       "      <th>feature_23</th>\n",
       "      <th>feature_24</th>\n",
       "      <th>feature_25</th>\n",
       "      <th>feature_26</th>\n",
       "      <th>feature_27</th>\n",
       "      <th>feature_28</th>\n",
       "      <th>number</th>\n",
       "    </tr>\n",
       "  </thead>\n",
       "  <tbody>\n",
       "    <tr>\n",
       "      <th>0</th>\n",
       "      <td>11</td>\n",
       "      <td>2024-04-01 12:30:00</td>\n",
       "      <td>(0.0,0.0,0.0,0.0,0.0,0.0,0.0,0.0,0.0,0.0,0.0,0...</td>\n",
       "      <td>(0.0,0.0,0.0,0.0,0.0,0.0,0.0,0.0,0.0,0.0,0.0,0...</td>\n",
       "      <td>(0.0,0.0,0.0,0.0,0.0,0.0,0.0,0.0,0.0,0.0,0.0,0...</td>\n",
       "      <td>(0.0,0.0,0.0,0.0,0.0,0.0,0.0,0.0,0.0,0.0,0.0,0...</td>\n",
       "      <td>(0.0,0.0,0.0,0.0,0.0,0.0,0.0,0.0,0.0,0.0,0.0,0...</td>\n",
       "      <td>(0.0,0.0,0.0,0.0,0.0,0.0,0.0,0.0,0.0,0.0,0.403...</td>\n",
       "      <td>(0.0,0.0,0.0,0.0,0.0,0.0,0.0,0.0,0.0,0.0,0.070...</td>\n",
       "      <td>(0.0,0.0,0.0,0.0,0.0,0.0,0.0,0.0,0.0,0.0,0.0,0...</td>\n",
       "      <td>...</td>\n",
       "      <td>(0.0,0.0,0.0,0.0,0.0,0.0,0.07450980392156863,0...</td>\n",
       "      <td>(0.0,0.0,0.0,0.0,0.0,0.0,0.6431372549019608,0....</td>\n",
       "      <td>(0.0,0.0,0.0,0.0,0.0,0.0,0.2235294117647059,0....</td>\n",
       "      <td>(0.0,0.0,0.0,0.0,0.0,0.0,0.0,0.549019607843137...</td>\n",
       "      <td>(0.0,0.0,0.0,0.0,0.0,0.0,0.0,0.0,0.02745098039...</td>\n",
       "      <td>(0.0,0.0,0.0,0.0,0.0,0.0,0.0,0.0,0.0,0.0,0.0,0...</td>\n",
       "      <td>(0.0,0.0,0.0,0.0,0.0,0.0,0.0,0.0,0.0,0.0,0.0,0...</td>\n",
       "      <td>(0.0,0.0,0.0,0.0,0.0,0.0,0.0,0.0,0.0,0.0,0.0,0...</td>\n",
       "      <td>(0.0,0.0,0.0,0.0,0.0,0.0,0.0,0.0,0.0,0.0,0.0,0...</td>\n",
       "      <td>3</td>\n",
       "    </tr>\n",
       "    <tr>\n",
       "      <th>1</th>\n",
       "      <td>16</td>\n",
       "      <td>2024-04-01 12:30:00</td>\n",
       "      <td>(0.0,0.0,0.0,0.0,0.0,0.0,0.0,0.0,0.0,0.0,0.0,0...</td>\n",
       "      <td>(0.0,0.0,0.0,0.0,0.0,0.0,0.0,0.0,0.0,0.0,0.0,0...</td>\n",
       "      <td>(0.0,0.0,0.0,0.0,0.0,0.0,0.0,0.0,0.0,0.0,0.0,0...</td>\n",
       "      <td>(0.0,0.0,0.0,0.0,0.0,0.0,0.0,0.0,0.0,0.0,0.0,0...</td>\n",
       "      <td>(0.0,0.0,0.0,0.0,0.0,0.0,0.0,0.0,0.0,0.0,0.0,0...</td>\n",
       "      <td>(0.0,0.0,0.0,0.0,0.0,0.0,0.0,0.0,0.0,0.0,0.0,0...</td>\n",
       "      <td>(0.0,0.0,0.0,0.0,0.0,0.0,0.0,0.0,0.0,0.0,0.0,0...</td>\n",
       "      <td>(0.0,0.0,0.0,0.0,0.0,0.0,0.0,0.0,0.0,0.0,0.0,0...</td>\n",
       "      <td>...</td>\n",
       "      <td>(0.0,0.0,0.0,0.0,0.0,0.0,0.0,0.0,0.0,0.0,0.0,0...</td>\n",
       "      <td>(0.0,0.0,0.0,0.0,0.0,0.0,0.0,0.0,0.0,0.0,0.050...</td>\n",
       "      <td>(0.0,0.0,0.0,0.0,0.0,0.0,0.0,0.0,0.0,0.0,0.160...</td>\n",
       "      <td>(0.0,0.0,0.0,0.0,0.0,0.0,0.0,0.0,0.0,0.1568627...</td>\n",
       "      <td>(0.0,0.0,0.0,0.0,0.0,0.0,0.0,0.0,0.0,0.6470588...</td>\n",
       "      <td>(0.0,0.0,0.0,0.0,0.0,0.0,0.0,0.0,0.16862745098...</td>\n",
       "      <td>(0.0,0.0,0.0,0.0,0.0,0.0,0.0,0.0,0.53725490196...</td>\n",
       "      <td>(0.0,0.0,0.0,0.0,0.0,0.0,0.0,0.0,0.26274509803...</td>\n",
       "      <td>(0.0,0.0,0.0,0.0,0.0,0.0,0.0,0.0,0.0,0.0,0.0,0...</td>\n",
       "      <td>7</td>\n",
       "    </tr>\n",
       "    <tr>\n",
       "      <th>2</th>\n",
       "      <td>34</td>\n",
       "      <td>2024-04-01 12:30:00</td>\n",
       "      <td>(0.0,0.0,0.0,0.0,0.0,0.0,0.0,0.0,0.0,0.0,0.0,0...</td>\n",
       "      <td>(0.0,0.0,0.0,0.0,0.0,0.0,0.0,0.0,0.0,0.0,0.0,0...</td>\n",
       "      <td>(0.0,0.0,0.0,0.0,0.0,0.0,0.0,0.0,0.0,0.0,0.0,0...</td>\n",
       "      <td>(0.0,0.0,0.0,0.0,0.0,0.0,0.0,0.0,0.0,0.0,0.0,0...</td>\n",
       "      <td>(0.0,0.0,0.0,0.0,0.0,0.0,0.0,0.0,0.0,0.0,0.0,0...</td>\n",
       "      <td>(0.0,0.0,0.0,0.0,0.0,0.0,0.0,0.0,0.0,0.0,0.0,0...</td>\n",
       "      <td>(0.0,0.0,0.0,0.0,0.0,0.0,0.0,0.0,0.0,0.0,0.0,0...</td>\n",
       "      <td>(0.0,0.0,0.0,0.0,0.0,0.0,0.0,0.0,0.0,0.0,0.0,0...</td>\n",
       "      <td>...</td>\n",
       "      <td>(0.0,0.0,0.0,0.0,0.0,0.0,0.0,0.0,0.0,0.0,0.0,0...</td>\n",
       "      <td>(0.0,0.0,0.0,0.0,0.0,0.0,0.0,0.0,0.0,0.0,0.0,0...</td>\n",
       "      <td>(0.0,0.0,0.0,0.0,0.0,0.0,0.0,0.0,0.0,0.0117647...</td>\n",
       "      <td>(0.0,0.0,0.0,0.0,0.0,0.0,0.0,0.0,0.0,0.1960784...</td>\n",
       "      <td>(0.0,0.0,0.0,0.0,0.0,0.0,0.0,0.0,0.15686274509...</td>\n",
       "      <td>(0.0,0.0,0.0,0.0,0.0,0.0,0.0,0.058823529411764...</td>\n",
       "      <td>(0.0,0.0,0.0,0.0,0.0,0.0,0.11764705882352941,0...</td>\n",
       "      <td>(0.0,0.0,0.0,0.0,0.0,0.01568627450980392,0.627...</td>\n",
       "      <td>(0.0,0.0,0.0,0.0,0.0,0.0,0.0,0.0,0.0,0.0,0.0,0...</td>\n",
       "      <td>9</td>\n",
       "    </tr>\n",
       "    <tr>\n",
       "      <th>3</th>\n",
       "      <td>37</td>\n",
       "      <td>2024-04-01 12:30:00</td>\n",
       "      <td>(0.0,0.0,0.0,0.0,0.0,0.0,0.0,0.0,0.0,0.0,0.0,0...</td>\n",
       "      <td>(0.0,0.0,0.0,0.0,0.0,0.0,0.0,0.0,0.0,0.0,0.0,0...</td>\n",
       "      <td>(0.0,0.0,0.0,0.0,0.0,0.0,0.0,0.0,0.0,0.0,0.0,0...</td>\n",
       "      <td>(0.0,0.0,0.0,0.0,0.0,0.0,0.0,0.0,0.0,0.0,0.0,0...</td>\n",
       "      <td>(0.0,0.0,0.0,0.0,0.0,0.0,0.0,0.0,0.0,0.0,0.0,0...</td>\n",
       "      <td>(0.0,0.0,0.0,0.0,0.0,0.0,0.0,0.0,0.0,0.0,0.0,0...</td>\n",
       "      <td>(0.0,0.0,0.0,0.0,0.0,0.0,0.0,0.0,0.0,0.0,0.0,0...</td>\n",
       "      <td>(0.0,0.0,0.0,0.0,0.0,0.0,0.0,0.0,0.0,0.0,0.0,0...</td>\n",
       "      <td>...</td>\n",
       "      <td>(0.0,0.0,0.0,0.0,0.0,0.0,0.0,0.0,0.0,0.1019607...</td>\n",
       "      <td>(0.0,0.0,0.0,0.0,0.0,0.0,0.0,0.0,0.0,0.0,0.098...</td>\n",
       "      <td>(0.0,0.0,0.0,0.0,0.0,0.0,0.0,0.0,0.0,0.0,0.0,0...</td>\n",
       "      <td>(0.0,0.0,0.0,0.0,0.0,0.0,0.0,0.0,0.0,0.0,0.0,0...</td>\n",
       "      <td>(0.0,0.0,0.0,0.0,0.0,0.0,0.0,0.0,0.0,0.0,0.0,0...</td>\n",
       "      <td>(0.0,0.0,0.0,0.0,0.0,0.0,0.0,0.0,0.0,0.0,0.0,0...</td>\n",
       "      <td>(0.0,0.0,0.0,0.0,0.0,0.0,0.0,0.0,0.0,0.0,0.0,0...</td>\n",
       "      <td>(0.0,0.0,0.0,0.0,0.0,0.0,0.0,0.0,0.0,0.0,0.0,0...</td>\n",
       "      <td>(0.0,0.0,0.0,0.0,0.0,0.0,0.0,0.0,0.0,0.0,0.0,0...</td>\n",
       "      <td>6</td>\n",
       "    </tr>\n",
       "    <tr>\n",
       "      <th>4</th>\n",
       "      <td>39</td>\n",
       "      <td>2024-04-01 12:30:00</td>\n",
       "      <td>(0.0,0.0,0.0,0.0,0.0,0.0,0.0,0.0,0.0,0.0,0.0,0...</td>\n",
       "      <td>(0.0,0.0,0.0,0.0,0.0,0.0,0.0,0.0,0.0,0.0,0.0,0...</td>\n",
       "      <td>(0.0,0.0,0.0,0.0,0.0,0.0,0.0,0.0,0.0,0.0,0.0,0...</td>\n",
       "      <td>(0.0,0.0,0.0,0.0,0.0,0.0,0.0,0.0,0.0,0.0,0.0,0...</td>\n",
       "      <td>(0.0,0.0,0.0,0.0,0.0,0.0,0.0,0.0,0.0,0.0,0.0,0...</td>\n",
       "      <td>(0.0,0.0,0.0,0.0,0.0,0.0,0.0,0.0,0.0,0.0,0.0,0...</td>\n",
       "      <td>(0.0,0.0,0.0,0.0,0.0,0.0,0.0,0.0,0.0,0.0,0.0,0...</td>\n",
       "      <td>(0.0,0.0,0.0,0.0,0.0,0.03137254901960784,0.113...</td>\n",
       "      <td>...</td>\n",
       "      <td>(0.0,0.0,0.0,0.0,0.0,0.0,0.0,0.290196078431372...</td>\n",
       "      <td>(0.0,0.0,0.0,0.0,0.0,0.0,0.0,0.0,0.0,0.0,0.0,0...</td>\n",
       "      <td>(0.0,0.0,0.0,0.0,0.0,0.0,0.0,0.0,0.0,0.0,0.0,0...</td>\n",
       "      <td>(0.0,0.0,0.0,0.0,0.0,0.0,0.0,0.0,0.0,0.0,0.0,0...</td>\n",
       "      <td>(0.0,0.0,0.0,0.0,0.0,0.0,0.0,0.0,0.0,0.0,0.0,0...</td>\n",
       "      <td>(0.0,0.0,0.0,0.0,0.0,0.0,0.0,0.0,0.0,0.0,0.0,0...</td>\n",
       "      <td>(0.0,0.0,0.0,0.0,0.0,0.0,0.0,0.0,0.0,0.0,0.0,0...</td>\n",
       "      <td>(0.0,0.0,0.0,0.0,0.0,0.0,0.0,0.0,0.0,0.0,0.0,0...</td>\n",
       "      <td>(0.0,0.0,0.0,0.0,0.0,0.0,0.0,0.0,0.0,0.0,0.0,0...</td>\n",
       "      <td>7</td>\n",
       "    </tr>\n",
       "  </tbody>\n",
       "</table>\n",
       "<p>5 rows × 31 columns</p>\n",
       "</div>"
      ],
      "text/plain": [
       "   image_id     event_timestamp  \\\n",
       "0        11 2024-04-01 12:30:00   \n",
       "1        16 2024-04-01 12:30:00   \n",
       "2        34 2024-04-01 12:30:00   \n",
       "3        37 2024-04-01 12:30:00   \n",
       "4        39 2024-04-01 12:30:00   \n",
       "\n",
       "                                           feature_1  \\\n",
       "0  (0.0,0.0,0.0,0.0,0.0,0.0,0.0,0.0,0.0,0.0,0.0,0...   \n",
       "1  (0.0,0.0,0.0,0.0,0.0,0.0,0.0,0.0,0.0,0.0,0.0,0...   \n",
       "2  (0.0,0.0,0.0,0.0,0.0,0.0,0.0,0.0,0.0,0.0,0.0,0...   \n",
       "3  (0.0,0.0,0.0,0.0,0.0,0.0,0.0,0.0,0.0,0.0,0.0,0...   \n",
       "4  (0.0,0.0,0.0,0.0,0.0,0.0,0.0,0.0,0.0,0.0,0.0,0...   \n",
       "\n",
       "                                           feature_2  \\\n",
       "0  (0.0,0.0,0.0,0.0,0.0,0.0,0.0,0.0,0.0,0.0,0.0,0...   \n",
       "1  (0.0,0.0,0.0,0.0,0.0,0.0,0.0,0.0,0.0,0.0,0.0,0...   \n",
       "2  (0.0,0.0,0.0,0.0,0.0,0.0,0.0,0.0,0.0,0.0,0.0,0...   \n",
       "3  (0.0,0.0,0.0,0.0,0.0,0.0,0.0,0.0,0.0,0.0,0.0,0...   \n",
       "4  (0.0,0.0,0.0,0.0,0.0,0.0,0.0,0.0,0.0,0.0,0.0,0...   \n",
       "\n",
       "                                           feature_3  \\\n",
       "0  (0.0,0.0,0.0,0.0,0.0,0.0,0.0,0.0,0.0,0.0,0.0,0...   \n",
       "1  (0.0,0.0,0.0,0.0,0.0,0.0,0.0,0.0,0.0,0.0,0.0,0...   \n",
       "2  (0.0,0.0,0.0,0.0,0.0,0.0,0.0,0.0,0.0,0.0,0.0,0...   \n",
       "3  (0.0,0.0,0.0,0.0,0.0,0.0,0.0,0.0,0.0,0.0,0.0,0...   \n",
       "4  (0.0,0.0,0.0,0.0,0.0,0.0,0.0,0.0,0.0,0.0,0.0,0...   \n",
       "\n",
       "                                           feature_4  \\\n",
       "0  (0.0,0.0,0.0,0.0,0.0,0.0,0.0,0.0,0.0,0.0,0.0,0...   \n",
       "1  (0.0,0.0,0.0,0.0,0.0,0.0,0.0,0.0,0.0,0.0,0.0,0...   \n",
       "2  (0.0,0.0,0.0,0.0,0.0,0.0,0.0,0.0,0.0,0.0,0.0,0...   \n",
       "3  (0.0,0.0,0.0,0.0,0.0,0.0,0.0,0.0,0.0,0.0,0.0,0...   \n",
       "4  (0.0,0.0,0.0,0.0,0.0,0.0,0.0,0.0,0.0,0.0,0.0,0...   \n",
       "\n",
       "                                           feature_5  \\\n",
       "0  (0.0,0.0,0.0,0.0,0.0,0.0,0.0,0.0,0.0,0.0,0.0,0...   \n",
       "1  (0.0,0.0,0.0,0.0,0.0,0.0,0.0,0.0,0.0,0.0,0.0,0...   \n",
       "2  (0.0,0.0,0.0,0.0,0.0,0.0,0.0,0.0,0.0,0.0,0.0,0...   \n",
       "3  (0.0,0.0,0.0,0.0,0.0,0.0,0.0,0.0,0.0,0.0,0.0,0...   \n",
       "4  (0.0,0.0,0.0,0.0,0.0,0.0,0.0,0.0,0.0,0.0,0.0,0...   \n",
       "\n",
       "                                           feature_6  \\\n",
       "0  (0.0,0.0,0.0,0.0,0.0,0.0,0.0,0.0,0.0,0.0,0.403...   \n",
       "1  (0.0,0.0,0.0,0.0,0.0,0.0,0.0,0.0,0.0,0.0,0.0,0...   \n",
       "2  (0.0,0.0,0.0,0.0,0.0,0.0,0.0,0.0,0.0,0.0,0.0,0...   \n",
       "3  (0.0,0.0,0.0,0.0,0.0,0.0,0.0,0.0,0.0,0.0,0.0,0...   \n",
       "4  (0.0,0.0,0.0,0.0,0.0,0.0,0.0,0.0,0.0,0.0,0.0,0...   \n",
       "\n",
       "                                           feature_7  \\\n",
       "0  (0.0,0.0,0.0,0.0,0.0,0.0,0.0,0.0,0.0,0.0,0.070...   \n",
       "1  (0.0,0.0,0.0,0.0,0.0,0.0,0.0,0.0,0.0,0.0,0.0,0...   \n",
       "2  (0.0,0.0,0.0,0.0,0.0,0.0,0.0,0.0,0.0,0.0,0.0,0...   \n",
       "3  (0.0,0.0,0.0,0.0,0.0,0.0,0.0,0.0,0.0,0.0,0.0,0...   \n",
       "4  (0.0,0.0,0.0,0.0,0.0,0.0,0.0,0.0,0.0,0.0,0.0,0...   \n",
       "\n",
       "                                           feature_8  ...  \\\n",
       "0  (0.0,0.0,0.0,0.0,0.0,0.0,0.0,0.0,0.0,0.0,0.0,0...  ...   \n",
       "1  (0.0,0.0,0.0,0.0,0.0,0.0,0.0,0.0,0.0,0.0,0.0,0...  ...   \n",
       "2  (0.0,0.0,0.0,0.0,0.0,0.0,0.0,0.0,0.0,0.0,0.0,0...  ...   \n",
       "3  (0.0,0.0,0.0,0.0,0.0,0.0,0.0,0.0,0.0,0.0,0.0,0...  ...   \n",
       "4  (0.0,0.0,0.0,0.0,0.0,0.03137254901960784,0.113...  ...   \n",
       "\n",
       "                                          feature_20  \\\n",
       "0  (0.0,0.0,0.0,0.0,0.0,0.0,0.07450980392156863,0...   \n",
       "1  (0.0,0.0,0.0,0.0,0.0,0.0,0.0,0.0,0.0,0.0,0.0,0...   \n",
       "2  (0.0,0.0,0.0,0.0,0.0,0.0,0.0,0.0,0.0,0.0,0.0,0...   \n",
       "3  (0.0,0.0,0.0,0.0,0.0,0.0,0.0,0.0,0.0,0.1019607...   \n",
       "4  (0.0,0.0,0.0,0.0,0.0,0.0,0.0,0.290196078431372...   \n",
       "\n",
       "                                          feature_21  \\\n",
       "0  (0.0,0.0,0.0,0.0,0.0,0.0,0.6431372549019608,0....   \n",
       "1  (0.0,0.0,0.0,0.0,0.0,0.0,0.0,0.0,0.0,0.0,0.050...   \n",
       "2  (0.0,0.0,0.0,0.0,0.0,0.0,0.0,0.0,0.0,0.0,0.0,0...   \n",
       "3  (0.0,0.0,0.0,0.0,0.0,0.0,0.0,0.0,0.0,0.0,0.098...   \n",
       "4  (0.0,0.0,0.0,0.0,0.0,0.0,0.0,0.0,0.0,0.0,0.0,0...   \n",
       "\n",
       "                                          feature_22  \\\n",
       "0  (0.0,0.0,0.0,0.0,0.0,0.0,0.2235294117647059,0....   \n",
       "1  (0.0,0.0,0.0,0.0,0.0,0.0,0.0,0.0,0.0,0.0,0.160...   \n",
       "2  (0.0,0.0,0.0,0.0,0.0,0.0,0.0,0.0,0.0,0.0117647...   \n",
       "3  (0.0,0.0,0.0,0.0,0.0,0.0,0.0,0.0,0.0,0.0,0.0,0...   \n",
       "4  (0.0,0.0,0.0,0.0,0.0,0.0,0.0,0.0,0.0,0.0,0.0,0...   \n",
       "\n",
       "                                          feature_23  \\\n",
       "0  (0.0,0.0,0.0,0.0,0.0,0.0,0.0,0.549019607843137...   \n",
       "1  (0.0,0.0,0.0,0.0,0.0,0.0,0.0,0.0,0.0,0.1568627...   \n",
       "2  (0.0,0.0,0.0,0.0,0.0,0.0,0.0,0.0,0.0,0.1960784...   \n",
       "3  (0.0,0.0,0.0,0.0,0.0,0.0,0.0,0.0,0.0,0.0,0.0,0...   \n",
       "4  (0.0,0.0,0.0,0.0,0.0,0.0,0.0,0.0,0.0,0.0,0.0,0...   \n",
       "\n",
       "                                          feature_24  \\\n",
       "0  (0.0,0.0,0.0,0.0,0.0,0.0,0.0,0.0,0.02745098039...   \n",
       "1  (0.0,0.0,0.0,0.0,0.0,0.0,0.0,0.0,0.0,0.6470588...   \n",
       "2  (0.0,0.0,0.0,0.0,0.0,0.0,0.0,0.0,0.15686274509...   \n",
       "3  (0.0,0.0,0.0,0.0,0.0,0.0,0.0,0.0,0.0,0.0,0.0,0...   \n",
       "4  (0.0,0.0,0.0,0.0,0.0,0.0,0.0,0.0,0.0,0.0,0.0,0...   \n",
       "\n",
       "                                          feature_25  \\\n",
       "0  (0.0,0.0,0.0,0.0,0.0,0.0,0.0,0.0,0.0,0.0,0.0,0...   \n",
       "1  (0.0,0.0,0.0,0.0,0.0,0.0,0.0,0.0,0.16862745098...   \n",
       "2  (0.0,0.0,0.0,0.0,0.0,0.0,0.0,0.058823529411764...   \n",
       "3  (0.0,0.0,0.0,0.0,0.0,0.0,0.0,0.0,0.0,0.0,0.0,0...   \n",
       "4  (0.0,0.0,0.0,0.0,0.0,0.0,0.0,0.0,0.0,0.0,0.0,0...   \n",
       "\n",
       "                                          feature_26  \\\n",
       "0  (0.0,0.0,0.0,0.0,0.0,0.0,0.0,0.0,0.0,0.0,0.0,0...   \n",
       "1  (0.0,0.0,0.0,0.0,0.0,0.0,0.0,0.0,0.53725490196...   \n",
       "2  (0.0,0.0,0.0,0.0,0.0,0.0,0.11764705882352941,0...   \n",
       "3  (0.0,0.0,0.0,0.0,0.0,0.0,0.0,0.0,0.0,0.0,0.0,0...   \n",
       "4  (0.0,0.0,0.0,0.0,0.0,0.0,0.0,0.0,0.0,0.0,0.0,0...   \n",
       "\n",
       "                                          feature_27  \\\n",
       "0  (0.0,0.0,0.0,0.0,0.0,0.0,0.0,0.0,0.0,0.0,0.0,0...   \n",
       "1  (0.0,0.0,0.0,0.0,0.0,0.0,0.0,0.0,0.26274509803...   \n",
       "2  (0.0,0.0,0.0,0.0,0.0,0.01568627450980392,0.627...   \n",
       "3  (0.0,0.0,0.0,0.0,0.0,0.0,0.0,0.0,0.0,0.0,0.0,0...   \n",
       "4  (0.0,0.0,0.0,0.0,0.0,0.0,0.0,0.0,0.0,0.0,0.0,0...   \n",
       "\n",
       "                                          feature_28 number  \n",
       "0  (0.0,0.0,0.0,0.0,0.0,0.0,0.0,0.0,0.0,0.0,0.0,0...      3  \n",
       "1  (0.0,0.0,0.0,0.0,0.0,0.0,0.0,0.0,0.0,0.0,0.0,0...      7  \n",
       "2  (0.0,0.0,0.0,0.0,0.0,0.0,0.0,0.0,0.0,0.0,0.0,0...      9  \n",
       "3  (0.0,0.0,0.0,0.0,0.0,0.0,0.0,0.0,0.0,0.0,0.0,0...      6  \n",
       "4  (0.0,0.0,0.0,0.0,0.0,0.0,0.0,0.0,0.0,0.0,0.0,0...      7  \n",
       "\n",
       "[5 rows x 31 columns]"
      ]
     },
     "execution_count": 14,
     "metadata": {},
     "output_type": "execute_result"
    }
   ],
   "source": [
    "historical_df.head()"
   ]
  },
  {
   "cell_type": "code",
   "execution_count": 15,
   "id": "15dcb232-e13f-4c0d-8f94-2e326e45f4a4",
   "metadata": {
    "tags": []
   },
   "outputs": [
    {
     "name": "stdout",
     "output_type": "stream",
     "text": [
      "<class 'pandas.core.frame.DataFrame'>\n",
      "RangeIndex: 70000 entries, 0 to 69999\n",
      "Data columns (total 31 columns):\n",
      " #   Column           Non-Null Count  Dtype         \n",
      "---  ------           --------------  -----         \n",
      " 0   image_id         70000 non-null  int64         \n",
      " 1   event_timestamp  70000 non-null  datetime64[ns]\n",
      " 2   feature_1        70000 non-null  object        \n",
      " 3   feature_2        70000 non-null  object        \n",
      " 4   feature_3        70000 non-null  object        \n",
      " 5   feature_4        70000 non-null  object        \n",
      " 6   feature_5        70000 non-null  object        \n",
      " 7   feature_6        70000 non-null  object        \n",
      " 8   feature_7        70000 non-null  object        \n",
      " 9   feature_8        70000 non-null  object        \n",
      " 10  feature_9        70000 non-null  object        \n",
      " 11  feature_10       70000 non-null  object        \n",
      " 12  feature_11       70000 non-null  object        \n",
      " 13  feature_12       70000 non-null  object        \n",
      " 14  feature_13       70000 non-null  object        \n",
      " 15  feature_14       70000 non-null  object        \n",
      " 16  feature_15       70000 non-null  object        \n",
      " 17  feature_16       70000 non-null  object        \n",
      " 18  feature_17       70000 non-null  object        \n",
      " 19  feature_18       70000 non-null  object        \n",
      " 20  feature_19       70000 non-null  object        \n",
      " 21  feature_20       70000 non-null  object        \n",
      " 22  feature_21       70000 non-null  object        \n",
      " 23  feature_22       70000 non-null  object        \n",
      " 24  feature_23       70000 non-null  object        \n",
      " 25  feature_24       70000 non-null  object        \n",
      " 26  feature_25       70000 non-null  object        \n",
      " 27  feature_26       70000 non-null  object        \n",
      " 28  feature_27       70000 non-null  object        \n",
      " 29  feature_28       70000 non-null  object        \n",
      " 30  number           70000 non-null  int64         \n",
      "dtypes: datetime64[ns](1), int64(2), object(28)\n",
      "memory usage: 16.6+ MB\n"
     ]
    }
   ],
   "source": [
    "historical_df.info()"
   ]
  },
  {
   "cell_type": "markdown",
   "id": "7065eba2-3901-4b59-85e0-38a9cf1ea69a",
   "metadata": {},
   "source": [
    "## Prepara dataset"
   ]
  },
  {
   "cell_type": "markdown",
   "id": "2f9a2b10-5764-4bac-8077-78444942cfcc",
   "metadata": {},
   "source": [
    "Remove rows with null features"
   ]
  },
  {
   "cell_type": "code",
   "execution_count": 16,
   "id": "d68bdbbe-d302-469b-bb28-c9b63bc051e7",
   "metadata": {
    "tags": []
   },
   "outputs": [],
   "source": [
    "for id in range(28):\n",
    "    historical_df.dropna(subset=[f'feature_{id+1}'], inplace=True)"
   ]
  },
  {
   "cell_type": "code",
   "execution_count": 17,
   "id": "7a1a5c17-eb5d-455a-91cf-fce38c5461c6",
   "metadata": {
    "tags": []
   },
   "outputs": [
    {
     "data": {
      "text/plain": [
       "70000"
      ]
     },
     "execution_count": 17,
     "metadata": {},
     "output_type": "execute_result"
    }
   ],
   "source": [
    "len(historical_df)"
   ]
  },
  {
   "cell_type": "code",
   "execution_count": 18,
   "id": "a966bd79-edfb-4e52-bb43-0f98d7a7ef9e",
   "metadata": {
    "tags": []
   },
   "outputs": [],
   "source": [
    "# import base64\n",
    "\n",
    "# # String to encode\n",
    "# original_string = ','.join([historical_df[f'feature_{id+1}'].iloc[0] for id in range(28)])\n",
    "\n",
    "# # Encode the string to Base64\n",
    "# encoded_string = base64.b64encode(original_string.encode()).decode()\n",
    "\n",
    "# print(original_string)\n",
    "# print(len(original_string))\n",
    "# print(encoded_string)\n",
    "# print(len(encoded_string))"
   ]
  },
  {
   "cell_type": "markdown",
   "id": "1b1f933f-a6c1-4920-b8e5-5cb6b3c5eb82",
   "metadata": {},
   "source": [
    "Rebuild the MNIST dataset.\n",
    "\n",
    "Goal is to recreate the `numpy` arrays that can feed the trained models."
   ]
  },
  {
   "cell_type": "code",
   "execution_count": 19,
   "id": "9f80b4f9-4c45-48a7-8831-20d9cc2ce486",
   "metadata": {
    "tags": []
   },
   "outputs": [],
   "source": [
    "images = []"
   ]
  },
  {
   "cell_type": "markdown",
   "id": "fdf250f2-9114-4a0d-bd8c-c9f188115b34",
   "metadata": {},
   "source": [
    "Load features and revert column to rows.\n",
    "\n",
    "**Note**: `feature_N` columns contain string representation of `list<float>`, so they must be reverted to the original data types.\n",
    "\n",
    "The execution of these commands can take some minutes."
   ]
  },
  {
   "cell_type": "code",
   "execution_count": 20,
   "id": "5fefc4ca-f35f-43cd-b027-b5d1da5c08fc",
   "metadata": {
    "tags": []
   },
   "outputs": [],
   "source": [
    "import numpy as np\n",
    "import ast\n",
    "\n",
    "for index in range(len(historical_df)):\n",
    "    image_id = historical_df['image_id'].iloc[index]\n",
    "    # print(f'Rebuild {image_id} at index {index}')\n",
    "    image = [list(map(float, ast.literal_eval(\n",
    "        historical_df[f'feature_{id+1}'].iloc[index]))) for id in range(28)]\n",
    "    images.append(image)"
   ]
  },
  {
   "cell_type": "markdown",
   "id": "69eea7db-0da3-4cd1-97d6-fe635d185720",
   "metadata": {},
   "source": [
    "Extract the prediction column `number`"
   ]
  },
  {
   "cell_type": "code",
   "execution_count": 22,
   "id": "0f0286cd-0a52-45fc-8477-45e51da14d6c",
   "metadata": {
    "tags": []
   },
   "outputs": [
    {
     "name": "stdout",
     "output_type": "stream",
     "text": [
      "70000\n"
     ]
    }
   ],
   "source": [
    "numbers = []\n",
    "for index in range(len(historical_df)):\n",
    "    numbers.append(int(historical_df['number'].iloc[index]))\n",
    "print(len(numbers))"
   ]
  },
  {
   "cell_type": "markdown",
   "id": "21c27e1f-ff95-4a3e-b06d-2551bf1966ff",
   "metadata": {},
   "source": [
    "Assign a fixed percentage of 20% to testing purposes"
   ]
  },
  {
   "cell_type": "code",
   "execution_count": 23,
   "id": "ff8c05cd-7ea2-42d0-8a5a-43fc546d2599",
   "metadata": {
    "tags": []
   },
   "outputs": [],
   "source": [
    "split = int(len(images) * 0.8)\n",
    "train_images = images[:split]\n",
    "test_images = images[split:]\n",
    "train_numbers = numbers[:split]\n",
    "test_numbers = numbers[split:]\n",
    "\n",
    "X_train = np.array(train_images)\n",
    "y_train = np.array(train_numbers)\n",
    "X_test = np.array(test_images)\n",
    "y_test = np.array(test_numbers)"
   ]
  },
  {
   "cell_type": "code",
   "execution_count": 24,
   "id": "cac74d9b-a26e-425b-b949-ca1c82f26013",
   "metadata": {
    "tags": []
   },
   "outputs": [
    {
     "name": "stdout",
     "output_type": "stream",
     "text": [
      "X_train: (56000, 28, 28)\n",
      "y_train: (56000,)\n",
      "X_test: (14000, 28, 28)\n",
      "y_test: (14000,)\n"
     ]
    }
   ],
   "source": [
    "print(f'X_train: {X_train.shape}')\n",
    "print(f'y_train: {y_train.shape}')\n",
    "print(f'X_test: {X_test.shape}')\n",
    "print(f'y_test: {y_test.shape}')"
   ]
  },
  {
   "cell_type": "markdown",
   "id": "1c002a35-229c-4e09-a6b5-6012e8a22d47",
   "metadata": {},
   "source": [
    "Plot some data samples to validate the transformation"
   ]
  },
  {
   "cell_type": "code",
   "execution_count": 25,
   "id": "fa227793-ccb8-4f32-a26e-ffee9c4b48d1",
   "metadata": {
    "tags": []
   },
   "outputs": [
    {
     "data": {
      "image/png": "[encoded data removed]",
      "text/plain": [
       "<Figure size 640x480 with 9 Axes>"
      ]
     },
     "metadata": {},
     "output_type": "display_data"
    }
   ],
   "source": [
    "from matplotlib import pyplot\n",
    "for i in range(9):  \n",
    "    pyplot.subplot(330 + 1 + i)\n",
    "    pyplot.imshow(X_train[i], cmap=pyplot.get_cmap('gray'))\n",
    "pyplot.show()"
   ]
  },
  {
   "cell_type": "markdown",
   "id": "8b4cf617-d3b7-4e85-8e38-45d18c66f6fd",
   "metadata": {},
   "source": [
    "## Train simple neural network"
   ]
  },
  {
   "cell_type": "markdown",
   "id": "aefdd195-e417-4322-9920-8dd861777353",
   "metadata": {},
   "source": [
    "Let's train a simple neural network."
   ]
  },
  {
   "cell_type": "code",
   "execution_count": 26,
   "id": "b1404f63-2cbf-49fa-aa7a-be0cec6d9eb5",
   "metadata": {
    "tags": []
   },
   "outputs": [],
   "source": [
    "model_name = 'simpleNN'"
   ]
  },
  {
   "cell_type": "code",
   "execution_count": 27,
   "id": "5612a86e-07cc-4b72-96d8-178f8fbf1c84",
   "metadata": {
    "tags": []
   },
   "outputs": [
    {
     "name": "stderr",
     "output_type": "stream",
     "text": [
      "2024-04-11 10:03:32.712638: I tensorflow/core/platform/cpu_feature_guard.cc:182] This TensorFlow binary is optimized to use available CPU instructions in performance-critical operations.\n",
      "To enable the following instructions: AVX2 AVX512F FMA, in other operations, rebuild TensorFlow with the appropriate compiler flags.\n",
      "2024-04-11 10:03:33.449308: W tensorflow/compiler/tf2tensorrt/utils/py_utils.cc:38] TF-TRT Warning: Could not find TensorRT\n"
     ]
    },
    {
     "name": "stdout",
     "output_type": "stream",
     "text": [
      "Model: \"sequential\"\n",
      "_________________________________________________________________\n",
      " Layer (type)                Output Shape              Param #   \n",
      "=================================================================\n",
      " flatten (Flatten)           (None, 784)               0         \n",
      "                                                                 \n",
      " dense (Dense)               (None, 128)               100480    \n",
      "                                                                 \n",
      " dense_1 (Dense)             (None, 32)                4128      \n",
      "                                                                 \n",
      " dense_2 (Dense)             (None, 10)                330       \n",
      "                                                                 \n",
      "=================================================================\n",
      "Total params: 104938 (409.91 KB)\n",
      "Trainable params: 104938 (409.91 KB)\n",
      "Non-trainable params: 0 (0.00 Byte)\n",
      "_________________________________________________________________\n"
     ]
    }
   ],
   "source": [
    "from tensorflow import keras\n",
    "from tensorflow.keras import Sequential\n",
    "from tensorflow.keras.layers import Dense,Flatten\n",
    "\n",
    "model = Sequential()\n",
    "\n",
    "model.add(Flatten(input_shape=(28,28)))\n",
    "model.add(Dense(128,activation='relu'))\n",
    "model.add(Dense(32,activation='relu'))\n",
    "model.add(Dense(10,activation='softmax'))\n",
    "\n",
    "model.compile(loss='sparse_categorical_crossentropy',optimizer='Adam',metrics=['accuracy'])\n",
    "\n",
    "model.summary()"
   ]
  },
  {
   "cell_type": "code",
   "execution_count": 28,
   "id": "89ee6307-0136-4bc2-812e-00708ddf64fc",
   "metadata": {
    "tags": []
   },
   "outputs": [
    {
     "name": "stdout",
     "output_type": "stream",
     "text": [
      "Epoch 1/10\n"
     ]
    },
    {
     "name": "stderr",
     "output_type": "stream",
     "text": [
      "2024-04-11 10:03:36.818445: W tensorflow/tsl/framework/cpu_allocator_impl.cc:83] Allocation of 140492800 exceeds 10% of free system memory.\n"
     ]
    },
    {
     "name": "stdout",
     "output_type": "stream",
     "text": [
      "1383/1400 [============================>.] - ETA: 0s - loss: 0.2979 - accuracy: 0.9131"
     ]
    },
    {
     "name": "stderr",
     "output_type": "stream",
     "text": [
      "2024-04-11 10:03:40.657667: W tensorflow/tsl/framework/cpu_allocator_impl.cc:83] Allocation of 35123200 exceeds 10% of free system memory.\n"
     ]
    },
    {
     "name": "stdout",
     "output_type": "stream",
     "text": [
      "1400/1400 [==============================] - 4s 3ms/step - loss: 0.2961 - accuracy: 0.9137 - val_loss: 0.1566 - val_accuracy: 0.9533\n",
      "Epoch 2/10\n",
      "1400/1400 [==============================] - 3s 2ms/step - loss: 0.1232 - accuracy: 0.9628 - val_loss: 0.1201 - val_accuracy: 0.9638\n",
      "Epoch 3/10\n",
      "1400/1400 [==============================] - 4s 3ms/step - loss: 0.0839 - accuracy: 0.9741 - val_loss: 0.1072 - val_accuracy: 0.9678\n",
      "Epoch 4/10\n",
      "1400/1400 [==============================] - 3s 2ms/step - loss: 0.0599 - accuracy: 0.9814 - val_loss: 0.1052 - val_accuracy: 0.9687\n",
      "Epoch 5/10\n",
      "1400/1400 [==============================] - 3s 2ms/step - loss: 0.0469 - accuracy: 0.9850 - val_loss: 0.0963 - val_accuracy: 0.9716\n",
      "Epoch 6/10\n",
      "1400/1400 [==============================] - 3s 2ms/step - loss: 0.0357 - accuracy: 0.9878 - val_loss: 0.1044 - val_accuracy: 0.9716\n",
      "Epoch 7/10\n",
      "1400/1400 [==============================] - 3s 2ms/step - loss: 0.0284 - accuracy: 0.9914 - val_loss: 0.0922 - val_accuracy: 0.9749\n",
      "Epoch 8/10\n",
      "1400/1400 [==============================] - 3s 2ms/step - loss: 0.0270 - accuracy: 0.9911 - val_loss: 0.1185 - val_accuracy: 0.9722\n",
      "Epoch 9/10\n",
      "1400/1400 [==============================] - 4s 3ms/step - loss: 0.0196 - accuracy: 0.9935 - val_loss: 0.1054 - val_accuracy: 0.9735\n",
      "Epoch 10/10\n",
      "1400/1400 [==============================] - 3s 2ms/step - loss: 0.0191 - accuracy: 0.9935 - val_loss: 0.1172 - val_accuracy: 0.9734\n"
     ]
    }
   ],
   "source": [
    "history = model.fit(X_train,y_train,epochs=10,validation_split=0.2)"
   ]
  },
  {
   "cell_type": "markdown",
   "id": "31d614f8-b276-47b4-b92d-529a398d7225",
   "metadata": {},
   "source": [
    "Evaluate model accuracy using test data"
   ]
  },
  {
   "cell_type": "code",
   "execution_count": 31,
   "id": "5a34c78c-1553-4012-a43d-3d0edd3ba444",
   "metadata": {
    "tags": []
   },
   "outputs": [],
   "source": [
    "from sklearn.metrics import accuracy_score\n",
    "from IPython.display import Markdown as md\n",
    "\n",
    "def evaluateModelAccuracy(model, model_name):\n",
    "    y_prob = model.predict(X_test)\n",
    "    y_pred = y_prob.argmax(axis=1)\n",
    "    accuracy = accuracy_score(y_test,y_pred)\n",
    "    print(f'Prediction accuracy for model `{model_name}` is: {round(accuracy * 100, 2)}%\n",
    "    ''')\n"
   ]
  },
  {
   "cell_type": "code",
   "execution_count": 32,
   "id": "a78d54e3-6515-4d53-991d-41c915d3cd06",
   "metadata": {
    "tags": []
   },
   "outputs": [
    {
     "name": "stdout",
     "output_type": "stream",
     "text": [
      "139/438 [========>.....................] - ETA: 0s"
     ]
    },
    {
     "name": "stderr",
     "output_type": "stream",
     "text": [
      "2024-04-11 10:05:06.919024: W tensorflow/tsl/framework/cpu_allocator_impl.cc:83] Allocation of 43904000 exceeds 10% of free system memory.\n"
     ]
    },
    {
     "name": "stdout",
     "output_type": "stream",
     "text": [
      "438/438 [==============================] - 0s 1ms/step\n",
      "\n",
      "    **Prediction accuracy for model `simpleNN` is**: 97.41%\n",
      "    \n"
     ]
    }
   ],
   "source": [
    "evaluateModelAccuracy(model, model_name)"
   ]
  },
  {
   "cell_type": "markdown",
   "id": "98754564-e1c2-43a3-8e34-517b6ad53a82",
   "metadata": {
    "tags": []
   },
   "source": [
    "### Evaluate the trained model"
   ]
  },
  {
   "cell_type": "code",
   "execution_count": null,
   "id": "e199edb1-c331-4d1b-bb45-0f982e345a41",
   "metadata": {
    "tags": []
   },
   "outputs": [],
   "source": [
    "import matplotlib.pyplot as plt\n",
    "\n",
    "def evaluateModelForSample(model, sample_id):\n",
    "    plt.imshow(X_test[sample_id], cmap=\"Greys\")\n",
    "    plt.title(f'X_test[{sample_id}]:')\n",
    "    plt.show()\n",
    "    prediction = model.predict(X_test[sample_id].reshape(1,28,28)).argmax(axis=1)[0]\n",
    "    print(f'prediction for sample {sample_id} is: ', prediction)\n",
    "    print(f'**Note**: the calculated prediction {prediction} must match the number plotted above. If not, the test failed')\n",
    "    "
   ]
  },
  {
   "cell_type": "code",
   "execution_count": null,
   "id": "40f3133d-5d11-401e-9ec7-6693adc48214",
   "metadata": {
    "tags": []
   },
   "outputs": [],
   "source": [
    "evaluateModelForSample(model, 1)"
   ]
  },
  {
   "cell_type": "markdown",
   "id": "a76eb1b9-b1bd-4a78-917c-0ecc09d74d37",
   "metadata": {},
   "source": [
    "### Save the model as ONNX file"
   ]
  },
  {
   "cell_type": "code",
   "execution_count": null,
   "id": "a6b6f665-7fb4-496c-aa07-4f7fef6cc332",
   "metadata": {
    "tags": []
   },
   "outputs": [],
   "source": [
    "import tensorflow as tf\n",
    "import onnx\n",
    "import onnxruntime as ort\n",
    "import tf2onnx\n",
    "\n",
    "def saveModel(model, model_name):\n",
    "    input_signature = [tf.TensorSpec([1, 28, 28], tf.double, name='x')]\n",
    "    onnx_model, _ = tf2onnx.convert.from_keras(model, input_signature, opset=12)\n",
    "    file_name = f\"{model_name}.onnx\"\n",
    "    onnx.save(onnx_model, file_name)\n",
    "    print(f\"Saved as {file_name}\")\n",
    "    return file_name"
   ]
  },
  {
   "cell_type": "code",
   "execution_count": null,
   "id": "17985d6f-0059-4235-bf3b-096759ba3ab8",
   "metadata": {
    "tags": []
   },
   "outputs": [],
   "source": [
    "file_name = saveModel(model, model_name)"
   ]
  },
  {
   "cell_type": "markdown",
   "id": "c6c60c1e-8d71-4d61-821d-98847896b298",
   "metadata": {},
   "source": [
    "### Test the saved model"
   ]
  },
  {
   "cell_type": "code",
   "execution_count": null,
   "id": "2505aa3a-d2f5-47bc-b40e-43afb076c661",
   "metadata": {
    "tags": []
   },
   "outputs": [],
   "source": [
    "N = 19\n",
    "plt.imshow(X_test[N], cmap=\"Greys\")\n",
    "plt.title(f'X_test[{N}]:')\n",
    "plt.show()"
   ]
  },
  {
   "cell_type": "code",
   "execution_count": null,
   "id": "c27d83f9-6853-48ad-9f38-4fe40dc4ea3e",
   "metadata": {
    "tags": []
   },
   "outputs": [],
   "source": [
    "model_onnx = onnx.load(file_name)\n",
    "output = [node.name for node in model_onnx.graph.output]\n",
    "print(output)\n",
    "\n",
    "sess = ort.InferenceSession(file_name)\n",
    "results_ort = sess.run([output[0]], {'x': X_test[N].reshape(1,28,28)})\n",
    "prediction = results_ort[0].argmax(axis=1)[0]\n",
    "print('prediction: ', prediction)"
   ]
  },
  {
   "cell_type": "markdown",
   "id": "4a38961a-1dc4-4e71-a6fd-d3528b0f5451",
   "metadata": {},
   "source": [
    "**Note**: the calculated prediction must match the number plotted above. If not, the test failed"
   ]
  },
  {
   "cell_type": "markdown",
   "id": "bfe1e6f3-d13d-4e90-92c9-c52539161e42",
   "metadata": {},
   "source": [
    "### Register the model"
   ]
  },
  {
   "cell_type": "code",
   "execution_count": null,
   "id": "9181bce5-e96e-4674-b375-b2642234ba4f",
   "metadata": {
    "tags": []
   },
   "outputs": [],
   "source": [
    "os.environ['accesskey'] = 'boIJgrAVBuIcmkNh1Dv6'\n",
    "os.environ['secretkey'] = 'yGGRnBVRHTWN1un8il2dZjq3JhaTe0kmzmOZjRZT'\n",
    "# 'http://minio-service.kubeflow.svc.cluster.local:9000'\n",
    "s3url = 'https://play.min.io:9000'\n",
    "bucket_name = 'feast'"
   ]
  },
  {
   "cell_type": "code",
   "execution_count": null,
   "id": "e1af64c1-ff5c-4dbd-91f6-e10cae1d7cbe",
   "metadata": {
    "tags": []
   },
   "outputs": [],
   "source": [
    "import boto3\n",
    "\n",
    "def registerTrainedModel(model, model_name, file_name):\n",
    "    registeredmodel_name = \"mnist\"\n",
    "    version_name = \"v.\"+model_name+\".\"+datetime.now().strftime(\"%Y%m%d%H%M%S\")\n",
    "    print(f\"Will be using: {registeredmodel_name}:{version_name} in the remainder of this task\")\n",
    "\n",
    "    # Updated config for https://play.min.io:9443/\n",
    "    s3 = boto3.resource(\n",
    "        service_name='s3',\n",
    "        # region_name='default',\n",
    "        aws_access_key_id=os.environ['accesskey'],\n",
    "        aws_secret_access_key=os.environ['secretkey'],\n",
    "        # use_ssl=False,\n",
    "        endpoint_url=s3url,\n",
    "        # config=boto3.session.Config(signature_version='s3v4'),\n",
    "        verify=False\n",
    "    )\n",
    "\n",
    "    odh_secret_name = f'aws-connection-{bucket_name}'\n",
    "    in_bucket_path = version_name\n",
    "    in_bucket_target = f'{in_bucket_path}/{file_name}'\n",
    "    full_bucket_target = f's3://{bucket_name}/{in_bucket_target}'\n",
    "\n",
    "    my_bucket = s3.Bucket(bucket_name)\n",
    "    my_bucket.upload_file(file_name, in_bucket_target)\n",
    "\n",
    "    print(f\"Objects in the {bucket_name} bucket:\")\n",
    "    for obj in my_bucket.objects.filter():\n",
    "        print(obj.key)"
   ]
  },
  {
   "cell_type": "code",
   "execution_count": null,
   "id": "c2cadf91-711b-4aa1-9730-a9c403a29688",
   "metadata": {
    "tags": []
   },
   "outputs": [],
   "source": [
    "registerTrainedModel(model, model_name, file_name)"
   ]
  },
  {
   "cell_type": "markdown",
   "id": "e0362722-82b8-409f-b474-7f6e1974f529",
   "metadata": {
    "tags": []
   },
   "source": [
    "## Train a convoluted neural network"
   ]
  },
  {
   "cell_type": "markdown",
   "id": "ce509b30-e342-4cc3-8e51-4183ced0f43a",
   "metadata": {},
   "source": [
    "Let's train a an alternative, a convoluted neural network:"
   ]
  },
  {
   "cell_type": "code",
   "execution_count": null,
   "id": "69d5e550-f47d-43a8-ba1e-346a855d655f",
   "metadata": {
    "tags": []
   },
   "outputs": [],
   "source": [
    "model_name = 'convolutedNN'"
   ]
  },
  {
   "cell_type": "code",
   "execution_count": null,
   "id": "c3230dc3-4e13-4dda-a78c-2453dad1bdd7",
   "metadata": {
    "tags": []
   },
   "outputs": [],
   "source": [
    "model = Sequential()\n",
    "\n",
    "model.add(tf.keras.layers.Conv2D(filters=32, kernel_size=(3, 3), input_shape=(28, 28, 1)))\n",
    "model.add(tf.keras.layers.MaxPooling2D(pool_size=(2, 2), strides=2))\n",
    "model.add(tf.keras.layers.Flatten())\n",
    "model.add(tf.keras.layers.Dense(units=64, activation=tf.nn.relu))\n",
    "model.add(tf.keras.layers.Dropout(rate=0.2))\n",
    "model.add(tf.keras.layers.Dense(10, activation=tf.nn.softmax))\n",
    "\n",
    "model.compile(optimizer='adam',\n",
    "              loss='sparse_categorical_crossentropy',\n",
    "              metrics=['accuracy'])\n",
    "\n",
    "model.summary()"
   ]
  },
  {
   "cell_type": "code",
   "execution_count": null,
   "id": "fccae6b8-c4ef-4e42-8143-1cfae79279b3",
   "metadata": {
    "tags": []
   },
   "outputs": [],
   "source": [
    "history = model.fit(X_train,y_train,epochs=3)"
   ]
  },
  {
   "cell_type": "code",
   "execution_count": null,
   "id": "6ddd573c-72ac-4ab0-b98c-dbb7085af808",
   "metadata": {
    "tags": []
   },
   "outputs": [],
   "source": [
    "y_prob = model.predict(X_test)\n",
    "y_pred = y_prob.argmax(axis=1)\n",
    "accuracy = accuracy_score(y_test,y_pred)\n",
    "md(f'''\n",
    "**Prediction accuracy for model `{model_name}` is**: {round(accuracy * 100, 2)}%\n",
    "''')\n"
   ]
  },
  {
   "cell_type": "markdown",
   "id": "5dbcac3b-a394-4120-ba00-8fa94b731a60",
   "metadata": {},
   "source": [
    "### Evaluate the trained model"
   ]
  },
  {
   "cell_type": "code",
   "execution_count": null,
   "id": "58918931-682e-438a-b913-7ab12d2c1350",
   "metadata": {
    "tags": []
   },
   "outputs": [],
   "source": [
    "evaluateModelForSample(model, 19)"
   ]
  },
  {
   "cell_type": "markdown",
   "id": "8aa68f96-ad93-4ced-96e3-214e08650a89",
   "metadata": {},
   "source": [
    "### Save the model as ONNX file"
   ]
  },
  {
   "cell_type": "code",
   "execution_count": null,
   "id": "35cd96b2-9f3a-482e-9171-73e4adfeb6cc",
   "metadata": {
    "tags": []
   },
   "outputs": [],
   "source": [
    "input_signature = [tf.TensorSpec([1, 28, 28], tf.double, name='x')]\n",
    "onnx_model, _ = tf2onnx.convert.from_keras(model, input_signature, opset=12)\n",
    "onnx.save(onnx_model, \"model2.onnx\")"
   ]
  },
  {
   "cell_type": "code",
   "execution_count": null,
   "id": "934db90a-2f6d-4edd-aca5-26bf4c8f6d8b",
   "metadata": {
    "tags": []
   },
   "outputs": [],
   "source": [
    "file_name = saveModel(model, model_name)"
   ]
  },
  {
   "cell_type": "code",
   "execution_count": null,
   "id": "d3ae766e-57f3-4e2e-8698-e5cd3db452bd",
   "metadata": {},
   "outputs": [],
   "source": []
  }
 ],
 "metadata": {
  "kernelspec": {
   "display_name": "Python 3.9",
   "language": "python",
   "name": "python3"
  },
  "language_info": {
   "codemirror_mode": {
    "name": "ipython",
    "version": 3
   },
   "file_extension": ".py",
   "mimetype": "text/x-python",
   "name": "python",
   "nbconvert_exporter": "python",
   "pygments_lexer": "ipython3",
   "version": "3.9.18"
  }
 },
 "nbformat": 4,
 "nbformat_minor": 5
}
