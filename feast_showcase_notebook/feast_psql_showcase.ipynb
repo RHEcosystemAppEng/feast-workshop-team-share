{
 "cells": [
  {
   "cell_type": "markdown",
   "id": "5b1074f9-f15f-4c3b-8d31-81fcc507fef8",
   "metadata": {
    "tags": []
   },
   "source": [
    "# Run Feast and PSQL"
   ]
  },
  {
   "cell_type": "markdown",
   "id": "2d7e9c9e-79bd-412c-9410-78d0e48ff236",
   "metadata": {},
   "source": [
    "bla bla bla"
   ]
  },
  {
   "cell_type": "markdown",
   "id": "78976dcd-c8b5-4ee9-8ea5-298269019305",
   "metadata": {
    "tags": []
   },
   "source": [
    "## Prerequisites"
   ]
  },
  {
   "cell_type": "markdown",
   "id": "eadb82b3-b812-4fef-bf86-2f7c356233cf",
   "metadata": {},
   "source": [
    "* `Red Hat OpenShift pipelines` operator installed\n",
    "* Add `admin` role to the ServiceAccount of the current notebook, e.g. something like:\n",
    "```console\n",
    "oc adm policy add-cluster-role-to-user -z feast-notebook -n feast admin\n",
    "```\n",
    "(this is needed to run `oc` commands from the notebook)"
   ]
  },
  {
   "cell_type": "markdown",
   "id": "1f6bf36e-62f5-4b2b-b372-9fa55b57d417",
   "metadata": {
    "tags": []
   },
   "source": [
    "## Install requirements"
   ]
  },
  {
   "cell_type": "code",
   "execution_count": 1,
   "id": "f5bfa070-9085-4582-8c1f-c03312c62af5",
   "metadata": {
    "tags": []
   },
   "outputs": [
    {
     "name": "stdout",
     "output_type": "stream",
     "text": [
      "feast==0.37.1\n",
      "psycopg2>=2.9\n",
      "-------------\n",
      "Requirement already satisfied: feast==0.37.1 in /opt/app-root/lib/python3.9/site-packages (from -r requirements.txt (line 1)) (0.37.1)\n",
      "Requirement already satisfied: psycopg2>=2.9 in /opt/app-root/lib/python3.9/site-packages (from -r requirements.txt (line 2)) (2.9.9)\n",
      "Requirement already satisfied: click<9.0.0,>=7.0.0 in /opt/app-root/lib/python3.9/site-packages (from feast==0.37.1->-r requirements.txt (line 1)) (8.1.7)\n",
      "Requirement already satisfied: colorama<1,>=0.3.9 in /opt/app-root/lib/python3.9/site-packages (from feast==0.37.1->-r requirements.txt (line 1)) (0.4.6)\n",
      "Requirement already satisfied: dill~=0.3.0 in /opt/app-root/lib/python3.9/site-packages (from feast==0.37.1->-r requirements.txt (line 1)) (0.3.8)\n",
      "Requirement already satisfied: mypy-protobuf>=3.1 in /opt/app-root/lib/python3.9/site-packages (from feast==0.37.1->-r requirements.txt (line 1)) (3.1.0)\n",
      "Requirement already satisfied: Jinja2<4,>=2 in /opt/app-root/lib/python3.9/site-packages (from feast==0.37.1->-r requirements.txt (line 1)) (3.1.3)\n",
      "Requirement already satisfied: jsonschema in /opt/app-root/lib/python3.9/site-packages (from feast==0.37.1->-r requirements.txt (line 1)) (4.21.1)\n",
      "Requirement already satisfied: mmh3 in /opt/app-root/lib/python3.9/site-packages (from feast==0.37.1->-r requirements.txt (line 1)) (4.1.0)\n",
      "Requirement already satisfied: numpy<1.25,>=1.22 in /opt/app-root/lib/python3.9/site-packages (from feast==0.37.1->-r requirements.txt (line 1)) (1.24.4)\n",
      "Requirement already satisfied: pandas<3,>=1.4.3 in /opt/app-root/lib/python3.9/site-packages (from feast==0.37.1->-r requirements.txt (line 1)) (2.2.2)\n",
      "Requirement already satisfied: protobuf<5.0.0,>=4.24.0 in /opt/app-root/lib/python3.9/site-packages (from feast==0.37.1->-r requirements.txt (line 1)) (4.25.3)\n",
      "Requirement already satisfied: pyarrow>=4 in /opt/app-root/lib/python3.9/site-packages (from feast==0.37.1->-r requirements.txt (line 1)) (16.0.0)\n",
      "Requirement already satisfied: pydantic>=2.0.0 in /opt/app-root/lib/python3.9/site-packages (from feast==0.37.1->-r requirements.txt (line 1)) (2.7.1)\n",
      "Requirement already satisfied: pygments<3,>=2.12.0 in /opt/app-root/lib/python3.9/site-packages (from feast==0.37.1->-r requirements.txt (line 1)) (2.17.2)\n",
      "Requirement already satisfied: PyYAML<7,>=5.4.0 in /opt/app-root/lib/python3.9/site-packages (from feast==0.37.1->-r requirements.txt (line 1)) (6.0.1)\n",
      "Requirement already satisfied: requests in /opt/app-root/lib/python3.9/site-packages (from feast==0.37.1->-r requirements.txt (line 1)) (2.31.0)\n",
      "Requirement already satisfied: SQLAlchemy>1 in /opt/app-root/lib/python3.9/site-packages (from SQLAlchemy[mypy]>1->feast==0.37.1->-r requirements.txt (line 1)) (1.4.52)\n",
      "Requirement already satisfied: tabulate<1,>=0.8.0 in /opt/app-root/lib/python3.9/site-packages (from feast==0.37.1->-r requirements.txt (line 1)) (0.9.0)\n",
      "Requirement already satisfied: tenacity<9,>=7 in /opt/app-root/lib/python3.9/site-packages (from feast==0.37.1->-r requirements.txt (line 1)) (8.2.3)\n",
      "Requirement already satisfied: toml<1,>=0.10.0 in /opt/app-root/lib/python3.9/site-packages (from feast==0.37.1->-r requirements.txt (line 1)) (0.10.2)\n",
      "Requirement already satisfied: tqdm<5,>=4 in /opt/app-root/lib/python3.9/site-packages (from feast==0.37.1->-r requirements.txt (line 1)) (4.66.2)\n",
      "Requirement already satisfied: typeguard>=4.0.0 in /opt/app-root/lib/python3.9/site-packages (from feast==0.37.1->-r requirements.txt (line 1)) (4.2.1)\n",
      "Requirement already satisfied: fastapi>=0.68.0 in /opt/app-root/lib/python3.9/site-packages (from feast==0.37.1->-r requirements.txt (line 1)) (0.109.2)\n",
      "Requirement already satisfied: uvicorn<1,>=0.14.0 in /opt/app-root/lib/python3.9/site-packages (from uvicorn[standard]<1,>=0.14.0->feast==0.37.1->-r requirements.txt (line 1)) (0.21.1)\n",
      "Requirement already satisfied: dask>=2021.1.0 in /opt/app-root/lib/python3.9/site-packages (from dask[dataframe]>=2021.1.0->feast==0.37.1->-r requirements.txt (line 1)) (2024.5.0)\n",
      "Requirement already satisfied: bowler in /opt/app-root/lib/python3.9/site-packages (from feast==0.37.1->-r requirements.txt (line 1)) (0.9.0)\n",
      "Requirement already satisfied: importlib-resources<7,>=6.0.0 in /opt/app-root/lib/python3.9/site-packages (from feast==0.37.1->-r requirements.txt (line 1)) (6.4.0)\n",
      "Requirement already satisfied: importlib-metadata<7,>=6.8.0 in /opt/app-root/lib/python3.9/site-packages (from feast==0.37.1->-r requirements.txt (line 1)) (6.11.0)\n",
      "Requirement already satisfied: gunicorn in /opt/app-root/lib/python3.9/site-packages (from feast==0.37.1->-r requirements.txt (line 1)) (22.0.0)\n",
      "Requirement already satisfied: cloudpickle>=1.5.0 in /opt/app-root/lib/python3.9/site-packages (from dask>=2021.1.0->dask[dataframe]>=2021.1.0->feast==0.37.1->-r requirements.txt (line 1)) (3.0.0)\n",
      "Requirement already satisfied: fsspec>=2021.09.0 in /opt/app-root/lib/python3.9/site-packages (from dask>=2021.1.0->dask[dataframe]>=2021.1.0->feast==0.37.1->-r requirements.txt (line 1)) (2024.3.1)\n",
      "Requirement already satisfied: packaging>=20.0 in /opt/app-root/lib/python3.9/site-packages (from dask>=2021.1.0->dask[dataframe]>=2021.1.0->feast==0.37.1->-r requirements.txt (line 1)) (24.0)\n",
      "Requirement already satisfied: partd>=1.2.0 in /opt/app-root/lib/python3.9/site-packages (from dask>=2021.1.0->dask[dataframe]>=2021.1.0->feast==0.37.1->-r requirements.txt (line 1)) (1.4.2)\n",
      "Requirement already satisfied: toolz>=0.10.0 in /opt/app-root/lib/python3.9/site-packages (from dask>=2021.1.0->dask[dataframe]>=2021.1.0->feast==0.37.1->-r requirements.txt (line 1)) (0.12.1)\n",
      "Requirement already satisfied: dask-expr<1.2,>=1.1 in /opt/app-root/lib/python3.9/site-packages (from dask[dataframe]>=2021.1.0->feast==0.37.1->-r requirements.txt (line 1)) (1.1.0)\n",
      "Requirement already satisfied: starlette<0.37.0,>=0.36.3 in /opt/app-root/lib/python3.9/site-packages (from fastapi>=0.68.0->feast==0.37.1->-r requirements.txt (line 1)) (0.36.3)\n",
      "Requirement already satisfied: typing-extensions>=4.8.0 in /opt/app-root/lib/python3.9/site-packages (from fastapi>=0.68.0->feast==0.37.1->-r requirements.txt (line 1)) (4.11.0)\n",
      "Requirement already satisfied: zipp>=0.5 in /opt/app-root/lib/python3.9/site-packages (from importlib-metadata<7,>=6.8.0->feast==0.37.1->-r requirements.txt (line 1)) (3.18.1)\n",
      "Requirement already satisfied: MarkupSafe>=2.0 in /opt/app-root/lib/python3.9/site-packages (from Jinja2<4,>=2->feast==0.37.1->-r requirements.txt (line 1)) (2.1.5)\n",
      "Requirement already satisfied: types-protobuf>=3.17.4 in /opt/app-root/lib/python3.9/site-packages (from mypy-protobuf>=3.1->feast==0.37.1->-r requirements.txt (line 1)) (5.26.0.20240422)\n",
      "Requirement already satisfied: python-dateutil>=2.8.2 in /opt/app-root/lib/python3.9/site-packages (from pandas<3,>=1.4.3->feast==0.37.1->-r requirements.txt (line 1)) (2.9.0.post0)\n",
      "Requirement already satisfied: pytz>=2020.1 in /opt/app-root/lib/python3.9/site-packages (from pandas<3,>=1.4.3->feast==0.37.1->-r requirements.txt (line 1)) (2024.1)\n",
      "Requirement already satisfied: tzdata>=2022.7 in /opt/app-root/lib/python3.9/site-packages (from pandas<3,>=1.4.3->feast==0.37.1->-r requirements.txt (line 1)) (2024.1)\n",
      "Requirement already satisfied: annotated-types>=0.4.0 in /opt/app-root/lib/python3.9/site-packages (from pydantic>=2.0.0->feast==0.37.1->-r requirements.txt (line 1)) (0.6.0)\n",
      "Requirement already satisfied: pydantic-core==2.18.2 in /opt/app-root/lib/python3.9/site-packages (from pydantic>=2.0.0->feast==0.37.1->-r requirements.txt (line 1)) (2.18.2)\n",
      "Requirement already satisfied: greenlet!=0.4.17 in /opt/app-root/lib/python3.9/site-packages (from SQLAlchemy>1->SQLAlchemy[mypy]>1->feast==0.37.1->-r requirements.txt (line 1)) (3.0.3)\n",
      "Requirement already satisfied: sqlalchemy2-stubs in /opt/app-root/lib/python3.9/site-packages (from SQLAlchemy[mypy]>1->feast==0.37.1->-r requirements.txt (line 1)) (0.0.2a38)\n",
      "Requirement already satisfied: mypy>=0.910 in /opt/app-root/lib/python3.9/site-packages (from SQLAlchemy[mypy]>1->feast==0.37.1->-r requirements.txt (line 1)) (1.10.0)\n",
      "Requirement already satisfied: h11>=0.8 in /opt/app-root/lib/python3.9/site-packages (from uvicorn<1,>=0.14.0->uvicorn[standard]<1,>=0.14.0->feast==0.37.1->-r requirements.txt (line 1)) (0.14.0)\n",
      "Requirement already satisfied: httptools>=0.5.0 in /opt/app-root/lib/python3.9/site-packages (from uvicorn[standard]<1,>=0.14.0->feast==0.37.1->-r requirements.txt (line 1)) (0.6.1)\n",
      "Requirement already satisfied: python-dotenv>=0.13 in /opt/app-root/lib/python3.9/site-packages (from uvicorn[standard]<1,>=0.14.0->feast==0.37.1->-r requirements.txt (line 1)) (1.0.1)\n",
      "Requirement already satisfied: uvloop!=0.15.0,!=0.15.1,>=0.14.0 in /opt/app-root/lib/python3.9/site-packages (from uvicorn[standard]<1,>=0.14.0->feast==0.37.1->-r requirements.txt (line 1)) (0.19.0)\n",
      "Requirement already satisfied: watchfiles>=0.13 in /opt/app-root/lib/python3.9/site-packages (from uvicorn[standard]<1,>=0.14.0->feast==0.37.1->-r requirements.txt (line 1)) (0.21.0)\n",
      "Requirement already satisfied: websockets>=10.4 in /opt/app-root/lib/python3.9/site-packages (from uvicorn[standard]<1,>=0.14.0->feast==0.37.1->-r requirements.txt (line 1)) (12.0)\n",
      "Requirement already satisfied: attrs in /opt/app-root/lib/python3.9/site-packages (from bowler->feast==0.37.1->-r requirements.txt (line 1)) (23.2.0)\n",
      "Requirement already satisfied: fissix in /opt/app-root/lib/python3.9/site-packages (from bowler->feast==0.37.1->-r requirements.txt (line 1)) (24.4.24)\n",
      "Requirement already satisfied: moreorless>=0.2.0 in /opt/app-root/lib/python3.9/site-packages (from bowler->feast==0.37.1->-r requirements.txt (line 1)) (0.4.0)\n",
      "Requirement already satisfied: volatile in /opt/app-root/lib/python3.9/site-packages (from bowler->feast==0.37.1->-r requirements.txt (line 1)) (2.1.0)\n",
      "Requirement already satisfied: jsonschema-specifications>=2023.03.6 in /opt/app-root/lib/python3.9/site-packages (from jsonschema->feast==0.37.1->-r requirements.txt (line 1)) (2023.12.1)\n",
      "Requirement already satisfied: referencing>=0.28.4 in /opt/app-root/lib/python3.9/site-packages (from jsonschema->feast==0.37.1->-r requirements.txt (line 1)) (0.34.0)\n",
      "Requirement already satisfied: rpds-py>=0.7.1 in /opt/app-root/lib/python3.9/site-packages (from jsonschema->feast==0.37.1->-r requirements.txt (line 1)) (0.18.0)\n",
      "Requirement already satisfied: charset-normalizer<4,>=2 in /opt/app-root/lib/python3.9/site-packages (from requests->feast==0.37.1->-r requirements.txt (line 1)) (3.3.2)\n",
      "Requirement already satisfied: idna<4,>=2.5 in /opt/app-root/lib/python3.9/site-packages (from requests->feast==0.37.1->-r requirements.txt (line 1)) (3.7)\n",
      "Requirement already satisfied: urllib3<3,>=1.21.1 in /opt/app-root/lib/python3.9/site-packages (from requests->feast==0.37.1->-r requirements.txt (line 1)) (1.26.18)\n",
      "Requirement already satisfied: certifi>=2017.4.17 in /opt/app-root/lib/python3.9/site-packages (from requests->feast==0.37.1->-r requirements.txt (line 1)) (2024.2.2)\n",
      "Requirement already satisfied: mypy-extensions>=1.0.0 in /opt/app-root/lib/python3.9/site-packages (from mypy>=0.910->SQLAlchemy[mypy]>1->feast==0.37.1->-r requirements.txt (line 1)) (1.0.0)\n",
      "Requirement already satisfied: tomli>=1.1.0 in /opt/app-root/lib/python3.9/site-packages (from mypy>=0.910->SQLAlchemy[mypy]>1->feast==0.37.1->-r requirements.txt (line 1)) (2.0.1)\n",
      "Requirement already satisfied: locket in /opt/app-root/lib/python3.9/site-packages (from partd>=1.2.0->dask>=2021.1.0->dask[dataframe]>=2021.1.0->feast==0.37.1->-r requirements.txt (line 1)) (1.0.0)\n",
      "Requirement already satisfied: six>=1.5 in /opt/app-root/lib/python3.9/site-packages (from python-dateutil>=2.8.2->pandas<3,>=1.4.3->feast==0.37.1->-r requirements.txt (line 1)) (1.16.0)\n",
      "Requirement already satisfied: anyio<5,>=3.4.0 in /opt/app-root/lib/python3.9/site-packages (from starlette<0.37.0,>=0.36.3->fastapi>=0.68.0->feast==0.37.1->-r requirements.txt (line 1)) (4.3.0)\n",
      "Requirement already satisfied: appdirs>=1.4.4 in /opt/app-root/lib/python3.9/site-packages (from fissix->bowler->feast==0.37.1->-r requirements.txt (line 1)) (1.4.4)\n",
      "Requirement already satisfied: sniffio>=1.1 in /opt/app-root/lib/python3.9/site-packages (from anyio<5,>=3.4.0->starlette<0.37.0,>=0.36.3->fastapi>=0.68.0->feast==0.37.1->-r requirements.txt (line 1)) (1.3.1)\n",
      "Requirement already satisfied: exceptiongroup>=1.0.2 in /opt/app-root/lib/python3.9/site-packages (from anyio<5,>=3.4.0->starlette<0.37.0,>=0.36.3->fastapi>=0.68.0->feast==0.37.1->-r requirements.txt (line 1)) (1.2.1)\n"
     ]
    }
   ],
   "source": [
    "!cat requirements.txt\n",
    "!echo '-------------'\n",
    "!pip install -r requirements.txt"
   ]
  },
  {
   "cell_type": "markdown",
   "id": "e3fc6fd9-cffc-4227-9cbf-4afebea14d02",
   "metadata": {
    "tags": []
   },
   "source": [
    "## Create PSQL DB"
   ]
  },
  {
   "cell_type": "markdown",
   "id": "0c30e9ff-efef-41d7-994e-b15e731f89a7",
   "metadata": {},
   "source": [
    "Create the PSQL DB in the **TARGET_NS** namespace by running the following command to instantiate the application from the template:"
   ]
  },
  {
   "cell_type": "code",
   "execution_count": 2,
   "id": "6d139bc0-f2a0-49a4-91b1-f51b5064e8d3",
   "metadata": {
    "tags": []
   },
   "outputs": [
    {
     "name": "stdout",
     "output_type": "stream",
     "text": [
      "env: TARGET_NS=feast\n"
     ]
    }
   ],
   "source": [
    "# Update it to use a different namespace\n",
    "%env TARGET_NS=feast"
   ]
  },
  {
   "cell_type": "code",
   "execution_count": 3,
   "id": "ae5f92ba-d336-4d40-86a6-0107c9d1a00d",
   "metadata": {
    "tags": []
   },
   "outputs": [
    {
     "data": {
      "text/markdown": [
       "\n",
       "**Note**: namespace  feast  must exist before, otherwise run the following from your CLI logged to the OpenShift console:\n",
       "```console\n",
       "oc create ns feast\n",
       "```\n"
      ],
      "text/plain": [
       "<IPython.core.display.Markdown object>"
      ]
     },
     "execution_count": 3,
     "metadata": {},
     "output_type": "execute_result"
    }
   ],
   "source": [
    "from IPython.display import Markdown as md\n",
    "import os\n",
    "\n",
    "ns = os.environ.get('TARGET_NS')\n",
    "md(f'''\n",
    "**Note**: namespace  {ns}  must exist before, otherwise run the following from your CLI logged to the OpenShift console:\n",
    "```console\n",
    "oc create ns {ns}\n",
    "```\n",
    "''')"
   ]
  },
  {
   "cell_type": "code",
   "execution_count": 4,
   "id": "c1b4c3ce-50a6-4193-8073-8518cf7f35a1",
   "metadata": {
    "tags": []
   },
   "outputs": [
    {
     "name": "stdout",
     "output_type": "stream",
     "text": [
      "secret/postgresql configured\n",
      "service/postgresql configured\n",
      "persistentvolumeclaim/postgresql created\n",
      "\u001b[33;1mWarning:\u001b[0m apps.openshift.io/v1 DeploymentConfig is deprecated in v4.14+, unavailable in v4.10000+\n",
      "deploymentconfig.apps.openshift.io/postgresql created\n"
     ]
    }
   ],
   "source": [
    "!oc process -n openshift postgresql-persistent \\\n",
    "DATABASE_SERVICE_NAME=postgresql POSTGRESQL_USER=feast POSTGRESQL_PASSWORD=feast \\\n",
    "POSTGRESQL_DATABASE=feast VOLUME_CAPACITY=20Gi MEMORY_LIMIT=1Gi | oc apply -f - -n ${TARGET_NS} "
   ]
  },
  {
   "cell_type": "markdown",
   "id": "3d6ee678-f195-455f-a19b-689e5469fd1b",
   "metadata": {},
   "source": [
    "Wait until the DB is running:"
   ]
  },
  {
   "cell_type": "code",
   "execution_count": 5,
   "id": "81c758ba-d533-4385-b88c-b2dd89d4960b",
   "metadata": {
    "tags": []
   },
   "outputs": [
    {
     "name": "stdout",
     "output_type": "stream",
     "text": [
      "error: no matching resources found\n"
     ]
    }
   ],
   "source": [
    "!oc wait pod -l deploymentconfig=postgresql -n ${TARGET_NS} --for=condition=Ready=true --timeout=5m"
   ]
  },
  {
   "cell_type": "markdown",
   "id": "04442c2f-fa0d-4703-9eaa-e63e23c5c1e4",
   "metadata": {
    "tags": []
   },
   "source": [
    "## Create sample feast repo"
   ]
  },
  {
   "cell_type": "code",
   "execution_count": 16,
   "id": "47e32054-6a5f-4d58-8404-eba41b27be9e",
   "metadata": {
    "tags": []
   },
   "outputs": [
    {
     "name": "stdout",
     "output_type": "stream",
     "text": [
      "\n",
      "Creating a new Feast repository in \u001b[1m\u001b[32m/opt/app-root/src/feast-workshop-team-share/feast_showcase_notebook/sample_repo\u001b[0m.\n",
      "\n"
     ]
    }
   ],
   "source": [
    "!feast init -m sample_repo"
   ]
  },
  {
   "cell_type": "markdown",
   "id": "3e91819b-7b78-493d-93cd-4f48d255f3c1",
   "metadata": {},
   "source": [
    "Update the default repository to use the local deployment of PSQL DB:"
   ]
  },
  {
   "cell_type": "code",
   "execution_count": 17,
   "id": "898fb3a4-a375-4473-8d22-67908b890408",
   "metadata": {
    "tags": []
   },
   "outputs": [
    {
     "name": "stdout",
     "output_type": "stream",
     "text": [
      "project: feast_postgres\n",
      "provider: local\n",
      "registry:\n",
      "    registry_store_type: PostgreSQLRegistryStore\n",
      "    path: feast_registry\n",
      "    host: postgresql.feast.svc.cluster.local\n",
      "    port: 5432\n",
      "    database: feast\n",
      "    db_schema: feast\n",
      "    user: feast\n",
      "    password: feast\n",
      "online_store:\n",
      "    type: postgres\n",
      "    host: postgresql.feast.svc.cluster.local\n",
      "    port: 5432\n",
      "    database: feast\n",
      "    db_schema: feast\n",
      "    user: feast\n",
      "    password: feast\n",
      "offline_store:\n",
      "    type: postgres\n",
      "    host: postgresql.feast.svc.cluster.local\n",
      "    port: 5432\n",
      "    database: feast\n",
      "    db_schema: feast\n",
      "    user: feast\n",
      "    password: feast\n",
      "entity_key_serialization_version: 2\n",
      "\n"
     ]
    }
   ],
   "source": [
    "!sed \"s/_NAMESPACE_/$TARGET_NS/\" templates/feature_store.yaml  > sample_repo/feature_repo/feature_store.yaml\n",
    "!cat sample_repo/feature_repo/feature_store.yaml"
   ]
  },
  {
   "cell_type": "markdown",
   "id": "4aeaae32-0688-4f14-91dd-7f6468344f6e",
   "metadata": {},
   "source": [
    "Update the entity definition from the template"
   ]
  },
  {
   "cell_type": "code",
   "execution_count": 18,
   "id": "2709bc84-171a-46db-b8bd-d8a4168e2d7e",
   "metadata": {
    "tags": []
   },
   "outputs": [],
   "source": [
    "!cp templates/example_repo.py sample_repo/feature_repo"
   ]
  },
  {
   "cell_type": "markdown",
   "id": "fc40e432-3355-4de2-bf66-e0bc860f7fcc",
   "metadata": {
    "tags": []
   },
   "source": [
    "## Validate DB state"
   ]
  },
  {
   "cell_type": "markdown",
   "id": "72cac881-7ca1-4fc4-a819-2c757a9f1c29",
   "metadata": {},
   "source": [
    "Create the function to read the list of tables"
   ]
  },
  {
   "cell_type": "code",
   "execution_count": 19,
   "id": "1bad0a8b-f709-4a43-af83-93d62c395456",
   "metadata": {
    "tags": []
   },
   "outputs": [],
   "source": [
    "import pandas as pd\n",
    "import psycopg2\n",
    "from sqlalchemy import create_engine\n",
    "\n",
    "psqlHost = 'postgresql.feast.svc.cluster.local'\n",
    "psqlPort = 5432\n",
    "psqlUsername = 'feast'\n",
    "psqlPassword = 'feast'\n",
    "psqlDb = 'feast'\n",
    "psqlSchema = 'feast'"
   ]
  },
  {
   "cell_type": "code",
   "execution_count": 20,
   "id": "db5982af-b6ab-44b5-9df6-ac49c55be4a6",
   "metadata": {
    "tags": []
   },
   "outputs": [],
   "source": [
    "# Executes a generic sql_query and return the result as a Pandas DataFrame\n",
    "def fetchToDF(sql_query):\n",
    "    engine = create_engine(f'postgresql+psycopg2://{psqlUsername}:{psqlPassword}@{psqlHost}:{str(psqlPort)}/{psqlDb}')\n",
    "\n",
    "    # SQL command to list tables\n",
    "    with engine.connect() as conn:\n",
    "        query = conn.execute(sql_query)\n",
    "    \n",
    "    df = pd.DataFrame(query.fetchall())\n",
    "    return df"
   ]
  },
  {
   "cell_type": "code",
   "execution_count": 21,
   "id": "80ae8530-5d08-41de-8c5a-6e77afe6cb40",
   "metadata": {
    "tags": []
   },
   "outputs": [],
   "source": [
    "# Executes a generic sql_query and return the result as a Pandas DataFrame\n",
    "def executeSql(sql_command):\n",
    "    engine = create_engine(f'postgresql+psycopg2://{psqlUsername}:{psqlPassword}@{psqlHost}:{str(psqlPort)}/{psqlDb}')\n",
    "\n",
    "    # SQL command to list tables\n",
    "    with engine.connect() as conn:\n",
    "        conn.execute(sql_command)"
   ]
  },
  {
   "cell_type": "code",
   "execution_count": 22,
   "id": "0901f884-1b91-47ab-9604-34d24cc0d23f",
   "metadata": {
    "tags": []
   },
   "outputs": [],
   "source": [
    "# Reads the tables names\n",
    "def readTables():\n",
    "    return fetchToDF(\"SELECT table_name FROM information_schema.tables WHERE table_schema = 'feast';\")\n"
   ]
  },
  {
   "cell_type": "markdown",
   "id": "514a5945-4e36-428c-93fb-24ca2954de44",
   "metadata": {},
   "source": [
    "Invoke it and verify there are no tables"
   ]
  },
  {
   "cell_type": "code",
   "execution_count": 23,
   "id": "8f3342d0-135d-4f10-90d3-cf89969859af",
   "metadata": {
    "tags": []
   },
   "outputs": [
    {
     "name": "stdout",
     "output_type": "stream",
     "text": [
      "No tables found, as expected\n"
     ]
    }
   ],
   "source": [
    "df = readTables()\n",
    "assert len(df) == 0, f\"Found {len(df)} tables instead of 0\"\n",
    "print('No tables found, as expected')"
   ]
  },
  {
   "cell_type": "markdown",
   "id": "1783dc5b-c0ba-47c4-beb9-feee65b17bed",
   "metadata": {
    "tags": []
   },
   "source": [
    "### Populate offline data from sample parquet"
   ]
  },
  {
   "cell_type": "markdown",
   "id": "c3865bc6-9636-403a-8936-7527fe605fad",
   "metadata": {},
   "source": [
    "Use `create_driver_hourly_stats_df` to create sample data and push to the data source table `feast_driver_hourly_stats`"
   ]
  },
  {
   "cell_type": "code",
   "execution_count": 25,
   "id": "30c9abd7-85d9-4489-921e-aeb15d683bcc",
   "metadata": {
    "tags": []
   },
   "outputs": [
    {
     "name": "stdout",
     "output_type": "stream",
     "text": [
      "Bootstrap completed, added 1807 to feast_driver_hourly_stats\n"
     ]
    }
   ],
   "source": [
    "from feast.file_utils import replace_str_in_file\n",
    "from feast.infra.utils.postgres.connection_utils import df_to_postgres_table\n",
    "from feast.infra.utils.postgres.postgres_config import PostgreSQLConfig\n",
    "from feast.driver_test_data import create_driver_hourly_stats_df\n",
    "from datetime import datetime, timedelta\n",
    "\n",
    "import psycopg2\n",
    "config_file = \"sample_repo/feature_repo/feature_store.yaml\"\n",
    "\n",
    "end_date = datetime.now().replace(microsecond=0, second=0, minute=0)\n",
    "start_date = end_date - timedelta(days=15)\n",
    "\n",
    "driver_entities = [1001, 1002, 1003, 1004, 1005]\n",
    "driver_df = create_driver_hourly_stats_df(driver_entities, start_date, end_date)\n",
    "\n",
    "tableName = 'feast_driver_hourly_stats'\n",
    "executeSql(f'DROP TABLE IF EXISTS {tableName}')\n",
    "\n",
    "df_to_postgres_table(\n",
    "    config=PostgreSQLConfig(\n",
    "        host=psqlHost,\n",
    "        port=psqlPort,\n",
    "        database=psqlDb,\n",
    "        db_schema=psqlSchema,\n",
    "        user=psqlUsername,\n",
    "        password=psqlPassword,\n",
    "    ),\n",
    "    df=driver_df,\n",
    "    table_name=tableName\n",
    ")\n",
    "print(f'Bootstrap completed, added {len(driver_df)} to {tableName}')\n"
   ]
  },
  {
   "cell_type": "code",
   "execution_count": 26,
   "id": "1823f089-ffd3-4b8c-9c2b-cc409fefa0f5",
   "metadata": {
    "tags": []
   },
   "outputs": [
    {
     "data": {
      "text/html": [
       "<div>\n",
       "<style scoped>\n",
       "    .dataframe tbody tr th:only-of-type {\n",
       "        vertical-align: middle;\n",
       "    }\n",
       "\n",
       "    .dataframe tbody tr th {\n",
       "        vertical-align: top;\n",
       "    }\n",
       "\n",
       "    .dataframe thead th {\n",
       "        text-align: right;\n",
       "    }\n",
       "</style>\n",
       "<table border=\"1\" class=\"dataframe\">\n",
       "  <thead>\n",
       "    <tr style=\"text-align: right;\">\n",
       "      <th></th>\n",
       "      <th>event_timestamp</th>\n",
       "      <th>driver_id</th>\n",
       "      <th>conv_rate</th>\n",
       "      <th>acc_rate</th>\n",
       "      <th>avg_daily_trips</th>\n",
       "      <th>created</th>\n",
       "    </tr>\n",
       "  </thead>\n",
       "  <tbody>\n",
       "    <tr>\n",
       "      <th>0</th>\n",
       "      <td>2024-05-15 15:00:00+00:00</td>\n",
       "      <td>1005</td>\n",
       "      <td>0.076286</td>\n",
       "      <td>0.241202</td>\n",
       "      <td>840</td>\n",
       "      <td>2024-05-30 15:26:28.283</td>\n",
       "    </tr>\n",
       "    <tr>\n",
       "      <th>1</th>\n",
       "      <td>2024-05-15 16:00:00+00:00</td>\n",
       "      <td>1005</td>\n",
       "      <td>0.632918</td>\n",
       "      <td>0.081792</td>\n",
       "      <td>476</td>\n",
       "      <td>2024-05-30 15:26:28.283</td>\n",
       "    </tr>\n",
       "    <tr>\n",
       "      <th>2</th>\n",
       "      <td>2024-05-15 17:00:00+00:00</td>\n",
       "      <td>1005</td>\n",
       "      <td>0.592472</td>\n",
       "      <td>0.328010</td>\n",
       "      <td>446</td>\n",
       "      <td>2024-05-30 15:26:28.283</td>\n",
       "    </tr>\n",
       "    <tr>\n",
       "      <th>3</th>\n",
       "      <td>2024-05-15 18:00:00+00:00</td>\n",
       "      <td>1005</td>\n",
       "      <td>0.610005</td>\n",
       "      <td>0.660397</td>\n",
       "      <td>55</td>\n",
       "      <td>2024-05-30 15:26:28.283</td>\n",
       "    </tr>\n",
       "    <tr>\n",
       "      <th>4</th>\n",
       "      <td>2024-05-15 19:00:00+00:00</td>\n",
       "      <td>1005</td>\n",
       "      <td>0.130482</td>\n",
       "      <td>0.155755</td>\n",
       "      <td>529</td>\n",
       "      <td>2024-05-30 15:26:28.283</td>\n",
       "    </tr>\n",
       "  </tbody>\n",
       "</table>\n",
       "</div>"
      ],
      "text/plain": [
       "            event_timestamp  driver_id  conv_rate  acc_rate  avg_daily_trips  \\\n",
       "0 2024-05-15 15:00:00+00:00       1005   0.076286  0.241202              840   \n",
       "1 2024-05-15 16:00:00+00:00       1005   0.632918  0.081792              476   \n",
       "2 2024-05-15 17:00:00+00:00       1005   0.592472  0.328010              446   \n",
       "3 2024-05-15 18:00:00+00:00       1005   0.610005  0.660397               55   \n",
       "4 2024-05-15 19:00:00+00:00       1005   0.130482  0.155755              529   \n",
       "\n",
       "                  created  \n",
       "0 2024-05-30 15:26:28.283  \n",
       "1 2024-05-30 15:26:28.283  \n",
       "2 2024-05-30 15:26:28.283  \n",
       "3 2024-05-30 15:26:28.283  \n",
       "4 2024-05-30 15:26:28.283  "
      ]
     },
     "execution_count": 26,
     "metadata": {},
     "output_type": "execute_result"
    }
   ],
   "source": [
    "df=fetchToDF('select * from feast_driver_hourly_stats')\n",
    "df.head()"
   ]
  },
  {
   "cell_type": "code",
   "execution_count": 27,
   "id": "c58cc1a8-9ce5-4efc-bfc6-71ce524fb049",
   "metadata": {
    "tags": []
   },
   "outputs": [
    {
     "name": "stdout",
     "output_type": "stream",
     "text": [
      "Found 1807 items\n"
     ]
    }
   ],
   "source": [
    "assert len(df) == 1807\n",
    "print(f'Found {len(df)} items')"
   ]
  },
  {
   "cell_type": "markdown",
   "id": "ab2990af-9a22-4a50-a091-ba3d4d4d3e75",
   "metadata": {
    "tags": []
   },
   "source": [
    "## Feature store deployment"
   ]
  },
  {
   "cell_type": "markdown",
   "id": "4ad0321a-b916-4454-be0a-8ddfeea4a905",
   "metadata": {},
   "source": [
    "Now apply the Feast repository and then validate it has the new tables"
   ]
  },
  {
   "cell_type": "code",
   "execution_count": 28,
   "id": "e2eb5395-315c-46de-9dde-746217593a9f",
   "metadata": {
    "tags": []
   },
   "outputs": [
    {
     "name": "stdout",
     "output_type": "stream",
     "text": [
      "/opt/app-root/lib64/python3.9/site-packages/feast/infra/registry/contrib/postgres/postgres_registry_store.py:41: DeprecationWarning: PostgreSQLRegistryStore is deprecated and will be removed in the future releases. Please use SqlRegistry instead.\n",
      "  warnings.warn(\n",
      "/opt/app-root/lib64/python3.9/site-packages/feast/feature_store.py:551: RuntimeWarning: On demand feature view is an experimental feature. This API is stable, but the functionality does not scale well for offline retrieval\n",
      "  warnings.warn(\n",
      "Deploying infrastructure for \u001b[1m\u001b[32mdriver_hourly_stats_fresh\u001b[0m\n",
      "Deploying infrastructure for \u001b[1m\u001b[32mdriver_hourly_stats\u001b[0m\n"
     ]
    }
   ],
   "source": [
    "!feast -c sample_repo/feature_repo apply"
   ]
  },
  {
   "cell_type": "code",
   "execution_count": 29,
   "id": "78189b8c-206e-413c-afd4-06639d9264f7",
   "metadata": {
    "tags": []
   },
   "outputs": [
    {
     "name": "stdout",
     "output_type": "stream",
     "text": [
      "Found 4 tables, as expected: feast_driver_hourly_stats,feast_registry,feast_postgres_driver_hourly_stats_fresh,feast_postgres_driver_hourly_stats\n"
     ]
    }
   ],
   "source": [
    "df = readTables()\n",
    "expected = 4\n",
    "assert len(df) == expected, f'Found {len(df)} tables, instead of {expected}: {\",\".join(df[\"table_name\"])}'\n",
    "print(f'Found {expected} tables, as expected: {\",\".join(df[\"table_name\"])}')\n"
   ]
  },
  {
   "cell_type": "markdown",
   "id": "412be002-627c-44ef-96db-3b7f364c5c01",
   "metadata": {
    "tags": []
   },
   "source": [
    "### Feast state"
   ]
  },
  {
   "cell_type": "markdown",
   "id": "554c112f-63d0-423b-92c3-cf38fcc9921e",
   "metadata": {},
   "source": [
    "Verify Feast resources using `feast` CLI"
   ]
  },
  {
   "cell_type": "code",
   "execution_count": 30,
   "id": "8c5eab74-efc7-4de1-84cd-d65fdc9337bc",
   "metadata": {
    "tags": []
   },
   "outputs": [
    {
     "name": "stdout",
     "output_type": "stream",
     "text": [
      "/opt/app-root/lib64/python3.9/site-packages/feast/infra/registry/contrib/postgres/postgres_registry_store.py:41: DeprecationWarning: PostgreSQLRegistryStore is deprecated and will be removed in the future releases. Please use SqlRegistry instead.\n",
      "  warnings.warn(\n",
      "NAME    DESCRIPTION    TYPE\n",
      "driver                 ValueType.UNKNOWN\n",
      "/opt/app-root/lib64/python3.9/site-packages/feast/infra/registry/contrib/postgres/postgres_registry_store.py:41: DeprecationWarning: PostgreSQLRegistryStore is deprecated and will be removed in the future releases. Please use SqlRegistry instead.\n",
      "  warnings.warn(\n",
      "NAME                         ENTITIES    TYPE\n",
      "driver_hourly_stats_fresh    {'driver'}  FeatureView\n",
      "driver_hourly_stats          {'driver'}  FeatureView\n",
      "transformed_conv_rate        {'driver'}  OnDemandFeatureView\n",
      "transformed_conv_rate_fresh  {'driver'}  OnDemandFeatureView\n",
      "/opt/app-root/lib64/python3.9/site-packages/feast/infra/registry/contrib/postgres/postgres_registry_store.py:41: DeprecationWarning: PostgreSQLRegistryStore is deprecated and will be removed in the future releases. Please use SqlRegistry instead.\n",
      "  warnings.warn(\n",
      "NAME                FEATURES\n",
      "driver_activity_v1  driver_hourly_stats:conv_rate, transformed_conv_rate:conv_rate_plus_val1, transformed_conv_rate:conv_rate_plus_val2\n",
      "driver_activity_v2  driver_hourly_stats:conv_rate, driver_hourly_stats:acc_rate, driver_hourly_stats:avg_daily_trips, transformed_conv_rate:conv_rate_plus_val1, transformed_conv_rate:conv_rate_plus_val2\n",
      "driver_activity_v3  driver_hourly_stats_fresh:conv_rate, driver_hourly_stats_fresh:acc_rate, driver_hourly_stats_fresh:avg_daily_trips, transformed_conv_rate_fresh:conv_rate_plus_val1, transformed_conv_rate_fresh:conv_rate_plus_val2\n"
     ]
    }
   ],
   "source": [
    "!feast -c sample_repo/feature_repo entities list\n",
    "!feast -c sample_repo/feature_repo feature-views list\n",
    "!feast -c sample_repo/feature_repo feature-services list"
   ]
  },
  {
   "cell_type": "markdown",
   "id": "f211047a-8e89-4a78-887a-5a779c90e441",
   "metadata": {
    "tags": []
   },
   "source": [
    "## Install Feature server"
   ]
  },
  {
   "cell_type": "markdown",
   "id": "d3fb2eb7-983e-4c17-940a-0196db0885a6",
   "metadata": {},
   "source": [
    "Install the [Python feature server](https://docs.feast.dev/reference/feature-servers/python-feature-server)"
   ]
  },
  {
   "cell_type": "markdown",
   "id": "7c9618a3-0169-4814-8f30-2509f039d2ae",
   "metadata": {},
   "source": [
    "### Install Helm"
   ]
  },
  {
   "cell_type": "code",
   "execution_count": 31,
   "id": "d8a0b2dd-7855-4082-af38-b3ea816bfa6d",
   "metadata": {
    "tags": []
   },
   "outputs": [
    {
     "name": "stdout",
     "output_type": "stream",
     "text": [
      "  % Total    % Received % Xferd  Average Speed   Time    Time     Time  Current\n",
      "                                 Dload  Upload   Total   Spent    Left  Speed\n",
      "100 15.3M  100 15.3M    0     0   146M      0 --:--:-- --:--:-- --:--:--  146M\n",
      "linux-amd64/\n",
      "linux-amd64/LICENSE\n",
      "linux-amd64/README.md\n",
      "linux-amd64/helm\n",
      "version.BuildInfo{Version:\"v3.14.3\", GitCommit:\"f03cc04caaa8f6d7c3e67cf918929150cf6f3f12\", GitTreeState:\"clean\", GoVersion:\"go1.21.7\"}\n"
     ]
    }
   ],
   "source": [
    "!curl https://get.helm.sh/helm-v3.14.3-linux-amd64.tar.gz --output helm.tar.gz\n",
    "!gunzip -f helm.tar.gz \n",
    "!tar xvf helm.tar \n",
    "!mv ./linux-amd64/helm .\n",
    "!./helm version"
   ]
  },
  {
   "cell_type": "markdown",
   "id": "a2e73721-4708-4170-8795-abe2e8cbc1c2",
   "metadata": {},
   "source": [
    "### Install from chart"
   ]
  },
  {
   "cell_type": "code",
   "execution_count": 32,
   "id": "9dc4e43b-1d9f-43a0-aeb2-a42f5c527ca7",
   "metadata": {
    "tags": []
   },
   "outputs": [
    {
     "name": "stdout",
     "output_type": "stream",
     "text": [
      "\"feast-charts\" already exists with the same configuration, skipping\n",
      "Hang tight while we grab the latest from your chart repositories...\n",
      "...Successfully got an update from the \"feast-charts\" chart repository\n",
      "Update Complete. ⎈Happy Helming!⎈\n"
     ]
    }
   ],
   "source": [
    "!./helm repo add feast-charts https://feast-helm-charts.storage.googleapis.com\n",
    "!./helm repo update"
   ]
  },
  {
   "cell_type": "code",
   "execution_count": 33,
   "id": "cb5e8fc3-8e8d-46fd-a427-bbdf1d2715ce",
   "metadata": {
    "tags": []
   },
   "outputs": [],
   "source": [
    "import base64\n",
    "import os\n",
    "\n",
    "file_path = 'sample_repo/feature_repo/feature_store.yaml'\n",
    "with open(file_path, 'rb') as file:\n",
    "    file_content = file.read()\n",
    "\n",
    "base64_encoded = base64.b64encode(file_content)\n",
    "os.environ['FEATURE_STORE_YAML_BASE64'] = base64_encoded.decode('utf-8')"
   ]
  },
  {
   "cell_type": "code",
   "execution_count": 34,
   "id": "7e3f57d2-291a-4048-acc5-d98ed7177061",
   "metadata": {
    "tags": []
   },
   "outputs": [
    {
     "name": "stdout",
     "output_type": "stream",
     "text": [
      "Error: uninstall: Release not loaded: feast-release: release: not found\n"
     ]
    }
   ],
   "source": [
    "!./helm uninstall feast-release"
   ]
  },
  {
   "cell_type": "code",
   "execution_count": 35,
   "id": "6d1973c7-00a2-484c-9eb5-a62ee9301b2b",
   "metadata": {
    "tags": []
   },
   "outputs": [
    {
     "name": "stdout",
     "output_type": "stream",
     "text": [
      "cHJvamVjdDogZmVhc3RfcG9zdGdyZXMKcHJvdmlkZXI6IGxvY2FsCnJlZ2lzdHJ5OgogICAgcmVnaXN0cnlfc3RvcmVfdHlwZTogUG9zdGdyZVNRTFJlZ2lzdHJ5U3RvcmUKICAgIHBhdGg6IGZlYXN0X3JlZ2lzdHJ5CiAgICBob3N0OiBwb3N0Z3Jlc3FsLmZlYXN0LnN2Yy5jbHVzdGVyLmxvY2FsCiAgICBwb3J0OiA1NDMyCiAgICBkYXRhYmFzZTogZmVhc3QKICAgIGRiX3NjaGVtYTogZmVhc3QKICAgIHVzZXI6IGZlYXN0CiAgICBwYXNzd29yZDogZmVhc3QKb25saW5lX3N0b3JlOgogICAgdHlwZTogcG9zdGdyZXMKICAgIGhvc3Q6IHBvc3RncmVzcWwuZmVhc3Quc3ZjLmNsdXN0ZXIubG9jYWwKICAgIHBvcnQ6IDU0MzIKICAgIGRhdGFiYXNlOiBmZWFzdAogICAgZGJfc2NoZW1hOiBmZWFzdAogICAgdXNlcjogZmVhc3QKICAgIHBhc3N3b3JkOiBmZWFzdApvZmZsaW5lX3N0b3JlOgogICAgdHlwZTogcG9zdGdyZXMKICAgIGhvc3Q6IHBvc3RncmVzcWwuZmVhc3Quc3ZjLmNsdXN0ZXIubG9jYWwKICAgIHBvcnQ6IDU0MzIKICAgIGRhdGFiYXNlOiBmZWFzdAogICAgZGJfc2NoZW1hOiBmZWFzdAogICAgdXNlcjogZmVhc3QKICAgIHBhc3N3b3JkOiBmZWFzdAplbnRpdHlfa2V5X3NlcmlhbGl6YXRpb25fdmVyc2lvbjogMgoK\n",
      "Release \"feast-release\" does not exist. Installing it now.\n",
      "NAME: feast-release\n",
      "LAST DEPLOYED: Thu May 30 15:27:19 2024\n",
      "NAMESPACE: feast\n",
      "STATUS: deployed\n",
      "REVISION: 1\n",
      "TEST SUITE: None\n"
     ]
    }
   ],
   "source": [
    "!echo $FEATURE_STORE_YAML_BASE64\n",
    "\n",
    "!./helm upgrade --install -n $TARGET_NS feast-release feast-charts/feast-feature-server --set image.tag=0.37.1 --set feature_store_yaml_base64=$FEATURE_STORE_YAML_BASE64"
   ]
  },
  {
   "cell_type": "markdown",
   "id": "30cc55b0-69e4-437e-8070-39b1d1ca4666",
   "metadata": {},
   "source": [
    "Patch the deployment to silent Feast usage stats (raises a disturbing warning `Certificate did not match expected hostname: usage.feast.dev`)"
   ]
  },
  {
   "cell_type": "code",
   "execution_count": 36,
   "id": "ac05621c-577c-4b89-8920-778b91840b66",
   "metadata": {
    "tags": []
   },
   "outputs": [
    {
     "name": "stdout",
     "output_type": "stream",
     "text": [
      "deployment.apps/feast-release-feast-feature-server patched\n"
     ]
    }
   ],
   "source": [
    "!oc patch deployment/feast-release-feast-feature-server --type=json --patch '[{\"op\": \"add\", \"path\": \"/spec/template/spec/containers/0/env/-\", \"value\": {\"name\": \"FEAST_USAGE\", \"value\": \"False\"}}]'"
   ]
  },
  {
   "cell_type": "markdown",
   "id": "304330ce-596c-41fc-9423-3648c082cb8c",
   "metadata": {},
   "source": [
    "Wait until the server is running"
   ]
  },
  {
   "cell_type": "code",
   "execution_count": 37,
   "id": "15efd722-8c9f-4540-917b-ac1069edfef8",
   "metadata": {
    "tags": []
   },
   "outputs": [
    {
     "name": "stdout",
     "output_type": "stream",
     "text": [
      "pod/feast-release-feast-feature-server-59fb8b8c59-9mwzm condition met\n",
      "pod/feast-release-feast-feature-server-5cf4cd587d-7j4p6 condition met\n"
     ]
    }
   ],
   "source": [
    "!oc wait pod -l app.kubernetes.io/instance=feast-release -n ${TARGET_NS} --for=condition=Ready=true --timeout=5m"
   ]
  },
  {
   "cell_type": "markdown",
   "id": "b63cf6a1-40c1-4053-b359-589a9c6265cc",
   "metadata": {
    "tags": []
   },
   "source": [
    "## Integration test"
   ]
  },
  {
   "cell_type": "markdown",
   "id": "8521f096-b286-4234-88af-965260be2d8a",
   "metadata": {
    "jupyter": {
     "outputs_hidden": true
    }
   },
   "source": [
    "Run use cases and validate using `Feature server` or [Python SDK](https://rtd.feast.dev/en/master/)"
   ]
  },
  {
   "cell_type": "markdown",
   "id": "7b0cea77-018e-4ef9-8df0-0668b647b582",
   "metadata": {
    "tags": []
   },
   "source": [
    "### Fetch offline data"
   ]
  },
  {
   "cell_type": "markdown",
   "id": "f5e16ce4-4ebb-4f61-8b69-e9d3f7a1ef61",
   "metadata": {},
   "source": [
    "#### From server"
   ]
  },
  {
   "cell_type": "markdown",
   "id": "197b860d-a92d-4d8a-81cf-f879ac60d47f",
   "metadata": {},
   "source": [
    "No API available on the server for offline data"
   ]
  },
  {
   "cell_type": "markdown",
   "id": "e4e9771f-88fd-45d8-88e0-47cca1c35d2a",
   "metadata": {},
   "source": [
    "#### From Python SDK"
   ]
  },
  {
   "cell_type": "markdown",
   "id": "6e689567-4d6f-40d5-b705-a6c87b6789f0",
   "metadata": {
    "jupyter": {
     "outputs_hidden": true
    }
   },
   "source": [
    "Validate historical features using the data source populated in a [previous step](#Populate-offline-data-from-sample-parquet)"
   ]
  },
  {
   "cell_type": "code",
   "execution_count": 38,
   "id": "1fd9cdc5-a632-417b-a69c-a643225156ba",
   "metadata": {
    "tags": []
   },
   "outputs": [],
   "source": [
    "from feast import FeatureStore\n",
    "from datetime import datetime, timedelta\n",
    "\n",
    "def fetchHistoricalDataForTest():\n",
    "    end_date = datetime.now().replace(microsecond=0, second=0, minute=0)\n",
    "    start_date = end_date - timedelta(days=14)\n",
    "    test_ts = start_date.replace(hour=6)\n",
    "    entity_df = pd.DataFrame.from_dict(\n",
    "        {\n",
    "            \"driver_id\": [1001, 1002, 1003],\n",
    "            \"event_timestamp\": [\n",
    "                test_ts,\n",
    "                test_ts,\n",
    "                test_ts,\n",
    "            ],\n",
    "            \"label_driver_reported_satisfaction\": [1, 5, 3],\n",
    "            \"val_to_add\": [1, 2, 3],\n",
    "            \"val_to_add_2\": [10, 20, 30],\n",
    "        }\n",
    "    )\n",
    "\n",
    "    store = FeatureStore(repo_path=\"sample_repo/feature_repo\")\n",
    "\n",
    "    test_df = store.get_historical_features(\n",
    "        entity_df=entity_df,\n",
    "        features=[\n",
    "            \"driver_hourly_stats:conv_rate\",\n",
    "            \"driver_hourly_stats:acc_rate\",\n",
    "            \"driver_hourly_stats:avg_daily_trips\",\n",
    "            \"transformed_conv_rate:conv_rate_plus_val1\",\n",
    "            \"transformed_conv_rate:conv_rate_plus_val2\",\n",
    "        ],\n",
    "    ).to_df()\n",
    "    return test_df\n"
   ]
  },
  {
   "cell_type": "code",
   "execution_count": 39,
   "id": "428ca3df-b1ca-4f73-96d8-d53519e82bce",
   "metadata": {
    "tags": []
   },
   "outputs": [
    {
     "name": "stderr",
     "output_type": "stream",
     "text": [
      "/opt/app-root/lib64/python3.9/site-packages/feast/infra/registry/contrib/postgres/postgres_registry_store.py:41: DeprecationWarning: PostgreSQLRegistryStore is deprecated and will be removed in the future releases. Please use SqlRegistry instead.\n",
      "  warnings.warn(\n"
     ]
    },
    {
     "data": {
      "text/html": [
       "<div>\n",
       "<style scoped>\n",
       "    .dataframe tbody tr th:only-of-type {\n",
       "        vertical-align: middle;\n",
       "    }\n",
       "\n",
       "    .dataframe tbody tr th {\n",
       "        vertical-align: top;\n",
       "    }\n",
       "\n",
       "    .dataframe thead th {\n",
       "        text-align: right;\n",
       "    }\n",
       "</style>\n",
       "<table border=\"1\" class=\"dataframe\">\n",
       "  <thead>\n",
       "    <tr style=\"text-align: right;\">\n",
       "      <th></th>\n",
       "      <th>driver_id</th>\n",
       "      <th>event_timestamp</th>\n",
       "      <th>label_driver_reported_satisfaction</th>\n",
       "      <th>val_to_add</th>\n",
       "      <th>val_to_add_2</th>\n",
       "      <th>conv_rate</th>\n",
       "      <th>acc_rate</th>\n",
       "      <th>avg_daily_trips</th>\n",
       "      <th>conv_rate_plus_val1</th>\n",
       "      <th>conv_rate_plus_val2</th>\n",
       "    </tr>\n",
       "  </thead>\n",
       "  <tbody>\n",
       "    <tr>\n",
       "      <th>0</th>\n",
       "      <td>1001</td>\n",
       "      <td>2024-05-16 06:00:00</td>\n",
       "      <td>1</td>\n",
       "      <td>1</td>\n",
       "      <td>10</td>\n",
       "      <td>0.858261</td>\n",
       "      <td>0.437113</td>\n",
       "      <td>618</td>\n",
       "      <td>1.858261</td>\n",
       "      <td>10.858261</td>\n",
       "    </tr>\n",
       "    <tr>\n",
       "      <th>1</th>\n",
       "      <td>1002</td>\n",
       "      <td>2024-05-16 06:00:00</td>\n",
       "      <td>5</td>\n",
       "      <td>2</td>\n",
       "      <td>20</td>\n",
       "      <td>0.878192</td>\n",
       "      <td>0.266302</td>\n",
       "      <td>252</td>\n",
       "      <td>2.878192</td>\n",
       "      <td>20.878192</td>\n",
       "    </tr>\n",
       "    <tr>\n",
       "      <th>2</th>\n",
       "      <td>1003</td>\n",
       "      <td>2024-05-16 06:00:00</td>\n",
       "      <td>3</td>\n",
       "      <td>3</td>\n",
       "      <td>30</td>\n",
       "      <td>0.615291</td>\n",
       "      <td>0.527527</td>\n",
       "      <td>960</td>\n",
       "      <td>3.615291</td>\n",
       "      <td>30.615291</td>\n",
       "    </tr>\n",
       "  </tbody>\n",
       "</table>\n",
       "</div>"
      ],
      "text/plain": [
       "   driver_id     event_timestamp  label_driver_reported_satisfaction  \\\n",
       "0       1001 2024-05-16 06:00:00                                   1   \n",
       "1       1002 2024-05-16 06:00:00                                   5   \n",
       "2       1003 2024-05-16 06:00:00                                   3   \n",
       "\n",
       "   val_to_add  val_to_add_2  conv_rate  acc_rate  avg_daily_trips  \\\n",
       "0           1            10   0.858261  0.437113              618   \n",
       "1           2            20   0.878192  0.266302              252   \n",
       "2           3            30   0.615291  0.527527              960   \n",
       "\n",
       "   conv_rate_plus_val1  conv_rate_plus_val2  \n",
       "0             1.858261            10.858261  \n",
       "1             2.878192            20.878192  \n",
       "2             3.615291            30.615291  "
      ]
     },
     "execution_count": 39,
     "metadata": {},
     "output_type": "execute_result"
    }
   ],
   "source": [
    "test_df = fetchHistoricalDataForTest()\n",
    "test_df.head()"
   ]
  },
  {
   "cell_type": "code",
   "execution_count": 40,
   "id": "c3851106-9672-40c1-9ee0-a40605738a18",
   "metadata": {
    "tags": []
   },
   "outputs": [],
   "source": [
    "assert len(test_df) == 3"
   ]
  },
  {
   "cell_type": "markdown",
   "id": "1b9e6c0a-93c3-473f-83e9-cb1d67386079",
   "metadata": {
    "tags": []
   },
   "source": [
    "### Fetch online data"
   ]
  },
  {
   "cell_type": "markdown",
   "id": "c075687a-67c3-405a-b23c-663bb5f47b54",
   "metadata": {
    "tags": []
   },
   "source": [
    "#### From server"
   ]
  },
  {
   "cell_type": "code",
   "execution_count": 43,
   "id": "a8dde89e-f6ee-4478-81cd-324188107efa",
   "metadata": {
    "tags": []
   },
   "outputs": [],
   "source": [
    "import requests\n",
    "\n",
    "def fetchOnlineFeaturesFromServer():\n",
    "    payload = {\n",
    "        \"features\": [\n",
    "            \"driver_hourly_stats:conv_rate\",\n",
    "            \"driver_hourly_stats:acc_rate\",\n",
    "            \"driver_hourly_stats:avg_daily_trips\"\n",
    "        ],\n",
    "        \"entities\": {\n",
    "            \"driver_id\": [1001, 1002, 1003]\n",
    "        }\n",
    "    }\n",
    "\n",
    "    url = \"http://feast-release-feast-feature-server.feast.svc.cluster.local/get-online-features\"\n",
    "\n",
    "    return requests.post(url, json=payload)"
   ]
  },
  {
   "cell_type": "code",
   "execution_count": 44,
   "id": "3292dc08-1544-4aaa-a741-b13a4378ba1a",
   "metadata": {
    "tags": []
   },
   "outputs": [],
   "source": [
    "online = fetchOnlineFeaturesFromServer()"
   ]
  },
  {
   "cell_type": "code",
   "execution_count": 45,
   "id": "e75cac6b-a6dd-4d46-b211-216924f127a5",
   "metadata": {
    "tags": []
   },
   "outputs": [
    {
     "name": "stdout",
     "output_type": "stream",
     "text": [
      "No online data found for all queried features ['driver_id', 'avg_daily_trips', 'conv_rate', 'acc_rate']\n"
     ]
    }
   ],
   "source": [
    "assert online.status_code == 200\n",
    "try:\n",
    "    import json\n",
    "\n",
    "    json_data = json.loads(online.text)\n",
    "    # print(json.dumps(json_data, indent=2))\n",
    "    assert \"metadata\" in json_data\n",
    "    # Validate metadata\n",
    "    assert \"feature_names\" in json_data[\"metadata\"]\n",
    "    featureNames = json_data[\"metadata\"][\"feature_names\"]\n",
    "    assert len(featureNames) == 4\n",
    "    assert \"driver_id\" in featureNames\n",
    "    assert \"conv_rate\" in featureNames\n",
    "    assert \"acc_rate\" in featureNames\n",
    "    assert \"avg_daily_trips\" in featureNames\n",
    "    # Validate data: all NOT_FOUND\n",
    "    for index, feature in enumerate(featureNames[1:]):\n",
    "        statuses = json_data[\"results\"][index + 1][\"statuses\"]\n",
    "        # print(f'Statuses of {feature}/{index} are {statuses}')\n",
    "        assert \"PRESENT\" not in statuses\n",
    "        assert \"NOT_FOUND\" in statuses\n",
    "    print(f'No online data found for all queried features {featureNames}')\n",
    "except ImportError:\n",
    "    print(response.text)"
   ]
  },
  {
   "cell_type": "markdown",
   "id": "4c128983-dde3-4582-9bac-788cd93ea619",
   "metadata": {},
   "source": [
    "#### From DB"
   ]
  },
  {
   "cell_type": "markdown",
   "id": "0944290d-5cc6-4c16-8a64-be001f9d6b52",
   "metadata": {},
   "source": [
    "### Materialize"
   ]
  },
  {
   "cell_type": "markdown",
   "id": "5cd59d92-d140-443d-9376-1fb8436ce400",
   "metadata": {
    "tags": []
   },
   "source": [
    "#### Materialize from server"
   ]
  },
  {
   "cell_type": "code",
   "execution_count": 46,
   "id": "ea3a3a83-e022-4e6a-8502-f8a7f6229db7",
   "metadata": {
    "tags": []
   },
   "outputs": [],
   "source": [
    "import requests\n",
    "\n",
    "end_date = datetime.now().replace(microsecond=0, second=0, minute=0)\n",
    "start_date = end_date - timedelta(days=15)\n",
    "start_date = start_date.replace(hour=0)\n",
    "\n",
    "payload = {\n",
    "    \"start_ts\": str(start_date),\n",
    "    \"end_ts\": str(datetime.now())\n",
    "}\n",
    "\n",
    "url = \"http://feast-release-feast-feature-server.feast.svc.cluster.local/materialize\"\n",
    "\n",
    "response = requests.post(url, json=payload)"
   ]
  },
  {
   "cell_type": "code",
   "execution_count": 47,
   "id": "28be3f27-907f-460f-856d-4e0237b2c51c",
   "metadata": {
    "tags": []
   },
   "outputs": [],
   "source": [
    "assert response.status_code == 200"
   ]
  },
  {
   "cell_type": "markdown",
   "id": "110cfee2-cab0-4016-aa4a-d8576b0eaa32",
   "metadata": {},
   "source": [
    "#### Validate from server"
   ]
  },
  {
   "cell_type": "code",
   "execution_count": 48,
   "id": "84bdac3c-f646-427e-b1e7-f5fcfc20e6a4",
   "metadata": {
    "tags": []
   },
   "outputs": [],
   "source": [
    "online = fetchOnlineFeaturesFromServer()"
   ]
  },
  {
   "cell_type": "code",
   "execution_count": 49,
   "id": "b71b50b6-3761-4700-a9cb-f3fadc31aaac",
   "metadata": {
    "tags": []
   },
   "outputs": [
    {
     "name": "stdout",
     "output_type": "stream",
     "text": [
      "All online data is present for all queried features ['driver_id', 'avg_daily_trips', 'conv_rate', 'acc_rate']\n"
     ]
    }
   ],
   "source": [
    "assert online.status_code == 200\n",
    "try:\n",
    "    import json\n",
    "\n",
    "    json_data = json.loads(online.text)\n",
    "    # print(json.dumps(json_data, indent=2))\n",
    "    assert \"metadata\" in json_data\n",
    "    # Validate metadata\n",
    "    assert \"feature_names\" in json_data[\"metadata\"]\n",
    "    featureNames = json_data[\"metadata\"][\"feature_names\"]\n",
    "    assert len(featureNames) == 4\n",
    "    assert \"driver_id\" in featureNames\n",
    "    assert \"conv_rate\" in featureNames\n",
    "    assert \"acc_rate\" in featureNames\n",
    "    assert \"avg_daily_trips\" in featureNames\n",
    "    # Validate data: all PRESENT\n",
    "    for index, feature in enumerate(featureNames[1:]):\n",
    "        statuses = json_data[\"results\"][index + 1][\"statuses\"]\n",
    "        # print(f'Statuses of {feature}/{index} are {statuses}')\n",
    "        assert \"PRESENT\" in statuses\n",
    "        assert \"NOT_FOUND\" not in statuses\n",
    "    print(f'All online data is present for all queried features {featureNames}')\n",
    "except ImportError:\n",
    "    print(response.text)"
   ]
  },
  {
   "cell_type": "markdown",
   "id": "6af169fc-9848-431a-94ec-49d2567b654e",
   "metadata": {},
   "source": [
    "#### Validate from DB"
   ]
  },
  {
   "cell_type": "markdown",
   "id": "94cb10d1-3868-48a2-9ea8-b10c301eda4e",
   "metadata": {},
   "source": [
    "**TODO** some queries like `select feature_name, event_ts from feast_postgres_driver_hourly_stats;` and validate counters\n",
    "And the same for the `feast_postgres_driver_hourly_stats_fresh`table"
   ]
  },
  {
   "cell_type": "markdown",
   "id": "40c51151-1d52-4bbf-a991-f45bd6187c67",
   "metadata": {},
   "source": [
    "### Push Data"
   ]
  },
  {
   "cell_type": "markdown",
   "id": "3e5ac113-d128-4c88-aa9f-1f120823b97a",
   "metadata": {},
   "source": [
    "Push sample data on new `driver_id=3001` using Feature server"
   ]
  },
  {
   "cell_type": "code",
   "execution_count": 50,
   "id": "51b87419-9986-4717-9b62-b9624d89ff33",
   "metadata": {
    "tags": []
   },
   "outputs": [],
   "source": [
    "import requests\n",
    "import json\n",
    "\n",
    "push_ts = datetime(2021, 5, 13, 10, 59, 42)\n",
    "event_dict = {\n",
    "    \"driver_id\": [3001],\n",
    "    \"event_timestamp\": [str(datetime(2021, 5, 13, 10, 59, 42))],\n",
    "    \"created\": [str(push_ts)],\n",
    "    \"conv_rate\": [1.0],\n",
    "    \"acc_rate\": [1.0],\n",
    "    \"avg_daily_trips\": [1000],\n",
    "}\n",
    "# \"string_feature\": \"test2\",\n",
    "push_data = {\n",
    "    \"push_source_name\":\"driver_stats_push_source\",\n",
    "    \"df\":event_dict,\n",
    "    \"to\":\"online\",\n",
    "}\n",
    "\n",
    "# Note: push not implemented ATM for PSQL offline store\n",
    "\n",
    "url = \"http://feast-release-feast-feature-server.feast.svc.cluster.local/push\"\n",
    "response = requests.post(\n",
    "    url,\n",
    "    data=json.dumps(push_data))"
   ]
  },
  {
   "cell_type": "code",
   "execution_count": 51,
   "id": "37afe557-90b3-4ecb-b8d2-5a23cbd23fe9",
   "metadata": {
    "tags": []
   },
   "outputs": [],
   "source": [
    "assert response.status_code == 200"
   ]
  },
  {
   "cell_type": "markdown",
   "id": "61b3897f-645b-4a59-a5f8-e0d1c930b8aa",
   "metadata": {},
   "source": [
    "#### Validate from Feature server"
   ]
  },
  {
   "cell_type": "code",
   "execution_count": 55,
   "id": "688f5346-d4df-4292-bdd3-202a48c89ffb",
   "metadata": {
    "tags": []
   },
   "outputs": [],
   "source": [
    "import requests\n",
    "\n",
    "def fetchPushedOnlineFeaturesFromServer():\n",
    "    payload = {\n",
    "        \"features\": [\n",
    "            \"driver_hourly_stats:conv_rate\",\n",
    "            \"driver_hourly_stats:acc_rate\",\n",
    "            \"driver_hourly_stats:avg_daily_trips\"\n",
    "        ],\n",
    "        \"entities\": {\n",
    "            \"driver_id\": [3001]\n",
    "        }\n",
    "    }\n",
    "\n",
    "    url = \"http://feast-release-feast-feature-server.feast.svc.cluster.local/get-online-features\"\n",
    "\n",
    "    return requests.post(url, json=payload)"
   ]
  },
  {
   "cell_type": "code",
   "execution_count": 56,
   "id": "5622c873-82f7-4cee-8e16-07cc8c6f303d",
   "metadata": {
    "tags": []
   },
   "outputs": [],
   "source": [
    "pushed = fetchPushedOnlineFeaturesFromServer()"
   ]
  },
  {
   "cell_type": "markdown",
   "id": "42040d19-c573-4156-ae58-3aa0a53b0f4c",
   "metadata": {},
   "source": [
    "**TODO** Specify to use the `push_ts` for the query\n"
   ]
  },
  {
   "cell_type": "code",
   "execution_count": 62,
   "id": "b7f5a5a1-1744-42d8-8b49-d2e09a7dcf5c",
   "metadata": {
    "tags": []
   },
   "outputs": [
    {
     "ename": "AssertionError",
     "evalue": "",
     "output_type": "error",
     "traceback": [
      "\u001b[0;31m---------------------------------------------------------------------------\u001b[0m",
      "\u001b[0;31mAssertionError\u001b[0m                            Traceback (most recent call last)",
      "Cell \u001b[0;32mIn[62], line 20\u001b[0m\n\u001b[1;32m     18\u001b[0m     statuses \u001b[38;5;241m=\u001b[39m json_data[\u001b[38;5;124m\"\u001b[39m\u001b[38;5;124mresults\u001b[39m\u001b[38;5;124m\"\u001b[39m][index \u001b[38;5;241m+\u001b[39m \u001b[38;5;241m1\u001b[39m][\u001b[38;5;124m\"\u001b[39m\u001b[38;5;124mstatuses\u001b[39m\u001b[38;5;124m\"\u001b[39m]\n\u001b[1;32m     19\u001b[0m     \u001b[38;5;66;03m# print(f'Statuses of {feature}/{index} are {statuses}')\u001b[39;00m\n\u001b[0;32m---> 20\u001b[0m     \u001b[38;5;28;01massert\u001b[39;00m \u001b[38;5;124m\"\u001b[39m\u001b[38;5;124mPRESENT\u001b[39m\u001b[38;5;124m\"\u001b[39m \u001b[38;5;129;01min\u001b[39;00m statuses\n\u001b[1;32m     21\u001b[0m     \u001b[38;5;28;01massert\u001b[39;00m \u001b[38;5;124m\"\u001b[39m\u001b[38;5;124mNOT_FOUND\u001b[39m\u001b[38;5;124m\"\u001b[39m \u001b[38;5;129;01mnot\u001b[39;00m \u001b[38;5;129;01min\u001b[39;00m statuses\n\u001b[1;32m     22\u001b[0m \u001b[38;5;28mprint\u001b[39m(\u001b[38;5;124mf\u001b[39m\u001b[38;5;124m'\u001b[39m\u001b[38;5;124mNo online data found for all queried features \u001b[39m\u001b[38;5;132;01m{\u001b[39;00mfeatureNames\u001b[38;5;132;01m}\u001b[39;00m\u001b[38;5;124m'\u001b[39m)\n",
      "\u001b[0;31mAssertionError\u001b[0m: "
     ]
    }
   ],
   "source": [
    "assert pushed.status_code == 200\n",
    "try:\n",
    "    import json\n",
    "\n",
    "    json_data = json.loads(pushed.text)\n",
    "    # print(json.dumps(json_data, indent=2))\n",
    "    assert \"metadata\" in json_data\n",
    "    # Validate metadata\n",
    "    assert \"feature_names\" in json_data[\"metadata\"]\n",
    "    featureNames = json_data[\"metadata\"][\"feature_names\"]\n",
    "    assert len(featureNames) == 4\n",
    "    assert \"driver_id\" in featureNames\n",
    "    assert \"conv_rate\" in featureNames\n",
    "    assert \"acc_rate\" in featureNames\n",
    "    assert \"avg_daily_trips\" in featureNames\n",
    "    # Validate data: all PRESENT\n",
    "    for index, feature in enumerate(featureNames[1:]):\n",
    "        statuses = json_data[\"results\"][index + 1][\"statuses\"]\n",
    "        # print(f'Statuses of {feature}/{index} are {statuses}')\n",
    "        assert \"PRESENT\" in statuses\n",
    "        assert \"NOT_FOUND\" not in statuses\n",
    "    print(f'No online data found for all queried features {featureNames}')\n",
    "except ImportError:\n",
    "    print(response.text)"
   ]
  },
  {
   "cell_type": "markdown",
   "id": "8d113b19-5c4a-4b86-b2aa-290935c5a167",
   "metadata": {},
   "source": [
    "## Tear down"
   ]
  },
  {
   "cell_type": "markdown",
   "id": "9b2fe470-90cb-41fa-9cc1-59c873ef3516",
   "metadata": {},
   "source": [
    "Tear down deployed feature store infrastructure"
   ]
  },
  {
   "cell_type": "code",
   "execution_count": 64,
   "id": "5d611a50-fae2-493d-a5f1-78e0af041180",
   "metadata": {
    "tags": []
   },
   "outputs": [
    {
     "name": "stdout",
     "output_type": "stream",
     "text": [
      "/opt/app-root/lib64/python3.9/site-packages/feast/infra/registry/contrib/postgres/postgres_registry_store.py:41: DeprecationWarning: PostgreSQLRegistryStore is deprecated and will be removed in the future releases. Please use SqlRegistry instead.\n",
      "  warnings.warn(\n",
      "05/30/2024 03:32:00 PM feast.infra.registry.registry INFO: Registry cache expired, so refreshing\n",
      "05/30/2024 03:32:00 PM feast.infra.registry.registry INFO: Registry cache expired, so refreshing\n",
      "05/30/2024 03:32:00 PM feast.infra.registry.registry INFO: Registry cache expired, so refreshing\n",
      "^C\n"
     ]
    }
   ],
   "source": [
    "!feast --log-level DEBUG -c sample_repo/feature_repo teardown"
   ]
  },
  {
   "cell_type": "markdown",
   "id": "434e1323-2a02-4c33-95eb-60c5424f4ed1",
   "metadata": {},
   "source": [
    "Remove local project"
   ]
  },
  {
   "cell_type": "code",
   "execution_count": 65,
   "id": "728f9546-32bf-4d26-adf1-0370a38f5c33",
   "metadata": {
    "tags": []
   },
   "outputs": [],
   "source": [
    "!rm -rf sample_repo"
   ]
  },
  {
   "cell_type": "markdown",
   "id": "88e9a2f9-5d15-48de-9a2a-1001188ca194",
   "metadata": {},
   "source": [
    "Uninstall `Feature server`"
   ]
  },
  {
   "cell_type": "code",
   "execution_count": 66,
   "id": "511c6a08-fcb3-4865-8cd3-9a1e89212f78",
   "metadata": {
    "tags": []
   },
   "outputs": [
    {
     "name": "stdout",
     "output_type": "stream",
     "text": [
      "release \"feast-release\" uninstalled\n"
     ]
    }
   ],
   "source": [
    "!./helm uninstall -n $TARGET_NS feast-release"
   ]
  },
  {
   "cell_type": "markdown",
   "id": "d9301242-24cb-4925-9ccc-a24bc80b6e85",
   "metadata": {
    "tags": []
   },
   "source": [
    "Uninstall PSQL DB"
   ]
  },
  {
   "cell_type": "code",
   "execution_count": 67,
   "id": "2e5adfad-2982-487c-8c75-4035f4cf12cb",
   "metadata": {
    "tags": []
   },
   "outputs": [
    {
     "name": "stdout",
     "output_type": "stream",
     "text": [
      "secret \"postgresql\" deleted\n",
      "service \"postgresql\" deleted\n",
      "\u001b[33;1mWarning:\u001b[0m apps.openshift.io/v1 DeploymentConfig is deprecated in v4.14+, unavailable in v4.10000+\n",
      "deploymentconfig.apps.openshift.io \"postgresql\" deleted\n"
     ]
    }
   ],
   "source": [
    "!oc process -n openshift postgresql-ephemeral \\\n",
    "DATABASE_SERVICE_NAME=postgresql POSTGRESQL_USER=feast POSTGRESQL_PASSWORD=feast \\\n",
    "POSTGRESQL_DATABASE=feast | oc delete -f - -n ${TARGET_NS} "
   ]
  },
  {
   "cell_type": "code",
   "execution_count": null,
   "id": "08c45b35-501e-4f70-b05d-58a0256255a3",
   "metadata": {},
   "outputs": [],
   "source": []
  }
 ],
 "metadata": {
  "kernelspec": {
   "display_name": "Python 3.9",
   "language": "python",
   "name": "python3"
  },
  "language_info": {
   "codemirror_mode": {
    "name": "ipython",
    "version": 3
   },
   "file_extension": ".py",
   "mimetype": "text/x-python",
   "name": "python",
   "nbconvert_exporter": "python",
   "pygments_lexer": "ipython3",
   "version": "3.9.18"
  }
 },
 "nbformat": 4,
 "nbformat_minor": 5
}
